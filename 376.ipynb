{
 "cells": [
  {
   "cell_type": "code",
   "execution_count": 5,
   "metadata": {},
   "outputs": [],
   "source": [
    "import pandas as pd\n",
    "import numpy as np\n",
    "import os \n",
    "import random \n",
    "import gc\n",
    "from sklearn.metrics import *\n",
    "from tqdm import tqdm \n",
    "import warnings \n",
    "from lightgbm import LGBMClassifier\n",
    "warnings.filterwarnings('ignore')"
   ]
  },
  {
   "cell_type": "code",
   "execution_count": 6,
   "metadata": {},
   "outputs": [],
   "source": [
    "df = pd.read_pickle(\"原封不动特征.pkl\")"
   ]
  },
  {
   "cell_type": "code",
   "execution_count": 7,
   "metadata": {
    "tags": []
   },
   "outputs": [
    {
     "name": "stdout",
     "output_type": "stream",
     "text": [
      "96\n",
      "--------------------------------------------数据读取完毕，部分特征删除-------------------\n",
      "291630 291630 261148 261148\n",
      "--------------------开始LightGBM模型初步训练-----------------\n",
      "[LightGBM] [Warning] feature_fraction is set=0.5, colsample_bytree=1.0 will be ignored. Current value: feature_fraction=0.5\n",
      "[LightGBM] [Warning] lambda_l1 is set=0.1, reg_alpha=0.0 will be ignored. Current value: lambda_l1=0.1\n",
      "[LightGBM] [Warning] lambda_l2 is set=0.1, reg_lambda=0.0 will be ignored. Current value: lambda_l2=0.1\n",
      "Training until validation scores don't improve for 100 rounds\n",
      "[100]\tvalid_0's auc: 0.907733\n",
      "[200]\tvalid_0's auc: 0.913207\n",
      "[300]\tvalid_0's auc: 0.916072\n",
      "[400]\tvalid_0's auc: 0.918177\n",
      "[500]\tvalid_0's auc: 0.919662\n",
      "[600]\tvalid_0's auc: 0.920553\n",
      "[700]\tvalid_0's auc: 0.921132\n",
      "[800]\tvalid_0's auc: 0.921508\n",
      "[900]\tvalid_0's auc: 0.921751\n",
      "[1000]\tvalid_0's auc: 0.922007\n",
      "[1100]\tvalid_0's auc: 0.922178\n",
      "[1200]\tvalid_0's auc: 0.922222\n",
      "[1300]\tvalid_0's auc: 0.922266\n",
      "Early stopping, best iteration is:\n",
      "[1281]\tvalid_0's auc: 0.922271\n",
      "----------------------------------------模型初步训练结束--------------------\n",
      "--------------------将特征值剔除后进行LightGBM模型二次训练-----------------\n",
      "特征的长度为 69\n",
      "Training until validation scores don't improve for 100 rounds\n",
      "[100]\tvalid_0's auc: 0.906847\n",
      "[200]\tvalid_0's auc: 0.913106\n",
      "[300]\tvalid_0's auc: 0.916428\n",
      "[400]\tvalid_0's auc: 0.918318\n",
      "[500]\tvalid_0's auc: 0.919491\n",
      "[600]\tvalid_0's auc: 0.920533\n",
      "[700]\tvalid_0's auc: 0.921095\n",
      "[800]\tvalid_0's auc: 0.921479\n",
      "[900]\tvalid_0's auc: 0.921744\n",
      "[1000]\tvalid_0's auc: 0.921956\n",
      "[1100]\tvalid_0's auc: 0.92205\n",
      "[1200]\tvalid_0's auc: 0.922174\n",
      "[1300]\tvalid_0's auc: 0.922259\n",
      "[1400]\tvalid_0's auc: 0.922271\n",
      "[1500]\tvalid_0's auc: 0.922284\n",
      "Early stopping, best iteration is:\n",
      "[1459]\tvalid_0's auc: 0.922335\n",
      "--------------------------二次模型训练完成--------------------------\n",
      "----------------------------------------开始寻找最佳F2及其阈值-----------------------\n"
     ]
    },
    {
     "name": "stderr",
     "output_type": "stream",
     "text": [
      "100%|████████████████████████████████████████████████████████████████████████████████| 150/150 [00:46<00:00,  3.26it/s]\n"
     ]
    },
    {
     "name": "stdout",
     "output_type": "stream",
     "text": [
      "最佳阈值是:0.104 最佳F2的分数为:0.4800731613400077 最佳recall的分数为:0.6643133075795924 最佳pricision的分数为:0.22759218692953634\n"
     ]
    }
   ],
   "source": [
    "drop_fea = ['id','a3','y','core_cust_id','prod_code','f22','l5','m1','m2','m3','m4','m5', 'm8','i4','j5','k10','k1','k2',\n",
    "            'k3',\n",
    "            'rank',\n",
    "            'uid_cnt_in_p2_1m_ago']\n",
    "feature = [x for x in df.columns if x not in drop_fea]\n",
    "print(len(feature))\n",
    "print(\"--------------------------------------------数据读取完毕，部分特征删除-------------------\")\n",
    "\n",
    "df_0 = df[(df['a3'] < '2021-10-01') & (df['y'] == 0)].drop_duplicates(feature)\n",
    "df_1 = df[(df['a3'] < '2021-10-01') & (df['y'] == 1)]\n",
    "df_ = pd.concat([df_0, df_1]).sample(frac=1, random_state=2).reset_index(drop=True)\n",
    "\n",
    "X_train = df_[df_[\"a3\"] == '2021-07-01'][feature].reset_index(drop=True)\n",
    "y_train = df_[df_[\"a3\"] == '2021-07-01'][\"y\"]\n",
    "X_valid = df_[df_[\"a3\"] == '2021-08-01'][feature].reset_index(drop=True)\n",
    "y_valid = df_[df_[\"a3\"] == '2021-08-01'][\"y\"]\n",
    "X_test = df[df[\"a3\"] == '2021-10-01'][feature].reset_index(drop=True)\n",
    "\n",
    "del df_, df_0, df_1; gc.collect()\n",
    "print(len(X_train), len(y_train), len(X_valid), len(y_valid))\n",
    "\n",
    "print(\"--------------------开始LightGBM模型初步训练-----------------\")\n",
    "clf = LGBMClassifier(num_leaves=128,\n",
    "                     n_estimators=10000,\n",
    "                     learning_rate=0.01,\n",
    "                     subsample=0.8,\n",
    "                     feature_fraction=0.5,\n",
    "                     metric='auc',\n",
    "                     lambda_l1=0.1,\n",
    "                     lambda_l2=0.1, \n",
    "                     min_child_weight=40,\n",
    "                     random_seed=2019,\n",
    "                     verbose=-1)\n",
    "clf.fit(X_train, y_train,eval_set=[(X_valid, y_valid)],early_stopping_rounds=100,verbose=100)\n",
    "print(\"----------------------------------------模型初步训练结束--------------------\")\n",
    "\n",
    "print(\"--------------------将特征值剔除后进行LightGBM模型二次训练-----------------\")\n",
    "feat_import = dict(zip(clf.feature_name_,clf.feature_importances_))\n",
    "high_import_feat = [key for key,value in feat_import.items() if value > 100]\n",
    "print(\"特征的长度为\",len(high_import_feat))\n",
    "X_train = X_train[high_import_feat]\n",
    "X_valid = X_valid[high_import_feat]\n",
    "X_test = X_test[high_import_feat]\n",
    "clf.fit(X_train, y_train,eval_set=[(X_valid, y_valid)],early_stopping_rounds=100,verbose=100)\n",
    "print(\"--------------------------二次模型训练完成--------------------------\")\n",
    "oof_prob = clf.predict_proba(X_valid[high_import_feat])[:, 1]\n",
    "print(\"----------------------------------------开始寻找最佳F2及其阈值-----------------------\")\n",
    "gc.collect()\n",
    "\n",
    "def find_best_threshold(y_valid, oof_prob):\n",
    "    best_f2 = 0\n",
    "    best_recall = 0\n",
    "    best_precision = 0\n",
    "    for th in tqdm([i/1000 for i in range(50, 200)]):\n",
    "        oof_prob_copy = oof_prob.copy()\n",
    "        oof_prob_copy[oof_prob_copy >= th] = 1\n",
    "        oof_prob_copy[oof_prob_copy < th] = 0\n",
    "        recall = recall_score(y_valid, oof_prob_copy)\n",
    "        precision = precision_score(y_valid, oof_prob_copy)\n",
    "#         print(\"此时的recall为:{}\".format(recall),\"此时的精确率为:{}\".format(precision))\n",
    "        f2 = 5*recall*precision / (4*precision+recall)\n",
    "        if f2 > best_f2:\n",
    "            best_th = th\n",
    "            best_f2 = f2\n",
    "            best_recall = recall\n",
    "            best_precision = precision\n",
    "        gc.collect()\n",
    "    return best_th, best_f2,best_recall,best_precision\n",
    "best_th, best_f2,best_recall,best_precision = find_best_threshold(y_valid, oof_prob)\n",
    "print(\"最佳阈值是:{}\".format(best_th), \"最佳F2的分数为:{}\".format(best_f2),\"最佳recall的分数为:{}\".format(best_recall),\"最佳pricision的分数为:{}\".format(best_precision))\n",
    "\n",
    "gc.collect()\n",
    "y_pre = clf.predict_proba(X_test)[:, 1]"
   ]
  },
  {
   "cell_type": "code",
   "execution_count": 8,
   "metadata": {},
   "outputs": [
    {
     "name": "stdout",
     "output_type": "stream",
     "text": [
      "结果输出完毕\n"
     ]
    }
   ],
   "source": [
    "res = df.loc[df[\"y\"].isna(),[\"id\"]]\n",
    "res['y'] = y_pre\n",
    "res.loc[res['y'] >= best_th, 'y'] = 1\n",
    "res.loc[res['y'] < best_th, 'y'] = 0\n",
    "res.to_csv('submission_0115_2019.csv',index = False) \n",
    "print(\"结果输出完毕\")"
   ]
  },
  {
   "cell_type": "code",
   "execution_count": 5,
   "metadata": {},
   "outputs": [],
   "source": [
    "res_dict = dict(zip(clf.feature_name_,clf.feature_importances_))\n",
    "res_df = pd.DataFrame(res_dict,index=res_dict.keys()).T[[\"a2\"]]\n",
    "ready_list = res_df.sort_values(by=\"a2\").index.tolist()"
   ]
  },
  {
   "cell_type": "code",
   "execution_count": 20,
   "metadata": {},
   "outputs": [
    {
     "data": {
      "text/html": [
       "<div>\n",
       "<style scoped>\n",
       "    .dataframe tbody tr th:only-of-type {\n",
       "        vertical-align: middle;\n",
       "    }\n",
       "\n",
       "    .dataframe tbody tr th {\n",
       "        vertical-align: top;\n",
       "    }\n",
       "\n",
       "    .dataframe thead th {\n",
       "        text-align: right;\n",
       "    }\n",
       "</style>\n",
       "<table border=\"1\" class=\"dataframe\">\n",
       "  <thead>\n",
       "    <tr style=\"text-align: right;\">\n",
       "      <th></th>\n",
       "      <th>a2</th>\n",
       "    </tr>\n",
       "  </thead>\n",
       "  <tbody>\n",
       "    <tr>\n",
       "      <th>pid_cnt_grp_uid_in_p3_1m_ago</th>\n",
       "      <td>159</td>\n",
       "    </tr>\n",
       "    <tr>\n",
       "      <th>j6</th>\n",
       "      <td>189</td>\n",
       "    </tr>\n",
       "    <tr>\n",
       "      <th>f15_mean_1m_ago</th>\n",
       "      <td>202</td>\n",
       "    </tr>\n",
       "    <tr>\n",
       "      <th>f10_mean_1m_ago</th>\n",
       "      <td>217</td>\n",
       "    </tr>\n",
       "    <tr>\n",
       "      <th>apply_amt_mean_grp_uid_in_p2_1m_ago</th>\n",
       "      <td>248</td>\n",
       "    </tr>\n",
       "    <tr>\n",
       "      <th>...</th>\n",
       "      <td>...</td>\n",
       "    </tr>\n",
       "    <tr>\n",
       "      <th>borrow_sum_1m_ago</th>\n",
       "      <td>7377</td>\n",
       "    </tr>\n",
       "    <tr>\n",
       "      <th>uid_cnt_in_click_action_all_1m_ago</th>\n",
       "      <td>7747</td>\n",
       "    </tr>\n",
       "    <tr>\n",
       "      <th>apply_amt_mean_grp_uid_in_p1_all_2m_ago</th>\n",
       "      <td>8892</td>\n",
       "    </tr>\n",
       "    <tr>\n",
       "      <th>apply_amt_sum_grp_uid_in_p1_all_2m_ago</th>\n",
       "      <td>9518</td>\n",
       "    </tr>\n",
       "    <tr>\n",
       "      <th>d3</th>\n",
       "      <td>9558</td>\n",
       "    </tr>\n",
       "  </tbody>\n",
       "</table>\n",
       "<p>68 rows × 1 columns</p>\n",
       "</div>"
      ],
      "text/plain": [
       "                                           a2\n",
       "pid_cnt_grp_uid_in_p3_1m_ago              159\n",
       "j6                                        189\n",
       "f15_mean_1m_ago                           202\n",
       "f10_mean_1m_ago                           217\n",
       "apply_amt_mean_grp_uid_in_p2_1m_ago       248\n",
       "...                                       ...\n",
       "borrow_sum_1m_ago                        7377\n",
       "uid_cnt_in_click_action_all_1m_ago       7747\n",
       "apply_amt_mean_grp_uid_in_p1_all_2m_ago  8892\n",
       "apply_amt_sum_grp_uid_in_p1_all_2m_ago   9518\n",
       "d3                                       9558\n",
       "\n",
       "[68 rows x 1 columns]"
      ]
     },
     "execution_count": 20,
     "metadata": {},
     "output_type": "execute_result"
    }
   ],
   "source": [
    "res_df.sort_values(by=\"a2\")"
   ]
  },
  {
   "cell_type": "code",
   "execution_count": null,
   "metadata": {},
   "outputs": [],
   "source": []
  }
 ],
 "metadata": {
  "kernelspec": {
   "display_name": "Python 3",
   "language": "python",
   "name": "python3"
  },
  "language_info": {
   "codemirror_mode": {
    "name": "ipython",
    "version": 3
   },
   "file_extension": ".py",
   "mimetype": "text/x-python",
   "name": "python",
   "nbconvert_exporter": "python",
   "pygments_lexer": "ipython3",
   "version": "3.8.3"
  }
 },
 "nbformat": 4,
 "nbformat_minor": 4
}
