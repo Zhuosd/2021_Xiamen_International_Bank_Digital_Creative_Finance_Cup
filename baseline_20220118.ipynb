{
 "cells": [
  {
   "cell_type": "code",
   "execution_count": 3,
   "metadata": {},
   "outputs": [],
   "source": [
    "import pandas as pd\n",
    "import numpy as np\n",
    "import os \n",
    "import random \n",
    "import gc\n",
    "from sklearn.metrics import *\n",
    "from tqdm import tqdm \n",
    "import warnings \n",
    "warnings.filterwarnings('ignore')"
   ]
  },
  {
   "cell_type": "code",
   "execution_count": 4,
   "metadata": {},
   "outputs": [],
   "source": [
    "pd.set_option('display.max_columns', None)\n",
    "pd.set_option('display.max_rows', None)\n",
    "pd.set_option('display.max_colwidth', 100)"
   ]
  },
  {
   "cell_type": "code",
   "execution_count": 5,
   "metadata": {},
   "outputs": [],
   "source": [
    "data_path_1 = 'A榜数据/主表数据/'\n",
    "data_path_2 = 'A榜数据/其他数据表/'"
   ]
  },
  {
   "cell_type": "code",
   "execution_count": 6,
   "metadata": {},
   "outputs": [
    {
     "name": "stdout",
     "output_type": "stream",
     "text": [
      "(2953495, 6)\n"
     ]
    }
   ],
   "source": [
    "def seed_everything(seed=2022):\n",
    "    seed = int(seed)\n",
    "    random.seed(seed)\n",
    "    os.environ['PYTHONHASHSEED'] = str(seed)\n",
    "    np.random.seed(seed)\n",
    "\n",
    "seed_everything(seed=1998)\n",
    "\n",
    "train = pd.read_csv(data_path_1 + 'x_train.csv')\n",
    "test = pd.read_csv(data_path_1 + 'x_test.csv')\n",
    "train_label = pd.read_csv(data_path_1 + 'y_train.csv')\n",
    "train = train.merge(train_label, on='id', how='left')\n",
    "\n",
    "test.rename(columns={'c2':'a2','c3':'a3'}, inplace=True)\n",
    "df = pd.concat([train, test]).reset_index(drop=True)\n",
    "print(df.shape)\n",
    "df['rank'] = [i for i in range(df.shape[0])]"
   ]
  },
  {
   "cell_type": "markdown",
   "metadata": {},
   "source": [
    "## 客户信息表"
   ]
  },
  {
   "cell_type": "code",
   "execution_count": 7,
   "metadata": {},
   "outputs": [],
   "source": [
    "d = pd.read_csv(data_path_2 + 'd.csv')\n",
    "#缺失的客户等级按照5来填充（LGB是否考虑不填充）\n",
    "d.fillna(5, inplace=True)\n",
    "age = d['d3'].value_counts()"
   ]
  },
  {
   "cell_type": "code",
   "execution_count": 8,
   "metadata": {},
   "outputs": [],
   "source": [
    "def age_level(array, level, dd_data):\n",
    "    \n",
    "    less_num = array\n",
    "    less_num_array = []\n",
    "    for i in range(len(less_num)):\n",
    "        less_num_array.append(str(i))\n",
    "\n",
    "    for j in range(len(less_num)):\n",
    "        less_num_array[j] = dd_data[dd_data['d3'] == less_num[j]]\n",
    "\n",
    "    less_data = pd.concat([less_num_array[0], less_num_array[1]] ,ignore_index=True)\n",
    "\n",
    "    for i in range(2,len(less_num_array),1):\n",
    "        less_data = pd.concat([less_data, less_num_array[i]], ignore_index=True)\n",
    "\n",
    "    less_data['age_level'] = level\n",
    "    return less_data"
   ]
  },
  {
   "cell_type": "code",
   "execution_count": 9,
   "metadata": {},
   "outputs": [],
   "source": [
    "def split_level(number, split_num, age):\n",
    "    num = split_num / number\n",
    "    \n",
    "    num_array = [str(i) for i in range(number)]\n",
    "    new_array = [str(i) for i in range(number)]\n",
    "\n",
    "    for i in range(number):\n",
    "        num_array[i] = age[age.values < (i+1) * num ].index\n",
    "\n",
    "    sum = 0 \n",
    "    for i in range(number):\n",
    "        if i == 0:\n",
    "            new_array[i] = list(set(num_array[i]))\n",
    "        else:\n",
    "            new_array[i] = list(set(num_array[i]) - set(num_array[i-1]))\n",
    "        sum = sum + len(new_array[i])\n",
    "    return new_array"
   ]
  },
  {
   "cell_type": "code",
   "execution_count": 10,
   "metadata": {},
   "outputs": [],
   "source": [
    "# age划分为4个阶段\n",
    "\n",
    "split_num = 10000\n",
    "number = 4  # 修改该位置，调整年龄的范围\n",
    "num = split_num / number\n",
    "\n",
    "new_array_data = [str(i) for i in range(number)]\n",
    "new_array = split_level(number, split_num, age)\n",
    "\n",
    "dd_data = d.copy()\n",
    "for i in range(len(new_array)):\n",
    "    try:\n",
    "        new_array_data[i] = age_level(new_array[i], i, dd_data)\n",
    "    except:\n",
    "        continue\n",
    "\n",
    "d_data_4 = pd.concat([new_array_data[0], new_array_data[1]])\n",
    "\n",
    "for i in range(2, number, 1):\n",
    "    try:\n",
    "        d_data_4 = pd.concat([d_data_4, new_array_data[i]])\n",
    "    except:\n",
    "        continue\n",
    "d_data_4.rename(columns={'age_level': 'age_level_4'}, inplace=True)\n",
    "\n",
    "\n",
    "#### age划分为10个阶段\n",
    "split_num = 10000\n",
    "number = 10  # 修改该位置，调整年龄的范围\n",
    "num = split_num / number\n",
    "\n",
    "new_array_data = [str(i) for i in range(number)]\n",
    "new_array = split_level(number, split_num, age)\n",
    "\n",
    "#dd_data = d_data.copy()\n",
    "for i in range(len(new_array)):\n",
    "    try:\n",
    "        new_array_data[i] = age_level(new_array[i], i, dd_data)\n",
    "    except:\n",
    "        continue\n",
    "\n",
    "d_data_10 = pd.concat([new_array_data[0], new_array_data[1]])\n",
    "\n",
    "for i in range(2, number, 1):\n",
    "    try:\n",
    "        d_data_10 = pd.concat([d_data_10, new_array_data[i]])\n",
    "    except:\n",
    "        continue\n",
    "d_data_10.rename(columns={'age_level': 'age_level_10'}, inplace=True)"
   ]
  },
  {
   "cell_type": "code",
   "execution_count": 11,
   "metadata": {},
   "outputs": [],
   "source": [
    "from functools import reduce\n",
    "d_list = [d_data_4, d_data_10]\n",
    "d_data = reduce(lambda left,right: pd.merge(left,right,on=['core_cust_id', 'd1', 'd2', 'd3']), d_list)"
   ]
  },
  {
   "cell_type": "code",
   "execution_count": 12,
   "metadata": {},
   "outputs": [],
   "source": [
    "df = df.merge(d_data, on='core_cust_id', how='left')"
   ]
  },
  {
   "cell_type": "code",
   "execution_count": 13,
   "metadata": {},
   "outputs": [
    {
     "name": "stdout",
     "output_type": "stream",
     "text": [
      "2021-07-01\n",
      "2021-08-01\n",
      "2021-09-01\n",
      "2021-10-01\n"
     ]
    }
   ],
   "source": [
    "# 客户风险表\n",
    "e = pd.read_csv(data_path_2 + 'e.csv')\n",
    "e['date'] = e['e2'].apply(lambda x: str(x)[:6])\n",
    "\n",
    "dfs = []\n",
    "dict_ = {'2021-07-01':'202106', '2021-08-01':'202107', '2021-09-01':'202108', '2021-10-01':'202109'}\n",
    "\n",
    "for month in sorted(df['a3'].unique()):\n",
    "    print(month)\n",
    "    tmp_df = df[df['a3'] == month]\n",
    "    \n",
    "    stat_1 = e[e['date'] == dict_[month]].groupby('core_cust_id')['e1'].count().reset_index()\n",
    "    stat_1.columns = ['core_cust_id','risk_count']\n",
    "    stat_1['risk_level_mean']   = e[e['date'] == dict_[month]].groupby('core_cust_id')['e1'].agg('mean').values\n",
    "    \n",
    "    tmp_df = tmp_df.merge(stat_1, on='core_cust_id', how='left')\n",
    "    dfs.append(tmp_df)\n",
    "\n",
    "df = pd.concat(dfs).reset_index(drop=True)"
   ]
  },
  {
   "cell_type": "code",
   "execution_count": 14,
   "metadata": {},
   "outputs": [
    {
     "data": {
      "text/html": [
       "<div>\n",
       "<style scoped>\n",
       "    .dataframe tbody tr th:only-of-type {\n",
       "        vertical-align: middle;\n",
       "    }\n",
       "\n",
       "    .dataframe tbody tr th {\n",
       "        vertical-align: top;\n",
       "    }\n",
       "\n",
       "    .dataframe thead th {\n",
       "        text-align: right;\n",
       "    }\n",
       "</style>\n",
       "<table border=\"1\" class=\"dataframe\">\n",
       "  <thead>\n",
       "    <tr style=\"text-align: right;\">\n",
       "      <th></th>\n",
       "      <th>id</th>\n",
       "      <th>core_cust_id</th>\n",
       "      <th>prod_code</th>\n",
       "      <th>a2</th>\n",
       "      <th>a3</th>\n",
       "      <th>y</th>\n",
       "      <th>rank</th>\n",
       "      <th>d1</th>\n",
       "      <th>d2</th>\n",
       "      <th>d3</th>\n",
       "      <th>age_level_4</th>\n",
       "      <th>age_level_10</th>\n",
       "      <th>risk_count</th>\n",
       "      <th>risk_level_mean</th>\n",
       "    </tr>\n",
       "  </thead>\n",
       "  <tbody>\n",
       "    <tr>\n",
       "      <th>0</th>\n",
       "      <td>9b716f007df84378944ac6a9854838b0</td>\n",
       "      <td>6e2105d9fe</td>\n",
       "      <td>DECD21062102</td>\n",
       "      <td>2</td>\n",
       "      <td>2021-07-01</td>\n",
       "      <td>0.0</td>\n",
       "      <td>5</td>\n",
       "      <td>1</td>\n",
       "      <td>4.0</td>\n",
       "      <td>32</td>\n",
       "      <td>3</td>\n",
       "      <td>8</td>\n",
       "      <td>NaN</td>\n",
       "      <td>NaN</td>\n",
       "    </tr>\n",
       "    <tr>\n",
       "      <th>1</th>\n",
       "      <td>458c3ff67ee14b12a13dcd21df8a0db0</td>\n",
       "      <td>6e2105d9fe</td>\n",
       "      <td>DECD21062107</td>\n",
       "      <td>2</td>\n",
       "      <td>2021-07-01</td>\n",
       "      <td>0.0</td>\n",
       "      <td>7</td>\n",
       "      <td>1</td>\n",
       "      <td>4.0</td>\n",
       "      <td>32</td>\n",
       "      <td>3</td>\n",
       "      <td>8</td>\n",
       "      <td>NaN</td>\n",
       "      <td>NaN</td>\n",
       "    </tr>\n",
       "  </tbody>\n",
       "</table>\n",
       "</div>"
      ],
      "text/plain": [
       "                                 id core_cust_id     prod_code  a2  \\\n",
       "0  9b716f007df84378944ac6a9854838b0   6e2105d9fe  DECD21062102   2   \n",
       "1  458c3ff67ee14b12a13dcd21df8a0db0   6e2105d9fe  DECD21062107   2   \n",
       "\n",
       "           a3    y  rank  d1   d2  d3  age_level_4  age_level_10  risk_count  \\\n",
       "0  2021-07-01  0.0     5   1  4.0  32            3             8         NaN   \n",
       "1  2021-07-01  0.0     7   1  4.0  32            3             8         NaN   \n",
       "\n",
       "   risk_level_mean  \n",
       "0              NaN  \n",
       "1              NaN  "
      ]
     },
     "execution_count": 14,
     "metadata": {},
     "output_type": "execute_result"
    }
   ],
   "source": [
    "df.head(2)"
   ]
  },
  {
   "cell_type": "markdown",
   "metadata": {},
   "source": [
    "## 产品表信息"
   ]
  },
  {
   "cell_type": "code",
   "execution_count": 15,
   "metadata": {},
   "outputs": [],
   "source": [
    "product = pd.read_pickle('product.pkl')\n",
    "\n",
    "#产品的再次分类\n",
    "product['prod_4'] = product['prod_code'].apply(lambda x:x[:4])\n",
    "product['prod_3'] = product['prod_code'].apply(lambda x:x[:3])\n",
    "product['prod_1'] = product['prod_code'].apply(lambda x:x[:1])\n",
    "\n",
    "#收益风险比\n",
    "product['收益风险比'] = product['预期收益率'] / product['风险等级']\n",
    "\n",
    "#持有天数和收益率关系\n",
    "product['天数收益比'] = product['预期收益率'] / product['持有天数']"
   ]
  },
  {
   "cell_type": "code",
   "execution_count": 16,
   "metadata": {},
   "outputs": [],
   "source": [
    "com_pid = set(product['prod_code'].unique()).intersection(set(df['prod_code'].unique()))  # 求交集"
   ]
  },
  {
   "cell_type": "code",
   "execution_count": 17,
   "metadata": {},
   "outputs": [],
   "source": [
    "tmp = product[product['prod_code'].isin(com_pid)].describe().T"
   ]
  },
  {
   "cell_type": "code",
   "execution_count": 18,
   "metadata": {},
   "outputs": [
    {
     "name": "stdout",
     "output_type": "stream",
     "text": [
      "['计价类型', '周期类型', '模式', '风险等级', '是否允许变更分红方式', '持有天数', '管理方式', '业务模式', '收益特点', '期限', '投资模式', '预期收益率', '展示等级', 'prod_class', '收益风险比', '天数收益比']\n"
     ]
    }
   ],
   "source": [
    "useful_cols = list(tmp[(tmp['std'] != 0) & (tmp['std'] != np.nan)].index) # 判断标准差\n",
    "useful_cols = [c for c in useful_cols if c not in ['数据日期']] \n",
    "print(useful_cols)\n",
    "\n",
    "if len(useful_cols) > 0:\n",
    "    df = df.merge(product[['prod_code']+useful_cols], on='prod_code', how='left')"
   ]
  },
  {
   "cell_type": "code",
   "execution_count": 19,
   "metadata": {},
   "outputs": [
    {
     "data": {
      "text/html": [
       "<div>\n",
       "<style scoped>\n",
       "    .dataframe tbody tr th:only-of-type {\n",
       "        vertical-align: middle;\n",
       "    }\n",
       "\n",
       "    .dataframe tbody tr th {\n",
       "        vertical-align: top;\n",
       "    }\n",
       "\n",
       "    .dataframe thead th {\n",
       "        text-align: right;\n",
       "    }\n",
       "</style>\n",
       "<table border=\"1\" class=\"dataframe\">\n",
       "  <thead>\n",
       "    <tr style=\"text-align: right;\">\n",
       "      <th></th>\n",
       "      <th>id</th>\n",
       "      <th>core_cust_id</th>\n",
       "      <th>prod_code</th>\n",
       "      <th>a2</th>\n",
       "      <th>a3</th>\n",
       "      <th>y</th>\n",
       "      <th>rank</th>\n",
       "      <th>d1</th>\n",
       "      <th>d2</th>\n",
       "      <th>d3</th>\n",
       "      <th>age_level_4</th>\n",
       "      <th>age_level_10</th>\n",
       "      <th>risk_count</th>\n",
       "      <th>risk_level_mean</th>\n",
       "      <th>计价类型</th>\n",
       "      <th>周期类型</th>\n",
       "      <th>模式</th>\n",
       "      <th>风险等级</th>\n",
       "      <th>是否允许变更分红方式</th>\n",
       "      <th>持有天数</th>\n",
       "      <th>管理方式</th>\n",
       "      <th>业务模式</th>\n",
       "      <th>收益特点</th>\n",
       "      <th>期限</th>\n",
       "      <th>投资模式</th>\n",
       "      <th>预期收益率</th>\n",
       "      <th>展示等级</th>\n",
       "      <th>prod_class</th>\n",
       "      <th>收益风险比</th>\n",
       "      <th>天数收益比</th>\n",
       "    </tr>\n",
       "  </thead>\n",
       "  <tbody>\n",
       "    <tr>\n",
       "      <th>0</th>\n",
       "      <td>9b716f007df84378944ac6a9854838b0</td>\n",
       "      <td>6e2105d9fe</td>\n",
       "      <td>DECD21062102</td>\n",
       "      <td>2</td>\n",
       "      <td>2021-07-01</td>\n",
       "      <td>0.0</td>\n",
       "      <td>5</td>\n",
       "      <td>1</td>\n",
       "      <td>4.0</td>\n",
       "      <td>32</td>\n",
       "      <td>3</td>\n",
       "      <td>8</td>\n",
       "      <td>NaN</td>\n",
       "      <td>NaN</td>\n",
       "      <td>0.0</td>\n",
       "      <td>0.0</td>\n",
       "      <td>2.0</td>\n",
       "      <td>NaN</td>\n",
       "      <td>0.0</td>\n",
       "      <td>0.0</td>\n",
       "      <td>NaN</td>\n",
       "      <td>NaN</td>\n",
       "      <td>NaN</td>\n",
       "      <td>NaN</td>\n",
       "      <td>2.0</td>\n",
       "      <td>0.023150</td>\n",
       "      <td>5.0</td>\n",
       "      <td>2</td>\n",
       "      <td>NaN</td>\n",
       "      <td>inf</td>\n",
       "    </tr>\n",
       "    <tr>\n",
       "      <th>1</th>\n",
       "      <td>458c3ff67ee14b12a13dcd21df8a0db0</td>\n",
       "      <td>6e2105d9fe</td>\n",
       "      <td>DECD21062107</td>\n",
       "      <td>2</td>\n",
       "      <td>2021-07-01</td>\n",
       "      <td>0.0</td>\n",
       "      <td>7</td>\n",
       "      <td>1</td>\n",
       "      <td>4.0</td>\n",
       "      <td>32</td>\n",
       "      <td>3</td>\n",
       "      <td>8</td>\n",
       "      <td>NaN</td>\n",
       "      <td>NaN</td>\n",
       "      <td>0.0</td>\n",
       "      <td>0.0</td>\n",
       "      <td>2.0</td>\n",
       "      <td>NaN</td>\n",
       "      <td>0.0</td>\n",
       "      <td>0.0</td>\n",
       "      <td>NaN</td>\n",
       "      <td>NaN</td>\n",
       "      <td>NaN</td>\n",
       "      <td>NaN</td>\n",
       "      <td>2.0</td>\n",
       "      <td>0.043625</td>\n",
       "      <td>5.0</td>\n",
       "      <td>2</td>\n",
       "      <td>NaN</td>\n",
       "      <td>inf</td>\n",
       "    </tr>\n",
       "  </tbody>\n",
       "</table>\n",
       "</div>"
      ],
      "text/plain": [
       "                                 id core_cust_id     prod_code  a2  \\\n",
       "0  9b716f007df84378944ac6a9854838b0   6e2105d9fe  DECD21062102   2   \n",
       "1  458c3ff67ee14b12a13dcd21df8a0db0   6e2105d9fe  DECD21062107   2   \n",
       "\n",
       "           a3    y  rank  d1   d2  d3  age_level_4  age_level_10  risk_count  \\\n",
       "0  2021-07-01  0.0     5   1  4.0  32            3             8         NaN   \n",
       "1  2021-07-01  0.0     7   1  4.0  32            3             8         NaN   \n",
       "\n",
       "   risk_level_mean  计价类型  周期类型   模式  风险等级  是否允许变更分红方式  持有天数  管理方式  业务模式  收益特点  \\\n",
       "0              NaN   0.0   0.0  2.0   NaN         0.0   0.0   NaN   NaN   NaN   \n",
       "1              NaN   0.0   0.0  2.0   NaN         0.0   0.0   NaN   NaN   NaN   \n",
       "\n",
       "   期限  投资模式     预期收益率  展示等级  prod_class  收益风险比  天数收益比  \n",
       "0 NaN   2.0  0.023150   5.0           2    NaN    inf  \n",
       "1 NaN   2.0  0.043625   5.0           2    NaN    inf  "
      ]
     },
     "execution_count": 19,
     "metadata": {},
     "output_type": "execute_result"
    }
   ],
   "source": [
    "df.head(2)"
   ]
  },
  {
   "cell_type": "markdown",
   "metadata": {},
   "source": [
    "## 产品交易流水"
   ]
  },
  {
   "cell_type": "code",
   "execution_count": 20,
   "metadata": {},
   "outputs": [],
   "source": [
    "p_record = pd.read_pickle('prod_record.pkl')\n",
    "#日期的年月\n",
    "p_record['date'] = p_record['trade_date'].apply(lambda x: str(x)[:6])\n",
    "#申请金额apply_amont\n",
    "p_record.rename(columns={'申请金额': 'apply_amt'}, inplace=True)\n",
    "#交易状态 + 资金状态 + 业务代码 + 渠道标识 排序组合\n",
    "p_record['deal_bus'] = p_record['交易状态'].astype('str') + p_record['业务代码'].astype('str')\n",
    "p_record['deal_bus_channel'] = p_record['交易状态'].astype('str') + p_record['业务代码'].astype('str') + p_record['渠道标识'].astype('str')\n",
    "p_record['deal_bus_fund'] = p_record['交易状态'].astype('str') + p_record['业务代码'].astype('str') + p_record['资金状态'].astype('str')\n",
    "p_record['deal_bus_c_f'] = p_record['交易状态'].astype('str') + p_record['业务代码'].astype('str') + p_record['渠道标识'].astype('str') + p_record['资金状态'].astype('str')\n",
    "#p_record['deal_bus'] = p_record['交易状态'].astype('str') + p_record['业务代码'].astype('str')\n",
    "#整个月的平均值与最大值或最小值相比，如果等，那就是不买，如果不等，那就购买"
   ]
  },
  {
   "cell_type": "code",
   "execution_count": 21,
   "metadata": {},
   "outputs": [],
   "source": [
    "p_record.rename(columns={'trade_date':'a3'},inplace = True)\n",
    "p_record.rename(columns={'prod_class':'a2'},inplace = True)"
   ]
  },
  {
   "cell_type": "code",
   "execution_count": 22,
   "metadata": {},
   "outputs": [
    {
     "data": {
      "text/plain": [
       "Index(['流水号', '业务代码', '渠道标识', 'core_cust_id', 'prod_code', '净值', 'apply_amt',\n",
       "       '资金状态', '交易状态', 'a3', 'a2', 'date', 'deal_bus', 'deal_bus_channel',\n",
       "       'deal_bus_fund', 'deal_bus_c_f'],\n",
       "      dtype='object')"
      ]
     },
     "execution_count": 22,
     "metadata": {},
     "output_type": "execute_result"
    }
   ],
   "source": [
    "p_record.columns"
   ]
  },
  {
   "cell_type": "code",
   "execution_count": 23,
   "metadata": {},
   "outputs": [
    {
     "data": {
      "text/plain": [
       "(2953495, 30)"
      ]
     },
     "execution_count": 23,
     "metadata": {},
     "output_type": "execute_result"
    }
   ],
   "source": [
    "df.shape"
   ]
  },
  {
   "cell_type": "code",
   "execution_count": 24,
   "metadata": {},
   "outputs": [
    {
     "data": {
      "text/html": [
       "<div>\n",
       "<style scoped>\n",
       "    .dataframe tbody tr th:only-of-type {\n",
       "        vertical-align: middle;\n",
       "    }\n",
       "\n",
       "    .dataframe tbody tr th {\n",
       "        vertical-align: top;\n",
       "    }\n",
       "\n",
       "    .dataframe thead th {\n",
       "        text-align: right;\n",
       "    }\n",
       "</style>\n",
       "<table border=\"1\" class=\"dataframe\">\n",
       "  <thead>\n",
       "    <tr style=\"text-align: right;\">\n",
       "      <th></th>\n",
       "      <th>id</th>\n",
       "      <th>core_cust_id</th>\n",
       "      <th>prod_code</th>\n",
       "      <th>a2</th>\n",
       "      <th>a3</th>\n",
       "      <th>y</th>\n",
       "      <th>rank</th>\n",
       "      <th>d1</th>\n",
       "      <th>d2</th>\n",
       "      <th>d3</th>\n",
       "      <th>age_level_4</th>\n",
       "      <th>age_level_10</th>\n",
       "      <th>risk_count</th>\n",
       "      <th>risk_level_mean</th>\n",
       "      <th>计价类型</th>\n",
       "      <th>周期类型</th>\n",
       "      <th>模式</th>\n",
       "      <th>风险等级</th>\n",
       "      <th>是否允许变更分红方式</th>\n",
       "      <th>持有天数</th>\n",
       "      <th>管理方式</th>\n",
       "      <th>业务模式</th>\n",
       "      <th>收益特点</th>\n",
       "      <th>期限</th>\n",
       "      <th>投资模式</th>\n",
       "      <th>预期收益率</th>\n",
       "      <th>展示等级</th>\n",
       "      <th>prod_class</th>\n",
       "      <th>收益风险比</th>\n",
       "      <th>天数收益比</th>\n",
       "    </tr>\n",
       "  </thead>\n",
       "  <tbody>\n",
       "    <tr>\n",
       "      <th>0</th>\n",
       "      <td>9b716f007df84378944ac6a9854838b0</td>\n",
       "      <td>6e2105d9fe</td>\n",
       "      <td>DECD21062102</td>\n",
       "      <td>2</td>\n",
       "      <td>2021-07-01</td>\n",
       "      <td>0.0</td>\n",
       "      <td>5</td>\n",
       "      <td>1</td>\n",
       "      <td>4.0</td>\n",
       "      <td>32</td>\n",
       "      <td>3</td>\n",
       "      <td>8</td>\n",
       "      <td>NaN</td>\n",
       "      <td>NaN</td>\n",
       "      <td>0.0</td>\n",
       "      <td>0.0</td>\n",
       "      <td>2.0</td>\n",
       "      <td>NaN</td>\n",
       "      <td>0.0</td>\n",
       "      <td>0.0</td>\n",
       "      <td>NaN</td>\n",
       "      <td>NaN</td>\n",
       "      <td>NaN</td>\n",
       "      <td>NaN</td>\n",
       "      <td>2.0</td>\n",
       "      <td>0.023150</td>\n",
       "      <td>5.0</td>\n",
       "      <td>2</td>\n",
       "      <td>NaN</td>\n",
       "      <td>inf</td>\n",
       "    </tr>\n",
       "    <tr>\n",
       "      <th>1</th>\n",
       "      <td>458c3ff67ee14b12a13dcd21df8a0db0</td>\n",
       "      <td>6e2105d9fe</td>\n",
       "      <td>DECD21062107</td>\n",
       "      <td>2</td>\n",
       "      <td>2021-07-01</td>\n",
       "      <td>0.0</td>\n",
       "      <td>7</td>\n",
       "      <td>1</td>\n",
       "      <td>4.0</td>\n",
       "      <td>32</td>\n",
       "      <td>3</td>\n",
       "      <td>8</td>\n",
       "      <td>NaN</td>\n",
       "      <td>NaN</td>\n",
       "      <td>0.0</td>\n",
       "      <td>0.0</td>\n",
       "      <td>2.0</td>\n",
       "      <td>NaN</td>\n",
       "      <td>0.0</td>\n",
       "      <td>0.0</td>\n",
       "      <td>NaN</td>\n",
       "      <td>NaN</td>\n",
       "      <td>NaN</td>\n",
       "      <td>NaN</td>\n",
       "      <td>2.0</td>\n",
       "      <td>0.043625</td>\n",
       "      <td>5.0</td>\n",
       "      <td>2</td>\n",
       "      <td>NaN</td>\n",
       "      <td>inf</td>\n",
       "    </tr>\n",
       "  </tbody>\n",
       "</table>\n",
       "</div>"
      ],
      "text/plain": [
       "                                 id core_cust_id     prod_code  a2  \\\n",
       "0  9b716f007df84378944ac6a9854838b0   6e2105d9fe  DECD21062102   2   \n",
       "1  458c3ff67ee14b12a13dcd21df8a0db0   6e2105d9fe  DECD21062107   2   \n",
       "\n",
       "           a3    y  rank  d1   d2  d3  age_level_4  age_level_10  risk_count  \\\n",
       "0  2021-07-01  0.0     5   1  4.0  32            3             8         NaN   \n",
       "1  2021-07-01  0.0     7   1  4.0  32            3             8         NaN   \n",
       "\n",
       "   risk_level_mean  计价类型  周期类型   模式  风险等级  是否允许变更分红方式  持有天数  管理方式  业务模式  收益特点  \\\n",
       "0              NaN   0.0   0.0  2.0   NaN         0.0   0.0   NaN   NaN   NaN   \n",
       "1              NaN   0.0   0.0  2.0   NaN         0.0   0.0   NaN   NaN   NaN   \n",
       "\n",
       "   期限  投资模式     预期收益率  展示等级  prod_class  收益风险比  天数收益比  \n",
       "0 NaN   2.0  0.023150   5.0           2    NaN    inf  \n",
       "1 NaN   2.0  0.043625   5.0           2    NaN    inf  "
      ]
     },
     "execution_count": 24,
     "metadata": {},
     "output_type": "execute_result"
    }
   ],
   "source": [
    "df.head(2)"
   ]
  },
  {
   "cell_type": "code",
   "execution_count": 25,
   "metadata": {},
   "outputs": [],
   "source": [
    "df = df.merge(p_record, on= ['core_cust_id','prod_code','a3','a2'], how='left')"
   ]
  },
  {
   "cell_type": "code",
   "execution_count": 26,
   "metadata": {},
   "outputs": [
    {
     "data": {
      "text/plain": [
       "(2953495, 42)"
      ]
     },
     "execution_count": 26,
     "metadata": {},
     "output_type": "execute_result"
    }
   ],
   "source": [
    "df.shape"
   ]
  },
  {
   "cell_type": "code",
   "execution_count": 27,
   "metadata": {},
   "outputs": [
    {
     "data": {
      "text/html": [
       "<div>\n",
       "<style scoped>\n",
       "    .dataframe tbody tr th:only-of-type {\n",
       "        vertical-align: middle;\n",
       "    }\n",
       "\n",
       "    .dataframe tbody tr th {\n",
       "        vertical-align: top;\n",
       "    }\n",
       "\n",
       "    .dataframe thead th {\n",
       "        text-align: right;\n",
       "    }\n",
       "</style>\n",
       "<table border=\"1\" class=\"dataframe\">\n",
       "  <thead>\n",
       "    <tr style=\"text-align: right;\">\n",
       "      <th></th>\n",
       "      <th>id</th>\n",
       "      <th>core_cust_id</th>\n",
       "      <th>prod_code</th>\n",
       "      <th>a2</th>\n",
       "      <th>a3</th>\n",
       "      <th>y</th>\n",
       "      <th>rank</th>\n",
       "      <th>d1</th>\n",
       "      <th>d2</th>\n",
       "      <th>d3</th>\n",
       "      <th>age_level_4</th>\n",
       "      <th>age_level_10</th>\n",
       "      <th>risk_count</th>\n",
       "      <th>risk_level_mean</th>\n",
       "      <th>计价类型</th>\n",
       "      <th>周期类型</th>\n",
       "      <th>模式</th>\n",
       "      <th>风险等级</th>\n",
       "      <th>是否允许变更分红方式</th>\n",
       "      <th>持有天数</th>\n",
       "      <th>管理方式</th>\n",
       "      <th>业务模式</th>\n",
       "      <th>收益特点</th>\n",
       "      <th>期限</th>\n",
       "      <th>投资模式</th>\n",
       "      <th>预期收益率</th>\n",
       "      <th>展示等级</th>\n",
       "      <th>prod_class</th>\n",
       "      <th>收益风险比</th>\n",
       "      <th>天数收益比</th>\n",
       "      <th>流水号</th>\n",
       "      <th>业务代码</th>\n",
       "      <th>渠道标识</th>\n",
       "      <th>净值</th>\n",
       "      <th>apply_amt</th>\n",
       "      <th>资金状态</th>\n",
       "      <th>交易状态</th>\n",
       "      <th>date</th>\n",
       "      <th>deal_bus</th>\n",
       "      <th>deal_bus_channel</th>\n",
       "      <th>deal_bus_fund</th>\n",
       "      <th>deal_bus_c_f</th>\n",
       "    </tr>\n",
       "  </thead>\n",
       "  <tbody>\n",
       "    <tr>\n",
       "      <th>0</th>\n",
       "      <td>9b716f007df84378944ac6a9854838b0</td>\n",
       "      <td>6e2105d9fe</td>\n",
       "      <td>DECD21062102</td>\n",
       "      <td>2</td>\n",
       "      <td>2021-07-01</td>\n",
       "      <td>0.0</td>\n",
       "      <td>5</td>\n",
       "      <td>1</td>\n",
       "      <td>4.0</td>\n",
       "      <td>32</td>\n",
       "      <td>3</td>\n",
       "      <td>8</td>\n",
       "      <td>NaN</td>\n",
       "      <td>NaN</td>\n",
       "      <td>0.0</td>\n",
       "      <td>0.0</td>\n",
       "      <td>2.0</td>\n",
       "      <td>NaN</td>\n",
       "      <td>0.0</td>\n",
       "      <td>0.0</td>\n",
       "      <td>NaN</td>\n",
       "      <td>NaN</td>\n",
       "      <td>NaN</td>\n",
       "      <td>NaN</td>\n",
       "      <td>2.0</td>\n",
       "      <td>0.023150</td>\n",
       "      <td>5.0</td>\n",
       "      <td>2</td>\n",
       "      <td>NaN</td>\n",
       "      <td>inf</td>\n",
       "      <td>NaN</td>\n",
       "      <td>NaN</td>\n",
       "      <td>NaN</td>\n",
       "      <td>NaN</td>\n",
       "      <td>NaN</td>\n",
       "      <td>NaN</td>\n",
       "      <td>NaN</td>\n",
       "      <td>NaN</td>\n",
       "      <td>NaN</td>\n",
       "      <td>NaN</td>\n",
       "      <td>NaN</td>\n",
       "      <td>NaN</td>\n",
       "    </tr>\n",
       "    <tr>\n",
       "      <th>1</th>\n",
       "      <td>458c3ff67ee14b12a13dcd21df8a0db0</td>\n",
       "      <td>6e2105d9fe</td>\n",
       "      <td>DECD21062107</td>\n",
       "      <td>2</td>\n",
       "      <td>2021-07-01</td>\n",
       "      <td>0.0</td>\n",
       "      <td>7</td>\n",
       "      <td>1</td>\n",
       "      <td>4.0</td>\n",
       "      <td>32</td>\n",
       "      <td>3</td>\n",
       "      <td>8</td>\n",
       "      <td>NaN</td>\n",
       "      <td>NaN</td>\n",
       "      <td>0.0</td>\n",
       "      <td>0.0</td>\n",
       "      <td>2.0</td>\n",
       "      <td>NaN</td>\n",
       "      <td>0.0</td>\n",
       "      <td>0.0</td>\n",
       "      <td>NaN</td>\n",
       "      <td>NaN</td>\n",
       "      <td>NaN</td>\n",
       "      <td>NaN</td>\n",
       "      <td>2.0</td>\n",
       "      <td>0.043625</td>\n",
       "      <td>5.0</td>\n",
       "      <td>2</td>\n",
       "      <td>NaN</td>\n",
       "      <td>inf</td>\n",
       "      <td>NaN</td>\n",
       "      <td>NaN</td>\n",
       "      <td>NaN</td>\n",
       "      <td>NaN</td>\n",
       "      <td>NaN</td>\n",
       "      <td>NaN</td>\n",
       "      <td>NaN</td>\n",
       "      <td>NaN</td>\n",
       "      <td>NaN</td>\n",
       "      <td>NaN</td>\n",
       "      <td>NaN</td>\n",
       "      <td>NaN</td>\n",
       "    </tr>\n",
       "  </tbody>\n",
       "</table>\n",
       "</div>"
      ],
      "text/plain": [
       "                                 id core_cust_id     prod_code  a2  \\\n",
       "0  9b716f007df84378944ac6a9854838b0   6e2105d9fe  DECD21062102   2   \n",
       "1  458c3ff67ee14b12a13dcd21df8a0db0   6e2105d9fe  DECD21062107   2   \n",
       "\n",
       "           a3    y  rank  d1   d2  d3  age_level_4  age_level_10  risk_count  \\\n",
       "0  2021-07-01  0.0     5   1  4.0  32            3             8         NaN   \n",
       "1  2021-07-01  0.0     7   1  4.0  32            3             8         NaN   \n",
       "\n",
       "   risk_level_mean  计价类型  周期类型   模式  风险等级  是否允许变更分红方式  持有天数  管理方式  业务模式  收益特点  \\\n",
       "0              NaN   0.0   0.0  2.0   NaN         0.0   0.0   NaN   NaN   NaN   \n",
       "1              NaN   0.0   0.0  2.0   NaN         0.0   0.0   NaN   NaN   NaN   \n",
       "\n",
       "   期限  投资模式     预期收益率  展示等级  prod_class  收益风险比  天数收益比  流水号  业务代码  渠道标识  净值  \\\n",
       "0 NaN   2.0  0.023150   5.0           2    NaN    inf  NaN   NaN   NaN NaN   \n",
       "1 NaN   2.0  0.043625   5.0           2    NaN    inf  NaN   NaN   NaN NaN   \n",
       "\n",
       "   apply_amt  资金状态  交易状态 date deal_bus deal_bus_channel deal_bus_fund  \\\n",
       "0        NaN   NaN   NaN  NaN      NaN              NaN           NaN   \n",
       "1        NaN   NaN   NaN  NaN      NaN              NaN           NaN   \n",
       "\n",
       "  deal_bus_c_f  \n",
       "0          NaN  \n",
       "1          NaN  "
      ]
     },
     "execution_count": 27,
     "metadata": {},
     "output_type": "execute_result"
    }
   ],
   "source": [
    "df.head(2)"
   ]
  },
  {
   "cell_type": "code",
   "execution_count": 28,
   "metadata": {},
   "outputs": [],
   "source": [
    "def diff_max_min(x):\n",
    "    return x.max() - x.min()"
   ]
  },
  {
   "cell_type": "code",
   "execution_count": 29,
   "metadata": {},
   "outputs": [
    {
     "data": {
      "text/plain": [
       "Index(['流水号', '业务代码', '渠道标识', 'core_cust_id', 'prod_code', '净值', 'apply_amt',\n",
       "       '资金状态', '交易状态', 'a3', 'a2', 'date', 'deal_bus', 'deal_bus_channel',\n",
       "       'deal_bus_fund', 'deal_bus_c_f'],\n",
       "      dtype='object')"
      ]
     },
     "execution_count": 29,
     "metadata": {},
     "output_type": "execute_result"
    }
   ],
   "source": [
    "p_record.columns"
   ]
  },
  {
   "cell_type": "code",
   "execution_count": 30,
   "metadata": {},
   "outputs": [
    {
     "name": "stdout",
     "output_type": "stream",
     "text": [
      "p ==  1\n",
      "2021-07-01\n",
      "2021-08-01\n",
      "2021-09-01\n",
      "2021-10-01\n"
     ]
    }
   ],
   "source": [
    "dict_ = {'2021-07-01':'202106', '2021-08-01':'202107', '2021-09-01':'202108', '2021-10-01':'202109'}\n",
    "dict_1 = {'2021-07-01':['202105', '202106'], '2021-08-01':['202106', '202107'], \n",
    "          '2021-09-01':['202107', '202108'], '2021-10-01':['202108', '202109']}\n",
    "#申请金额统计量特征\n",
    "for k, data in enumerate([p_record]):\n",
    "    print('p == ', k+1)\n",
    "    dfs = []\n",
    "    \n",
    "    for month in sorted(df['a3'].unique()):\n",
    "        print(month)\n",
    "        tmp_df = df[df['a3'] == month]\n",
    "        ####################################################\n",
    "        #按照用户聚类，查看对应产品的数量、不同产品数量、平均不同产品数、申请金额的统计量\n",
    "        #小于（目标月-1）前面所有月份\n",
    "        stat_1 = data[data['date'] < dict_ [month]].groupby('core_cust_id')['prod_code'].count().reset_index()\n",
    "        stat_1.columns = ['core_cust_id',f'uid_count{k+1}_bbnow']\n",
    "        #print(stat_1.head(2))\n",
    "        stat_1[f'pid_nunique{k+1}_bbnow']     = data[data['date'] < dict_[month]].groupby('core_cust_id')['prod_code'].agg('nunique').values\n",
    "        stat_1[f'pid_mean_count{k+1}_bbnow']  = stat_1[f'uid_count{k+1}_bbnow'] / stat_1[f'pid_nunique{k+1}_bbnow']\n",
    "        stat_1[f'apply_mean{k+1}_bbnow']      = data[data['date'] < dict_[month]].groupby('core_cust_id')['apply_amt'].agg('mean').values\n",
    "        stat_1[f'apply_max{k+1}_bbnow']       = data[data['date'] < dict_[month]].groupby('core_cust_id')['apply_amt'].agg('max').values    # 我们加的\n",
    "        stat_1[f'apply_min{k+1}_bbnow']       = data[data['date'] < dict_[month]].groupby('core_cust_id')['apply_amt'].agg('min').values    # 我们加的\n",
    "        stat_1[f'apply_std{k+1}_bbnow']       = data[data['date'] < dict_[month]].groupby('core_cust_id')['apply_amt'].agg('std').values    # 我们加的\n",
    "        stat_1[f'apply_median{k+1}_bbnow']    = data[data['date'] < dict_[month]].groupby('core_cust_id')['apply_amt'].agg('median').values # 我们加的\n",
    "        stat_1[f'apply_sum{k+1}_bbnow']       = data[data['date'] < dict_[month]].groupby('core_cust_id')['apply_amt'].agg('sum').values\n",
    "        stat_1[f'apply_max_min{k+1}_bbnow']   = data[data['date'] < dict_[month]].groupby('core_cust_id')['apply_amt'].agg(diff_max_min).values\n",
    "        stat_1[f'flow{k+1}_bbnow']            = data[data['date'] < dict_[month]].groupby('core_cust_id')['流水号'].agg('count').values\n",
    "        \n",
    "        #目标月前一个月\n",
    "        stat_2 = data[data['date'] == dict_[month]].groupby('core_cust_id')['prod_code'].count().reset_index()\n",
    "        stat_2.columns = ['core_cust_id',f'uid_count{k+1}']\n",
    "        stat_2[f'pid_nunique{k+1}']     = data[data['date'] == dict_[month]].groupby('core_cust_id')['prod_code'].agg('nunique').values\n",
    "        stat_2[f'pid_mean_count{k+1}']  = stat_2[f'uid_count{k+1}'] / stat_2[f'pid_nunique{k+1}']\n",
    "        stat_2[f'apply_mean{k+1}']      = data[data['date'] == dict_[month]].groupby('core_cust_id')['apply_amt'].agg('mean').values\n",
    "        stat_2[f'apply_std{k+1}']       = data[data['date'] == dict_[month]].groupby('core_cust_id')['apply_amt'].agg('std').values\n",
    "        stat_2[f'apply_max{k+1}']       = data[data['date'] == dict_[month]].groupby('core_cust_id')['apply_amt'].agg('max').values        # 我们加的\n",
    "        stat_2[f'apply_min{k+1}']       = data[data['date'] == dict_[month]].groupby('core_cust_id')['apply_amt'].agg('min').values        # 我们加的\n",
    "        stat_2[f'apply_median{k+1}']    = data[data['date'] == dict_[month]].groupby('core_cust_id')['apply_amt'].agg('median').values     # 我们加的\n",
    "        stat_2[f'apply_sum{k+1}']       = data[data['date'] == dict_[month]].groupby('core_cust_id')['apply_amt'].agg('sum').values\n",
    "        stat_2[f'apply_max_min{k+1}']   = data[data['date'] == dict_[month]].groupby('core_cust_id')['apply_amt'].agg(diff_max_min).values # 我们加的\n",
    "        stat_2[f'flow{k+1}']            = data[data['date'] == dict_[month]].groupby('core_cust_id')['流水号'].agg('count').values\n",
    "        #目标月前面所有月\n",
    "#         stat_3 = data[data['date'] <= dict_[month]].groupby('core_cust_id')['prod_code'].count().reset_index()\n",
    "#         stat_3.columns = ['core_cust_id',f'uid_count{k+1}_bnow']\n",
    "#         stat_3[f'pid_nunique{k+1}_bnow']     = data[data['date'] <= dict_[month]].groupby(['core_cust_id'])['prod_code'].agg('nunique').values\n",
    "#         stat_3[f'pid_mean_count{k+1}_bnow']  = stat_3[f'uid_count{k+1}_bnow'] / stat_3[f'pid_nunique{k+1}_bnow']\n",
    "#         stat_3[f'apply_mean{k+1}_bnow']      = data[data['date'] <= dict_[month]].groupby('core_cust_id')['apply_amt'].agg('mean').values\n",
    "#         stat_3[f'apply_std{k+1}_bnow']       = data[data['date'] <= dict_[month]].groupby('core_cust_id')['apply_amt'].agg('std').values\n",
    "#         stat_3[f'apply_median{k+1}_bnow']    = data[data['date'] <= dict_[month]].groupby('core_cust_id')['apply_amt'].agg('median').values\n",
    "#         stat_3[f'apply_sum{k+1}_bnow']       = data[data['date'] <= dict_[month]].groupby('core_cust_id')['apply_amt'].agg('sum').values\n",
    "#         stat_3[f'apply_max_min{k+1}_bnow']   = data[data['date'] <= dict_[month]].groupby('core_cust_id')['apply_amt'].agg(diff_max_min).values\n",
    "#         stat_3[f'flow{k+1}_bnow']       = data[data['date'] <= dict_[month]].groupby('core_cust_id')['流水号'].agg('count').values\n",
    "        #目标月前两个月\n",
    "        stat_4 = data[(data['date'] == dict_1[month][0]) & (data['date'] == dict_1[month][1])].groupby('core_cust_id')['prod_code'].count().reset_index()\n",
    "        stat_4.columns = ['core_cust_id',f'uid_count{k+1}_b2']\n",
    "        stat_4[f'pid_nunique{k+1}_b2']     = data[(data['date'] == dict_1[month][0]) & (data['date'] == dict_1[month][1])].groupby('core_cust_id')['prod_code'].agg('nunique').values\n",
    "        stat_4[f'pid_mean_count{k+1}_b2']  = stat_4[f'uid_count{k+1}_b2'] / stat_4[f'pid_nunique{k+1}_b2']\n",
    "        stat_4[f'apply_mean{k+1}_b2']      = data[(data['date'] == dict_1[month][0]) & (data['date'] == dict_1[month][1])].groupby('core_cust_id')['apply_amt'].agg('mean').values\n",
    "        stat_4[f'apply_std{k+1}_b2']       = data[(data['date'] == dict_1[month][0]) & (data['date'] == dict_1[month][1])].groupby('core_cust_id')['apply_amt'].agg('std').values\n",
    "        stat_4[f'apply_max{k+1}_b2']       = data[(data['date'] == dict_1[month][0]) & (data['date'] == dict_1[month][1])].groupby('core_cust_id')['apply_amt'].agg('max').values\n",
    "        stat_4[f'apply_min{k+1}_b2']       = data[(data['date'] == dict_1[month][0]) & (data['date'] == dict_1[month][1])].groupby('core_cust_id')['apply_amt'].agg('min').values\n",
    "        stat_4[f'apply_median{k+1}_b2']    = data[(data['date'] == dict_1[month][0]) & (data['date'] == dict_1[month][1])].groupby('core_cust_id')['apply_amt'].agg('median').values\n",
    "        stat_4[f'apply_sum{k+1}_2']       = data[(data['date'] == dict_1[month][0]) & (data['date'] == dict_1[month][1])].groupby('core_cust_id')['apply_amt'].agg('sum').values\n",
    "        stat_4[f'apply_max_min{k+1}_2']       = data[(data['date'] == dict_1[month][0]) & (data['date'] == dict_1[month][1])].groupby('core_cust_id')['apply_amt'].agg(diff_max_min).values\n",
    "        stat_4[f'flow{k+1}_2']       = data[(data['date'] == dict_1[month][0]) & (data['date'] == dict_1[month][1])].groupby('core_cust_id')['流水号'].agg('count').values\n",
    "        ################################################################\n",
    "        # 交易流水\n",
    "        #小于（目标月-1）前面所有月份\n",
    "        stat_5 = data[data['date'] < dict_ [month]].groupby(['core_cust_id', 'prod_code'])['流水号'].count().reset_index()\n",
    "        stat_5.columns = ['core_cust_id', 'prod_code', f'pflow_count{k+1}_bbnow']\n",
    "        #目标月前一个月\n",
    "        stat_6 = data[data['date'] == dict_[month]].groupby(['core_cust_id', 'prod_code'])['流水号'].count().reset_index()\n",
    "        stat_6.columns = ['core_cust_id', 'prod_code', f'pflow_count{k+1}_all']\n",
    "        #目标月前面所有月\n",
    "#         stat_7 = data[data['date'] <= dict_[month]].groupby(['core_cust_id', 'prod_code'])['流水号'].count().reset_index()\n",
    "#         stat_7.columns = ['core_cust_id', 'prod_code', f'pflow_count{k+1}']\n",
    "        #目标月前两个月\n",
    "        stat_8 = data[(data['date'] == dict_1[month][0]) & (data['date'] == dict_1[month][1])].groupby(['core_cust_id', 'prod_code'])['流水号'].count().reset_index()\n",
    "        stat_8.columns = ['core_cust_id', 'prod_code', f'pflow_count{k+1}']\n",
    "        #####################################################################\n",
    "        # 交易状态 + 资金状态 + 业务代码 + 渠道标识 排序组合\n",
    "        \n",
    "        # 整个月的平均值与最大值或最小值相比，如果等，那就是不买，如果不等，那就购买\n",
    "        \n",
    "        tmp_df = tmp_df.merge(stat_1, on= 'core_cust_id', how='left')\n",
    "        tmp_df = tmp_df.merge(stat_2, on= 'core_cust_id', how='left')\n",
    "#         tmp_df = tmp_df.merge(stat_3, on='core_cust_id', how='left')\n",
    "        tmp_df = tmp_df.merge(stat_4, on= 'core_cust_id', how='left')\n",
    "        tmp_df = tmp_df.merge(stat_5, on= ['core_cust_id','prod_code'], how='left') # \n",
    "        tmp_df = tmp_df.merge(stat_6, on= ['core_cust_id','prod_code'], how='left')\n",
    "#         tmp_df = tmp_df.merge(stat_7, on='core_cust_id', how='left')\n",
    "        tmp_df = tmp_df.merge(stat_8, on= ['core_cust_id','prod_code'], how='left')\n",
    "        dfs.append(tmp_df)\n",
    "\n",
    "    df = pd.concat(dfs).reset_index(drop=True)"
   ]
  },
  {
   "cell_type": "code",
   "execution_count": 31,
   "metadata": {},
   "outputs": [
    {
     "data": {
      "text/plain": [
       "Index(['id', 'core_cust_id', 'prod_code', 'a2', 'a3', 'y', 'rank', 'd1', 'd2',\n",
       "       'd3', 'age_level_4', 'age_level_10', 'risk_count', 'risk_level_mean',\n",
       "       '计价类型', '周期类型', '模式', '风险等级', '是否允许变更分红方式', '持有天数', '管理方式', '业务模式',\n",
       "       '收益特点', '期限', '投资模式', '预期收益率', '展示等级', 'prod_class', '收益风险比', '天数收益比',\n",
       "       '流水号', '业务代码', '渠道标识', '净值', 'apply_amt', '资金状态', '交易状态', 'date',\n",
       "       'deal_bus', 'deal_bus_channel', 'deal_bus_fund', 'deal_bus_c_f',\n",
       "       'uid_count1_bbnow', 'pid_nunique1_bbnow', 'pid_mean_count1_bbnow',\n",
       "       'apply_mean1_bbnow', 'apply_std1_bbnow', 'apply_median1_bbnow',\n",
       "       'apply_sum1_bbnow', 'apply_max_min1_bbnow', 'flow1_bbnow', 'uid_count1',\n",
       "       'pid_nunique1', 'pid_mean_count1', 'apply_mean1', 'apply_std1',\n",
       "       'apply_median1', 'apply_sum1', 'apply_max_min1', 'flow1',\n",
       "       'uid_count1_b2', 'pid_nunique1_b2', 'pid_mean_count1_b2',\n",
       "       'apply_mean1_b2', 'apply_std1_b2', 'apply_median1_b2', 'apply_sum1_2',\n",
       "       'apply_max_min1_2', 'flow1_2', 'pflow_count1_bbnow', 'pflow_count1_all',\n",
       "       'pflow_count1'],\n",
       "      dtype='object')"
      ]
     },
     "execution_count": 31,
     "metadata": {},
     "output_type": "execute_result"
    }
   ],
   "source": [
    "df.columns"
   ]
  },
  {
   "cell_type": "markdown",
   "metadata": {},
   "source": [
    "## APP点击行为表"
   ]
  },
  {
   "cell_type": "code",
   "execution_count": 33,
   "metadata": {},
   "outputs": [
    {
     "name": "stdout",
     "output_type": "stream",
     "text": [
      "2021-07-01\n",
      "2021-08-01\n",
      "2021-09-01\n",
      "2021-10-01\n"
     ]
    }
   ],
   "source": [
    "r = pd.read_csv(data_path_2 + 'r.csv')\n",
    "r['date'] = r['r5'].apply(lambda x: x[:7])\n",
    "\n",
    "dict_ = {'2021-07-01':'2021-06', '2021-08-01':'2021-07', '2021-09-01':'2021-08', '2021-10-01':'2021-09'}\n",
    "dfs = []\n",
    "\n",
    "for month in sorted(df['a3'].unique()):\n",
    "    print(month)\n",
    "    tmp_df = df[df['a3'] == month]\n",
    "\n",
    "    stat_1 = r[(r['date'] <= dict_[month])].groupby('core_cust_id')['prod_code'].count().reset_index()\n",
    "    stat_1.columns = ['core_cust_id','uid_click_action_count_all']\n",
    "    stat_1['pid_click_action_nunique_all'] = r[(r['date'] <= dict_[month])].groupby('core_cust_id')['prod_code'].agg('nunique').values\n",
    "    \n",
    "    tmp_df = tmp_df.merge(stat_1, on='core_cust_id', how='left')\n",
    "\n",
    "    dfs.append(tmp_df)\n",
    "\n",
    "df = pd.concat(dfs).reset_index(drop=True)"
   ]
  },
  {
   "cell_type": "markdown",
   "metadata": {},
   "source": [
    "## 账户交易流水表"
   ]
  },
  {
   "cell_type": "code",
   "execution_count": 34,
   "metadata": {},
   "outputs": [
    {
     "name": "stdout",
     "output_type": "stream",
     "text": [
      "2021-07-01\n",
      "2021-08-01\n",
      "2021-09-01\n",
      "2021-10-01\n"
     ]
    }
   ],
   "source": [
    "s = pd.read_csv(data_path_2 + 's.csv')\n",
    "s['date'] = s['s7'].apply(lambda x: x[:7])\n",
    "s['s4'] = s['s4'].apply(lambda x: str(x).replace(',','')).astype('float') \n",
    "\n",
    "dict_ = {'2021-07-01':'2021-06', '2021-08-01':'2021-07', '2021-09-01':'2021-08', '2021-10-01':'2021-09'}\n",
    "dfs = []\n",
    "\n",
    "for month in sorted(df['a3'].unique()):\n",
    "    print(month)\n",
    "    tmp_df = df[df['a3'] == month]\n",
    "    \n",
    "    stat_1 = s[s['date'] == dict_[month]].groupby('s3')['s1'].count().reset_index()\n",
    "    stat_1.columns = ['core_cust_id','borrow_count']\n",
    "    stat_1['borrow_mean']   = s[s['date'] == dict_[month]].groupby('s3')['s4'].agg('mean').values\n",
    "    stat_1['borrow_sum']    = s[s['date'] == dict_[month]].groupby('s3')['s4'].agg('sum').values\n",
    "    stat_1['borrow_max']    = s[s['date'] == dict_[month]].groupby('s3')['s4'].agg('max').values    # 我们加的\n",
    "    stat_1['borrow_min']    = s[s['date'] == dict_[month]].groupby('s3')['s4'].agg('min').values    # 我们加的\n",
    "    stat_1['borrow_std']    = s[s['date'] == dict_[month]].groupby('s3')['s4'].agg('std').values    # 我们加的\n",
    "    stat_1['borrow_median'] = s[s['date'] == dict_[month]].groupby('s3')['s4'].agg('median').values # 我们加的\n",
    "    \n",
    "    stat_2 = s[s['date'] == dict_[month]].groupby('s6')['s1'].count().reset_index()\n",
    "    stat_2.columns = ['core_cust_id','loan_count']\n",
    "    stat_2['loan_mean']   = s[s['date'] == dict_[month]].groupby('s6')['s4'].agg('mean').values\n",
    "    stat_2['loan_sum']    = s[s['date'] == dict_[month]].groupby('s6')['s4'].agg('sum').values\n",
    "    stat_2['loan_max']    = s[s['date'] == dict_[month]].groupby('s6')['s4'].agg('max').values    # 我们加的\n",
    "    stat_2['loan_min']    = s[s['date'] == dict_[month]].groupby('s6')['s4'].agg('min').values    # 我们加的\n",
    "    stat_2['loan_std']    = s[s['date'] == dict_[month]].groupby('s6')['s4'].agg('std').values    # 我们加的\n",
    "    stat_2['loan_median'] = s[s['date'] == dict_[month]].groupby('s6')['s4'].agg('median').values # 我们加的\n",
    "\n",
    "    tmp_df = tmp_df.merge(stat_1, on='core_cust_id', how='left')\n",
    "    tmp_df = tmp_df.merge(stat_2, on='core_cust_id', how='left')\n",
    "    \n",
    "    dfs.append(tmp_df)\n",
    "\n",
    "df = pd.concat(dfs).reset_index(drop=True)"
   ]
  },
  {
   "cell_type": "markdown",
   "metadata": {},
   "source": [
    "## 资产信息表"
   ]
  },
  {
   "cell_type": "code",
   "execution_count": 35,
   "metadata": {},
   "outputs": [
    {
     "name": "stdout",
     "output_type": "stream",
     "text": [
      "2021-07-01\n",
      "2021-08-01\n",
      "2021-09-01\n",
      "2021-10-01\n"
     ]
    }
   ],
   "source": [
    "f = pd.read_csv(data_path_2 + 'f.csv')\n",
    "\n",
    "f['date'] = f['f22'].apply(lambda x: str(x)[:6])\n",
    "used_cols = [c for c in f.columns if c not in ['core_cust_id','f1','f22','date']]\n",
    "\n",
    "for c in used_cols:\n",
    "    f[c] = f[c].apply(lambda x: str(x).replace(',','')).astype('float')\n",
    "\n",
    "dict_ = {'2021-07-01':'202106', '2021-08-01':'202107', '2021-09-01':'202108', '2021-10-01':'202109'}\n",
    "dfs = []\n",
    "\n",
    "for month in sorted(df['a3'].unique()):\n",
    "    print(month)\n",
    "\n",
    "    tmp_df = df[df['a3'] == month]\n",
    "    \n",
    "    stat_1 = f[f['date'] == dict_[month]].groupby('core_cust_id')[used_cols].mean().reset_index()\n",
    "    stat_1.columns = ['core_cust_id'] + [f'{c}_mean' for c in used_cols]\n",
    "    \n",
    "    stat_2 = f[f['date'] < dict_[month]].groupby('core_cust_id')[used_cols].mean().reset_index()\n",
    "    stat_2.columns = ['core_cust_id'] + [f'{c}_mean_all' for c in used_cols]\n",
    " \n",
    "    tmp_df = tmp_df.merge(stat_1, on='core_cust_id', how='left')\n",
    "    tmp_df = tmp_df.merge(stat_2, on='core_cust_id', how='left')\n",
    "\n",
    "    dfs.append(tmp_df)\n",
    "\n",
    "df = pd.concat(dfs).reset_index(drop=True)"
   ]
  },
  {
   "cell_type": "code",
   "execution_count": 36,
   "metadata": {},
   "outputs": [],
   "source": [
    "df = df.sort_values('rank').reset_index(drop=True)"
   ]
  },
  {
   "cell_type": "code",
   "execution_count": 37,
   "metadata": {},
   "outputs": [
    {
     "name": "stdout",
     "output_type": "stream",
     "text": [
      "<class 'pandas.core.frame.DataFrame'>\n",
      "RangeIndex: 2953495 entries, 0 to 2953494\n",
      "Columns: 124 entries, id to f21_mean_all\n",
      "dtypes: float64(107), int64(7), object(10)\n",
      "memory usage: 2.7+ GB\n"
     ]
    }
   ],
   "source": [
    "df.info()"
   ]
  },
  {
   "cell_type": "code",
   "execution_count": 38,
   "metadata": {},
   "outputs": [
    {
     "data": {
      "text/html": [
       "<div>\n",
       "<style scoped>\n",
       "    .dataframe tbody tr th:only-of-type {\n",
       "        vertical-align: middle;\n",
       "    }\n",
       "\n",
       "    .dataframe tbody tr th {\n",
       "        vertical-align: top;\n",
       "    }\n",
       "\n",
       "    .dataframe thead th {\n",
       "        text-align: right;\n",
       "    }\n",
       "</style>\n",
       "<table border=\"1\" class=\"dataframe\">\n",
       "  <thead>\n",
       "    <tr style=\"text-align: right;\">\n",
       "      <th></th>\n",
       "      <th>id</th>\n",
       "      <th>core_cust_id</th>\n",
       "      <th>prod_code</th>\n",
       "      <th>a3</th>\n",
       "      <th>流水号</th>\n",
       "      <th>date</th>\n",
       "      <th>deal_bus</th>\n",
       "      <th>deal_bus_channel</th>\n",
       "      <th>deal_bus_fund</th>\n",
       "      <th>deal_bus_c_f</th>\n",
       "    </tr>\n",
       "  </thead>\n",
       "  <tbody>\n",
       "    <tr>\n",
       "      <th>0</th>\n",
       "      <td>4e3c3d57b83e425f8087b1d6d32a50f7</td>\n",
       "      <td>6e2105d9fe</td>\n",
       "      <td>90318011</td>\n",
       "      <td>2021-08-01</td>\n",
       "      <td>NaN</td>\n",
       "      <td>NaN</td>\n",
       "      <td>NaN</td>\n",
       "      <td>NaN</td>\n",
       "      <td>NaN</td>\n",
       "      <td>NaN</td>\n",
       "    </tr>\n",
       "    <tr>\n",
       "      <th>1</th>\n",
       "      <td>aa83c5fc05414c4d9727f0b32882f80e</td>\n",
       "      <td>6e2105d9fe</td>\n",
       "      <td>GRHLA20211530</td>\n",
       "      <td>2021-09-01</td>\n",
       "      <td>NaN</td>\n",
       "      <td>NaN</td>\n",
       "      <td>NaN</td>\n",
       "      <td>NaN</td>\n",
       "      <td>NaN</td>\n",
       "      <td>NaN</td>\n",
       "    </tr>\n",
       "  </tbody>\n",
       "</table>\n",
       "</div>"
      ],
      "text/plain": [
       "                                 id core_cust_id      prod_code          a3  \\\n",
       "0  4e3c3d57b83e425f8087b1d6d32a50f7   6e2105d9fe       90318011  2021-08-01   \n",
       "1  aa83c5fc05414c4d9727f0b32882f80e   6e2105d9fe  GRHLA20211530  2021-09-01   \n",
       "\n",
       "   流水号 date deal_bus deal_bus_channel deal_bus_fund deal_bus_c_f  \n",
       "0  NaN  NaN      NaN              NaN           NaN          NaN  \n",
       "1  NaN  NaN      NaN              NaN           NaN          NaN  "
      ]
     },
     "execution_count": 38,
     "metadata": {},
     "output_type": "execute_result"
    }
   ],
   "source": [
    "df.select_dtypes(include='object').head(2)"
   ]
  },
  {
   "cell_type": "code",
   "execution_count": 39,
   "metadata": {},
   "outputs": [],
   "source": [
    "features = [c for c in df.columns if c != 'y']"
   ]
  },
  {
   "cell_type": "code",
   "execution_count": 42,
   "metadata": {},
   "outputs": [],
   "source": [
    "drop_cols = [c for c in features if df[c].dtype != 'object' and df[c].std() == 0]"
   ]
  },
  {
   "cell_type": "code",
   "execution_count": 44,
   "metadata": {},
   "outputs": [
    {
     "name": "stdout",
     "output_type": "stream",
     "text": [
      "118\n",
      "['a2', 'd1', 'd2', 'd3', 'age_level_4', 'age_level_10', 'risk_count', 'risk_level_mean', '计价类型', '周期类型', '模式', '风险等级', '是否允许变更分红方式', '持有天数', '管理方式', '业务模式', '收益特点', '期限', '投资模式', '预期收益率', '展示等级', 'prod_class', '收益风险比', '天数收益比', '流水号', '业务代码', '渠道标识', '净值', 'apply_amt', '资金状态', '交易状态', 'date', 'deal_bus', 'deal_bus_channel', 'deal_bus_fund', 'deal_bus_c_f', 'uid_count1_bbnow', 'pid_nunique1_bbnow', 'pid_mean_count1_bbnow', 'apply_mean1_bbnow', 'apply_std1_bbnow', 'apply_median1_bbnow', 'apply_sum1_bbnow', 'apply_max_min1_bbnow', 'flow1_bbnow', 'uid_count1', 'pid_nunique1', 'pid_mean_count1', 'apply_mean1', 'apply_std1', 'apply_median1', 'apply_sum1', 'apply_max_min1', 'flow1', 'uid_count1_b2', 'pid_nunique1_b2', 'pid_mean_count1_b2', 'apply_mean1_b2', 'apply_std1_b2', 'apply_median1_b2', 'apply_sum1_2', 'apply_max_min1_2', 'flow1_2', 'pflow_count1_bbnow', 'pflow_count1_all', 'pflow_count1', 'uid_click_action_count_all', 'pid_click_action_nunique_all', 'borrow_count', 'borrow_mean', 'borrow_sum', 'borrow_std', 'borrow_median', 'loan_count', 'loan_mean', 'loan_sum', 'loan_std', 'loan_median', 'f2_mean', 'f3_mean', 'f4_mean', 'f5_mean', 'f6_mean', 'f7_mean', 'f8_mean', 'f9_mean', 'f10_mean', 'f11_mean', 'f12_mean', 'f13_mean', 'f14_mean', 'f15_mean', 'f16_mean', 'f17_mean', 'f18_mean', 'f19_mean', 'f20_mean', 'f21_mean', 'f2_mean_all', 'f3_mean_all', 'f4_mean_all', 'f5_mean_all', 'f6_mean_all', 'f7_mean_all', 'f8_mean_all', 'f9_mean_all', 'f10_mean_all', 'f11_mean_all', 'f12_mean_all', 'f13_mean_all', 'f14_mean_all', 'f15_mean_all', 'f16_mean_all', 'f17_mean_all', 'f18_mean_all', 'f19_mean_all', 'f20_mean_all', 'f21_mean_all']\n"
     ]
    }
   ],
   "source": [
    "drop_fea = ['id', 'core_cust_id', 'a3', 'y', 'prod_code', 'rank']\n",
    "\n",
    "feature= [x for x in df.columns if x not in drop_fea]\n",
    "print(len(feature))\n",
    "print(feature)"
   ]
  },
  {
   "cell_type": "code",
   "execution_count": 45,
   "metadata": {},
   "outputs": [],
   "source": [
    "df['流水号']            = df['流水号'].astype('category')\n",
    "df['date']             = df['date'].astype('category')\n",
    "df['deal_bus']         = df['deal_bus'].astype('category')\n",
    "df['deal_bus_channel'] = df['deal_bus_channel'].astype('category')\n",
    "df['deal_bus_fund']    = df['deal_bus_fund'].astype('category')\n",
    "df['deal_bus_c_f']     = df['deal_bus_c_f'].astype('category')"
   ]
  },
  {
   "cell_type": "code",
   "execution_count": 46,
   "metadata": {},
   "outputs": [],
   "source": [
    "object_list = ['流水号', 'date', 'deal_bus', 'deal_bus_channel', 'deal_bus_fund', 'deal_bus_c_f']"
   ]
  },
  {
   "cell_type": "code",
   "execution_count": 47,
   "metadata": {},
   "outputs": [],
   "source": [
    "df_0 = df[(df['a3'] < '2021-10-01') & (df['y'] == 0)].drop_duplicates(feature)\n",
    "df_1 = df[(df['a3'] < '2021-10-01') & (df['y'] == 1)]\n",
    "df_ = pd.concat([df_0, df_1]).sample(frac=1, random_state=2).reset_index(drop=True)"
   ]
  },
  {
   "cell_type": "markdown",
   "metadata": {},
   "source": [
    "drop_fea = ['id','core_cust_id','a3','y','prod_code','rank'] "
   ]
  },
  {
   "cell_type": "code",
   "execution_count": 48,
   "metadata": {},
   "outputs": [
    {
     "data": {
      "text/plain": [
       "((1053681, 124), (25434, 124), (1079115, 124))"
      ]
     },
     "execution_count": 48,
     "metadata": {},
     "output_type": "execute_result"
    }
   ],
   "source": [
    "df_0.shape, df_1.shape, df_.shape"
   ]
  },
  {
   "cell_type": "code",
   "execution_count": 73,
   "metadata": {},
   "outputs": [],
   "source": [
    "X_train = df_[df_[\"a3\"] == '2021-07-01'][feature_list].reset_index(drop=True)\n",
    "y_train = df_[df_[\"a3\"] == '2021-07-01'][\"y\"]\n",
    "X_valid = df_[df_[\"a3\"] == '2021-08-01'][feature_list].reset_index(drop=True)\n",
    "y_valid = df_[df_[\"a3\"] == '2021-08-01'][\"y\"]\n",
    "X_test = df[df[\"a3\"] == '2021-10-01'][feature_list].reset_index(drop=True)"
   ]
  },
  {
   "cell_type": "code",
   "execution_count": 74,
   "metadata": {},
   "outputs": [
    {
     "data": {
      "text/plain": [
       "((567362, 74), (332946, 74), (262095, 74))"
      ]
     },
     "execution_count": 74,
     "metadata": {},
     "output_type": "execute_result"
    }
   ],
   "source": [
    "X_test.shape, X_train.shape,X_valid.shape"
   ]
  },
  {
   "cell_type": "code",
   "execution_count": 77,
   "metadata": {},
   "outputs": [
    {
     "name": "stdout",
     "output_type": "stream",
     "text": [
      "[LightGBM] [Warning] lambda_l1 is set=0.1, reg_alpha=0.0 will be ignored. Current value: lambda_l1=0.1\n",
      "[LightGBM] [Warning] lambda_l2 is set=0.1, reg_lambda=0.0 will be ignored. Current value: lambda_l2=0.1\n",
      "[LightGBM] [Warning] feature_fraction is set=0.7, colsample_bytree=1.0 will be ignored. Current value: feature_fraction=0.7\n",
      "[LightGBM] [Warning] bagging_freq is set=1, subsample_freq=0 will be ignored. Current value: bagging_freq=1\n",
      "[LightGBM] [Warning] bagging_fraction is set=0.95, subsample=1.0 will be ignored. Current value: bagging_fraction=0.95\n",
      "[200]\tvalid_0's auc: 0.905289\n",
      "[400]\tvalid_0's auc: 0.908704\n",
      "[600]\tvalid_0's auc: 0.910311\n",
      "[800]\tvalid_0's auc: 0.911353\n",
      "[1000]\tvalid_0's auc: 0.912412\n",
      "[1200]\tvalid_0's auc: 0.913056\n",
      "[1400]\tvalid_0's auc: 0.913372\n",
      "[1600]\tvalid_0's auc: 0.913606\n",
      "[1800]\tvalid_0's auc: 0.913738\n",
      "[2000]\tvalid_0's auc: 0.913864\n",
      "[2200]\tvalid_0's auc: 0.913974\n",
      "[2400]\tvalid_0's auc: 0.914061\n",
      "[2600]\tvalid_0's auc: 0.914159\n",
      "[2800]\tvalid_0's auc: 0.914183\n"
     ]
    },
    {
     "data": {
      "text/plain": [
       "406"
      ]
     },
     "execution_count": 77,
     "metadata": {},
     "output_type": "execute_result"
    }
   ],
   "source": [
    "from lightgbm import LGBMClassifier\n",
    "\n",
    "clf = LGBMClassifier(num_leaves=256,\n",
    "                     n_estimators=20000,\n",
    "                     learning_rate=0.005,\n",
    "                     verbose = -1,\n",
    "                     max_bin = 100,\n",
    "                     max_depth = 10,\n",
    "                     feature_fraction_seed = 66,\n",
    "                     feature_fraction = 0.7,\n",
    "                     bagging_seed = 66,\n",
    "                     bagging_freq = 1,\n",
    "                     bagging_fraction = 0.95,\n",
    "                     metric='auc',\n",
    "                     lambda_l1=0.1,\n",
    "                     lambda_l2=0.1, \n",
    "                     min_child_weight=30,\n",
    "                     n_jobs=20)\n",
    "# clf = LGBMClassifier()\n",
    "\n",
    "clf.fit(X_train, y_train,\n",
    "        eval_set=[(X_valid, y_valid)],\n",
    "        early_stopping_rounds=100,verbose=200) #, categorical_feature = object_list\n",
    "\n",
    "gc.collect()"
   ]
  },
  {
   "cell_type": "code",
   "execution_count": 78,
   "metadata": {},
   "outputs": [
    {
     "name": "stderr",
     "output_type": "stream",
     "text": [
      "100%|██████████| 200/200 [00:41<00:00,  4.82it/s]"
     ]
    },
    {
     "name": "stdout",
     "output_type": "stream",
     "text": [
      "分界值 0.0995\n",
      "F2评价分数 0.4514360070638536\n",
      "recall召回率 0.646996136938857\n",
      "precision精确度 0.2043589851474734\n"
     ]
    },
    {
     "name": "stderr",
     "output_type": "stream",
     "text": [
      "\n"
     ]
    }
   ],
   "source": [
    "oof_prob = clf.predict_proba(X_valid[feature_list])[:, 1]  \n",
    "\n",
    "oof_prob = clf.predict_proba(X_valid[feature_list])[:, 1]  \n",
    "\n",
    "def find_best_threshold(y_valid, oof_prob):\n",
    "    best_f2 = 0\n",
    "    recall = 0\n",
    "    precision = 0 \n",
    "    for th in tqdm([i/2000 for i in range(0, 200)]):\n",
    "        oof_prob_copy = oof_prob.copy()\n",
    "        oof_prob_copy[oof_prob_copy >= th] = 1\n",
    "        oof_prob_copy[oof_prob_copy < th] = 0\n",
    "\n",
    "        recall = recall_score(y_valid, oof_prob_copy)\n",
    "        precision = precision_score(y_valid, oof_prob_copy)\n",
    "        f2 = 5*recall*precision / (4*precision+recall)\n",
    "        if f2 > best_f2:\n",
    "            best_th = th\n",
    "            best_f2 = f2\n",
    "#         gc.collect()\n",
    "    recall = recall\n",
    "    precision = precision\n",
    "        \n",
    "    return best_th, best_f2, recall, precision\n",
    "    \n",
    "best_th, best_f2, recall, precision = find_best_threshold(y_valid, oof_prob)\n",
    "print(\"分界值\", best_th)\n",
    "print(\"F2评价分数\", best_f2)\n",
    "print(\"recall召回率\", recall)\n",
    "print(\"precision精确度\", precision)"
   ]
  },
  {
   "cell_type": "code",
   "execution_count": 54,
   "metadata": {
    "jupyter": {
     "source_hidden": true
    }
   },
   "outputs": [
    {
     "name": "stderr",
     "output_type": "stream",
     "text": [
      "100%|██████████| 200/200 [00:41<00:00,  4.83it/s]"
     ]
    },
    {
     "name": "stdout",
     "output_type": "stream",
     "text": [
      "分界值 0.0995\n",
      "F2评价分数 0.4515839976104692\n",
      "recall召回率 0.6444651658452112\n",
      "precision精确度 0.20553124601724798\n"
     ]
    },
    {
     "name": "stderr",
     "output_type": "stream",
     "text": [
      "\n"
     ]
    }
   ],
   "source": [
    "oof_prob = clf.predict_proba(X_valid[feature])[:, 1]  \n",
    "\n",
    "oof_prob = clf.predict_proba(X_valid[feature])[:, 1]  \n",
    "\n",
    "def find_best_threshold(y_valid, oof_prob):\n",
    "    best_f2 = 0\n",
    "    recall = 0\n",
    "    precision = 0 \n",
    "    for th in tqdm([i/2000 for i in range(0, 200)]):\n",
    "        oof_prob_copy = oof_prob.copy()\n",
    "        oof_prob_copy[oof_prob_copy >= th] = 1\n",
    "        oof_prob_copy[oof_prob_copy < th] = 0\n",
    "\n",
    "        recall = recall_score(y_valid, oof_prob_copy)\n",
    "        precision = precision_score(y_valid, oof_prob_copy)\n",
    "        f2 = 5*recall*precision / (4*precision+recall)\n",
    "        if f2 > best_f2:\n",
    "            best_th = th\n",
    "            best_f2 = f2\n",
    "#         gc.collect()\n",
    "    recall = recall\n",
    "    precision = precision\n",
    "        \n",
    "    return best_th, best_f2, recall, precision\n",
    "    \n",
    "best_th, best_f2, recall, precision = find_best_threshold(y_valid, oof_prob)\n",
    "print(\"分界值\", best_th)\n",
    "print(\"F2评价分数\", best_f2)\n",
    "print(\"recall召回率\", recall)\n",
    "print(\"precision精确度\", precision)"
   ]
  },
  {
   "cell_type": "code",
   "execution_count": 79,
   "metadata": {},
   "outputs": [],
   "source": [
    "lgb_predictors = [i for i in X_train.columns]\n",
    "lgb_feat_imp = pd.Series(clf.feature_importances_, lgb_predictors).sort_values(ascending=False)"
   ]
  },
  {
   "cell_type": "code",
   "execution_count": 80,
   "metadata": {},
   "outputs": [],
   "source": [
    "feature_list = lgb_feat_imp[lgb_feat_imp.values > 0].index.tolist()"
   ]
  },
  {
   "cell_type": "code",
   "execution_count": 81,
   "metadata": {},
   "outputs": [
    {
     "data": {
      "text/plain": [
       "预期收益率                           9751\n",
       "持有天数                            8097\n",
       "d3                              7716\n",
       "pid_mean_count1_bbnow           7119\n",
       "天数收益比                           7022\n",
       "uid_click_action_count_all      6825\n",
       "borrow_sum                      5472\n",
       "apply_sum1_bbnow                5370\n",
       "pid_click_action_nunique_all    5220\n",
       "apply_mean1_bbnow               4921\n",
       "loan_sum                        4858\n",
       "borrow_median                   4582\n",
       "apply_max_min1_bbnow            4194\n",
       "apply_std1_bbnow                4046\n",
       "uid_count1_bbnow                3922\n",
       "pid_mean_count1                 3723\n",
       "borrow_mean                     3668\n",
       "borrow_std                      3556\n",
       "d2                              3500\n",
       "loan_mean                       3483\n",
       "pid_nunique1_bbnow              3438\n",
       "loan_median                     3274\n",
       "收益风险比                           3248\n",
       "uid_count1                      2954\n",
       "apply_sum1                      2942\n",
       "apply_median1_bbnow             2938\n",
       "apply_std1                      2897\n",
       "borrow_count                    2778\n",
       "apply_median1                   2773\n",
       "apply_mean1                     2757\n",
       "loan_std                        2693\n",
       "apply_max_min1                  2500\n",
       "age_level_10                    2176\n",
       "pflow_count1_all                2126\n",
       "f8_mean                         1895\n",
       "f12_mean                        1630\n",
       "f2_mean                         1601\n",
       "f7_mean                         1593\n",
       "f17_mean                        1569\n",
       "f18_mean                        1552\n",
       "dtype: int32"
      ]
     },
     "execution_count": 81,
     "metadata": {},
     "output_type": "execute_result"
    }
   ],
   "source": [
    "lgb_feat_imp[:40]"
   ]
  },
  {
   "cell_type": "code",
   "execution_count": 82,
   "metadata": {},
   "outputs": [
    {
     "data": {
      "text/plain": [
       "pflow_count1_bbnow    1486\n",
       "pid_nunique1          1435\n",
       "d1                    1407\n",
       "f3_mean               1386\n",
       "f13_mean              1377\n",
       "f19_mean              1093\n",
       "flow1_bbnow           1058\n",
       "loan_count            1030\n",
       "期限                     990\n",
       "flow1                  830\n",
       "f11_mean               734\n",
       "f4_mean                692\n",
       "f14_mean               626\n",
       "周期类型                   623\n",
       "risk_level_mean        615\n",
       "f20_mean               545\n",
       "f9_mean                491\n",
       "age_level_4            414\n",
       "f21_mean               410\n",
       "f16_mean               390\n",
       "f15_mean               373\n",
       "f6_mean                338\n",
       "f10_mean               268\n",
       "risk_count             257\n",
       "f5_mean                256\n",
       "风险等级                   224\n",
       "a2                     100\n",
       "投资模式                    84\n",
       "模式                      72\n",
       "管理方式                    43\n",
       "业务模式                     5\n",
       "prod_class               5\n",
       "计价类型                     4\n",
       "收益特点                     0\n",
       "dtype: int32"
      ]
     },
     "execution_count": 82,
     "metadata": {},
     "output_type": "execute_result"
    }
   ],
   "source": [
    "lgb_feat_imp[40:80]"
   ]
  },
  {
   "cell_type": "code",
   "execution_count": 84,
   "metadata": {},
   "outputs": [
    {
     "name": "stdout",
     "output_type": "stream",
     "text": [
      "[LightGBM] [Warning] lambda_l1 is set=0.1, reg_alpha=0.0 will be ignored. Current value: lambda_l1=0.1\n",
      "[LightGBM] [Warning] lambda_l2 is set=0.1, reg_lambda=0.0 will be ignored. Current value: lambda_l2=0.1\n",
      "[LightGBM] [Warning] feature_fraction is set=0.7, colsample_bytree=1.0 will be ignored. Current value: feature_fraction=0.7\n",
      "[LightGBM] [Warning] bagging_freq is set=1, subsample_freq=0 will be ignored. Current value: bagging_freq=1\n",
      "[LightGBM] [Warning] bagging_fraction is set=0.95, subsample=1.0 will be ignored. Current value: bagging_fraction=0.95\n"
     ]
    },
    {
     "ename": "KeyboardInterrupt",
     "evalue": "",
     "output_type": "error",
     "traceback": [
      "\u001b[0;31m---------------------------------------------------------------------------\u001b[0m",
      "\u001b[0;31mKeyboardInterrupt\u001b[0m                         Traceback (most recent call last)",
      "\u001b[0;32m/tmp/ipykernel_301/1873606708.py\u001b[0m in \u001b[0;36m<module>\u001b[0;34m\u001b[0m\n\u001b[1;32m     28\u001b[0m                      n_jobs=200)\n\u001b[1;32m     29\u001b[0m \u001b[0;34m\u001b[0m\u001b[0m\n\u001b[0;32m---> 30\u001b[0;31m \u001b[0mclf1\u001b[0m\u001b[0;34m.\u001b[0m\u001b[0mfit\u001b[0m\u001b[0;34m(\u001b[0m\u001b[0mX\u001b[0m\u001b[0;34m,\u001b[0m \u001b[0my\u001b[0m\u001b[0;34m)\u001b[0m\u001b[0;34m\u001b[0m\u001b[0;34m\u001b[0m\u001b[0m\n\u001b[0m",
      "\u001b[0;32m~/anaconda3/envs/py38torch18/lib/python3.8/site-packages/lightgbm/sklearn.py\u001b[0m in \u001b[0;36mfit\u001b[0;34m(self, X, y, sample_weight, init_score, eval_set, eval_names, eval_sample_weight, eval_class_weight, eval_init_score, eval_metric, early_stopping_rounds, verbose, feature_name, categorical_feature, callbacks, init_model)\u001b[0m\n\u001b[1;32m    965\u001b[0m                     \u001b[0mvalid_sets\u001b[0m\u001b[0;34m[\u001b[0m\u001b[0mi\u001b[0m\u001b[0;34m]\u001b[0m \u001b[0;34m=\u001b[0m \u001b[0;34m(\u001b[0m\u001b[0mvalid_x\u001b[0m\u001b[0;34m,\u001b[0m \u001b[0mself\u001b[0m\u001b[0;34m.\u001b[0m\u001b[0m_le\u001b[0m\u001b[0;34m.\u001b[0m\u001b[0mtransform\u001b[0m\u001b[0;34m(\u001b[0m\u001b[0mvalid_y\u001b[0m\u001b[0;34m)\u001b[0m\u001b[0;34m)\u001b[0m\u001b[0;34m\u001b[0m\u001b[0;34m\u001b[0m\u001b[0m\n\u001b[1;32m    966\u001b[0m \u001b[0;34m\u001b[0m\u001b[0m\n\u001b[0;32m--> 967\u001b[0;31m         super().fit(X, _y, sample_weight=sample_weight, init_score=init_score, eval_set=valid_sets,\n\u001b[0m\u001b[1;32m    968\u001b[0m                     \u001b[0meval_names\u001b[0m\u001b[0;34m=\u001b[0m\u001b[0meval_names\u001b[0m\u001b[0;34m,\u001b[0m \u001b[0meval_sample_weight\u001b[0m\u001b[0;34m=\u001b[0m\u001b[0meval_sample_weight\u001b[0m\u001b[0;34m,\u001b[0m\u001b[0;34m\u001b[0m\u001b[0;34m\u001b[0m\u001b[0m\n\u001b[1;32m    969\u001b[0m                     \u001b[0meval_class_weight\u001b[0m\u001b[0;34m=\u001b[0m\u001b[0meval_class_weight\u001b[0m\u001b[0;34m,\u001b[0m \u001b[0meval_init_score\u001b[0m\u001b[0;34m=\u001b[0m\u001b[0meval_init_score\u001b[0m\u001b[0;34m,\u001b[0m\u001b[0;34m\u001b[0m\u001b[0;34m\u001b[0m\u001b[0m\n",
      "\u001b[0;32m~/anaconda3/envs/py38torch18/lib/python3.8/site-packages/lightgbm/sklearn.py\u001b[0m in \u001b[0;36mfit\u001b[0;34m(self, X, y, sample_weight, init_score, group, eval_set, eval_names, eval_sample_weight, eval_class_weight, eval_init_score, eval_group, eval_metric, early_stopping_rounds, verbose, feature_name, categorical_feature, callbacks, init_model)\u001b[0m\n\u001b[1;32m    746\u001b[0m         \u001b[0mcallbacks\u001b[0m\u001b[0;34m.\u001b[0m\u001b[0mappend\u001b[0m\u001b[0;34m(\u001b[0m\u001b[0mrecord_evaluation\u001b[0m\u001b[0;34m(\u001b[0m\u001b[0mevals_result\u001b[0m\u001b[0;34m)\u001b[0m\u001b[0;34m)\u001b[0m\u001b[0;34m\u001b[0m\u001b[0;34m\u001b[0m\u001b[0m\n\u001b[1;32m    747\u001b[0m \u001b[0;34m\u001b[0m\u001b[0m\n\u001b[0;32m--> 748\u001b[0;31m         self._Booster = train(\n\u001b[0m\u001b[1;32m    749\u001b[0m             \u001b[0mparams\u001b[0m\u001b[0;34m=\u001b[0m\u001b[0mparams\u001b[0m\u001b[0;34m,\u001b[0m\u001b[0;34m\u001b[0m\u001b[0;34m\u001b[0m\u001b[0m\n\u001b[1;32m    750\u001b[0m             \u001b[0mtrain_set\u001b[0m\u001b[0;34m=\u001b[0m\u001b[0mtrain_set\u001b[0m\u001b[0;34m,\u001b[0m\u001b[0;34m\u001b[0m\u001b[0;34m\u001b[0m\u001b[0m\n",
      "\u001b[0;32m~/anaconda3/envs/py38torch18/lib/python3.8/site-packages/lightgbm/engine.py\u001b[0m in \u001b[0;36mtrain\u001b[0;34m(params, train_set, num_boost_round, valid_sets, valid_names, fobj, feval, init_model, feature_name, categorical_feature, early_stopping_rounds, evals_result, verbose_eval, learning_rates, keep_training_booster, callbacks)\u001b[0m\n\u001b[1;32m    290\u001b[0m                                     evaluation_result_list=None))\n\u001b[1;32m    291\u001b[0m \u001b[0;34m\u001b[0m\u001b[0m\n\u001b[0;32m--> 292\u001b[0;31m         \u001b[0mbooster\u001b[0m\u001b[0;34m.\u001b[0m\u001b[0mupdate\u001b[0m\u001b[0;34m(\u001b[0m\u001b[0mfobj\u001b[0m\u001b[0;34m=\u001b[0m\u001b[0mfobj\u001b[0m\u001b[0;34m)\u001b[0m\u001b[0;34m\u001b[0m\u001b[0;34m\u001b[0m\u001b[0m\n\u001b[0m\u001b[1;32m    293\u001b[0m \u001b[0;34m\u001b[0m\u001b[0m\n\u001b[1;32m    294\u001b[0m         \u001b[0mevaluation_result_list\u001b[0m \u001b[0;34m=\u001b[0m \u001b[0;34m[\u001b[0m\u001b[0;34m]\u001b[0m\u001b[0;34m\u001b[0m\u001b[0;34m\u001b[0m\u001b[0m\n",
      "\u001b[0;32m~/anaconda3/envs/py38torch18/lib/python3.8/site-packages/lightgbm/basic.py\u001b[0m in \u001b[0;36mupdate\u001b[0;34m(self, train_set, fobj)\u001b[0m\n\u001b[1;32m   3019\u001b[0m             \u001b[0;32mif\u001b[0m \u001b[0mself\u001b[0m\u001b[0;34m.\u001b[0m\u001b[0m__set_objective_to_none\u001b[0m\u001b[0;34m:\u001b[0m\u001b[0;34m\u001b[0m\u001b[0;34m\u001b[0m\u001b[0m\n\u001b[1;32m   3020\u001b[0m                 \u001b[0;32mraise\u001b[0m \u001b[0mLightGBMError\u001b[0m\u001b[0;34m(\u001b[0m\u001b[0;34m'Cannot update due to null objective function.'\u001b[0m\u001b[0;34m)\u001b[0m\u001b[0;34m\u001b[0m\u001b[0;34m\u001b[0m\u001b[0m\n\u001b[0;32m-> 3021\u001b[0;31m             _safe_call(_LIB.LGBM_BoosterUpdateOneIter(\n\u001b[0m\u001b[1;32m   3022\u001b[0m                 \u001b[0mself\u001b[0m\u001b[0;34m.\u001b[0m\u001b[0mhandle\u001b[0m\u001b[0;34m,\u001b[0m\u001b[0;34m\u001b[0m\u001b[0;34m\u001b[0m\u001b[0m\n\u001b[1;32m   3023\u001b[0m                 ctypes.byref(is_finished)))\n",
      "\u001b[0;31mKeyboardInterrupt\u001b[0m: "
     ]
    }
   ],
   "source": [
    "X = pd.concat([X_train, X_valid]).reset_index(drop=True) # \n",
    "y = pd.concat([y_train, y_valid]).reset_index(drop=True) #\n",
    "\n",
    "clf1 = LGBMClassifier(num_leaves=256,\n",
    "                     n_estimators=int(clf.best_iteration_*1.2),\n",
    "                     learning_rate=0.005,\n",
    "                     verbose = -1,\n",
    "                     max_bin = 100,\n",
    "                     max_depth = 10,\n",
    "                     feature_fraction_seed = 66,\n",
    "                     feature_fraction = 0.7,\n",
    "                     bagging_seed = 66,\n",
    "                     bagging_freq = 1,\n",
    "                     bagging_fraction = 0.95,\n",
    "                     metric='auc',\n",
    "                     lambda_l1=0.1,\n",
    "                     lambda_l2=0.1, \n",
    "                     min_child_weight=30,\n",
    "                     n_jobs=200)\n",
    "\n",
    "clf1.fit(X, y)"
   ]
  },
  {
   "cell_type": "code",
   "execution_count": 62,
   "metadata": {},
   "outputs": [],
   "source": [
    "gc.collect\n",
    "y_pre = clf1.predict_proba(X_test)[:, 1]  \n",
    "\n",
    "res = test[['id']]\n",
    "res['y'] = y_pre\n",
    "res.loc[res['y'] >= best_th, 'y'] = 1\n",
    "res.loc[res['y'] < best_th, 'y'] = 0\n",
    "res.to_csv('submission_0118_v0.csv',index = False) "
   ]
  }
 ],
 "metadata": {
  "interpreter": {
   "hash": "cf0bc7a8e7e3c9c87f27aaa7538ad3d128e302f3f9578869dcb33cd1f7fa9d3f"
  },
  "kernelspec": {
   "display_name": "py38torch18",
   "language": "python",
   "name": "py38torch18"
  },
  "language_info": {
   "codemirror_mode": {
    "name": "ipython",
    "version": 3
   },
   "file_extension": ".py",
   "mimetype": "text/x-python",
   "name": "python",
   "nbconvert_exporter": "python",
   "pygments_lexer": "ipython3",
   "version": "3.8.12"
  }
 },
 "nbformat": 4,
 "nbformat_minor": 4
}
