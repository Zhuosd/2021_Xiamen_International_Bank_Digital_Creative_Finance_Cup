{
 "cells": [
  {
   "cell_type": "code",
   "execution_count": 71,
   "id": "0ad8a688-ee24-46e8-b5ea-44c05fb4a599",
   "metadata": {},
   "outputs": [],
   "source": [
    "%matplotlib inline\n",
    "import numpy as np\n",
    "import pandas as pd\n",
    "import matplotlib.pyplot as plt\n",
    "import seaborn as sns\n",
    "import scipy.stats as st\n",
    "import os\n",
    "import re\n",
    "import warnings\n",
    "\n",
    "warnings.filterwarnings('ignore')\n",
    "\n",
    "plt.rcParams['font.sans-serif']=['SimHei'] #用来正常显示中文标签\n",
    "plt.rcParams['axes.unicode_minus']=False #用来正常显示负号"
   ]
  },
  {
   "cell_type": "code",
   "execution_count": 72,
   "id": "a2f3220a-2679-462e-a91b-18bb3a2ada22",
   "metadata": {},
   "outputs": [],
   "source": [
    "pd.set_option('display.max_columns', None)\n",
    "pd.set_option('display.max_rows', None)\n",
    "pd.set_option('display.max_colwidth', 100)"
   ]
  },
  {
   "cell_type": "code",
   "execution_count": 73,
   "id": "74a0103e-44d7-4844-b1d2-dc01b2c18f28",
   "metadata": {},
   "outputs": [],
   "source": [
    "path1 = 'A榜数据/主表数据/'\n",
    "path2 = 'A榜数据/其他数据表/'"
   ]
  },
  {
   "cell_type": "code",
   "execution_count": 74,
   "id": "495a3c96-122f-44c0-aaeb-946856f939cd",
   "metadata": {},
   "outputs": [],
   "source": [
    "def reduce_mem_usage(df):\n",
    "    \"\"\" iterate through all the columns of a dataframe and modify the data type\n",
    "        to reduce memory usage.        \n",
    "    \"\"\"\n",
    "    start_mem = df.memory_usage().sum() / 1024**2\n",
    "    print('Memory usage of dataframe is {:.2f} MB'.format(start_mem))\n",
    "    numerics = ['int16', 'int32', 'int64', 'float16', 'float32', 'float64']\n",
    "    for col in df.columns:\n",
    "        col_type = df[col].dtype\n",
    "        \n",
    "        if col_type in numerics:\n",
    "            c_min = df[col].min()\n",
    "            c_max = df[col].max()\n",
    "            if str(col_type)[:3] == 'int':\n",
    "                if c_min > np.iinfo(np.int8).min and c_max < np.iinfo(np.int8).max:\n",
    "                    df[col] = df[col].astype(np.int8)\n",
    "                elif c_min > np.iinfo(np.int16).min and c_max < np.iinfo(np.int16).max:\n",
    "                    df[col] = df[col].astype(np.int16)\n",
    "                elif c_min > np.iinfo(np.int32).min and c_max < np.iinfo(np.int32).max:\n",
    "                    df[col] = df[col].astype(np.int32)\n",
    "                elif c_min > np.iinfo(np.int64).min and c_max < np.iinfo(np.int64).max:\n",
    "                    df[col] = df[col].astype(np.int64)  \n",
    "            else:\n",
    "                if c_min > np.finfo(np.float16).min and c_max < np.finfo(np.float16).max:\n",
    "                    df[col] = df[col].astype(np.float16)\n",
    "                elif c_min > np.finfo(np.float32).min and c_max < np.finfo(np.float32).max:\n",
    "                    df[col] = df[col].astype(np.float32)\n",
    "                else:\n",
    "                    df[col] = df[col].astype(np.float64)\n",
    "\n",
    "    end_mem = df.memory_usage().sum() / 1024**2\n",
    "    print('Memory usage after optimization is: {:.2f} MB'.format(end_mem)) \n",
    "    print('Decreased by {:.1f}%'.format(100 * (start_mem - end_mem) / start_mem))\n",
    "    return df"
   ]
  },
  {
   "cell_type": "markdown",
   "id": "5b0883dc-4822-40e8-be2a-4672d738bb34",
   "metadata": {},
   "source": [
    "### A产品表1"
   ]
  },
  {
   "cell_type": "code",
   "execution_count": 75,
   "id": "9a98cff6-ac73-4d8b-bbaa-5e8483c497f8",
   "metadata": {},
   "outputs": [
    {
     "data": {
      "text/html": [
       "<div>\n",
       "<style scoped>\n",
       "    .dataframe tbody tr th:only-of-type {\n",
       "        vertical-align: middle;\n",
       "    }\n",
       "\n",
       "    .dataframe tbody tr th {\n",
       "        vertical-align: top;\n",
       "    }\n",
       "\n",
       "    .dataframe thead th {\n",
       "        text-align: right;\n",
       "    }\n",
       "</style>\n",
       "<table border=\"1\" class=\"dataframe\">\n",
       "  <thead>\n",
       "    <tr style=\"text-align: right;\">\n",
       "      <th></th>\n",
       "      <th>prod_code</th>\n",
       "      <th>g1</th>\n",
       "      <th>g2</th>\n",
       "      <th>g3</th>\n",
       "      <th>g4</th>\n",
       "      <th>g5</th>\n",
       "      <th>g6</th>\n",
       "      <th>g7</th>\n",
       "      <th>g8</th>\n",
       "      <th>g9</th>\n",
       "    </tr>\n",
       "  </thead>\n",
       "  <tbody>\n",
       "    <tr>\n",
       "      <th>0</th>\n",
       "      <td>ZXGRHLA2021059</td>\n",
       "      <td>0</td>\n",
       "      <td>1</td>\n",
       "      <td>1</td>\n",
       "      <td>1</td>\n",
       "      <td>0</td>\n",
       "      <td>0</td>\n",
       "      <td>0</td>\n",
       "      <td>364</td>\n",
       "      <td>209912</td>\n",
       "    </tr>\n",
       "    <tr>\n",
       "      <th>1</th>\n",
       "      <td>GRSHB201902005</td>\n",
       "      <td>0</td>\n",
       "      <td>1</td>\n",
       "      <td>1</td>\n",
       "      <td>1</td>\n",
       "      <td>1</td>\n",
       "      <td>0</td>\n",
       "      <td>0</td>\n",
       "      <td>1</td>\n",
       "      <td>209912</td>\n",
       "    </tr>\n",
       "  </tbody>\n",
       "</table>\n",
       "</div>"
      ],
      "text/plain": [
       "        prod_code  g1  g2  g3  g4  g5  g6  g7   g8      g9\n",
       "0  ZXGRHLA2021059   0   1   1   1   0   0   0  364  209912\n",
       "1  GRSHB201902005   0   1   1   1   1   0   0    1  209912"
      ]
     },
     "execution_count": 75,
     "metadata": {},
     "output_type": "execute_result"
    }
   ],
   "source": [
    "g_data = pd.read_csv(path2 + 'g.csv')\n",
    "g_data.head(2)"
   ]
  },
  {
   "cell_type": "code",
   "execution_count": 76,
   "id": "07c3c791-dc92-4462-8464-a6355029b367",
   "metadata": {},
   "outputs": [],
   "source": [
    "g_columns = ['prod_code', '计价类型', '周期类型', '模式', '风险等级', '是否滚存', '是否允许变更分红方式', '产品品种', '持有天数', '数据日期']"
   ]
  },
  {
   "cell_type": "code",
   "execution_count": 77,
   "id": "08535864-7d79-4032-9ed0-9c5048bc9481",
   "metadata": {},
   "outputs": [
    {
     "data": {
      "text/html": [
       "<div>\n",
       "<style scoped>\n",
       "    .dataframe tbody tr th:only-of-type {\n",
       "        vertical-align: middle;\n",
       "    }\n",
       "\n",
       "    .dataframe tbody tr th {\n",
       "        vertical-align: top;\n",
       "    }\n",
       "\n",
       "    .dataframe thead th {\n",
       "        text-align: right;\n",
       "    }\n",
       "</style>\n",
       "<table border=\"1\" class=\"dataframe\">\n",
       "  <thead>\n",
       "    <tr style=\"text-align: right;\">\n",
       "      <th></th>\n",
       "      <th>prod_code</th>\n",
       "      <th>计价类型</th>\n",
       "      <th>周期类型</th>\n",
       "      <th>模式</th>\n",
       "      <th>风险等级</th>\n",
       "      <th>是否滚存</th>\n",
       "      <th>是否允许变更分红方式</th>\n",
       "      <th>产品品种</th>\n",
       "      <th>持有天数</th>\n",
       "      <th>数据日期</th>\n",
       "    </tr>\n",
       "  </thead>\n",
       "  <tbody>\n",
       "    <tr>\n",
       "      <th>0</th>\n",
       "      <td>ZXGRHLA2021059</td>\n",
       "      <td>0</td>\n",
       "      <td>1</td>\n",
       "      <td>1</td>\n",
       "      <td>1</td>\n",
       "      <td>0</td>\n",
       "      <td>0</td>\n",
       "      <td>0</td>\n",
       "      <td>364</td>\n",
       "      <td>209912</td>\n",
       "    </tr>\n",
       "    <tr>\n",
       "      <th>1</th>\n",
       "      <td>GRSHB201902005</td>\n",
       "      <td>0</td>\n",
       "      <td>1</td>\n",
       "      <td>1</td>\n",
       "      <td>1</td>\n",
       "      <td>1</td>\n",
       "      <td>0</td>\n",
       "      <td>0</td>\n",
       "      <td>1</td>\n",
       "      <td>209912</td>\n",
       "    </tr>\n",
       "  </tbody>\n",
       "</table>\n",
       "</div>"
      ],
      "text/plain": [
       "        prod_code  计价类型  周期类型  模式  风险等级  是否滚存  是否允许变更分红方式  产品品种  持有天数    数据日期\n",
       "0  ZXGRHLA2021059     0     1   1     1     0           0     0   364  209912\n",
       "1  GRSHB201902005     0     1   1     1     1           0     0     1  209912"
      ]
     },
     "execution_count": 77,
     "metadata": {},
     "output_type": "execute_result"
    }
   ],
   "source": [
    "g_data.columns = g_columns\n",
    "g_data.head(2)"
   ]
  },
  {
   "cell_type": "code",
   "execution_count": 78,
   "id": "853cde2d-17c8-4043-aac0-6385c8e94983",
   "metadata": {},
   "outputs": [],
   "source": [
    "g_data['数据日期'] = g_data['数据日期'].astype('object')"
   ]
  },
  {
   "cell_type": "code",
   "execution_count": 79,
   "id": "6907b65b-ca1b-471a-8d2b-7ad19eba0f43",
   "metadata": {},
   "outputs": [
    {
     "name": "stdout",
     "output_type": "stream",
     "text": [
      "<class 'pandas.core.frame.DataFrame'>\n",
      "RangeIndex: 6557 entries, 0 to 6556\n",
      "Data columns (total 10 columns):\n",
      " #   Column      Non-Null Count  Dtype \n",
      "---  ------      --------------  ----- \n",
      " 0   prod_code   6557 non-null   object\n",
      " 1   计价类型        6557 non-null   int64 \n",
      " 2   周期类型        6557 non-null   int64 \n",
      " 3   模式          6557 non-null   int64 \n",
      " 4   风险等级        6557 non-null   int64 \n",
      " 5   是否滚存        6557 non-null   int64 \n",
      " 6   是否允许变更分红方式  6557 non-null   int64 \n",
      " 7   产品品种        6557 non-null   int64 \n",
      " 8   持有天数        6557 non-null   int64 \n",
      " 9   数据日期        6557 non-null   object\n",
      "dtypes: int64(8), object(2)\n",
      "memory usage: 512.4+ KB\n"
     ]
    }
   ],
   "source": [
    "g_data.info()"
   ]
  },
  {
   "cell_type": "code",
   "execution_count": 80,
   "id": "74e9f4ac-9752-4420-b2f7-2180298b19fa",
   "metadata": {},
   "outputs": [],
   "source": [
    "g_data.drop(['是否滚存', '产品品种'], axis=1, inplace=True)"
   ]
  },
  {
   "cell_type": "markdown",
   "id": "26b85f88-ca20-4084-953b-becbf3c6d506",
   "metadata": {},
   "source": [
    "### A产品表2"
   ]
  },
  {
   "cell_type": "code",
   "execution_count": 81,
   "id": "6b17a124-0479-4682-b06f-f6df87c775e4",
   "metadata": {},
   "outputs": [
    {
     "data": {
      "text/html": [
       "<div>\n",
       "<style scoped>\n",
       "    .dataframe tbody tr th:only-of-type {\n",
       "        vertical-align: middle;\n",
       "    }\n",
       "\n",
       "    .dataframe tbody tr th {\n",
       "        vertical-align: top;\n",
       "    }\n",
       "\n",
       "    .dataframe thead th {\n",
       "        text-align: right;\n",
       "    }\n",
       "</style>\n",
       "<table border=\"1\" class=\"dataframe\">\n",
       "  <thead>\n",
       "    <tr style=\"text-align: right;\">\n",
       "      <th></th>\n",
       "      <th>prod_code</th>\n",
       "      <th>k1</th>\n",
       "      <th>k2</th>\n",
       "      <th>k3</th>\n",
       "      <th>k4</th>\n",
       "      <th>k5</th>\n",
       "      <th>k6</th>\n",
       "      <th>k7</th>\n",
       "      <th>k8</th>\n",
       "      <th>k9</th>\n",
       "      <th>k10</th>\n",
       "      <th>k11</th>\n",
       "    </tr>\n",
       "  </thead>\n",
       "  <tbody>\n",
       "    <tr>\n",
       "      <th>0</th>\n",
       "      <td>GRSHA2020423</td>\n",
       "      <td>NaN</td>\n",
       "      <td>NaN</td>\n",
       "      <td>NaN</td>\n",
       "      <td>2</td>\n",
       "      <td>3.0</td>\n",
       "      <td>1</td>\n",
       "      <td>0.032600</td>\n",
       "      <td>0.0326</td>\n",
       "      <td>0.0011</td>\n",
       "      <td>5.0</td>\n",
       "      <td>209912</td>\n",
       "    </tr>\n",
       "    <tr>\n",
       "      <th>1</th>\n",
       "      <td>GRHLA2021142</td>\n",
       "      <td>NaN</td>\n",
       "      <td>NaN</td>\n",
       "      <td>NaN</td>\n",
       "      <td>2</td>\n",
       "      <td>NaN</td>\n",
       "      <td>1</td>\n",
       "      <td>0.041525</td>\n",
       "      <td>0.0431</td>\n",
       "      <td>0.0158</td>\n",
       "      <td>NaN</td>\n",
       "      <td>209912</td>\n",
       "    </tr>\n",
       "  </tbody>\n",
       "</table>\n",
       "</div>"
      ],
      "text/plain": [
       "      prod_code  k1  k2  k3  k4   k5  k6        k7      k8      k9  k10  \\\n",
       "0  GRSHA2020423 NaN NaN NaN   2  3.0   1  0.032600  0.0326  0.0011  5.0   \n",
       "1  GRHLA2021142 NaN NaN NaN   2  NaN   1  0.041525  0.0431  0.0158  NaN   \n",
       "\n",
       "      k11  \n",
       "0  209912  \n",
       "1  209912  "
      ]
     },
     "execution_count": 81,
     "metadata": {},
     "output_type": "execute_result"
    }
   ],
   "source": [
    "k_data = pd.read_csv(path2 + 'k.csv')\n",
    "k_data.head(2)"
   ]
  },
  {
   "cell_type": "code",
   "execution_count": 82,
   "id": "27b515dd-f553-401e-9306-4322ff5746fc",
   "metadata": {},
   "outputs": [],
   "source": [
    "k_columns = ['prod_code', '募集方式', '管理方式', '业务模式', '收益特点', '期限', '投资模式', \n",
    "             '预期收益率', '最高收益率', '最低收益率', '展示等级', '数据日期']"
   ]
  },
  {
   "cell_type": "code",
   "execution_count": 83,
   "id": "17e99d76-8ba8-4ea3-acab-26f13c84f145",
   "metadata": {},
   "outputs": [
    {
     "data": {
      "text/html": [
       "<div>\n",
       "<style scoped>\n",
       "    .dataframe tbody tr th:only-of-type {\n",
       "        vertical-align: middle;\n",
       "    }\n",
       "\n",
       "    .dataframe tbody tr th {\n",
       "        vertical-align: top;\n",
       "    }\n",
       "\n",
       "    .dataframe thead th {\n",
       "        text-align: right;\n",
       "    }\n",
       "</style>\n",
       "<table border=\"1\" class=\"dataframe\">\n",
       "  <thead>\n",
       "    <tr style=\"text-align: right;\">\n",
       "      <th></th>\n",
       "      <th>prod_code</th>\n",
       "      <th>募集方式</th>\n",
       "      <th>管理方式</th>\n",
       "      <th>业务模式</th>\n",
       "      <th>收益特点</th>\n",
       "      <th>期限</th>\n",
       "      <th>投资模式</th>\n",
       "      <th>预期收益率</th>\n",
       "      <th>最高收益率</th>\n",
       "      <th>最低收益率</th>\n",
       "      <th>展示等级</th>\n",
       "      <th>数据日期</th>\n",
       "    </tr>\n",
       "  </thead>\n",
       "  <tbody>\n",
       "    <tr>\n",
       "      <th>0</th>\n",
       "      <td>GRSHA2020423</td>\n",
       "      <td>NaN</td>\n",
       "      <td>NaN</td>\n",
       "      <td>NaN</td>\n",
       "      <td>2</td>\n",
       "      <td>3.0</td>\n",
       "      <td>1</td>\n",
       "      <td>0.032600</td>\n",
       "      <td>0.0326</td>\n",
       "      <td>0.0011</td>\n",
       "      <td>5.0</td>\n",
       "      <td>209912</td>\n",
       "    </tr>\n",
       "    <tr>\n",
       "      <th>1</th>\n",
       "      <td>GRHLA2021142</td>\n",
       "      <td>NaN</td>\n",
       "      <td>NaN</td>\n",
       "      <td>NaN</td>\n",
       "      <td>2</td>\n",
       "      <td>NaN</td>\n",
       "      <td>1</td>\n",
       "      <td>0.041525</td>\n",
       "      <td>0.0431</td>\n",
       "      <td>0.0158</td>\n",
       "      <td>NaN</td>\n",
       "      <td>209912</td>\n",
       "    </tr>\n",
       "  </tbody>\n",
       "</table>\n",
       "</div>"
      ],
      "text/plain": [
       "      prod_code  募集方式  管理方式  业务模式  收益特点   期限  投资模式     预期收益率   最高收益率   最低收益率  \\\n",
       "0  GRSHA2020423   NaN   NaN   NaN     2  3.0     1  0.032600  0.0326  0.0011   \n",
       "1  GRHLA2021142   NaN   NaN   NaN     2  NaN     1  0.041525  0.0431  0.0158   \n",
       "\n",
       "   展示等级    数据日期  \n",
       "0   5.0  209912  \n",
       "1   NaN  209912  "
      ]
     },
     "execution_count": 83,
     "metadata": {},
     "output_type": "execute_result"
    }
   ],
   "source": [
    "k_data.columns = k_columns\n",
    "k_data.head(2)"
   ]
  },
  {
   "cell_type": "code",
   "execution_count": 84,
   "id": "11294d8e-2b58-4e56-8d9e-dac8a860edf2",
   "metadata": {},
   "outputs": [],
   "source": [
    "k_data['数据日期'] = k_data['数据日期'].astype('object')"
   ]
  },
  {
   "cell_type": "code",
   "execution_count": 85,
   "id": "e099cec3-3928-4f55-81c5-d83dd18e24fb",
   "metadata": {},
   "outputs": [
    {
     "name": "stdout",
     "output_type": "stream",
     "text": [
      "<class 'pandas.core.frame.DataFrame'>\n",
      "RangeIndex: 22874 entries, 0 to 22873\n",
      "Data columns (total 12 columns):\n",
      " #   Column     Non-Null Count  Dtype  \n",
      "---  ------     --------------  -----  \n",
      " 0   prod_code  22874 non-null  object \n",
      " 1   募集方式       314 non-null    float64\n",
      " 2   管理方式       314 non-null    float64\n",
      " 3   业务模式       314 non-null    float64\n",
      " 4   收益特点       22874 non-null  int64  \n",
      " 5   期限         2585 non-null   float64\n",
      " 6   投资模式       22874 non-null  int64  \n",
      " 7   预期收益率      22874 non-null  float64\n",
      " 8   最高收益率      22874 non-null  float64\n",
      " 9   最低收益率      22874 non-null  float64\n",
      " 10  展示等级       19859 non-null  float64\n",
      " 11  数据日期       22874 non-null  object \n",
      "dtypes: float64(8), int64(2), object(2)\n",
      "memory usage: 2.1+ MB\n"
     ]
    }
   ],
   "source": [
    "k_data.info()"
   ]
  },
  {
   "cell_type": "code",
   "execution_count": 86,
   "id": "647472ca-fec9-4090-8886-36abda01027e",
   "metadata": {},
   "outputs": [],
   "source": [
    "k_data.drop(['最高收益率', '最低收益率'], axis=1, inplace=True)"
   ]
  },
  {
   "cell_type": "markdown",
   "id": "5929593f-4e6f-4700-8b75-9000c98a95ed",
   "metadata": {},
   "source": [
    "### A产品总表"
   ]
  },
  {
   "cell_type": "code",
   "execution_count": 87,
   "id": "38090508-8c27-4912-8a04-7c62ebccb4ad",
   "metadata": {},
   "outputs": [
    {
     "data": {
      "text/html": [
       "<div>\n",
       "<style scoped>\n",
       "    .dataframe tbody tr th:only-of-type {\n",
       "        vertical-align: middle;\n",
       "    }\n",
       "\n",
       "    .dataframe tbody tr th {\n",
       "        vertical-align: top;\n",
       "    }\n",
       "\n",
       "    .dataframe thead th {\n",
       "        text-align: right;\n",
       "    }\n",
       "</style>\n",
       "<table border=\"1\" class=\"dataframe\">\n",
       "  <thead>\n",
       "    <tr style=\"text-align: right;\">\n",
       "      <th></th>\n",
       "      <th>prod_code</th>\n",
       "      <th>计价类型</th>\n",
       "      <th>周期类型</th>\n",
       "      <th>模式</th>\n",
       "      <th>风险等级</th>\n",
       "      <th>是否允许变更分红方式</th>\n",
       "      <th>持有天数</th>\n",
       "      <th>数据日期</th>\n",
       "      <th>募集方式</th>\n",
       "      <th>管理方式</th>\n",
       "      <th>业务模式</th>\n",
       "      <th>收益特点</th>\n",
       "      <th>期限</th>\n",
       "      <th>投资模式</th>\n",
       "      <th>预期收益率</th>\n",
       "      <th>展示等级</th>\n",
       "      <th>prod_class</th>\n",
       "    </tr>\n",
       "  </thead>\n",
       "  <tbody>\n",
       "    <tr>\n",
       "      <th>0</th>\n",
       "      <td>ZXGRHLA2021059</td>\n",
       "      <td>0.0</td>\n",
       "      <td>1.0</td>\n",
       "      <td>1.0</td>\n",
       "      <td>1.0</td>\n",
       "      <td>0.0</td>\n",
       "      <td>364.0</td>\n",
       "      <td>209912.0</td>\n",
       "      <td>NaN</td>\n",
       "      <td>NaN</td>\n",
       "      <td>NaN</td>\n",
       "      <td>2.0</td>\n",
       "      <td>NaN</td>\n",
       "      <td>1.0</td>\n",
       "      <td>0.04268</td>\n",
       "      <td>NaN</td>\n",
       "      <td>1</td>\n",
       "    </tr>\n",
       "    <tr>\n",
       "      <th>1</th>\n",
       "      <td>GRSHB201902005</td>\n",
       "      <td>0.0</td>\n",
       "      <td>1.0</td>\n",
       "      <td>1.0</td>\n",
       "      <td>1.0</td>\n",
       "      <td>0.0</td>\n",
       "      <td>1.0</td>\n",
       "      <td>209912.0</td>\n",
       "      <td>NaN</td>\n",
       "      <td>NaN</td>\n",
       "      <td>NaN</td>\n",
       "      <td>2.0</td>\n",
       "      <td>NaN</td>\n",
       "      <td>1.0</td>\n",
       "      <td>0.02735</td>\n",
       "      <td>5.0</td>\n",
       "      <td>1</td>\n",
       "    </tr>\n",
       "  </tbody>\n",
       "</table>\n",
       "</div>"
      ],
      "text/plain": [
       "        prod_code  计价类型  周期类型   模式  风险等级  是否允许变更分红方式   持有天数      数据日期  募集方式  \\\n",
       "0  ZXGRHLA2021059   0.0   1.0  1.0   1.0         0.0  364.0  209912.0   NaN   \n",
       "1  GRSHB201902005   0.0   1.0  1.0   1.0         0.0    1.0  209912.0   NaN   \n",
       "\n",
       "   管理方式  业务模式  收益特点  期限  投资模式    预期收益率  展示等级  prod_class  \n",
       "0   NaN   NaN   2.0 NaN   1.0  0.04268   NaN           1  \n",
       "1   NaN   NaN   2.0 NaN   1.0  0.02735   5.0           1  "
      ]
     },
     "execution_count": 87,
     "metadata": {},
     "output_type": "execute_result"
    }
   ],
   "source": [
    "a_prod = pd.merge(g_data, k_data, on=['prod_code', '数据日期'], how='outer')\n",
    "a_prod['prod_class'] = 1\n",
    "a_prod.head(2)"
   ]
  },
  {
   "cell_type": "code",
   "execution_count": 88,
   "id": "3905168a-ee94-4d80-88a6-e34a072c436f",
   "metadata": {},
   "outputs": [],
   "source": [
    "a_prod['计价类型'].fillna(0, inplace=True)\n",
    "a_prod['周期类型'].fillna(1, inplace=True)\n",
    "a_prod['模式'].fillna(1, inplace=True)\n",
    "a_prod['风险等级'].fillna(1, inplace=True)\n",
    "a_prod['是否允许变更分红方式'].fillna(0, inplace=True)\n",
    "a_prod['投资模式'].fillna(1, inplace=True)\n",
    "a_prod['募集方式'].fillna(0, inplace=True)\n",
    "a_prod['管理方式'].fillna(2, inplace=True)\n",
    "a_prod['业务模式'].fillna(1, inplace=True)\n",
    "a_prod['展示等级'].fillna(5, inplace=True)"
   ]
  },
  {
   "cell_type": "code",
   "execution_count": 89,
   "id": "bc60ca9b-d046-46a7-8eff-eca61b8c3082",
   "metadata": {},
   "outputs": [
    {
     "name": "stdout",
     "output_type": "stream",
     "text": [
      "<class 'pandas.core.frame.DataFrame'>\n",
      "Int64Index: 22904 entries, 0 to 22903\n",
      "Data columns (total 17 columns):\n",
      " #   Column      Non-Null Count  Dtype  \n",
      "---  ------      --------------  -----  \n",
      " 0   prod_code   22904 non-null  object \n",
      " 1   计价类型        22904 non-null  float64\n",
      " 2   周期类型        22904 non-null  float64\n",
      " 3   模式          22904 non-null  float64\n",
      " 4   风险等级        22904 non-null  float64\n",
      " 5   是否允许变更分红方式  22904 non-null  float64\n",
      " 6   持有天数        6557 non-null   float64\n",
      " 7   数据日期        22904 non-null  float64\n",
      " 8   募集方式        22904 non-null  float64\n",
      " 9   管理方式        22904 non-null  float64\n",
      " 10  业务模式        22904 non-null  float64\n",
      " 11  收益特点        22874 non-null  float64\n",
      " 12  期限          2585 non-null   float64\n",
      " 13  投资模式        22904 non-null  float64\n",
      " 14  预期收益率       22874 non-null  float64\n",
      " 15  展示等级        22904 non-null  float64\n",
      " 16  prod_class  22904 non-null  int64  \n",
      "dtypes: float64(15), int64(1), object(1)\n",
      "memory usage: 3.1+ MB\n"
     ]
    }
   ],
   "source": [
    "a_prod.info()"
   ]
  },
  {
   "cell_type": "code",
   "execution_count": 90,
   "id": "c7ccc9df-f516-4690-a276-6bffecb880b1",
   "metadata": {},
   "outputs": [
    {
     "data": {
      "text/plain": [
       "prod_code     22899\n",
       "计价类型              1\n",
       "周期类型              1\n",
       "模式                1\n",
       "风险等级              2\n",
       "是否允许变更分红方式        1\n",
       "持有天数            319\n",
       "数据日期             30\n",
       "募集方式              1\n",
       "管理方式              1\n",
       "业务模式              1\n",
       "收益特点              1\n",
       "期限                6\n",
       "投资模式              1\n",
       "预期收益率           213\n",
       "展示等级              5\n",
       "prod_class        1\n",
       "dtype: int64"
      ]
     },
     "execution_count": 90,
     "metadata": {},
     "output_type": "execute_result"
    }
   ],
   "source": [
    "a_prod.nunique()"
   ]
  },
  {
   "cell_type": "code",
   "execution_count": 91,
   "id": "5988317b-573d-4b90-9ae8-b292be29578f",
   "metadata": {},
   "outputs": [
    {
     "data": {
      "text/html": [
       "<div>\n",
       "<style scoped>\n",
       "    .dataframe tbody tr th:only-of-type {\n",
       "        vertical-align: middle;\n",
       "    }\n",
       "\n",
       "    .dataframe tbody tr th {\n",
       "        vertical-align: top;\n",
       "    }\n",
       "\n",
       "    .dataframe thead th {\n",
       "        text-align: right;\n",
       "    }\n",
       "</style>\n",
       "<table border=\"1\" class=\"dataframe\">\n",
       "  <thead>\n",
       "    <tr style=\"text-align: right;\">\n",
       "      <th></th>\n",
       "      <th>计价类型</th>\n",
       "      <th>周期类型</th>\n",
       "      <th>模式</th>\n",
       "      <th>风险等级</th>\n",
       "      <th>是否允许变更分红方式</th>\n",
       "      <th>持有天数</th>\n",
       "      <th>数据日期</th>\n",
       "      <th>募集方式</th>\n",
       "      <th>管理方式</th>\n",
       "      <th>业务模式</th>\n",
       "      <th>收益特点</th>\n",
       "      <th>期限</th>\n",
       "      <th>投资模式</th>\n",
       "      <th>预期收益率</th>\n",
       "      <th>展示等级</th>\n",
       "      <th>prod_class</th>\n",
       "    </tr>\n",
       "  </thead>\n",
       "  <tbody>\n",
       "    <tr>\n",
       "      <th>count</th>\n",
       "      <td>22904.0</td>\n",
       "      <td>22904.0</td>\n",
       "      <td>22904.0</td>\n",
       "      <td>22904.000000</td>\n",
       "      <td>22904.0</td>\n",
       "      <td>6557.000000</td>\n",
       "      <td>22904.000000</td>\n",
       "      <td>22904.0</td>\n",
       "      <td>22904.0</td>\n",
       "      <td>22904.0</td>\n",
       "      <td>22874.0</td>\n",
       "      <td>2585.000000</td>\n",
       "      <td>22904.0</td>\n",
       "      <td>22874.000000</td>\n",
       "      <td>22904.000000</td>\n",
       "      <td>22904.0</td>\n",
       "    </tr>\n",
       "    <tr>\n",
       "      <th>mean</th>\n",
       "      <td>0.0</td>\n",
       "      <td>1.0</td>\n",
       "      <td>1.0</td>\n",
       "      <td>1.000699</td>\n",
       "      <td>0.0</td>\n",
       "      <td>140.606222</td>\n",
       "      <td>209792.793791</td>\n",
       "      <td>0.0</td>\n",
       "      <td>2.0</td>\n",
       "      <td>1.0</td>\n",
       "      <td>2.0</td>\n",
       "      <td>4.682012</td>\n",
       "      <td>1.0</td>\n",
       "      <td>0.038843</td>\n",
       "      <td>4.965596</td>\n",
       "      <td>1.0</td>\n",
       "    </tr>\n",
       "    <tr>\n",
       "      <th>std</th>\n",
       "      <td>0.0</td>\n",
       "      <td>0.0</td>\n",
       "      <td>0.0</td>\n",
       "      <td>0.037373</td>\n",
       "      <td>0.0</td>\n",
       "      <td>120.693229</td>\n",
       "      <td>969.745922</td>\n",
       "      <td>0.0</td>\n",
       "      <td>0.0</td>\n",
       "      <td>0.0</td>\n",
       "      <td>0.0</td>\n",
       "      <td>1.097530</td>\n",
       "      <td>0.0</td>\n",
       "      <td>0.005822</td>\n",
       "      <td>0.347953</td>\n",
       "      <td>0.0</td>\n",
       "    </tr>\n",
       "    <tr>\n",
       "      <th>min</th>\n",
       "      <td>0.0</td>\n",
       "      <td>1.0</td>\n",
       "      <td>1.0</td>\n",
       "      <td>1.000000</td>\n",
       "      <td>0.0</td>\n",
       "      <td>1.000000</td>\n",
       "      <td>201808.000000</td>\n",
       "      <td>0.0</td>\n",
       "      <td>2.0</td>\n",
       "      <td>1.0</td>\n",
       "      <td>2.0</td>\n",
       "      <td>2.000000</td>\n",
       "      <td>1.0</td>\n",
       "      <td>0.013700</td>\n",
       "      <td>1.000000</td>\n",
       "      <td>1.0</td>\n",
       "    </tr>\n",
       "    <tr>\n",
       "      <th>25%</th>\n",
       "      <td>0.0</td>\n",
       "      <td>1.0</td>\n",
       "      <td>1.0</td>\n",
       "      <td>1.000000</td>\n",
       "      <td>0.0</td>\n",
       "      <td>37.000000</td>\n",
       "      <td>209912.000000</td>\n",
       "      <td>0.0</td>\n",
       "      <td>2.0</td>\n",
       "      <td>1.0</td>\n",
       "      <td>2.0</td>\n",
       "      <td>4.000000</td>\n",
       "      <td>1.0</td>\n",
       "      <td>0.035225</td>\n",
       "      <td>5.000000</td>\n",
       "      <td>1.0</td>\n",
       "    </tr>\n",
       "    <tr>\n",
       "      <th>50%</th>\n",
       "      <td>0.0</td>\n",
       "      <td>1.0</td>\n",
       "      <td>1.0</td>\n",
       "      <td>1.000000</td>\n",
       "      <td>0.0</td>\n",
       "      <td>99.000000</td>\n",
       "      <td>209912.000000</td>\n",
       "      <td>0.0</td>\n",
       "      <td>2.0</td>\n",
       "      <td>1.0</td>\n",
       "      <td>2.0</td>\n",
       "      <td>5.000000</td>\n",
       "      <td>1.0</td>\n",
       "      <td>0.038900</td>\n",
       "      <td>5.000000</td>\n",
       "      <td>1.0</td>\n",
       "    </tr>\n",
       "    <tr>\n",
       "      <th>75%</th>\n",
       "      <td>0.0</td>\n",
       "      <td>1.0</td>\n",
       "      <td>1.0</td>\n",
       "      <td>1.000000</td>\n",
       "      <td>0.0</td>\n",
       "      <td>200.000000</td>\n",
       "      <td>209912.000000</td>\n",
       "      <td>0.0</td>\n",
       "      <td>2.0</td>\n",
       "      <td>1.0</td>\n",
       "      <td>2.0</td>\n",
       "      <td>6.000000</td>\n",
       "      <td>1.0</td>\n",
       "      <td>0.042575</td>\n",
       "      <td>5.000000</td>\n",
       "      <td>1.0</td>\n",
       "    </tr>\n",
       "    <tr>\n",
       "      <th>max</th>\n",
       "      <td>0.0</td>\n",
       "      <td>1.0</td>\n",
       "      <td>1.0</td>\n",
       "      <td>3.000000</td>\n",
       "      <td>0.0</td>\n",
       "      <td>371.000000</td>\n",
       "      <td>209912.000000</td>\n",
       "      <td>0.0</td>\n",
       "      <td>2.0</td>\n",
       "      <td>1.0</td>\n",
       "      <td>2.0</td>\n",
       "      <td>7.000000</td>\n",
       "      <td>1.0</td>\n",
       "      <td>0.077540</td>\n",
       "      <td>5.000000</td>\n",
       "      <td>1.0</td>\n",
       "    </tr>\n",
       "  </tbody>\n",
       "</table>\n",
       "</div>"
      ],
      "text/plain": [
       "          计价类型     周期类型       模式          风险等级  是否允许变更分红方式         持有天数  \\\n",
       "count  22904.0  22904.0  22904.0  22904.000000     22904.0  6557.000000   \n",
       "mean       0.0      1.0      1.0      1.000699         0.0   140.606222   \n",
       "std        0.0      0.0      0.0      0.037373         0.0   120.693229   \n",
       "min        0.0      1.0      1.0      1.000000         0.0     1.000000   \n",
       "25%        0.0      1.0      1.0      1.000000         0.0    37.000000   \n",
       "50%        0.0      1.0      1.0      1.000000         0.0    99.000000   \n",
       "75%        0.0      1.0      1.0      1.000000         0.0   200.000000   \n",
       "max        0.0      1.0      1.0      3.000000         0.0   371.000000   \n",
       "\n",
       "                数据日期     募集方式     管理方式     业务模式     收益特点           期限  \\\n",
       "count   22904.000000  22904.0  22904.0  22904.0  22874.0  2585.000000   \n",
       "mean   209792.793791      0.0      2.0      1.0      2.0     4.682012   \n",
       "std       969.745922      0.0      0.0      0.0      0.0     1.097530   \n",
       "min    201808.000000      0.0      2.0      1.0      2.0     2.000000   \n",
       "25%    209912.000000      0.0      2.0      1.0      2.0     4.000000   \n",
       "50%    209912.000000      0.0      2.0      1.0      2.0     5.000000   \n",
       "75%    209912.000000      0.0      2.0      1.0      2.0     6.000000   \n",
       "max    209912.000000      0.0      2.0      1.0      2.0     7.000000   \n",
       "\n",
       "          投资模式         预期收益率          展示等级  prod_class  \n",
       "count  22904.0  22874.000000  22904.000000     22904.0  \n",
       "mean       1.0      0.038843      4.965596         1.0  \n",
       "std        0.0      0.005822      0.347953         0.0  \n",
       "min        1.0      0.013700      1.000000         1.0  \n",
       "25%        1.0      0.035225      5.000000         1.0  \n",
       "50%        1.0      0.038900      5.000000         1.0  \n",
       "75%        1.0      0.042575      5.000000         1.0  \n",
       "max        1.0      0.077540      5.000000         1.0  "
      ]
     },
     "execution_count": 91,
     "metadata": {},
     "output_type": "execute_result"
    }
   ],
   "source": [
    "a_prod.describe()"
   ]
  },
  {
   "cell_type": "markdown",
   "id": "b1d35174-fc62-446b-9b9f-62d077601377",
   "metadata": {},
   "source": [
    "### B产品表1"
   ]
  },
  {
   "cell_type": "code",
   "execution_count": 92,
   "id": "3bb60282-b2a5-4c40-a847-1bd5ffa38299",
   "metadata": {},
   "outputs": [
    {
     "data": {
      "text/html": [
       "<div>\n",
       "<style scoped>\n",
       "    .dataframe tbody tr th:only-of-type {\n",
       "        vertical-align: middle;\n",
       "    }\n",
       "\n",
       "    .dataframe tbody tr th {\n",
       "        vertical-align: top;\n",
       "    }\n",
       "\n",
       "    .dataframe thead th {\n",
       "        text-align: right;\n",
       "    }\n",
       "</style>\n",
       "<table border=\"1\" class=\"dataframe\">\n",
       "  <thead>\n",
       "    <tr style=\"text-align: right;\">\n",
       "      <th></th>\n",
       "      <th>prod_code</th>\n",
       "      <th>h1</th>\n",
       "      <th>h2</th>\n",
       "      <th>h3</th>\n",
       "      <th>h4</th>\n",
       "      <th>h5</th>\n",
       "      <th>h6</th>\n",
       "      <th>h7</th>\n",
       "      <th>h8</th>\n",
       "    </tr>\n",
       "  </thead>\n",
       "  <tbody>\n",
       "    <tr>\n",
       "      <th>0</th>\n",
       "      <td>ZYGR2016286</td>\n",
       "      <td>0</td>\n",
       "      <td>1</td>\n",
       "      <td>1</td>\n",
       "      <td>2</td>\n",
       "      <td>0</td>\n",
       "      <td>0</td>\n",
       "      <td>NaN</td>\n",
       "      <td>209912</td>\n",
       "    </tr>\n",
       "    <tr>\n",
       "      <th>1</th>\n",
       "      <td>ZYGR2015103</td>\n",
       "      <td>0</td>\n",
       "      <td>1</td>\n",
       "      <td>1</td>\n",
       "      <td>2</td>\n",
       "      <td>1</td>\n",
       "      <td>0</td>\n",
       "      <td>NaN</td>\n",
       "      <td>209912</td>\n",
       "    </tr>\n",
       "  </tbody>\n",
       "</table>\n",
       "</div>"
      ],
      "text/plain": [
       "     prod_code  h1  h2  h3  h4  h5  h6  h7      h8\n",
       "0  ZYGR2016286   0   1   1   2   0   0 NaN  209912\n",
       "1  ZYGR2015103   0   1   1   2   1   0 NaN  209912"
      ]
     },
     "execution_count": 92,
     "metadata": {},
     "output_type": "execute_result"
    }
   ],
   "source": [
    "h_data = pd.read_csv(path2 + 'h.csv')\n",
    "h_data.head(2)"
   ]
  },
  {
   "cell_type": "code",
   "execution_count": 93,
   "id": "50d52ae7-a9a5-48ad-b0b2-28456b1e8027",
   "metadata": {},
   "outputs": [],
   "source": [
    "h_columns = ['prod_code', '计价类型', '周期类型', '模式', '风险等级', '是否允许变更分红方式', '产品品种', '模式2', '数据日期']"
   ]
  },
  {
   "cell_type": "code",
   "execution_count": 94,
   "id": "e06273b2-1bd1-4ebd-ae19-20f5a3794327",
   "metadata": {},
   "outputs": [
    {
     "data": {
      "text/html": [
       "<div>\n",
       "<style scoped>\n",
       "    .dataframe tbody tr th:only-of-type {\n",
       "        vertical-align: middle;\n",
       "    }\n",
       "\n",
       "    .dataframe tbody tr th {\n",
       "        vertical-align: top;\n",
       "    }\n",
       "\n",
       "    .dataframe thead th {\n",
       "        text-align: right;\n",
       "    }\n",
       "</style>\n",
       "<table border=\"1\" class=\"dataframe\">\n",
       "  <thead>\n",
       "    <tr style=\"text-align: right;\">\n",
       "      <th></th>\n",
       "      <th>prod_code</th>\n",
       "      <th>计价类型</th>\n",
       "      <th>周期类型</th>\n",
       "      <th>模式</th>\n",
       "      <th>风险等级</th>\n",
       "      <th>是否允许变更分红方式</th>\n",
       "      <th>产品品种</th>\n",
       "      <th>模式2</th>\n",
       "      <th>数据日期</th>\n",
       "    </tr>\n",
       "  </thead>\n",
       "  <tbody>\n",
       "    <tr>\n",
       "      <th>0</th>\n",
       "      <td>ZYGR2016286</td>\n",
       "      <td>0</td>\n",
       "      <td>1</td>\n",
       "      <td>1</td>\n",
       "      <td>2</td>\n",
       "      <td>0</td>\n",
       "      <td>0</td>\n",
       "      <td>NaN</td>\n",
       "      <td>209912</td>\n",
       "    </tr>\n",
       "    <tr>\n",
       "      <th>1</th>\n",
       "      <td>ZYGR2015103</td>\n",
       "      <td>0</td>\n",
       "      <td>1</td>\n",
       "      <td>1</td>\n",
       "      <td>2</td>\n",
       "      <td>1</td>\n",
       "      <td>0</td>\n",
       "      <td>NaN</td>\n",
       "      <td>209912</td>\n",
       "    </tr>\n",
       "  </tbody>\n",
       "</table>\n",
       "</div>"
      ],
      "text/plain": [
       "     prod_code  计价类型  周期类型  模式  风险等级  是否允许变更分红方式  产品品种  模式2    数据日期\n",
       "0  ZYGR2016286     0     1   1     2           0     0  NaN  209912\n",
       "1  ZYGR2015103     0     1   1     2           1     0  NaN  209912"
      ]
     },
     "execution_count": 94,
     "metadata": {},
     "output_type": "execute_result"
    }
   ],
   "source": [
    "h_data.columns = h_columns\n",
    "h_data.head(2)"
   ]
  },
  {
   "cell_type": "code",
   "execution_count": 95,
   "id": "7addf0a9-066b-4170-94e9-3b97de329ed3",
   "metadata": {},
   "outputs": [],
   "source": [
    "h_data['数据日期'] = h_data['数据日期'].astype('object')"
   ]
  },
  {
   "cell_type": "code",
   "execution_count": 96,
   "id": "860b531b-f11a-40b6-9f8f-57208fc09c96",
   "metadata": {},
   "outputs": [
    {
     "name": "stdout",
     "output_type": "stream",
     "text": [
      "<class 'pandas.core.frame.DataFrame'>\n",
      "RangeIndex: 2696 entries, 0 to 2695\n",
      "Data columns (total 9 columns):\n",
      " #   Column      Non-Null Count  Dtype  \n",
      "---  ------      --------------  -----  \n",
      " 0   prod_code   2696 non-null   object \n",
      " 1   计价类型        2696 non-null   int64  \n",
      " 2   周期类型        2696 non-null   int64  \n",
      " 3   模式          2696 non-null   int64  \n",
      " 4   风险等级        2696 non-null   int64  \n",
      " 5   是否允许变更分红方式  2696 non-null   int64  \n",
      " 6   产品品种        2696 non-null   int64  \n",
      " 7   模式2         65 non-null     float64\n",
      " 8   数据日期        2696 non-null   object \n",
      "dtypes: float64(1), int64(6), object(2)\n",
      "memory usage: 189.7+ KB\n"
     ]
    }
   ],
   "source": [
    "h_data.info(2)"
   ]
  },
  {
   "cell_type": "code",
   "execution_count": 97,
   "id": "d19a8c76-8bd3-4fdb-9464-c79a5d6d8317",
   "metadata": {},
   "outputs": [],
   "source": [
    "h_data.drop(['产品品种', '模式2'], axis=1, inplace=True)"
   ]
  },
  {
   "cell_type": "markdown",
   "id": "9e6d8a90-f23f-4ebb-bf00-a9090e0578a1",
   "metadata": {},
   "source": [
    "### B产品表2"
   ]
  },
  {
   "cell_type": "code",
   "execution_count": 98,
   "id": "0932c6cf-0c6e-4ee0-a27a-b2661a8a3fb8",
   "metadata": {},
   "outputs": [
    {
     "data": {
      "text/html": [
       "<div>\n",
       "<style scoped>\n",
       "    .dataframe tbody tr th:only-of-type {\n",
       "        vertical-align: middle;\n",
       "    }\n",
       "\n",
       "    .dataframe tbody tr th {\n",
       "        vertical-align: top;\n",
       "    }\n",
       "\n",
       "    .dataframe thead th {\n",
       "        text-align: right;\n",
       "    }\n",
       "</style>\n",
       "<table border=\"1\" class=\"dataframe\">\n",
       "  <thead>\n",
       "    <tr style=\"text-align: right;\">\n",
       "      <th></th>\n",
       "      <th>prod_code</th>\n",
       "      <th>l1</th>\n",
       "      <th>l2</th>\n",
       "      <th>l3</th>\n",
       "      <th>l4</th>\n",
       "      <th>l5</th>\n",
       "      <th>l6</th>\n",
       "      <th>l7</th>\n",
       "    </tr>\n",
       "  </thead>\n",
       "  <tbody>\n",
       "    <tr>\n",
       "      <th>0</th>\n",
       "      <td>YXFB2017031</td>\n",
       "      <td>0.0</td>\n",
       "      <td>2.0</td>\n",
       "      <td>3.0</td>\n",
       "      <td>1</td>\n",
       "      <td>NaN</td>\n",
       "      <td>0</td>\n",
       "      <td>209912</td>\n",
       "    </tr>\n",
       "    <tr>\n",
       "      <th>1</th>\n",
       "      <td>ZYGR2016014</td>\n",
       "      <td>1.0</td>\n",
       "      <td>2.0</td>\n",
       "      <td>1.0</td>\n",
       "      <td>2</td>\n",
       "      <td>4.0</td>\n",
       "      <td>1</td>\n",
       "      <td>209912</td>\n",
       "    </tr>\n",
       "  </tbody>\n",
       "</table>\n",
       "</div>"
      ],
      "text/plain": [
       "     prod_code   l1   l2   l3  l4   l5  l6      l7\n",
       "0  YXFB2017031  0.0  2.0  3.0   1  NaN   0  209912\n",
       "1  ZYGR2016014  1.0  2.0  1.0   2  4.0   1  209912"
      ]
     },
     "execution_count": 98,
     "metadata": {},
     "output_type": "execute_result"
    }
   ],
   "source": [
    "l_data = pd.read_csv(path2 + 'l.csv')\n",
    "l_data.head(2)"
   ]
  },
  {
   "cell_type": "code",
   "execution_count": 99,
   "id": "86ae3bba-6a02-43b9-b441-96f20ccf6b85",
   "metadata": {},
   "outputs": [],
   "source": [
    "l_columns = ['prod_code', '募集方式', '管理方式', '业务模式', '收益特点', '期限', '投资模式', '数据日期']"
   ]
  },
  {
   "cell_type": "code",
   "execution_count": 100,
   "id": "be16e0c5-b7a3-47eb-8e3d-c46da935be8f",
   "metadata": {},
   "outputs": [
    {
     "data": {
      "text/html": [
       "<div>\n",
       "<style scoped>\n",
       "    .dataframe tbody tr th:only-of-type {\n",
       "        vertical-align: middle;\n",
       "    }\n",
       "\n",
       "    .dataframe tbody tr th {\n",
       "        vertical-align: top;\n",
       "    }\n",
       "\n",
       "    .dataframe thead th {\n",
       "        text-align: right;\n",
       "    }\n",
       "</style>\n",
       "<table border=\"1\" class=\"dataframe\">\n",
       "  <thead>\n",
       "    <tr style=\"text-align: right;\">\n",
       "      <th></th>\n",
       "      <th>prod_code</th>\n",
       "      <th>募集方式</th>\n",
       "      <th>管理方式</th>\n",
       "      <th>业务模式</th>\n",
       "      <th>收益特点</th>\n",
       "      <th>期限</th>\n",
       "      <th>投资模式</th>\n",
       "      <th>数据日期</th>\n",
       "    </tr>\n",
       "  </thead>\n",
       "  <tbody>\n",
       "    <tr>\n",
       "      <th>0</th>\n",
       "      <td>YXFB2017031</td>\n",
       "      <td>0.0</td>\n",
       "      <td>2.0</td>\n",
       "      <td>3.0</td>\n",
       "      <td>1</td>\n",
       "      <td>NaN</td>\n",
       "      <td>0</td>\n",
       "      <td>209912</td>\n",
       "    </tr>\n",
       "    <tr>\n",
       "      <th>1</th>\n",
       "      <td>ZYGR2016014</td>\n",
       "      <td>1.0</td>\n",
       "      <td>2.0</td>\n",
       "      <td>1.0</td>\n",
       "      <td>2</td>\n",
       "      <td>4.0</td>\n",
       "      <td>1</td>\n",
       "      <td>209912</td>\n",
       "    </tr>\n",
       "  </tbody>\n",
       "</table>\n",
       "</div>"
      ],
      "text/plain": [
       "     prod_code  募集方式  管理方式  业务模式  收益特点   期限  投资模式    数据日期\n",
       "0  YXFB2017031   0.0   2.0   3.0     1  NaN     0  209912\n",
       "1  ZYGR2016014   1.0   2.0   1.0     2  4.0     1  209912"
      ]
     },
     "execution_count": 100,
     "metadata": {},
     "output_type": "execute_result"
    }
   ],
   "source": [
    "l_data.columns = l_columns\n",
    "l_data.head(2)"
   ]
  },
  {
   "cell_type": "code",
   "execution_count": 101,
   "id": "d89ce30a-fc38-49d0-8c9d-5c88c66403cf",
   "metadata": {},
   "outputs": [],
   "source": [
    "l_data['数据日期'] = l_data['数据日期'].astype('object')"
   ]
  },
  {
   "cell_type": "code",
   "execution_count": 102,
   "id": "5c0eac8f-4c70-4f97-bcf8-107d495e5e57",
   "metadata": {},
   "outputs": [
    {
     "name": "stdout",
     "output_type": "stream",
     "text": [
      "<class 'pandas.core.frame.DataFrame'>\n",
      "RangeIndex: 3002 entries, 0 to 3001\n",
      "Data columns (total 8 columns):\n",
      " #   Column     Non-Null Count  Dtype  \n",
      "---  ------     --------------  -----  \n",
      " 0   prod_code  3002 non-null   object \n",
      " 1   募集方式       2502 non-null   float64\n",
      " 2   管理方式       2502 non-null   float64\n",
      " 3   业务模式       2502 non-null   float64\n",
      " 4   收益特点       3002 non-null   int64  \n",
      " 5   期限         567 non-null    float64\n",
      " 6   投资模式       3002 non-null   int64  \n",
      " 7   数据日期       3002 non-null   object \n",
      "dtypes: float64(4), int64(2), object(2)\n",
      "memory usage: 187.8+ KB\n"
     ]
    }
   ],
   "source": [
    "l_data.info()"
   ]
  },
  {
   "cell_type": "markdown",
   "id": "8ba18d3c-7d64-4664-bd0f-1f43eb2804c2",
   "metadata": {},
   "source": [
    "### B产品总表"
   ]
  },
  {
   "cell_type": "code",
   "execution_count": 103,
   "id": "1edb88bf-a428-4b61-86aa-045900d3db27",
   "metadata": {},
   "outputs": [
    {
     "data": {
      "text/html": [
       "<div>\n",
       "<style scoped>\n",
       "    .dataframe tbody tr th:only-of-type {\n",
       "        vertical-align: middle;\n",
       "    }\n",
       "\n",
       "    .dataframe tbody tr th {\n",
       "        vertical-align: top;\n",
       "    }\n",
       "\n",
       "    .dataframe thead th {\n",
       "        text-align: right;\n",
       "    }\n",
       "</style>\n",
       "<table border=\"1\" class=\"dataframe\">\n",
       "  <thead>\n",
       "    <tr style=\"text-align: right;\">\n",
       "      <th></th>\n",
       "      <th>prod_code</th>\n",
       "      <th>计价类型</th>\n",
       "      <th>周期类型</th>\n",
       "      <th>模式</th>\n",
       "      <th>风险等级</th>\n",
       "      <th>是否允许变更分红方式</th>\n",
       "      <th>数据日期</th>\n",
       "      <th>募集方式</th>\n",
       "      <th>管理方式</th>\n",
       "      <th>业务模式</th>\n",
       "      <th>收益特点</th>\n",
       "      <th>期限</th>\n",
       "      <th>投资模式</th>\n",
       "      <th>prod_class</th>\n",
       "    </tr>\n",
       "  </thead>\n",
       "  <tbody>\n",
       "    <tr>\n",
       "      <th>0</th>\n",
       "      <td>ZYGR2016286</td>\n",
       "      <td>0.0</td>\n",
       "      <td>1.0</td>\n",
       "      <td>1.0</td>\n",
       "      <td>2.0</td>\n",
       "      <td>0.0</td>\n",
       "      <td>209912.0</td>\n",
       "      <td>0.0</td>\n",
       "      <td>2.0</td>\n",
       "      <td>1.0</td>\n",
       "      <td>2</td>\n",
       "      <td>NaN</td>\n",
       "      <td>1</td>\n",
       "      <td>3</td>\n",
       "    </tr>\n",
       "    <tr>\n",
       "      <th>1</th>\n",
       "      <td>ZYGR2015103</td>\n",
       "      <td>0.0</td>\n",
       "      <td>1.0</td>\n",
       "      <td>1.0</td>\n",
       "      <td>2.0</td>\n",
       "      <td>1.0</td>\n",
       "      <td>209912.0</td>\n",
       "      <td>1.0</td>\n",
       "      <td>2.0</td>\n",
       "      <td>1.0</td>\n",
       "      <td>2</td>\n",
       "      <td>6.0</td>\n",
       "      <td>1</td>\n",
       "      <td>3</td>\n",
       "    </tr>\n",
       "    <tr>\n",
       "      <th>2</th>\n",
       "      <td>YQ2017167</td>\n",
       "      <td>0.0</td>\n",
       "      <td>1.0</td>\n",
       "      <td>1.0</td>\n",
       "      <td>1.0</td>\n",
       "      <td>0.0</td>\n",
       "      <td>209912.0</td>\n",
       "      <td>0.0</td>\n",
       "      <td>2.0</td>\n",
       "      <td>1.0</td>\n",
       "      <td>2</td>\n",
       "      <td>NaN</td>\n",
       "      <td>0</td>\n",
       "      <td>3</td>\n",
       "    </tr>\n",
       "  </tbody>\n",
       "</table>\n",
       "</div>"
      ],
      "text/plain": [
       "     prod_code  计价类型  周期类型   模式  风险等级  是否允许变更分红方式      数据日期  募集方式  管理方式  业务模式  \\\n",
       "0  ZYGR2016286   0.0   1.0  1.0   2.0         0.0  209912.0   0.0   2.0   1.0   \n",
       "1  ZYGR2015103   0.0   1.0  1.0   2.0         1.0  209912.0   1.0   2.0   1.0   \n",
       "2    YQ2017167   0.0   1.0  1.0   1.0         0.0  209912.0   0.0   2.0   1.0   \n",
       "\n",
       "   收益特点   期限  投资模式  prod_class  \n",
       "0     2  NaN     1           3  \n",
       "1     2  6.0     1           3  \n",
       "2     2  NaN     0           3  "
      ]
     },
     "execution_count": 103,
     "metadata": {},
     "output_type": "execute_result"
    }
   ],
   "source": [
    "b_prod = pd.merge(h_data, l_data, on=['prod_code', '数据日期'], how='outer')\n",
    "b_prod['prod_class'] = 3\n",
    "b_prod.head(3)"
   ]
  },
  {
   "cell_type": "code",
   "execution_count": 104,
   "id": "7b4514be-7821-4603-90fa-5df18dc69391",
   "metadata": {},
   "outputs": [],
   "source": [
    "b_prod['计价类型'].fillna(0, inplace=True)\n",
    "b_prod['周期类型'].fillna(1, inplace=True)\n",
    "b_prod['模式'].fillna(1, inplace=True)\n",
    "b_prod['风险等级'].fillna(3, inplace=True)\n",
    "b_prod['是否允许变更分红方式'].fillna(0, inplace=True)"
   ]
  },
  {
   "cell_type": "code",
   "execution_count": 105,
   "id": "a122b9e5-ae3c-476b-a9ce-79236f88268a",
   "metadata": {},
   "outputs": [
    {
     "name": "stdout",
     "output_type": "stream",
     "text": [
      "<class 'pandas.core.frame.DataFrame'>\n",
      "Int64Index: 3002 entries, 0 to 3001\n",
      "Data columns (total 14 columns):\n",
      " #   Column      Non-Null Count  Dtype  \n",
      "---  ------      --------------  -----  \n",
      " 0   prod_code   3002 non-null   object \n",
      " 1   计价类型        3002 non-null   float64\n",
      " 2   周期类型        3002 non-null   float64\n",
      " 3   模式          3002 non-null   float64\n",
      " 4   风险等级        3002 non-null   float64\n",
      " 5   是否允许变更分红方式  3002 non-null   float64\n",
      " 6   数据日期        3002 non-null   float64\n",
      " 7   募集方式        2502 non-null   float64\n",
      " 8   管理方式        2502 non-null   float64\n",
      " 9   业务模式        2502 non-null   float64\n",
      " 10  收益特点        3002 non-null   int64  \n",
      " 11  期限          567 non-null    float64\n",
      " 12  投资模式        3002 non-null   int64  \n",
      " 13  prod_class  3002 non-null   int64  \n",
      "dtypes: float64(10), int64(3), object(1)\n",
      "memory usage: 351.8+ KB\n"
     ]
    }
   ],
   "source": [
    "b_prod.info()"
   ]
  },
  {
   "cell_type": "code",
   "execution_count": 106,
   "id": "7ac5770f-1a33-4a16-8d17-72f521835af7",
   "metadata": {},
   "outputs": [
    {
     "data": {
      "text/plain": [
       "prod_code     3002\n",
       "计价类型             2\n",
       "周期类型             2\n",
       "模式               2\n",
       "风险等级             3\n",
       "是否允许变更分红方式       2\n",
       "数据日期             3\n",
       "募集方式             2\n",
       "管理方式             2\n",
       "业务模式             2\n",
       "收益特点             2\n",
       "期限               5\n",
       "投资模式             2\n",
       "prod_class       1\n",
       "dtype: int64"
      ]
     },
     "execution_count": 106,
     "metadata": {},
     "output_type": "execute_result"
    }
   ],
   "source": [
    "b_prod.nunique()"
   ]
  },
  {
   "cell_type": "code",
   "execution_count": 107,
   "id": "28322685-b7eb-4787-ae8a-61d52ad87af5",
   "metadata": {},
   "outputs": [
    {
     "data": {
      "text/html": [
       "<div>\n",
       "<style scoped>\n",
       "    .dataframe tbody tr th:only-of-type {\n",
       "        vertical-align: middle;\n",
       "    }\n",
       "\n",
       "    .dataframe tbody tr th {\n",
       "        vertical-align: top;\n",
       "    }\n",
       "\n",
       "    .dataframe thead th {\n",
       "        text-align: right;\n",
       "    }\n",
       "</style>\n",
       "<table border=\"1\" class=\"dataframe\">\n",
       "  <thead>\n",
       "    <tr style=\"text-align: right;\">\n",
       "      <th></th>\n",
       "      <th>计价类型</th>\n",
       "      <th>周期类型</th>\n",
       "      <th>模式</th>\n",
       "      <th>风险等级</th>\n",
       "      <th>是否允许变更分红方式</th>\n",
       "      <th>数据日期</th>\n",
       "      <th>募集方式</th>\n",
       "      <th>管理方式</th>\n",
       "      <th>业务模式</th>\n",
       "      <th>收益特点</th>\n",
       "      <th>期限</th>\n",
       "      <th>投资模式</th>\n",
       "      <th>prod_class</th>\n",
       "    </tr>\n",
       "  </thead>\n",
       "  <tbody>\n",
       "    <tr>\n",
       "      <th>count</th>\n",
       "      <td>3002.000000</td>\n",
       "      <td>3002.000000</td>\n",
       "      <td>3002.000000</td>\n",
       "      <td>3002.000000</td>\n",
       "      <td>3002.000000</td>\n",
       "      <td>3002.000000</td>\n",
       "      <td>2502.000000</td>\n",
       "      <td>2502.000000</td>\n",
       "      <td>2502.000000</td>\n",
       "      <td>3002.000000</td>\n",
       "      <td>567.000000</td>\n",
       "      <td>3002.000000</td>\n",
       "      <td>3002.0</td>\n",
       "    </tr>\n",
       "    <tr>\n",
       "      <th>mean</th>\n",
       "      <td>0.021652</td>\n",
       "      <td>0.992672</td>\n",
       "      <td>1.007328</td>\n",
       "      <td>1.955030</td>\n",
       "      <td>0.096269</td>\n",
       "      <td>208626.928714</td>\n",
       "      <td>0.225020</td>\n",
       "      <td>1.955635</td>\n",
       "      <td>1.252598</td>\n",
       "      <td>1.799134</td>\n",
       "      <td>4.716049</td>\n",
       "      <td>0.613258</td>\n",
       "      <td>3.0</td>\n",
       "    </tr>\n",
       "    <tr>\n",
       "      <th>std</th>\n",
       "      <td>0.145569</td>\n",
       "      <td>0.085306</td>\n",
       "      <td>0.085306</td>\n",
       "      <td>0.651793</td>\n",
       "      <td>0.295009</td>\n",
       "      <td>2960.826237</td>\n",
       "      <td>0.417679</td>\n",
       "      <td>0.205945</td>\n",
       "      <td>0.664505</td>\n",
       "      <td>0.400715</td>\n",
       "      <td>0.714914</td>\n",
       "      <td>0.487085</td>\n",
       "      <td>0.0</td>\n",
       "    </tr>\n",
       "    <tr>\n",
       "      <th>min</th>\n",
       "      <td>0.000000</td>\n",
       "      <td>0.000000</td>\n",
       "      <td>1.000000</td>\n",
       "      <td>1.000000</td>\n",
       "      <td>0.000000</td>\n",
       "      <td>201807.000000</td>\n",
       "      <td>0.000000</td>\n",
       "      <td>1.000000</td>\n",
       "      <td>1.000000</td>\n",
       "      <td>1.000000</td>\n",
       "      <td>3.000000</td>\n",
       "      <td>0.000000</td>\n",
       "      <td>3.0</td>\n",
       "    </tr>\n",
       "    <tr>\n",
       "      <th>25%</th>\n",
       "      <td>0.000000</td>\n",
       "      <td>1.000000</td>\n",
       "      <td>1.000000</td>\n",
       "      <td>2.000000</td>\n",
       "      <td>0.000000</td>\n",
       "      <td>209912.000000</td>\n",
       "      <td>0.000000</td>\n",
       "      <td>2.000000</td>\n",
       "      <td>1.000000</td>\n",
       "      <td>2.000000</td>\n",
       "      <td>4.000000</td>\n",
       "      <td>0.000000</td>\n",
       "      <td>3.0</td>\n",
       "    </tr>\n",
       "    <tr>\n",
       "      <th>50%</th>\n",
       "      <td>0.000000</td>\n",
       "      <td>1.000000</td>\n",
       "      <td>1.000000</td>\n",
       "      <td>2.000000</td>\n",
       "      <td>0.000000</td>\n",
       "      <td>209912.000000</td>\n",
       "      <td>0.000000</td>\n",
       "      <td>2.000000</td>\n",
       "      <td>1.000000</td>\n",
       "      <td>2.000000</td>\n",
       "      <td>5.000000</td>\n",
       "      <td>1.000000</td>\n",
       "      <td>3.0</td>\n",
       "    </tr>\n",
       "    <tr>\n",
       "      <th>75%</th>\n",
       "      <td>0.000000</td>\n",
       "      <td>1.000000</td>\n",
       "      <td>1.000000</td>\n",
       "      <td>2.000000</td>\n",
       "      <td>0.000000</td>\n",
       "      <td>209912.000000</td>\n",
       "      <td>0.000000</td>\n",
       "      <td>2.000000</td>\n",
       "      <td>1.000000</td>\n",
       "      <td>2.000000</td>\n",
       "      <td>5.000000</td>\n",
       "      <td>1.000000</td>\n",
       "      <td>3.0</td>\n",
       "    </tr>\n",
       "    <tr>\n",
       "      <th>max</th>\n",
       "      <td>1.000000</td>\n",
       "      <td>1.000000</td>\n",
       "      <td>2.000000</td>\n",
       "      <td>3.000000</td>\n",
       "      <td>1.000000</td>\n",
       "      <td>209912.000000</td>\n",
       "      <td>1.000000</td>\n",
       "      <td>2.000000</td>\n",
       "      <td>3.000000</td>\n",
       "      <td>2.000000</td>\n",
       "      <td>7.000000</td>\n",
       "      <td>1.000000</td>\n",
       "      <td>3.0</td>\n",
       "    </tr>\n",
       "  </tbody>\n",
       "</table>\n",
       "</div>"
      ],
      "text/plain": [
       "              计价类型         周期类型           模式         风险等级   是否允许变更分红方式  \\\n",
       "count  3002.000000  3002.000000  3002.000000  3002.000000  3002.000000   \n",
       "mean      0.021652     0.992672     1.007328     1.955030     0.096269   \n",
       "std       0.145569     0.085306     0.085306     0.651793     0.295009   \n",
       "min       0.000000     0.000000     1.000000     1.000000     0.000000   \n",
       "25%       0.000000     1.000000     1.000000     2.000000     0.000000   \n",
       "50%       0.000000     1.000000     1.000000     2.000000     0.000000   \n",
       "75%       0.000000     1.000000     1.000000     2.000000     0.000000   \n",
       "max       1.000000     1.000000     2.000000     3.000000     1.000000   \n",
       "\n",
       "                数据日期         募集方式         管理方式         业务模式         收益特点  \\\n",
       "count    3002.000000  2502.000000  2502.000000  2502.000000  3002.000000   \n",
       "mean   208626.928714     0.225020     1.955635     1.252598     1.799134   \n",
       "std      2960.826237     0.417679     0.205945     0.664505     0.400715   \n",
       "min    201807.000000     0.000000     1.000000     1.000000     1.000000   \n",
       "25%    209912.000000     0.000000     2.000000     1.000000     2.000000   \n",
       "50%    209912.000000     0.000000     2.000000     1.000000     2.000000   \n",
       "75%    209912.000000     0.000000     2.000000     1.000000     2.000000   \n",
       "max    209912.000000     1.000000     2.000000     3.000000     2.000000   \n",
       "\n",
       "               期限         投资模式  prod_class  \n",
       "count  567.000000  3002.000000      3002.0  \n",
       "mean     4.716049     0.613258         3.0  \n",
       "std      0.714914     0.487085         0.0  \n",
       "min      3.000000     0.000000         3.0  \n",
       "25%      4.000000     0.000000         3.0  \n",
       "50%      5.000000     1.000000         3.0  \n",
       "75%      5.000000     1.000000         3.0  \n",
       "max      7.000000     1.000000         3.0  "
      ]
     },
     "execution_count": 107,
     "metadata": {},
     "output_type": "execute_result"
    }
   ],
   "source": [
    "b_prod.describe()"
   ]
  },
  {
   "cell_type": "markdown",
   "id": "56c226b9-3f66-4be6-916f-6f099d1ce9b1",
   "metadata": {},
   "source": [
    "### C产品表1"
   ]
  },
  {
   "cell_type": "code",
   "execution_count": 108,
   "id": "8035a87a-411f-4a43-938d-c15b20978122",
   "metadata": {},
   "outputs": [
    {
     "data": {
      "text/html": [
       "<div>\n",
       "<style scoped>\n",
       "    .dataframe tbody tr th:only-of-type {\n",
       "        vertical-align: middle;\n",
       "    }\n",
       "\n",
       "    .dataframe tbody tr th {\n",
       "        vertical-align: top;\n",
       "    }\n",
       "\n",
       "    .dataframe thead th {\n",
       "        text-align: right;\n",
       "    }\n",
       "</style>\n",
       "<table border=\"1\" class=\"dataframe\">\n",
       "  <thead>\n",
       "    <tr style=\"text-align: right;\">\n",
       "      <th></th>\n",
       "      <th>prod_code</th>\n",
       "      <th>i1</th>\n",
       "      <th>i2</th>\n",
       "      <th>i3</th>\n",
       "      <th>i4</th>\n",
       "      <th>i5</th>\n",
       "      <th>i6</th>\n",
       "      <th>i7</th>\n",
       "      <th>i8</th>\n",
       "      <th>i9</th>\n",
       "    </tr>\n",
       "  </thead>\n",
       "  <tbody>\n",
       "    <tr>\n",
       "      <th>0</th>\n",
       "      <td>DECD21052405</td>\n",
       "      <td>0</td>\n",
       "      <td>0</td>\n",
       "      <td>2</td>\n",
       "      <td>NaN</td>\n",
       "      <td>0</td>\n",
       "      <td>0</td>\n",
       "      <td>0</td>\n",
       "      <td>0</td>\n",
       "      <td>209912</td>\n",
       "    </tr>\n",
       "    <tr>\n",
       "      <th>1</th>\n",
       "      <td>DECD21110407</td>\n",
       "      <td>0</td>\n",
       "      <td>0</td>\n",
       "      <td>2</td>\n",
       "      <td>NaN</td>\n",
       "      <td>0</td>\n",
       "      <td>0</td>\n",
       "      <td>0</td>\n",
       "      <td>0</td>\n",
       "      <td>209912</td>\n",
       "    </tr>\n",
       "  </tbody>\n",
       "</table>\n",
       "</div>"
      ],
      "text/plain": [
       "      prod_code  i1  i2  i3  i4  i5  i6  i7  i8      i9\n",
       "0  DECD21052405   0   0   2 NaN   0   0   0   0  209912\n",
       "1  DECD21110407   0   0   2 NaN   0   0   0   0  209912"
      ]
     },
     "execution_count": 108,
     "metadata": {},
     "output_type": "execute_result"
    }
   ],
   "source": [
    "i_data = pd.read_csv(path2 + 'i.csv')\n",
    "i_data.head(2)"
   ]
  },
  {
   "cell_type": "code",
   "execution_count": 109,
   "id": "5a9b12f4-5d03-4018-bff1-041f0868c1ee",
   "metadata": {},
   "outputs": [],
   "source": [
    "i_columns = ['prod_code', '计价类型', '周期类型', '模式', '风险等级', '是否允许变更分红方式', '份额冻结比率', '产品品种', '持有天数', '数据日期']"
   ]
  },
  {
   "cell_type": "code",
   "execution_count": 110,
   "id": "8b645e36-a507-4406-bbc4-e763c30ec78b",
   "metadata": {},
   "outputs": [
    {
     "data": {
      "text/html": [
       "<div>\n",
       "<style scoped>\n",
       "    .dataframe tbody tr th:only-of-type {\n",
       "        vertical-align: middle;\n",
       "    }\n",
       "\n",
       "    .dataframe tbody tr th {\n",
       "        vertical-align: top;\n",
       "    }\n",
       "\n",
       "    .dataframe thead th {\n",
       "        text-align: right;\n",
       "    }\n",
       "</style>\n",
       "<table border=\"1\" class=\"dataframe\">\n",
       "  <thead>\n",
       "    <tr style=\"text-align: right;\">\n",
       "      <th></th>\n",
       "      <th>prod_code</th>\n",
       "      <th>计价类型</th>\n",
       "      <th>周期类型</th>\n",
       "      <th>模式</th>\n",
       "      <th>风险等级</th>\n",
       "      <th>是否允许变更分红方式</th>\n",
       "      <th>份额冻结比率</th>\n",
       "      <th>产品品种</th>\n",
       "      <th>持有天数</th>\n",
       "      <th>数据日期</th>\n",
       "    </tr>\n",
       "  </thead>\n",
       "  <tbody>\n",
       "    <tr>\n",
       "      <th>0</th>\n",
       "      <td>DECD21052405</td>\n",
       "      <td>0</td>\n",
       "      <td>0</td>\n",
       "      <td>2</td>\n",
       "      <td>NaN</td>\n",
       "      <td>0</td>\n",
       "      <td>0</td>\n",
       "      <td>0</td>\n",
       "      <td>0</td>\n",
       "      <td>209912</td>\n",
       "    </tr>\n",
       "    <tr>\n",
       "      <th>1</th>\n",
       "      <td>DECD21110407</td>\n",
       "      <td>0</td>\n",
       "      <td>0</td>\n",
       "      <td>2</td>\n",
       "      <td>NaN</td>\n",
       "      <td>0</td>\n",
       "      <td>0</td>\n",
       "      <td>0</td>\n",
       "      <td>0</td>\n",
       "      <td>209912</td>\n",
       "    </tr>\n",
       "  </tbody>\n",
       "</table>\n",
       "</div>"
      ],
      "text/plain": [
       "      prod_code  计价类型  周期类型  模式  风险等级  是否允许变更分红方式  份额冻结比率  产品品种  持有天数    数据日期\n",
       "0  DECD21052405     0     0   2   NaN           0       0     0     0  209912\n",
       "1  DECD21110407     0     0   2   NaN           0       0     0     0  209912"
      ]
     },
     "execution_count": 110,
     "metadata": {},
     "output_type": "execute_result"
    }
   ],
   "source": [
    "i_data.columns = i_columns\n",
    "i_data.head(2)"
   ]
  },
  {
   "cell_type": "code",
   "execution_count": 111,
   "id": "1bf64389-66e7-494d-a46d-33e11a94815d",
   "metadata": {},
   "outputs": [],
   "source": [
    "i_data['数据日期'] = i_data['数据日期'].astype('object')"
   ]
  },
  {
   "cell_type": "code",
   "execution_count": 112,
   "id": "948e0f24-2a55-4894-b9d1-9d995870a35e",
   "metadata": {},
   "outputs": [
    {
     "name": "stdout",
     "output_type": "stream",
     "text": [
      "<class 'pandas.core.frame.DataFrame'>\n",
      "RangeIndex: 129 entries, 0 to 128\n",
      "Data columns (total 10 columns):\n",
      " #   Column      Non-Null Count  Dtype  \n",
      "---  ------      --------------  -----  \n",
      " 0   prod_code   129 non-null    object \n",
      " 1   计价类型        129 non-null    int64  \n",
      " 2   周期类型        129 non-null    int64  \n",
      " 3   模式          129 non-null    int64  \n",
      " 4   风险等级        0 non-null      float64\n",
      " 5   是否允许变更分红方式  129 non-null    int64  \n",
      " 6   份额冻结比率      129 non-null    int64  \n",
      " 7   产品品种        129 non-null    int64  \n",
      " 8   持有天数        129 non-null    int64  \n",
      " 9   数据日期        129 non-null    object \n",
      "dtypes: float64(1), int64(7), object(2)\n",
      "memory usage: 10.2+ KB\n"
     ]
    }
   ],
   "source": [
    "i_data.info()"
   ]
  },
  {
   "cell_type": "code",
   "execution_count": 113,
   "id": "71844c22-2b50-4afc-985b-71cfcd98895f",
   "metadata": {},
   "outputs": [],
   "source": [
    "i_data.drop(['份额冻结比率', '产品品种'], axis=1, inplace=True)"
   ]
  },
  {
   "cell_type": "markdown",
   "id": "1aad58a9-0dd0-4338-bcc6-8fa870996a50",
   "metadata": {},
   "source": [
    "### C产品表2"
   ]
  },
  {
   "cell_type": "code",
   "execution_count": 114,
   "id": "a1597a7f-4d81-4083-8d88-21e2e4b83105",
   "metadata": {},
   "outputs": [
    {
     "data": {
      "text/html": [
       "<div>\n",
       "<style scoped>\n",
       "    .dataframe tbody tr th:only-of-type {\n",
       "        vertical-align: middle;\n",
       "    }\n",
       "\n",
       "    .dataframe tbody tr th {\n",
       "        vertical-align: top;\n",
       "    }\n",
       "\n",
       "    .dataframe thead th {\n",
       "        text-align: right;\n",
       "    }\n",
       "</style>\n",
       "<table border=\"1\" class=\"dataframe\">\n",
       "  <thead>\n",
       "    <tr style=\"text-align: right;\">\n",
       "      <th></th>\n",
       "      <th>prod_code</th>\n",
       "      <th>m1</th>\n",
       "      <th>m2</th>\n",
       "      <th>m3</th>\n",
       "      <th>m4</th>\n",
       "      <th>m5</th>\n",
       "      <th>m6</th>\n",
       "      <th>m7</th>\n",
       "      <th>m8</th>\n",
       "      <th>m9</th>\n",
       "    </tr>\n",
       "  </thead>\n",
       "  <tbody>\n",
       "    <tr>\n",
       "      <th>0</th>\n",
       "      <td>DECD21110407</td>\n",
       "      <td>NaN</td>\n",
       "      <td>NaN</td>\n",
       "      <td>NaN</td>\n",
       "      <td>NaN</td>\n",
       "      <td>NaN</td>\n",
       "      <td>2</td>\n",
       "      <td>0.038375</td>\n",
       "      <td>5.0</td>\n",
       "      <td>209912</td>\n",
       "    </tr>\n",
       "    <tr>\n",
       "      <th>1</th>\n",
       "      <td>DECD21110101</td>\n",
       "      <td>NaN</td>\n",
       "      <td>NaN</td>\n",
       "      <td>NaN</td>\n",
       "      <td>NaN</td>\n",
       "      <td>NaN</td>\n",
       "      <td>2</td>\n",
       "      <td>0.043625</td>\n",
       "      <td>1.0</td>\n",
       "      <td>209912</td>\n",
       "    </tr>\n",
       "  </tbody>\n",
       "</table>\n",
       "</div>"
      ],
      "text/plain": [
       "      prod_code  m1  m2  m3  m4  m5  m6        m7   m8      m9\n",
       "0  DECD21110407 NaN NaN NaN NaN NaN   2  0.038375  5.0  209912\n",
       "1  DECD21110101 NaN NaN NaN NaN NaN   2  0.043625  1.0  209912"
      ]
     },
     "execution_count": 114,
     "metadata": {},
     "output_type": "execute_result"
    }
   ],
   "source": [
    "m_data = pd.read_csv(path2 + 'm.csv')\n",
    "m_data.head(2)"
   ]
  },
  {
   "cell_type": "code",
   "execution_count": 115,
   "id": "b8c13209-dc14-49f5-a0ca-0427bcb45e3e",
   "metadata": {},
   "outputs": [],
   "source": [
    "m_columns = ['prod_code', '募集方式', '管理方式', '业务模式', '收益特点', '期限', '投资模式', '预期收益率', '展示等级', '数据日期']"
   ]
  },
  {
   "cell_type": "code",
   "execution_count": 116,
   "id": "f25409bd-007a-4cb5-a47d-de17483628cc",
   "metadata": {},
   "outputs": [
    {
     "data": {
      "text/html": [
       "<div>\n",
       "<style scoped>\n",
       "    .dataframe tbody tr th:only-of-type {\n",
       "        vertical-align: middle;\n",
       "    }\n",
       "\n",
       "    .dataframe tbody tr th {\n",
       "        vertical-align: top;\n",
       "    }\n",
       "\n",
       "    .dataframe thead th {\n",
       "        text-align: right;\n",
       "    }\n",
       "</style>\n",
       "<table border=\"1\" class=\"dataframe\">\n",
       "  <thead>\n",
       "    <tr style=\"text-align: right;\">\n",
       "      <th></th>\n",
       "      <th>prod_code</th>\n",
       "      <th>募集方式</th>\n",
       "      <th>管理方式</th>\n",
       "      <th>业务模式</th>\n",
       "      <th>收益特点</th>\n",
       "      <th>期限</th>\n",
       "      <th>投资模式</th>\n",
       "      <th>预期收益率</th>\n",
       "      <th>展示等级</th>\n",
       "      <th>数据日期</th>\n",
       "    </tr>\n",
       "  </thead>\n",
       "  <tbody>\n",
       "    <tr>\n",
       "      <th>0</th>\n",
       "      <td>DECD21110407</td>\n",
       "      <td>NaN</td>\n",
       "      <td>NaN</td>\n",
       "      <td>NaN</td>\n",
       "      <td>NaN</td>\n",
       "      <td>NaN</td>\n",
       "      <td>2</td>\n",
       "      <td>0.038375</td>\n",
       "      <td>5.0</td>\n",
       "      <td>209912</td>\n",
       "    </tr>\n",
       "    <tr>\n",
       "      <th>1</th>\n",
       "      <td>DECD21110101</td>\n",
       "      <td>NaN</td>\n",
       "      <td>NaN</td>\n",
       "      <td>NaN</td>\n",
       "      <td>NaN</td>\n",
       "      <td>NaN</td>\n",
       "      <td>2</td>\n",
       "      <td>0.043625</td>\n",
       "      <td>1.0</td>\n",
       "      <td>209912</td>\n",
       "    </tr>\n",
       "  </tbody>\n",
       "</table>\n",
       "</div>"
      ],
      "text/plain": [
       "      prod_code  募集方式  管理方式  业务模式  收益特点  期限  投资模式     预期收益率  展示等级    数据日期\n",
       "0  DECD21110407   NaN   NaN   NaN   NaN NaN     2  0.038375   5.0  209912\n",
       "1  DECD21110101   NaN   NaN   NaN   NaN NaN     2  0.043625   1.0  209912"
      ]
     },
     "execution_count": 116,
     "metadata": {},
     "output_type": "execute_result"
    }
   ],
   "source": [
    "m_data.columns = m_columns\n",
    "m_data.head(2)"
   ]
  },
  {
   "cell_type": "code",
   "execution_count": 117,
   "id": "5193daa9-3235-40c7-9088-3b3515649f7d",
   "metadata": {},
   "outputs": [],
   "source": [
    "m_data['数据日期'] = m_data['数据日期'].astype('object')"
   ]
  },
  {
   "cell_type": "code",
   "execution_count": 118,
   "id": "e4fe0bed-74e3-40dc-a633-7fdbdc3f3fd0",
   "metadata": {},
   "outputs": [
    {
     "name": "stdout",
     "output_type": "stream",
     "text": [
      "<class 'pandas.core.frame.DataFrame'>\n",
      "RangeIndex: 129 entries, 0 to 128\n",
      "Data columns (total 10 columns):\n",
      " #   Column     Non-Null Count  Dtype  \n",
      "---  ------     --------------  -----  \n",
      " 0   prod_code  129 non-null    object \n",
      " 1   募集方式       0 non-null      float64\n",
      " 2   管理方式       0 non-null      float64\n",
      " 3   业务模式       0 non-null      float64\n",
      " 4   收益特点       0 non-null      float64\n",
      " 5   期限         0 non-null      float64\n",
      " 6   投资模式       129 non-null    int64  \n",
      " 7   预期收益率      129 non-null    float64\n",
      " 8   展示等级       120 non-null    float64\n",
      " 9   数据日期       129 non-null    object \n",
      "dtypes: float64(7), int64(1), object(2)\n",
      "memory usage: 10.2+ KB\n"
     ]
    }
   ],
   "source": [
    "m_data.info()"
   ]
  },
  {
   "cell_type": "markdown",
   "id": "4f6a3070-42b2-4a42-9c4d-960f90f001b5",
   "metadata": {},
   "source": [
    "### C 产品总表"
   ]
  },
  {
   "cell_type": "code",
   "execution_count": 119,
   "id": "ef7d98e0-cff7-4d87-8c53-00b8be083f01",
   "metadata": {},
   "outputs": [
    {
     "data": {
      "text/html": [
       "<div>\n",
       "<style scoped>\n",
       "    .dataframe tbody tr th:only-of-type {\n",
       "        vertical-align: middle;\n",
       "    }\n",
       "\n",
       "    .dataframe tbody tr th {\n",
       "        vertical-align: top;\n",
       "    }\n",
       "\n",
       "    .dataframe thead th {\n",
       "        text-align: right;\n",
       "    }\n",
       "</style>\n",
       "<table border=\"1\" class=\"dataframe\">\n",
       "  <thead>\n",
       "    <tr style=\"text-align: right;\">\n",
       "      <th></th>\n",
       "      <th>prod_code</th>\n",
       "      <th>计价类型</th>\n",
       "      <th>周期类型</th>\n",
       "      <th>模式</th>\n",
       "      <th>风险等级</th>\n",
       "      <th>是否允许变更分红方式</th>\n",
       "      <th>持有天数</th>\n",
       "      <th>数据日期</th>\n",
       "      <th>募集方式</th>\n",
       "      <th>管理方式</th>\n",
       "      <th>业务模式</th>\n",
       "      <th>收益特点</th>\n",
       "      <th>期限</th>\n",
       "      <th>投资模式</th>\n",
       "      <th>预期收益率</th>\n",
       "      <th>展示等级</th>\n",
       "      <th>prod_class</th>\n",
       "    </tr>\n",
       "  </thead>\n",
       "  <tbody>\n",
       "    <tr>\n",
       "      <th>0</th>\n",
       "      <td>DECD21052405</td>\n",
       "      <td>0</td>\n",
       "      <td>0</td>\n",
       "      <td>2</td>\n",
       "      <td>NaN</td>\n",
       "      <td>0</td>\n",
       "      <td>0</td>\n",
       "      <td>209912</td>\n",
       "      <td>NaN</td>\n",
       "      <td>NaN</td>\n",
       "      <td>NaN</td>\n",
       "      <td>NaN</td>\n",
       "      <td>NaN</td>\n",
       "      <td>2</td>\n",
       "      <td>0.035278</td>\n",
       "      <td>NaN</td>\n",
       "      <td>2</td>\n",
       "    </tr>\n",
       "    <tr>\n",
       "      <th>1</th>\n",
       "      <td>DECD21110407</td>\n",
       "      <td>0</td>\n",
       "      <td>0</td>\n",
       "      <td>2</td>\n",
       "      <td>NaN</td>\n",
       "      <td>0</td>\n",
       "      <td>0</td>\n",
       "      <td>209912</td>\n",
       "      <td>NaN</td>\n",
       "      <td>NaN</td>\n",
       "      <td>NaN</td>\n",
       "      <td>NaN</td>\n",
       "      <td>NaN</td>\n",
       "      <td>2</td>\n",
       "      <td>0.038375</td>\n",
       "      <td>5.0</td>\n",
       "      <td>2</td>\n",
       "    </tr>\n",
       "  </tbody>\n",
       "</table>\n",
       "</div>"
      ],
      "text/plain": [
       "      prod_code  计价类型  周期类型  模式  风险等级  是否允许变更分红方式  持有天数    数据日期  募集方式  管理方式  \\\n",
       "0  DECD21052405     0     0   2   NaN           0     0  209912   NaN   NaN   \n",
       "1  DECD21110407     0     0   2   NaN           0     0  209912   NaN   NaN   \n",
       "\n",
       "   业务模式  收益特点  期限  投资模式     预期收益率  展示等级  prod_class  \n",
       "0   NaN   NaN NaN     2  0.035278   NaN           2  \n",
       "1   NaN   NaN NaN     2  0.038375   5.0           2  "
      ]
     },
     "execution_count": 119,
     "metadata": {},
     "output_type": "execute_result"
    }
   ],
   "source": [
    "c_prod = pd.merge(i_data, m_data, on=['prod_code', '数据日期'], how='outer')\n",
    "c_prod['prod_class'] = 2\n",
    "c_prod.head(2)"
   ]
  },
  {
   "cell_type": "code",
   "execution_count": 120,
   "id": "a4c26ce1-f6de-4c16-9cd8-e9527b3e90b4",
   "metadata": {},
   "outputs": [],
   "source": [
    "c_prod['展示等级'].fillna(5, inplace=True)"
   ]
  },
  {
   "cell_type": "code",
   "execution_count": 121,
   "id": "390654e8-424f-4b69-9b6a-46c9b2400d29",
   "metadata": {},
   "outputs": [
    {
     "name": "stdout",
     "output_type": "stream",
     "text": [
      "<class 'pandas.core.frame.DataFrame'>\n",
      "Int64Index: 129 entries, 0 to 128\n",
      "Data columns (total 17 columns):\n",
      " #   Column      Non-Null Count  Dtype  \n",
      "---  ------      --------------  -----  \n",
      " 0   prod_code   129 non-null    object \n",
      " 1   计价类型        129 non-null    int64  \n",
      " 2   周期类型        129 non-null    int64  \n",
      " 3   模式          129 non-null    int64  \n",
      " 4   风险等级        0 non-null      float64\n",
      " 5   是否允许变更分红方式  129 non-null    int64  \n",
      " 6   持有天数        129 non-null    int64  \n",
      " 7   数据日期        129 non-null    object \n",
      " 8   募集方式        0 non-null      float64\n",
      " 9   管理方式        0 non-null      float64\n",
      " 10  业务模式        0 non-null      float64\n",
      " 11  收益特点        0 non-null      float64\n",
      " 12  期限          0 non-null      float64\n",
      " 13  投资模式        129 non-null    int64  \n",
      " 14  预期收益率       129 non-null    float64\n",
      " 15  展示等级        129 non-null    float64\n",
      " 16  prod_class  129 non-null    int64  \n",
      "dtypes: float64(8), int64(7), object(2)\n",
      "memory usage: 18.1+ KB\n"
     ]
    }
   ],
   "source": [
    "c_prod.info()"
   ]
  },
  {
   "cell_type": "code",
   "execution_count": 122,
   "id": "502067f1-37ac-448d-bfcf-fa02d8274f3b",
   "metadata": {},
   "outputs": [
    {
     "data": {
      "text/plain": [
       "prod_code     129\n",
       "计价类型            2\n",
       "周期类型            2\n",
       "模式              2\n",
       "风险等级            0\n",
       "是否允许变更分红方式      1\n",
       "持有天数            1\n",
       "数据日期            1\n",
       "募集方式            0\n",
       "管理方式            0\n",
       "业务模式            0\n",
       "收益特点            0\n",
       "期限              0\n",
       "投资模式            1\n",
       "预期收益率          12\n",
       "展示等级            2\n",
       "prod_class      1\n",
       "dtype: int64"
      ]
     },
     "execution_count": 122,
     "metadata": {},
     "output_type": "execute_result"
    }
   ],
   "source": [
    "c_prod.nunique()"
   ]
  },
  {
   "cell_type": "code",
   "execution_count": 123,
   "id": "b29d5a0d-e569-48f8-a370-f43d07077b2d",
   "metadata": {},
   "outputs": [
    {
     "data": {
      "text/html": [
       "<div>\n",
       "<style scoped>\n",
       "    .dataframe tbody tr th:only-of-type {\n",
       "        vertical-align: middle;\n",
       "    }\n",
       "\n",
       "    .dataframe tbody tr th {\n",
       "        vertical-align: top;\n",
       "    }\n",
       "\n",
       "    .dataframe thead th {\n",
       "        text-align: right;\n",
       "    }\n",
       "</style>\n",
       "<table border=\"1\" class=\"dataframe\">\n",
       "  <thead>\n",
       "    <tr style=\"text-align: right;\">\n",
       "      <th></th>\n",
       "      <th>计价类型</th>\n",
       "      <th>周期类型</th>\n",
       "      <th>模式</th>\n",
       "      <th>风险等级</th>\n",
       "      <th>是否允许变更分红方式</th>\n",
       "      <th>持有天数</th>\n",
       "      <th>募集方式</th>\n",
       "      <th>管理方式</th>\n",
       "      <th>业务模式</th>\n",
       "      <th>收益特点</th>\n",
       "      <th>期限</th>\n",
       "      <th>投资模式</th>\n",
       "      <th>预期收益率</th>\n",
       "      <th>展示等级</th>\n",
       "      <th>prod_class</th>\n",
       "    </tr>\n",
       "  </thead>\n",
       "  <tbody>\n",
       "    <tr>\n",
       "      <th>count</th>\n",
       "      <td>129.000000</td>\n",
       "      <td>129.000000</td>\n",
       "      <td>129.000000</td>\n",
       "      <td>0.0</td>\n",
       "      <td>129.0</td>\n",
       "      <td>129.0</td>\n",
       "      <td>0.0</td>\n",
       "      <td>0.0</td>\n",
       "      <td>0.0</td>\n",
       "      <td>0.0</td>\n",
       "      <td>0.0</td>\n",
       "      <td>129.0</td>\n",
       "      <td>129.000000</td>\n",
       "      <td>129.000000</td>\n",
       "      <td>129.0</td>\n",
       "    </tr>\n",
       "    <tr>\n",
       "      <th>mean</th>\n",
       "      <td>0.015504</td>\n",
       "      <td>0.015504</td>\n",
       "      <td>1.984496</td>\n",
       "      <td>NaN</td>\n",
       "      <td>0.0</td>\n",
       "      <td>0.0</td>\n",
       "      <td>NaN</td>\n",
       "      <td>NaN</td>\n",
       "      <td>NaN</td>\n",
       "      <td>NaN</td>\n",
       "      <td>NaN</td>\n",
       "      <td>2.0</td>\n",
       "      <td>0.037139</td>\n",
       "      <td>4.658915</td>\n",
       "      <td>2.0</td>\n",
       "    </tr>\n",
       "    <tr>\n",
       "      <th>std</th>\n",
       "      <td>0.124027</td>\n",
       "      <td>0.124027</td>\n",
       "      <td>0.124027</td>\n",
       "      <td>NaN</td>\n",
       "      <td>0.0</td>\n",
       "      <td>0.0</td>\n",
       "      <td>NaN</td>\n",
       "      <td>NaN</td>\n",
       "      <td>NaN</td>\n",
       "      <td>NaN</td>\n",
       "      <td>NaN</td>\n",
       "      <td>0.0</td>\n",
       "      <td>0.005414</td>\n",
       "      <td>1.121495</td>\n",
       "      <td>0.0</td>\n",
       "    </tr>\n",
       "    <tr>\n",
       "      <th>min</th>\n",
       "      <td>0.000000</td>\n",
       "      <td>0.000000</td>\n",
       "      <td>1.000000</td>\n",
       "      <td>NaN</td>\n",
       "      <td>0.0</td>\n",
       "      <td>0.0</td>\n",
       "      <td>NaN</td>\n",
       "      <td>NaN</td>\n",
       "      <td>NaN</td>\n",
       "      <td>NaN</td>\n",
       "      <td>NaN</td>\n",
       "      <td>2.0</td>\n",
       "      <td>0.019002</td>\n",
       "      <td>1.000000</td>\n",
       "      <td>2.0</td>\n",
       "    </tr>\n",
       "    <tr>\n",
       "      <th>25%</th>\n",
       "      <td>0.000000</td>\n",
       "      <td>0.000000</td>\n",
       "      <td>2.000000</td>\n",
       "      <td>NaN</td>\n",
       "      <td>0.0</td>\n",
       "      <td>0.0</td>\n",
       "      <td>NaN</td>\n",
       "      <td>NaN</td>\n",
       "      <td>NaN</td>\n",
       "      <td>NaN</td>\n",
       "      <td>NaN</td>\n",
       "      <td>2.0</td>\n",
       "      <td>0.038375</td>\n",
       "      <td>5.000000</td>\n",
       "      <td>2.0</td>\n",
       "    </tr>\n",
       "    <tr>\n",
       "      <th>50%</th>\n",
       "      <td>0.000000</td>\n",
       "      <td>0.000000</td>\n",
       "      <td>2.000000</td>\n",
       "      <td>NaN</td>\n",
       "      <td>0.0</td>\n",
       "      <td>0.0</td>\n",
       "      <td>NaN</td>\n",
       "      <td>NaN</td>\n",
       "      <td>NaN</td>\n",
       "      <td>NaN</td>\n",
       "      <td>NaN</td>\n",
       "      <td>2.0</td>\n",
       "      <td>0.038375</td>\n",
       "      <td>5.000000</td>\n",
       "      <td>2.0</td>\n",
       "    </tr>\n",
       "    <tr>\n",
       "      <th>75%</th>\n",
       "      <td>0.000000</td>\n",
       "      <td>0.000000</td>\n",
       "      <td>2.000000</td>\n",
       "      <td>NaN</td>\n",
       "      <td>0.0</td>\n",
       "      <td>0.0</td>\n",
       "      <td>NaN</td>\n",
       "      <td>NaN</td>\n",
       "      <td>NaN</td>\n",
       "      <td>NaN</td>\n",
       "      <td>NaN</td>\n",
       "      <td>2.0</td>\n",
       "      <td>0.038375</td>\n",
       "      <td>5.000000</td>\n",
       "      <td>2.0</td>\n",
       "    </tr>\n",
       "    <tr>\n",
       "      <th>max</th>\n",
       "      <td>1.000000</td>\n",
       "      <td>1.000000</td>\n",
       "      <td>2.000000</td>\n",
       "      <td>NaN</td>\n",
       "      <td>0.0</td>\n",
       "      <td>0.0</td>\n",
       "      <td>NaN</td>\n",
       "      <td>NaN</td>\n",
       "      <td>NaN</td>\n",
       "      <td>NaN</td>\n",
       "      <td>NaN</td>\n",
       "      <td>2.0</td>\n",
       "      <td>0.045856</td>\n",
       "      <td>5.000000</td>\n",
       "      <td>2.0</td>\n",
       "    </tr>\n",
       "  </tbody>\n",
       "</table>\n",
       "</div>"
      ],
      "text/plain": [
       "             计价类型        周期类型          模式  风险等级  是否允许变更分红方式   持有天数  募集方式  \\\n",
       "count  129.000000  129.000000  129.000000   0.0       129.0  129.0   0.0   \n",
       "mean     0.015504    0.015504    1.984496   NaN         0.0    0.0   NaN   \n",
       "std      0.124027    0.124027    0.124027   NaN         0.0    0.0   NaN   \n",
       "min      0.000000    0.000000    1.000000   NaN         0.0    0.0   NaN   \n",
       "25%      0.000000    0.000000    2.000000   NaN         0.0    0.0   NaN   \n",
       "50%      0.000000    0.000000    2.000000   NaN         0.0    0.0   NaN   \n",
       "75%      0.000000    0.000000    2.000000   NaN         0.0    0.0   NaN   \n",
       "max      1.000000    1.000000    2.000000   NaN         0.0    0.0   NaN   \n",
       "\n",
       "       管理方式  业务模式  收益特点   期限   投资模式       预期收益率        展示等级  prod_class  \n",
       "count   0.0   0.0   0.0  0.0  129.0  129.000000  129.000000       129.0  \n",
       "mean    NaN   NaN   NaN  NaN    2.0    0.037139    4.658915         2.0  \n",
       "std     NaN   NaN   NaN  NaN    0.0    0.005414    1.121495         0.0  \n",
       "min     NaN   NaN   NaN  NaN    2.0    0.019002    1.000000         2.0  \n",
       "25%     NaN   NaN   NaN  NaN    2.0    0.038375    5.000000         2.0  \n",
       "50%     NaN   NaN   NaN  NaN    2.0    0.038375    5.000000         2.0  \n",
       "75%     NaN   NaN   NaN  NaN    2.0    0.038375    5.000000         2.0  \n",
       "max     NaN   NaN   NaN  NaN    2.0    0.045856    5.000000         2.0  "
      ]
     },
     "execution_count": 123,
     "metadata": {},
     "output_type": "execute_result"
    }
   ],
   "source": [
    "c_prod.describe()"
   ]
  },
  {
   "cell_type": "markdown",
   "id": "340f5ca7-9bf6-421e-b9c8-76db843e46a3",
   "metadata": {},
   "source": [
    "### D产品表"
   ]
  },
  {
   "cell_type": "code",
   "execution_count": 124,
   "id": "d8efeed7-3906-4bfe-90b3-f4f9ce954549",
   "metadata": {},
   "outputs": [
    {
     "data": {
      "text/html": [
       "<div>\n",
       "<style scoped>\n",
       "    .dataframe tbody tr th:only-of-type {\n",
       "        vertical-align: middle;\n",
       "    }\n",
       "\n",
       "    .dataframe tbody tr th {\n",
       "        vertical-align: top;\n",
       "    }\n",
       "\n",
       "    .dataframe thead th {\n",
       "        text-align: right;\n",
       "    }\n",
       "</style>\n",
       "<table border=\"1\" class=\"dataframe\">\n",
       "  <thead>\n",
       "    <tr style=\"text-align: right;\">\n",
       "      <th></th>\n",
       "      <th>prod_code</th>\n",
       "      <th>j1</th>\n",
       "      <th>j2</th>\n",
       "      <th>j3</th>\n",
       "      <th>j4</th>\n",
       "      <th>j5</th>\n",
       "      <th>j6</th>\n",
       "      <th>j7</th>\n",
       "      <th>j8</th>\n",
       "      <th>j9</th>\n",
       "      <th>j10</th>\n",
       "      <th>j11</th>\n",
       "      <th>j12</th>\n",
       "      <th>j13</th>\n",
       "    </tr>\n",
       "  </thead>\n",
       "  <tbody>\n",
       "    <tr>\n",
       "      <th>0</th>\n",
       "      <td>FYG21040C</td>\n",
       "      <td>1</td>\n",
       "      <td>1</td>\n",
       "      <td>6.0</td>\n",
       "      <td>2</td>\n",
       "      <td>1</td>\n",
       "      <td>2</td>\n",
       "      <td>0.0011</td>\n",
       "      <td>0.0011</td>\n",
       "      <td>1</td>\n",
       "      <td>1</td>\n",
       "      <td>4.4735</td>\n",
       "      <td>1</td>\n",
       "      <td>202112</td>\n",
       "    </tr>\n",
       "    <tr>\n",
       "      <th>1</th>\n",
       "      <td>H201224A</td>\n",
       "      <td>1</td>\n",
       "      <td>1</td>\n",
       "      <td>6.0</td>\n",
       "      <td>1</td>\n",
       "      <td>0</td>\n",
       "      <td>1</td>\n",
       "      <td>0.0368</td>\n",
       "      <td>0.0368</td>\n",
       "      <td>1</td>\n",
       "      <td>1</td>\n",
       "      <td>NaN</td>\n",
       "      <td>1</td>\n",
       "      <td>202112</td>\n",
       "    </tr>\n",
       "  </tbody>\n",
       "</table>\n",
       "</div>"
      ],
      "text/plain": [
       "   prod_code  j1  j2   j3  j4  j5  j6      j7      j8  j9  j10     j11  j12  \\\n",
       "0  FYG21040C   1   1  6.0   2   1   2  0.0011  0.0011   1    1  4.4735    1   \n",
       "1   H201224A   1   1  6.0   1   0   1  0.0368  0.0368   1    1     NaN    1   \n",
       "\n",
       "      j13  \n",
       "0  202112  \n",
       "1  202112  "
      ]
     },
     "execution_count": 124,
     "metadata": {},
     "output_type": "execute_result"
    }
   ],
   "source": [
    "j_data = pd.read_csv(path2 + 'j.csv')\n",
    "j_data.head(2)"
   ]
  },
  {
   "cell_type": "code",
   "execution_count": 125,
   "id": "41490c4a-3b7c-4b95-b147-90aa1993f85b",
   "metadata": {},
   "outputs": [],
   "source": [
    "j_columns = ['prod_code', '计价类型', '周期类型', '模式', '风险等级', '是否允许变更分红方式', '收益计息基数', '最低收益率', '最高收益率', \n",
    "             '产品面值', '发行价格', '预期收益率', '持有天数', '数据日期']"
   ]
  },
  {
   "cell_type": "code",
   "execution_count": 126,
   "id": "a53a0722-d455-4759-b26d-b292267c9353",
   "metadata": {},
   "outputs": [
    {
     "data": {
      "text/html": [
       "<div>\n",
       "<style scoped>\n",
       "    .dataframe tbody tr th:only-of-type {\n",
       "        vertical-align: middle;\n",
       "    }\n",
       "\n",
       "    .dataframe tbody tr th {\n",
       "        vertical-align: top;\n",
       "    }\n",
       "\n",
       "    .dataframe thead th {\n",
       "        text-align: right;\n",
       "    }\n",
       "</style>\n",
       "<table border=\"1\" class=\"dataframe\">\n",
       "  <thead>\n",
       "    <tr style=\"text-align: right;\">\n",
       "      <th></th>\n",
       "      <th>prod_code</th>\n",
       "      <th>计价类型</th>\n",
       "      <th>周期类型</th>\n",
       "      <th>模式</th>\n",
       "      <th>风险等级</th>\n",
       "      <th>是否允许变更分红方式</th>\n",
       "      <th>收益计息基数</th>\n",
       "      <th>最低收益率</th>\n",
       "      <th>最高收益率</th>\n",
       "      <th>产品面值</th>\n",
       "      <th>发行价格</th>\n",
       "      <th>预期收益率</th>\n",
       "      <th>持有天数</th>\n",
       "      <th>数据日期</th>\n",
       "    </tr>\n",
       "  </thead>\n",
       "  <tbody>\n",
       "    <tr>\n",
       "      <th>0</th>\n",
       "      <td>FYG21040C</td>\n",
       "      <td>1</td>\n",
       "      <td>1</td>\n",
       "      <td>6.0</td>\n",
       "      <td>2</td>\n",
       "      <td>1</td>\n",
       "      <td>2</td>\n",
       "      <td>0.0011</td>\n",
       "      <td>0.0011</td>\n",
       "      <td>1</td>\n",
       "      <td>1</td>\n",
       "      <td>4.4735</td>\n",
       "      <td>1</td>\n",
       "      <td>202112</td>\n",
       "    </tr>\n",
       "    <tr>\n",
       "      <th>1</th>\n",
       "      <td>H201224A</td>\n",
       "      <td>1</td>\n",
       "      <td>1</td>\n",
       "      <td>6.0</td>\n",
       "      <td>1</td>\n",
       "      <td>0</td>\n",
       "      <td>1</td>\n",
       "      <td>0.0368</td>\n",
       "      <td>0.0368</td>\n",
       "      <td>1</td>\n",
       "      <td>1</td>\n",
       "      <td>NaN</td>\n",
       "      <td>1</td>\n",
       "      <td>202112</td>\n",
       "    </tr>\n",
       "  </tbody>\n",
       "</table>\n",
       "</div>"
      ],
      "text/plain": [
       "   prod_code  计价类型  周期类型   模式  风险等级  是否允许变更分红方式  收益计息基数   最低收益率   最高收益率  产品面值  \\\n",
       "0  FYG21040C     1     1  6.0     2           1       2  0.0011  0.0011     1   \n",
       "1   H201224A     1     1  6.0     1           0       1  0.0368  0.0368     1   \n",
       "\n",
       "   发行价格   预期收益率  持有天数    数据日期  \n",
       "0     1  4.4735     1  202112  \n",
       "1     1     NaN     1  202112  "
      ]
     },
     "execution_count": 126,
     "metadata": {},
     "output_type": "execute_result"
    }
   ],
   "source": [
    "j_data.columns = j_columns\n",
    "j_data.head(2)"
   ]
  },
  {
   "cell_type": "code",
   "execution_count": 127,
   "id": "ebada773-fb20-4afc-8b1c-600e55768b72",
   "metadata": {},
   "outputs": [],
   "source": [
    "j_data['数据日期'] = j_data['数据日期'].astype('object')"
   ]
  },
  {
   "cell_type": "code",
   "execution_count": 128,
   "id": "3619b919-388d-4124-9e7d-1fafd9021fb5",
   "metadata": {},
   "outputs": [],
   "source": [
    "j_data.drop(['收益计息基数', '最低收益率', '最高收益率', '产品面值', '发行价格'], axis=1, inplace=True)"
   ]
  },
  {
   "cell_type": "code",
   "execution_count": 129,
   "id": "69f8c9de-3e8a-4518-8d6c-15b80d4f9bb8",
   "metadata": {},
   "outputs": [],
   "source": [
    "j_data['模式'].fillna(6, inplace=True)\n",
    "j_data['预期收益率'].fillna(4.1, inplace=True)"
   ]
  },
  {
   "cell_type": "code",
   "execution_count": 130,
   "id": "c0460731-83b4-4f5f-b412-a9560cc1bae3",
   "metadata": {},
   "outputs": [],
   "source": [
    "d_prod = j_data.copy()"
   ]
  },
  {
   "cell_type": "code",
   "execution_count": 131,
   "id": "6df20409-1757-4bef-8525-1409073bff6d",
   "metadata": {},
   "outputs": [],
   "source": [
    "d_prod['prod_class'] = 4"
   ]
  },
  {
   "cell_type": "code",
   "execution_count": 132,
   "id": "794caea0-0997-432f-86e1-500df4a6bee4",
   "metadata": {},
   "outputs": [
    {
     "name": "stdout",
     "output_type": "stream",
     "text": [
      "<class 'pandas.core.frame.DataFrame'>\n",
      "RangeIndex: 231 entries, 0 to 230\n",
      "Data columns (total 10 columns):\n",
      " #   Column      Non-Null Count  Dtype  \n",
      "---  ------      --------------  -----  \n",
      " 0   prod_code   231 non-null    object \n",
      " 1   计价类型        231 non-null    int64  \n",
      " 2   周期类型        231 non-null    int64  \n",
      " 3   模式          231 non-null    float64\n",
      " 4   风险等级        231 non-null    int64  \n",
      " 5   是否允许变更分红方式  231 non-null    int64  \n",
      " 6   预期收益率       231 non-null    float64\n",
      " 7   持有天数        231 non-null    int64  \n",
      " 8   数据日期        231 non-null    object \n",
      " 9   prod_class  231 non-null    int64  \n",
      "dtypes: float64(2), int64(6), object(2)\n",
      "memory usage: 18.2+ KB\n"
     ]
    }
   ],
   "source": [
    "d_prod.info()"
   ]
  },
  {
   "cell_type": "code",
   "execution_count": 133,
   "id": "acbec798-8cfd-45c5-acf5-ca44eaa9db8d",
   "metadata": {},
   "outputs": [
    {
     "data": {
      "text/plain": [
       "prod_code     231\n",
       "计价类型            1\n",
       "周期类型            2\n",
       "模式              3\n",
       "风险等级            3\n",
       "是否允许变更分红方式      2\n",
       "预期收益率          32\n",
       "持有天数            1\n",
       "数据日期            1\n",
       "prod_class      1\n",
       "dtype: int64"
      ]
     },
     "execution_count": 133,
     "metadata": {},
     "output_type": "execute_result"
    }
   ],
   "source": [
    "d_prod.nunique()"
   ]
  },
  {
   "cell_type": "code",
   "execution_count": 134,
   "id": "06f3c2f1-b785-453c-8daa-7da9909c1826",
   "metadata": {},
   "outputs": [
    {
     "data": {
      "text/html": [
       "<div>\n",
       "<style scoped>\n",
       "    .dataframe tbody tr th:only-of-type {\n",
       "        vertical-align: middle;\n",
       "    }\n",
       "\n",
       "    .dataframe tbody tr th {\n",
       "        vertical-align: top;\n",
       "    }\n",
       "\n",
       "    .dataframe thead th {\n",
       "        text-align: right;\n",
       "    }\n",
       "</style>\n",
       "<table border=\"1\" class=\"dataframe\">\n",
       "  <thead>\n",
       "    <tr style=\"text-align: right;\">\n",
       "      <th></th>\n",
       "      <th>计价类型</th>\n",
       "      <th>周期类型</th>\n",
       "      <th>模式</th>\n",
       "      <th>风险等级</th>\n",
       "      <th>是否允许变更分红方式</th>\n",
       "      <th>预期收益率</th>\n",
       "      <th>持有天数</th>\n",
       "      <th>prod_class</th>\n",
       "    </tr>\n",
       "  </thead>\n",
       "  <tbody>\n",
       "    <tr>\n",
       "      <th>count</th>\n",
       "      <td>231.0</td>\n",
       "      <td>231.000000</td>\n",
       "      <td>231.000000</td>\n",
       "      <td>231.000000</td>\n",
       "      <td>231.000000</td>\n",
       "      <td>231.000000</td>\n",
       "      <td>231.0</td>\n",
       "      <td>231.0</td>\n",
       "    </tr>\n",
       "    <tr>\n",
       "      <th>mean</th>\n",
       "      <td>1.0</td>\n",
       "      <td>0.917749</td>\n",
       "      <td>5.861472</td>\n",
       "      <td>1.839827</td>\n",
       "      <td>0.225108</td>\n",
       "      <td>4.101308</td>\n",
       "      <td>1.0</td>\n",
       "      <td>4.0</td>\n",
       "    </tr>\n",
       "    <tr>\n",
       "      <th>std</th>\n",
       "      <td>0.0</td>\n",
       "      <td>0.275343</td>\n",
       "      <td>0.744741</td>\n",
       "      <td>0.682303</td>\n",
       "      <td>0.418561</td>\n",
       "      <td>0.525355</td>\n",
       "      <td>0.0</td>\n",
       "      <td>0.0</td>\n",
       "    </tr>\n",
       "    <tr>\n",
       "      <th>min</th>\n",
       "      <td>1.0</td>\n",
       "      <td>0.000000</td>\n",
       "      <td>1.000000</td>\n",
       "      <td>1.000000</td>\n",
       "      <td>0.000000</td>\n",
       "      <td>0.116000</td>\n",
       "      <td>1.0</td>\n",
       "      <td>4.0</td>\n",
       "    </tr>\n",
       "    <tr>\n",
       "      <th>25%</th>\n",
       "      <td>1.0</td>\n",
       "      <td>1.000000</td>\n",
       "      <td>6.000000</td>\n",
       "      <td>1.000000</td>\n",
       "      <td>0.000000</td>\n",
       "      <td>4.027250</td>\n",
       "      <td>1.0</td>\n",
       "      <td>4.0</td>\n",
       "    </tr>\n",
       "    <tr>\n",
       "      <th>50%</th>\n",
       "      <td>1.0</td>\n",
       "      <td>1.000000</td>\n",
       "      <td>6.000000</td>\n",
       "      <td>2.000000</td>\n",
       "      <td>0.000000</td>\n",
       "      <td>4.100000</td>\n",
       "      <td>1.0</td>\n",
       "      <td>4.0</td>\n",
       "    </tr>\n",
       "    <tr>\n",
       "      <th>75%</th>\n",
       "      <td>1.0</td>\n",
       "      <td>1.000000</td>\n",
       "      <td>6.000000</td>\n",
       "      <td>2.000000</td>\n",
       "      <td>0.000000</td>\n",
       "      <td>4.211000</td>\n",
       "      <td>1.0</td>\n",
       "      <td>4.0</td>\n",
       "    </tr>\n",
       "    <tr>\n",
       "      <th>max</th>\n",
       "      <td>1.0</td>\n",
       "      <td>1.000000</td>\n",
       "      <td>6.000000</td>\n",
       "      <td>3.000000</td>\n",
       "      <td>1.000000</td>\n",
       "      <td>5.103500</td>\n",
       "      <td>1.0</td>\n",
       "      <td>4.0</td>\n",
       "    </tr>\n",
       "  </tbody>\n",
       "</table>\n",
       "</div>"
      ],
      "text/plain": [
       "        计价类型        周期类型          模式        风险等级  是否允许变更分红方式       预期收益率  \\\n",
       "count  231.0  231.000000  231.000000  231.000000  231.000000  231.000000   \n",
       "mean     1.0    0.917749    5.861472    1.839827    0.225108    4.101308   \n",
       "std      0.0    0.275343    0.744741    0.682303    0.418561    0.525355   \n",
       "min      1.0    0.000000    1.000000    1.000000    0.000000    0.116000   \n",
       "25%      1.0    1.000000    6.000000    1.000000    0.000000    4.027250   \n",
       "50%      1.0    1.000000    6.000000    2.000000    0.000000    4.100000   \n",
       "75%      1.0    1.000000    6.000000    2.000000    0.000000    4.211000   \n",
       "max      1.0    1.000000    6.000000    3.000000    1.000000    5.103500   \n",
       "\n",
       "        持有天数  prod_class  \n",
       "count  231.0       231.0  \n",
       "mean     1.0         4.0  \n",
       "std      0.0         0.0  \n",
       "min      1.0         4.0  \n",
       "25%      1.0         4.0  \n",
       "50%      1.0         4.0  \n",
       "75%      1.0         4.0  \n",
       "max      1.0         4.0  "
      ]
     },
     "execution_count": 134,
     "metadata": {},
     "output_type": "execute_result"
    }
   ],
   "source": [
    "d_prod.describe()"
   ]
  },
  {
   "cell_type": "code",
   "execution_count": 135,
   "id": "0f8f76b4-73f3-4073-af4c-6226b057abad",
   "metadata": {},
   "outputs": [
    {
     "data": {
      "text/plain": [
       "Index(['prod_code', '计价类型', '周期类型', '模式', '风险等级', '是否允许变更分红方式', '持有天数', '数据日期',\n",
       "       '募集方式', '管理方式', '业务模式', '收益特点', '期限', '投资模式', '预期收益率', '展示等级',\n",
       "       'prod_class'],\n",
       "      dtype='object')"
      ]
     },
     "execution_count": 135,
     "metadata": {},
     "output_type": "execute_result"
    }
   ],
   "source": [
    "a_prod.columns"
   ]
  },
  {
   "cell_type": "code",
   "execution_count": 136,
   "id": "033d3086-6884-4910-b563-f37e979383a0",
   "metadata": {},
   "outputs": [
    {
     "data": {
      "text/plain": [
       "Index(['prod_code', '计价类型', '周期类型', '模式', '风险等级', '是否允许变更分红方式', '数据日期', '募集方式',\n",
       "       '管理方式', '业务模式', '收益特点', '期限', '投资模式', 'prod_class'],\n",
       "      dtype='object')"
      ]
     },
     "execution_count": 136,
     "metadata": {},
     "output_type": "execute_result"
    }
   ],
   "source": [
    "b_prod.columns"
   ]
  },
  {
   "cell_type": "code",
   "execution_count": 137,
   "id": "72182a2c-4ffb-4bb6-be98-a750994c57ec",
   "metadata": {},
   "outputs": [
    {
     "data": {
      "text/plain": [
       "Index(['prod_code', '计价类型', '周期类型', '模式', '风险等级', '是否允许变更分红方式', '持有天数', '数据日期',\n",
       "       '募集方式', '管理方式', '业务模式', '收益特点', '期限', '投资模式', '预期收益率', '展示等级',\n",
       "       'prod_class'],\n",
       "      dtype='object')"
      ]
     },
     "execution_count": 137,
     "metadata": {},
     "output_type": "execute_result"
    }
   ],
   "source": [
    "c_prod.columns"
   ]
  },
  {
   "cell_type": "code",
   "execution_count": 138,
   "id": "848073e9-6bd7-4a3d-973e-26e21b639989",
   "metadata": {},
   "outputs": [
    {
     "data": {
      "text/plain": [
       "Index(['prod_code', '计价类型', '周期类型', '模式', '风险等级', '是否允许变更分红方式', '预期收益率',\n",
       "       '持有天数', '数据日期', 'prod_class'],\n",
       "      dtype='object')"
      ]
     },
     "execution_count": 138,
     "metadata": {},
     "output_type": "execute_result"
    }
   ],
   "source": [
    "d_prod.columns"
   ]
  },
  {
   "cell_type": "markdown",
   "id": "d7b913d6-682c-42e6-9b58-2c62535a700b",
   "metadata": {},
   "source": [
    "### A+B+C+D的产品表"
   ]
  },
  {
   "cell_type": "code",
   "execution_count": 139,
   "id": "d81f934f-8f77-418f-998f-d65fb9831dba",
   "metadata": {},
   "outputs": [
    {
     "data": {
      "text/html": [
       "<div>\n",
       "<style scoped>\n",
       "    .dataframe tbody tr th:only-of-type {\n",
       "        vertical-align: middle;\n",
       "    }\n",
       "\n",
       "    .dataframe tbody tr th {\n",
       "        vertical-align: top;\n",
       "    }\n",
       "\n",
       "    .dataframe thead th {\n",
       "        text-align: right;\n",
       "    }\n",
       "</style>\n",
       "<table border=\"1\" class=\"dataframe\">\n",
       "  <thead>\n",
       "    <tr style=\"text-align: right;\">\n",
       "      <th></th>\n",
       "      <th>prod_code</th>\n",
       "      <th>计价类型</th>\n",
       "      <th>周期类型</th>\n",
       "      <th>模式</th>\n",
       "      <th>风险等级</th>\n",
       "      <th>是否允许变更分红方式</th>\n",
       "      <th>持有天数</th>\n",
       "      <th>数据日期</th>\n",
       "      <th>募集方式</th>\n",
       "      <th>管理方式</th>\n",
       "      <th>业务模式</th>\n",
       "      <th>收益特点</th>\n",
       "      <th>期限</th>\n",
       "      <th>投资模式</th>\n",
       "      <th>预期收益率</th>\n",
       "      <th>展示等级</th>\n",
       "      <th>prod_class</th>\n",
       "    </tr>\n",
       "  </thead>\n",
       "  <tbody>\n",
       "    <tr>\n",
       "      <th>0</th>\n",
       "      <td>ZXGRHLA2021059</td>\n",
       "      <td>0.0</td>\n",
       "      <td>1.0</td>\n",
       "      <td>1.0</td>\n",
       "      <td>1.0</td>\n",
       "      <td>0.0</td>\n",
       "      <td>364.0</td>\n",
       "      <td>209912.0</td>\n",
       "      <td>0.0</td>\n",
       "      <td>2.0</td>\n",
       "      <td>1.0</td>\n",
       "      <td>2.0</td>\n",
       "      <td>NaN</td>\n",
       "      <td>1.0</td>\n",
       "      <td>0.042680</td>\n",
       "      <td>5.0</td>\n",
       "      <td>1</td>\n",
       "    </tr>\n",
       "    <tr>\n",
       "      <th>1</th>\n",
       "      <td>GRSHB201902005</td>\n",
       "      <td>0.0</td>\n",
       "      <td>1.0</td>\n",
       "      <td>1.0</td>\n",
       "      <td>1.0</td>\n",
       "      <td>0.0</td>\n",
       "      <td>1.0</td>\n",
       "      <td>209912.0</td>\n",
       "      <td>0.0</td>\n",
       "      <td>2.0</td>\n",
       "      <td>1.0</td>\n",
       "      <td>2.0</td>\n",
       "      <td>NaN</td>\n",
       "      <td>1.0</td>\n",
       "      <td>0.027350</td>\n",
       "      <td>5.0</td>\n",
       "      <td>1</td>\n",
       "    </tr>\n",
       "    <tr>\n",
       "      <th>2</th>\n",
       "      <td>GRHLA20211629</td>\n",
       "      <td>0.0</td>\n",
       "      <td>1.0</td>\n",
       "      <td>1.0</td>\n",
       "      <td>1.0</td>\n",
       "      <td>0.0</td>\n",
       "      <td>112.0</td>\n",
       "      <td>209912.0</td>\n",
       "      <td>0.0</td>\n",
       "      <td>2.0</td>\n",
       "      <td>1.0</td>\n",
       "      <td>2.0</td>\n",
       "      <td>5.0</td>\n",
       "      <td>1.0</td>\n",
       "      <td>0.040475</td>\n",
       "      <td>2.0</td>\n",
       "      <td>1</td>\n",
       "    </tr>\n",
       "  </tbody>\n",
       "</table>\n",
       "</div>"
      ],
      "text/plain": [
       "        prod_code  计价类型  周期类型   模式  风险等级  是否允许变更分红方式   持有天数      数据日期  募集方式  \\\n",
       "0  ZXGRHLA2021059   0.0   1.0  1.0   1.0         0.0  364.0  209912.0   0.0   \n",
       "1  GRSHB201902005   0.0   1.0  1.0   1.0         0.0    1.0  209912.0   0.0   \n",
       "2   GRHLA20211629   0.0   1.0  1.0   1.0         0.0  112.0  209912.0   0.0   \n",
       "\n",
       "   管理方式  业务模式  收益特点   期限  投资模式     预期收益率  展示等级  prod_class  \n",
       "0   2.0   1.0   2.0  NaN   1.0  0.042680   5.0           1  \n",
       "1   2.0   1.0   2.0  NaN   1.0  0.027350   5.0           1  \n",
       "2   2.0   1.0   2.0  5.0   1.0  0.040475   2.0           1  "
      ]
     },
     "execution_count": 139,
     "metadata": {},
     "output_type": "execute_result"
    }
   ],
   "source": [
    "prod_data = pd.concat([a_prod, b_prod, c_prod, d_prod])\n",
    "prod_data.reset_index(inplace=True)\n",
    "del prod_data['index']\n",
    "prod_data.head(3)"
   ]
  },
  {
   "cell_type": "code",
   "execution_count": 140,
   "id": "1e70d719-c63a-467c-b4e3-2f3d8797e0b1",
   "metadata": {},
   "outputs": [
    {
     "name": "stdout",
     "output_type": "stream",
     "text": [
      "<class 'pandas.core.frame.DataFrame'>\n",
      "RangeIndex: 26266 entries, 0 to 26265\n",
      "Data columns (total 17 columns):\n",
      " #   Column      Non-Null Count  Dtype  \n",
      "---  ------      --------------  -----  \n",
      " 0   prod_code   26266 non-null  object \n",
      " 1   计价类型        26266 non-null  float64\n",
      " 2   周期类型        26266 non-null  float64\n",
      " 3   模式          26266 non-null  float64\n",
      " 4   风险等级        26137 non-null  float64\n",
      " 5   是否允许变更分红方式  26266 non-null  float64\n",
      " 6   持有天数        6917 non-null   float64\n",
      " 7   数据日期        26266 non-null  object \n",
      " 8   募集方式        25406 non-null  float64\n",
      " 9   管理方式        25406 non-null  float64\n",
      " 10  业务模式        25406 non-null  float64\n",
      " 11  收益特点        25876 non-null  float64\n",
      " 12  期限          3152 non-null   float64\n",
      " 13  投资模式        26035 non-null  float64\n",
      " 14  预期收益率       23234 non-null  float64\n",
      " 15  展示等级        23033 non-null  float64\n",
      " 16  prod_class  26266 non-null  int64  \n",
      "dtypes: float64(14), int64(1), object(2)\n",
      "memory usage: 3.4+ MB\n"
     ]
    }
   ],
   "source": [
    "prod_data.info()"
   ]
  },
  {
   "cell_type": "code",
   "execution_count": 141,
   "id": "f1dc0b94-636b-4eff-8542-ad43318be3bf",
   "metadata": {},
   "outputs": [
    {
     "data": {
      "text/plain": [
       "prod_code     25825\n",
       "计价类型              2\n",
       "周期类型              2\n",
       "模式                4\n",
       "风险等级              3\n",
       "是否允许变更分红方式        2\n",
       "持有天数            320\n",
       "数据日期             32\n",
       "募集方式              2\n",
       "管理方式              2\n",
       "业务模式              2\n",
       "收益特点              2\n",
       "期限                6\n",
       "投资模式              3\n",
       "预期收益率           250\n",
       "展示等级              5\n",
       "prod_class        4\n",
       "dtype: int64"
      ]
     },
     "execution_count": 141,
     "metadata": {},
     "output_type": "execute_result"
    }
   ],
   "source": [
    "prod_data.nunique()"
   ]
  },
  {
   "cell_type": "code",
   "execution_count": 142,
   "id": "a0e60b3e-9965-4614-8353-e4fb737bed60",
   "metadata": {},
   "outputs": [],
   "source": [
    "prod_data.to_pickle('product.pkl')"
   ]
  },
  {
   "cell_type": "markdown",
   "id": "94e08aac-5c06-4760-b924-4e94dd80e901",
   "metadata": {},
   "source": [
    "### A产品流水表"
   ]
  },
  {
   "cell_type": "code",
   "execution_count": 143,
   "id": "077c83b9-3f0d-4fdf-bc14-14a628726e8f",
   "metadata": {},
   "outputs": [
    {
     "data": {
      "text/html": [
       "<div>\n",
       "<style scoped>\n",
       "    .dataframe tbody tr th:only-of-type {\n",
       "        vertical-align: middle;\n",
       "    }\n",
       "\n",
       "    .dataframe tbody tr th {\n",
       "        vertical-align: top;\n",
       "    }\n",
       "\n",
       "    .dataframe thead th {\n",
       "        text-align: right;\n",
       "    }\n",
       "</style>\n",
       "<table border=\"1\" class=\"dataframe\">\n",
       "  <thead>\n",
       "    <tr style=\"text-align: right;\">\n",
       "      <th></th>\n",
       "      <th>n1</th>\n",
       "      <th>n2</th>\n",
       "      <th>n3</th>\n",
       "      <th>core_cust_id</th>\n",
       "      <th>prod_code</th>\n",
       "      <th>n6</th>\n",
       "      <th>n7</th>\n",
       "      <th>n8</th>\n",
       "      <th>n9</th>\n",
       "      <th>n10</th>\n",
       "      <th>n11</th>\n",
       "    </tr>\n",
       "  </thead>\n",
       "  <tbody>\n",
       "    <tr>\n",
       "      <th>0</th>\n",
       "      <td>JGX202101020000005963478</td>\n",
       "      <td>4.0</td>\n",
       "      <td>1</td>\n",
       "      <td>48e046e615</td>\n",
       "      <td>GRHLA2020552</td>\n",
       "      <td>1</td>\n",
       "      <td>220610.0</td>\n",
       "      <td>1</td>\n",
       "      <td>2</td>\n",
       "      <td>0</td>\n",
       "      <td>20210102</td>\n",
       "    </tr>\n",
       "    <tr>\n",
       "      <th>1</th>\n",
       "      <td>JGX202101200000006096306</td>\n",
       "      <td>8.0</td>\n",
       "      <td>5</td>\n",
       "      <td>48e046e615</td>\n",
       "      <td>GRSHC2020390</td>\n",
       "      <td>1</td>\n",
       "      <td>110.0</td>\n",
       "      <td>6</td>\n",
       "      <td>3</td>\n",
       "      <td>0</td>\n",
       "      <td>20210120</td>\n",
       "    </tr>\n",
       "  </tbody>\n",
       "</table>\n",
       "</div>"
      ],
      "text/plain": [
       "                         n1   n2  n3 core_cust_id     prod_code  n6        n7  \\\n",
       "0  JGX202101020000005963478  4.0   1   48e046e615  GRHLA2020552   1  220610.0   \n",
       "1  JGX202101200000006096306  8.0   5   48e046e615  GRSHC2020390   1     110.0   \n",
       "\n",
       "   n8  n9  n10       n11  \n",
       "0   1   2    0  20210102  \n",
       "1   6   3    0  20210120  "
      ]
     },
     "execution_count": 143,
     "metadata": {},
     "output_type": "execute_result"
    }
   ],
   "source": [
    "n_data = pd.read_csv(path2 + 'n.csv', thousands=',')\n",
    "#n_data = reduce_mem_usage(n_data)\n",
    "n_data.head(2)"
   ]
  },
  {
   "cell_type": "code",
   "execution_count": 144,
   "id": "75a58f7e-fbc8-4863-99c3-e50724e5fe43",
   "metadata": {},
   "outputs": [],
   "source": [
    "n_columns = ['流水号', '业务代码', '渠道标识', 'core_cust_id', 'prod_code', '净值', '申请金额', '资金状态', '交易状态', '总金额', 'trade_date']"
   ]
  },
  {
   "cell_type": "code",
   "execution_count": 145,
   "id": "8f36f235-51b8-4d58-9274-d39e334426b1",
   "metadata": {},
   "outputs": [],
   "source": [
    "n_data.columns = n_columns"
   ]
  },
  {
   "cell_type": "code",
   "execution_count": 146,
   "id": "6d452b86-2fe2-449e-81d3-2721491a8df3",
   "metadata": {},
   "outputs": [
    {
     "data": {
      "text/html": [
       "<div>\n",
       "<style scoped>\n",
       "    .dataframe tbody tr th:only-of-type {\n",
       "        vertical-align: middle;\n",
       "    }\n",
       "\n",
       "    .dataframe tbody tr th {\n",
       "        vertical-align: top;\n",
       "    }\n",
       "\n",
       "    .dataframe thead th {\n",
       "        text-align: right;\n",
       "    }\n",
       "</style>\n",
       "<table border=\"1\" class=\"dataframe\">\n",
       "  <thead>\n",
       "    <tr style=\"text-align: right;\">\n",
       "      <th></th>\n",
       "      <th>流水号</th>\n",
       "      <th>业务代码</th>\n",
       "      <th>渠道标识</th>\n",
       "      <th>core_cust_id</th>\n",
       "      <th>prod_code</th>\n",
       "      <th>净值</th>\n",
       "      <th>申请金额</th>\n",
       "      <th>资金状态</th>\n",
       "      <th>交易状态</th>\n",
       "      <th>总金额</th>\n",
       "      <th>trade_date</th>\n",
       "      <th>prod_class</th>\n",
       "    </tr>\n",
       "  </thead>\n",
       "  <tbody>\n",
       "    <tr>\n",
       "      <th>0</th>\n",
       "      <td>JGX202101020000005963478</td>\n",
       "      <td>4.0</td>\n",
       "      <td>1</td>\n",
       "      <td>48e046e615</td>\n",
       "      <td>GRHLA2020552</td>\n",
       "      <td>1</td>\n",
       "      <td>220610.0</td>\n",
       "      <td>1</td>\n",
       "      <td>2</td>\n",
       "      <td>0</td>\n",
       "      <td>20210102</td>\n",
       "      <td>1</td>\n",
       "    </tr>\n",
       "    <tr>\n",
       "      <th>1</th>\n",
       "      <td>JGX202101200000006096306</td>\n",
       "      <td>8.0</td>\n",
       "      <td>5</td>\n",
       "      <td>48e046e615</td>\n",
       "      <td>GRSHC2020390</td>\n",
       "      <td>1</td>\n",
       "      <td>110.0</td>\n",
       "      <td>6</td>\n",
       "      <td>3</td>\n",
       "      <td>0</td>\n",
       "      <td>20210120</td>\n",
       "      <td>1</td>\n",
       "    </tr>\n",
       "  </tbody>\n",
       "</table>\n",
       "</div>"
      ],
      "text/plain": [
       "                        流水号  业务代码  渠道标识 core_cust_id     prod_code  净值  \\\n",
       "0  JGX202101020000005963478   4.0     1   48e046e615  GRHLA2020552   1   \n",
       "1  JGX202101200000006096306   8.0     5   48e046e615  GRSHC2020390   1   \n",
       "\n",
       "       申请金额  资金状态  交易状态  总金额 trade_date  prod_class  \n",
       "0  220610.0     1     2    0   20210102           1  \n",
       "1     110.0     6     3    0   20210120           1  "
      ]
     },
     "execution_count": 146,
     "metadata": {},
     "output_type": "execute_result"
    }
   ],
   "source": [
    "n_data['trade_date'] = n_data['trade_date'].astype('str')\n",
    "#n_data['trade_date'] = pd.to_datetime(n_data['trade_date'], format='%Y%m%d', errors='coerce')\n",
    "n_data['prod_class'] = 1\n",
    "n_data.head(2)"
   ]
  },
  {
   "cell_type": "code",
   "execution_count": 147,
   "id": "3c0a2db6-e293-4cc5-8911-de7f4f2c0f9f",
   "metadata": {},
   "outputs": [],
   "source": [
    "n_data.sort_values(by=['core_cust_id', 'prod_code'], inplace=True)\n",
    "n_data['业务代码'] = n_data['业务代码'].fillna(method='ffill')"
   ]
  },
  {
   "cell_type": "code",
   "execution_count": 148,
   "id": "d5bf2dbe-3d13-4cba-a099-de82be4360de",
   "metadata": {},
   "outputs": [
    {
     "data": {
      "text/html": [
       "<div>\n",
       "<style scoped>\n",
       "    .dataframe tbody tr th:only-of-type {\n",
       "        vertical-align: middle;\n",
       "    }\n",
       "\n",
       "    .dataframe tbody tr th {\n",
       "        vertical-align: top;\n",
       "    }\n",
       "\n",
       "    .dataframe thead th {\n",
       "        text-align: right;\n",
       "    }\n",
       "</style>\n",
       "<table border=\"1\" class=\"dataframe\">\n",
       "  <thead>\n",
       "    <tr style=\"text-align: right;\">\n",
       "      <th></th>\n",
       "      <th>业务代码</th>\n",
       "      <th>渠道标识</th>\n",
       "      <th>净值</th>\n",
       "      <th>申请金额</th>\n",
       "      <th>资金状态</th>\n",
       "      <th>交易状态</th>\n",
       "      <th>总金额</th>\n",
       "      <th>prod_class</th>\n",
       "    </tr>\n",
       "  </thead>\n",
       "  <tbody>\n",
       "    <tr>\n",
       "      <th>count</th>\n",
       "      <td>949114.000000</td>\n",
       "      <td>949114.000000</td>\n",
       "      <td>949114.0</td>\n",
       "      <td>9.491140e+05</td>\n",
       "      <td>949114.000000</td>\n",
       "      <td>949114.000000</td>\n",
       "      <td>949114.0</td>\n",
       "      <td>949114.0</td>\n",
       "    </tr>\n",
       "    <tr>\n",
       "      <th>mean</th>\n",
       "      <td>6.867582</td>\n",
       "      <td>4.024537</td>\n",
       "      <td>1.0</td>\n",
       "      <td>1.081216e+05</td>\n",
       "      <td>3.452229</td>\n",
       "      <td>3.115492</td>\n",
       "      <td>0.0</td>\n",
       "      <td>1.0</td>\n",
       "    </tr>\n",
       "    <tr>\n",
       "      <th>std</th>\n",
       "      <td>2.313045</td>\n",
       "      <td>1.689281</td>\n",
       "      <td>0.0</td>\n",
       "      <td>2.434524e+06</td>\n",
       "      <td>2.352625</td>\n",
       "      <td>0.722830</td>\n",
       "      <td>0.0</td>\n",
       "      <td>0.0</td>\n",
       "    </tr>\n",
       "    <tr>\n",
       "      <th>min</th>\n",
       "      <td>4.000000</td>\n",
       "      <td>0.000000</td>\n",
       "      <td>1.0</td>\n",
       "      <td>1.100000e+02</td>\n",
       "      <td>0.000000</td>\n",
       "      <td>1.000000</td>\n",
       "      <td>0.0</td>\n",
       "      <td>1.0</td>\n",
       "    </tr>\n",
       "    <tr>\n",
       "      <th>25%</th>\n",
       "      <td>4.000000</td>\n",
       "      <td>2.000000</td>\n",
       "      <td>1.0</td>\n",
       "      <td>1.100000e+02</td>\n",
       "      <td>3.000000</td>\n",
       "      <td>3.000000</td>\n",
       "      <td>0.0</td>\n",
       "      <td>1.0</td>\n",
       "    </tr>\n",
       "    <tr>\n",
       "      <th>50%</th>\n",
       "      <td>7.000000</td>\n",
       "      <td>5.000000</td>\n",
       "      <td>1.0</td>\n",
       "      <td>1.100000e+02</td>\n",
       "      <td>3.000000</td>\n",
       "      <td>3.000000</td>\n",
       "      <td>0.0</td>\n",
       "      <td>1.0</td>\n",
       "    </tr>\n",
       "    <tr>\n",
       "      <th>75%</th>\n",
       "      <td>8.000000</td>\n",
       "      <td>5.000000</td>\n",
       "      <td>1.0</td>\n",
       "      <td>7.610000e+03</td>\n",
       "      <td>6.000000</td>\n",
       "      <td>3.000000</td>\n",
       "      <td>0.0</td>\n",
       "      <td>1.0</td>\n",
       "    </tr>\n",
       "    <tr>\n",
       "      <th>max</th>\n",
       "      <td>10.000000</td>\n",
       "      <td>5.000000</td>\n",
       "      <td>1.0</td>\n",
       "      <td>5.250001e+08</td>\n",
       "      <td>8.000000</td>\n",
       "      <td>7.000000</td>\n",
       "      <td>0.0</td>\n",
       "      <td>1.0</td>\n",
       "    </tr>\n",
       "  </tbody>\n",
       "</table>\n",
       "</div>"
      ],
      "text/plain": [
       "                业务代码           渠道标识        净值          申请金额           资金状态  \\\n",
       "count  949114.000000  949114.000000  949114.0  9.491140e+05  949114.000000   \n",
       "mean        6.867582       4.024537       1.0  1.081216e+05       3.452229   \n",
       "std         2.313045       1.689281       0.0  2.434524e+06       2.352625   \n",
       "min         4.000000       0.000000       1.0  1.100000e+02       0.000000   \n",
       "25%         4.000000       2.000000       1.0  1.100000e+02       3.000000   \n",
       "50%         7.000000       5.000000       1.0  1.100000e+02       3.000000   \n",
       "75%         8.000000       5.000000       1.0  7.610000e+03       6.000000   \n",
       "max        10.000000       5.000000       1.0  5.250001e+08       8.000000   \n",
       "\n",
       "                交易状态       总金额  prod_class  \n",
       "count  949114.000000  949114.0    949114.0  \n",
       "mean        3.115492       0.0         1.0  \n",
       "std         0.722830       0.0         0.0  \n",
       "min         1.000000       0.0         1.0  \n",
       "25%         3.000000       0.0         1.0  \n",
       "50%         3.000000       0.0         1.0  \n",
       "75%         3.000000       0.0         1.0  \n",
       "max         7.000000       0.0         1.0  "
      ]
     },
     "execution_count": 148,
     "metadata": {},
     "output_type": "execute_result"
    }
   ],
   "source": [
    "n_data.describe()"
   ]
  },
  {
   "cell_type": "markdown",
   "id": "2fa3888d-cac1-4ca6-96cb-89a52efccd27",
   "metadata": {},
   "source": [
    "### B产品流水表"
   ]
  },
  {
   "cell_type": "code",
   "execution_count": 149,
   "id": "0ec5e751-1145-4d51-abee-d2a534d4a7ec",
   "metadata": {},
   "outputs": [
    {
     "data": {
      "text/html": [
       "<div>\n",
       "<style scoped>\n",
       "    .dataframe tbody tr th:only-of-type {\n",
       "        vertical-align: middle;\n",
       "    }\n",
       "\n",
       "    .dataframe tbody tr th {\n",
       "        vertical-align: top;\n",
       "    }\n",
       "\n",
       "    .dataframe thead th {\n",
       "        text-align: right;\n",
       "    }\n",
       "</style>\n",
       "<table border=\"1\" class=\"dataframe\">\n",
       "  <thead>\n",
       "    <tr style=\"text-align: right;\">\n",
       "      <th></th>\n",
       "      <th>o1</th>\n",
       "      <th>o2</th>\n",
       "      <th>o3</th>\n",
       "      <th>core_cust_id</th>\n",
       "      <th>prod_code</th>\n",
       "      <th>o6</th>\n",
       "      <th>o7</th>\n",
       "      <th>o8</th>\n",
       "      <th>o9</th>\n",
       "      <th>o10</th>\n",
       "      <th>o11</th>\n",
       "      <th>o12</th>\n",
       "    </tr>\n",
       "  </thead>\n",
       "  <tbody>\n",
       "    <tr>\n",
       "      <th>0</th>\n",
       "      <td>ALC202107210000007437420</td>\n",
       "      <td>2</td>\n",
       "      <td>1</td>\n",
       "      <td>b1a66424c4</td>\n",
       "      <td>SSTJMZKF002</td>\n",
       "      <td>1.0085</td>\n",
       "      <td>75110.0</td>\n",
       "      <td>3</td>\n",
       "      <td>3</td>\n",
       "      <td>110.0</td>\n",
       "      <td>110.0</td>\n",
       "      <td>20210721</td>\n",
       "    </tr>\n",
       "    <tr>\n",
       "      <th>1</th>\n",
       "      <td>ALC202107140000007373365</td>\n",
       "      <td>2</td>\n",
       "      <td>1</td>\n",
       "      <td>e733784b55</td>\n",
       "      <td>SSTJMZKF002</td>\n",
       "      <td>1.0071</td>\n",
       "      <td>18110.0</td>\n",
       "      <td>3</td>\n",
       "      <td>3</td>\n",
       "      <td>110.0</td>\n",
       "      <td>110.0</td>\n",
       "      <td>20210714</td>\n",
       "    </tr>\n",
       "  </tbody>\n",
       "</table>\n",
       "</div>"
      ],
      "text/plain": [
       "                         o1  o2  o3 core_cust_id    prod_code      o6  \\\n",
       "0  ALC202107210000007437420   2   1   b1a66424c4  SSTJMZKF002  1.0085   \n",
       "1  ALC202107140000007373365   2   1   e733784b55  SSTJMZKF002  1.0071   \n",
       "\n",
       "        o7  o8  o9    o10    o11       o12  \n",
       "0  75110.0   3   3  110.0  110.0  20210721  \n",
       "1  18110.0   3   3  110.0  110.0  20210714  "
      ]
     },
     "execution_count": 149,
     "metadata": {},
     "output_type": "execute_result"
    }
   ],
   "source": [
    "o_data = pd.read_csv(path2 + 'o.csv', thousands=',')\n",
    "o_data.head(2)"
   ]
  },
  {
   "cell_type": "code",
   "execution_count": 150,
   "id": "f53f4f3c-2055-467b-a392-17f4211852a1",
   "metadata": {},
   "outputs": [],
   "source": [
    "o_columns = ['流水号', '业务代码', '渠道标识', 'core_cust_id', 'prod_code', '净值', '申请金额', \n",
    "             '交易状态', '资金状态', '总金额', '超额管理费', 'trade_date']"
   ]
  },
  {
   "cell_type": "code",
   "execution_count": 151,
   "id": "30eeb2e8-b63c-499a-bed2-e0f21edb785b",
   "metadata": {},
   "outputs": [
    {
     "data": {
      "text/html": [
       "<div>\n",
       "<style scoped>\n",
       "    .dataframe tbody tr th:only-of-type {\n",
       "        vertical-align: middle;\n",
       "    }\n",
       "\n",
       "    .dataframe tbody tr th {\n",
       "        vertical-align: top;\n",
       "    }\n",
       "\n",
       "    .dataframe thead th {\n",
       "        text-align: right;\n",
       "    }\n",
       "</style>\n",
       "<table border=\"1\" class=\"dataframe\">\n",
       "  <thead>\n",
       "    <tr style=\"text-align: right;\">\n",
       "      <th></th>\n",
       "      <th>流水号</th>\n",
       "      <th>业务代码</th>\n",
       "      <th>渠道标识</th>\n",
       "      <th>core_cust_id</th>\n",
       "      <th>prod_code</th>\n",
       "      <th>净值</th>\n",
       "      <th>申请金额</th>\n",
       "      <th>交易状态</th>\n",
       "      <th>资金状态</th>\n",
       "      <th>总金额</th>\n",
       "      <th>超额管理费</th>\n",
       "      <th>trade_date</th>\n",
       "      <th>prod_class</th>\n",
       "    </tr>\n",
       "  </thead>\n",
       "  <tbody>\n",
       "    <tr>\n",
       "      <th>0</th>\n",
       "      <td>ALC202107210000007437420</td>\n",
       "      <td>2</td>\n",
       "      <td>1</td>\n",
       "      <td>b1a66424c4</td>\n",
       "      <td>SSTJMZKF002</td>\n",
       "      <td>1.0085</td>\n",
       "      <td>75110.0</td>\n",
       "      <td>3</td>\n",
       "      <td>3</td>\n",
       "      <td>110.0</td>\n",
       "      <td>110.0</td>\n",
       "      <td>20210721</td>\n",
       "      <td>3</td>\n",
       "    </tr>\n",
       "    <tr>\n",
       "      <th>1</th>\n",
       "      <td>ALC202107140000007373365</td>\n",
       "      <td>2</td>\n",
       "      <td>1</td>\n",
       "      <td>e733784b55</td>\n",
       "      <td>SSTJMZKF002</td>\n",
       "      <td>1.0071</td>\n",
       "      <td>18110.0</td>\n",
       "      <td>3</td>\n",
       "      <td>3</td>\n",
       "      <td>110.0</td>\n",
       "      <td>110.0</td>\n",
       "      <td>20210714</td>\n",
       "      <td>3</td>\n",
       "    </tr>\n",
       "  </tbody>\n",
       "</table>\n",
       "</div>"
      ],
      "text/plain": [
       "                        流水号  业务代码  渠道标识 core_cust_id    prod_code      净值  \\\n",
       "0  ALC202107210000007437420     2     1   b1a66424c4  SSTJMZKF002  1.0085   \n",
       "1  ALC202107140000007373365     2     1   e733784b55  SSTJMZKF002  1.0071   \n",
       "\n",
       "      申请金额  交易状态  资金状态    总金额  超额管理费 trade_date  prod_class  \n",
       "0  75110.0     3     3  110.0  110.0   20210721           3  \n",
       "1  18110.0     3     3  110.0  110.0   20210714           3  "
      ]
     },
     "execution_count": 151,
     "metadata": {},
     "output_type": "execute_result"
    }
   ],
   "source": [
    "o_data.columns = o_columns\n",
    "o_data['prod_class'] = 3\n",
    "o_data['trade_date'] = o_data['trade_date'].astype('str')\n",
    "#o_data['trade_date'] = pd.to_datetime(o_data['trade_date'], format='%Y%m%d', errors='coerce')\n",
    "o_data.head(2)"
   ]
  },
  {
   "cell_type": "code",
   "execution_count": 152,
   "id": "2535a95c-3053-4c6e-9696-26dbb4cbb487",
   "metadata": {},
   "outputs": [],
   "source": [
    "o_data['净值'] = o_data['净值'].apply(lambda x: 1.0 if x<0 else x)"
   ]
  },
  {
   "cell_type": "code",
   "execution_count": 153,
   "id": "76571bfd-0875-4168-9ca1-7f90552e3ab1",
   "metadata": {},
   "outputs": [
    {
     "data": {
      "text/html": [
       "<div>\n",
       "<style scoped>\n",
       "    .dataframe tbody tr th:only-of-type {\n",
       "        vertical-align: middle;\n",
       "    }\n",
       "\n",
       "    .dataframe tbody tr th {\n",
       "        vertical-align: top;\n",
       "    }\n",
       "\n",
       "    .dataframe thead th {\n",
       "        text-align: right;\n",
       "    }\n",
       "</style>\n",
       "<table border=\"1\" class=\"dataframe\">\n",
       "  <thead>\n",
       "    <tr style=\"text-align: right;\">\n",
       "      <th></th>\n",
       "      <th>业务代码</th>\n",
       "      <th>渠道标识</th>\n",
       "      <th>净值</th>\n",
       "      <th>申请金额</th>\n",
       "      <th>交易状态</th>\n",
       "      <th>资金状态</th>\n",
       "      <th>总金额</th>\n",
       "      <th>超额管理费</th>\n",
       "      <th>prod_class</th>\n",
       "    </tr>\n",
       "  </thead>\n",
       "  <tbody>\n",
       "    <tr>\n",
       "      <th>count</th>\n",
       "      <td>42492.000000</td>\n",
       "      <td>42492.000000</td>\n",
       "      <td>42492.000000</td>\n",
       "      <td>4.249200e+04</td>\n",
       "      <td>42492.000000</td>\n",
       "      <td>42492.000000</td>\n",
       "      <td>4.249200e+04</td>\n",
       "      <td>42492.000000</td>\n",
       "      <td>42492.0</td>\n",
       "    </tr>\n",
       "    <tr>\n",
       "      <th>mean</th>\n",
       "      <td>4.264003</td>\n",
       "      <td>2.224772</td>\n",
       "      <td>1.003571</td>\n",
       "      <td>1.323012e+05</td>\n",
       "      <td>3.181446</td>\n",
       "      <td>3.655417</td>\n",
       "      <td>1.773845e+04</td>\n",
       "      <td>116.756094</td>\n",
       "      <td>3.0</td>\n",
       "    </tr>\n",
       "    <tr>\n",
       "      <th>std</th>\n",
       "      <td>2.925424</td>\n",
       "      <td>1.799264</td>\n",
       "      <td>0.052764</td>\n",
       "      <td>7.725152e+05</td>\n",
       "      <td>0.932282</td>\n",
       "      <td>2.074979</td>\n",
       "      <td>1.608551e+05</td>\n",
       "      <td>66.730652</td>\n",
       "      <td>0.0</td>\n",
       "    </tr>\n",
       "    <tr>\n",
       "      <th>min</th>\n",
       "      <td>2.000000</td>\n",
       "      <td>0.000000</td>\n",
       "      <td>0.000000</td>\n",
       "      <td>1.100000e+02</td>\n",
       "      <td>1.000000</td>\n",
       "      <td>0.000000</td>\n",
       "      <td>1.100000e+02</td>\n",
       "      <td>110.000000</td>\n",
       "      <td>3.0</td>\n",
       "    </tr>\n",
       "    <tr>\n",
       "      <th>25%</th>\n",
       "      <td>2.000000</td>\n",
       "      <td>1.000000</td>\n",
       "      <td>1.000000</td>\n",
       "      <td>1.100000e+02</td>\n",
       "      <td>3.000000</td>\n",
       "      <td>3.000000</td>\n",
       "      <td>1.100000e+02</td>\n",
       "      <td>110.000000</td>\n",
       "      <td>3.0</td>\n",
       "    </tr>\n",
       "    <tr>\n",
       "      <th>50%</th>\n",
       "      <td>2.000000</td>\n",
       "      <td>1.000000</td>\n",
       "      <td>1.004100</td>\n",
       "      <td>3.011000e+04</td>\n",
       "      <td>3.000000</td>\n",
       "      <td>3.000000</td>\n",
       "      <td>1.100000e+02</td>\n",
       "      <td>110.000000</td>\n",
       "      <td>3.0</td>\n",
       "    </tr>\n",
       "    <tr>\n",
       "      <th>75%</th>\n",
       "      <td>8.000000</td>\n",
       "      <td>5.000000</td>\n",
       "      <td>1.011700</td>\n",
       "      <td>1.291100e+05</td>\n",
       "      <td>3.000000</td>\n",
       "      <td>6.000000</td>\n",
       "      <td>1.100000e+02</td>\n",
       "      <td>110.000000</td>\n",
       "      <td>3.0</td>\n",
       "    </tr>\n",
       "    <tr>\n",
       "      <th>max</th>\n",
       "      <td>11.000000</td>\n",
       "      <td>5.000000</td>\n",
       "      <td>1.024600</td>\n",
       "      <td>1.120801e+08</td>\n",
       "      <td>7.000000</td>\n",
       "      <td>8.000000</td>\n",
       "      <td>1.643143e+07</td>\n",
       "      <td>6242.630000</td>\n",
       "      <td>3.0</td>\n",
       "    </tr>\n",
       "  </tbody>\n",
       "</table>\n",
       "</div>"
      ],
      "text/plain": [
       "               业务代码          渠道标识            净值          申请金额          交易状态  \\\n",
       "count  42492.000000  42492.000000  42492.000000  4.249200e+04  42492.000000   \n",
       "mean       4.264003      2.224772      1.003571  1.323012e+05      3.181446   \n",
       "std        2.925424      1.799264      0.052764  7.725152e+05      0.932282   \n",
       "min        2.000000      0.000000      0.000000  1.100000e+02      1.000000   \n",
       "25%        2.000000      1.000000      1.000000  1.100000e+02      3.000000   \n",
       "50%        2.000000      1.000000      1.004100  3.011000e+04      3.000000   \n",
       "75%        8.000000      5.000000      1.011700  1.291100e+05      3.000000   \n",
       "max       11.000000      5.000000      1.024600  1.120801e+08      7.000000   \n",
       "\n",
       "               资金状态           总金额         超额管理费  prod_class  \n",
       "count  42492.000000  4.249200e+04  42492.000000     42492.0  \n",
       "mean       3.655417  1.773845e+04    116.756094         3.0  \n",
       "std        2.074979  1.608551e+05     66.730652         0.0  \n",
       "min        0.000000  1.100000e+02    110.000000         3.0  \n",
       "25%        3.000000  1.100000e+02    110.000000         3.0  \n",
       "50%        3.000000  1.100000e+02    110.000000         3.0  \n",
       "75%        6.000000  1.100000e+02    110.000000         3.0  \n",
       "max        8.000000  1.643143e+07   6242.630000         3.0  "
      ]
     },
     "execution_count": 153,
     "metadata": {},
     "output_type": "execute_result"
    }
   ],
   "source": [
    "#净值里面异常值改为1.0,超额管理费要删除么？\n",
    "o_data.describe()"
   ]
  },
  {
   "cell_type": "markdown",
   "id": "d63fab28-6429-4fae-8ae0-918f17ed88f1",
   "metadata": {},
   "source": [
    "### C产品流水表"
   ]
  },
  {
   "cell_type": "code",
   "execution_count": 154,
   "id": "7d788bdd-5fa5-45d2-8dd7-b19391cb4611",
   "metadata": {},
   "outputs": [
    {
     "data": {
      "text/html": [
       "<div>\n",
       "<style scoped>\n",
       "    .dataframe tbody tr th:only-of-type {\n",
       "        vertical-align: middle;\n",
       "    }\n",
       "\n",
       "    .dataframe tbody tr th {\n",
       "        vertical-align: top;\n",
       "    }\n",
       "\n",
       "    .dataframe thead th {\n",
       "        text-align: right;\n",
       "    }\n",
       "</style>\n",
       "<table border=\"1\" class=\"dataframe\">\n",
       "  <thead>\n",
       "    <tr style=\"text-align: right;\">\n",
       "      <th></th>\n",
       "      <th>q1</th>\n",
       "      <th>q2</th>\n",
       "      <th>q3</th>\n",
       "      <th>core_cust_id</th>\n",
       "      <th>prod_code</th>\n",
       "      <th>q6</th>\n",
       "      <th>q7</th>\n",
       "      <th>q8</th>\n",
       "      <th>q9</th>\n",
       "      <th>q10</th>\n",
       "    </tr>\n",
       "  </thead>\n",
       "  <tbody>\n",
       "    <tr>\n",
       "      <th>0</th>\n",
       "      <td>ADE202109010000007727221</td>\n",
       "      <td>2</td>\n",
       "      <td>0</td>\n",
       "      <td>9cb205e4c9</td>\n",
       "      <td>DECD21090108</td>\n",
       "      <td>1</td>\n",
       "      <td>1005110</td>\n",
       "      <td>3</td>\n",
       "      <td>3</td>\n",
       "      <td>20210901</td>\n",
       "    </tr>\n",
       "    <tr>\n",
       "      <th>1</th>\n",
       "      <td>ADE202107060000007312643</td>\n",
       "      <td>2</td>\n",
       "      <td>2</td>\n",
       "      <td>3f9024560b</td>\n",
       "      <td>DECD21062101</td>\n",
       "      <td>1</td>\n",
       "      <td>312110</td>\n",
       "      <td>3</td>\n",
       "      <td>3</td>\n",
       "      <td>20210706</td>\n",
       "    </tr>\n",
       "  </tbody>\n",
       "</table>\n",
       "</div>"
      ],
      "text/plain": [
       "                         q1  q2  q3 core_cust_id     prod_code  q6       q7  \\\n",
       "0  ADE202109010000007727221   2   0   9cb205e4c9  DECD21090108   1  1005110   \n",
       "1  ADE202107060000007312643   2   2   3f9024560b  DECD21062101   1   312110   \n",
       "\n",
       "   q8  q9       q10  \n",
       "0   3   3  20210901  \n",
       "1   3   3  20210706  "
      ]
     },
     "execution_count": 154,
     "metadata": {},
     "output_type": "execute_result"
    }
   ],
   "source": [
    "q_data = pd.read_csv(path2 + 'q.csv', thousands=',')\n",
    "#q_data = reduce_mem_usage(q_data)\n",
    "q_data.head(2)"
   ]
  },
  {
   "cell_type": "code",
   "execution_count": 155,
   "id": "218f46ad-f062-4671-83d0-4e76713e4111",
   "metadata": {},
   "outputs": [],
   "source": [
    "q_columns = ['流水号', '业务代码', '渠道标识', 'core_cust_id', 'prod_code', '净值', '申请金额', '资金状态', '交易状态', 'trade_date']"
   ]
  },
  {
   "cell_type": "code",
   "execution_count": 156,
   "id": "fb5537c8-701e-42df-bc33-6d895017dfd8",
   "metadata": {},
   "outputs": [
    {
     "data": {
      "text/html": [
       "<div>\n",
       "<style scoped>\n",
       "    .dataframe tbody tr th:only-of-type {\n",
       "        vertical-align: middle;\n",
       "    }\n",
       "\n",
       "    .dataframe tbody tr th {\n",
       "        vertical-align: top;\n",
       "    }\n",
       "\n",
       "    .dataframe thead th {\n",
       "        text-align: right;\n",
       "    }\n",
       "</style>\n",
       "<table border=\"1\" class=\"dataframe\">\n",
       "  <thead>\n",
       "    <tr style=\"text-align: right;\">\n",
       "      <th></th>\n",
       "      <th>流水号</th>\n",
       "      <th>业务代码</th>\n",
       "      <th>渠道标识</th>\n",
       "      <th>core_cust_id</th>\n",
       "      <th>prod_code</th>\n",
       "      <th>净值</th>\n",
       "      <th>申请金额</th>\n",
       "      <th>资金状态</th>\n",
       "      <th>交易状态</th>\n",
       "      <th>trade_date</th>\n",
       "      <th>prod_class</th>\n",
       "    </tr>\n",
       "  </thead>\n",
       "  <tbody>\n",
       "    <tr>\n",
       "      <th>0</th>\n",
       "      <td>ADE202109010000007727221</td>\n",
       "      <td>2</td>\n",
       "      <td>0</td>\n",
       "      <td>9cb205e4c9</td>\n",
       "      <td>DECD21090108</td>\n",
       "      <td>1</td>\n",
       "      <td>1005110</td>\n",
       "      <td>3</td>\n",
       "      <td>3</td>\n",
       "      <td>20210901</td>\n",
       "      <td>2</td>\n",
       "    </tr>\n",
       "    <tr>\n",
       "      <th>1</th>\n",
       "      <td>ADE202107060000007312643</td>\n",
       "      <td>2</td>\n",
       "      <td>2</td>\n",
       "      <td>3f9024560b</td>\n",
       "      <td>DECD21062101</td>\n",
       "      <td>1</td>\n",
       "      <td>312110</td>\n",
       "      <td>3</td>\n",
       "      <td>3</td>\n",
       "      <td>20210706</td>\n",
       "      <td>2</td>\n",
       "    </tr>\n",
       "  </tbody>\n",
       "</table>\n",
       "</div>"
      ],
      "text/plain": [
       "                        流水号  业务代码  渠道标识 core_cust_id     prod_code  净值  \\\n",
       "0  ADE202109010000007727221     2     0   9cb205e4c9  DECD21090108   1   \n",
       "1  ADE202107060000007312643     2     2   3f9024560b  DECD21062101   1   \n",
       "\n",
       "      申请金额  资金状态  交易状态 trade_date  prod_class  \n",
       "0  1005110     3     3   20210901           2  \n",
       "1   312110     3     3   20210706           2  "
      ]
     },
     "execution_count": 156,
     "metadata": {},
     "output_type": "execute_result"
    }
   ],
   "source": [
    "q_data.columns = q_columns\n",
    "q_data['prod_class'] = 2\n",
    "q_data['trade_date'] = q_data['trade_date'].astype('str')\n",
    "#q_data['trade_date'] = pd.to_datetime(q_data['trade_date'], format='%Y%m%d', errors='coerce')\n",
    "q_data.head(2)"
   ]
  },
  {
   "cell_type": "code",
   "execution_count": 157,
   "id": "1bb0d6ae-4513-46ea-831e-64317eab6c67",
   "metadata": {},
   "outputs": [
    {
     "data": {
      "text/html": [
       "<div>\n",
       "<style scoped>\n",
       "    .dataframe tbody tr th:only-of-type {\n",
       "        vertical-align: middle;\n",
       "    }\n",
       "\n",
       "    .dataframe tbody tr th {\n",
       "        vertical-align: top;\n",
       "    }\n",
       "\n",
       "    .dataframe thead th {\n",
       "        text-align: right;\n",
       "    }\n",
       "</style>\n",
       "<table border=\"1\" class=\"dataframe\">\n",
       "  <thead>\n",
       "    <tr style=\"text-align: right;\">\n",
       "      <th></th>\n",
       "      <th>业务代码</th>\n",
       "      <th>渠道标识</th>\n",
       "      <th>净值</th>\n",
       "      <th>申请金额</th>\n",
       "      <th>资金状态</th>\n",
       "      <th>交易状态</th>\n",
       "      <th>prod_class</th>\n",
       "    </tr>\n",
       "  </thead>\n",
       "  <tbody>\n",
       "    <tr>\n",
       "      <th>count</th>\n",
       "      <td>3886.000000</td>\n",
       "      <td>3886.000000</td>\n",
       "      <td>3886.0</td>\n",
       "      <td>3.886000e+03</td>\n",
       "      <td>3886.000000</td>\n",
       "      <td>3886.000000</td>\n",
       "      <td>3886.0</td>\n",
       "    </tr>\n",
       "    <tr>\n",
       "      <th>mean</th>\n",
       "      <td>2.003088</td>\n",
       "      <td>1.848173</td>\n",
       "      <td>1.0</td>\n",
       "      <td>5.537490e+05</td>\n",
       "      <td>3.001544</td>\n",
       "      <td>3.001544</td>\n",
       "      <td>2.0</td>\n",
       "    </tr>\n",
       "    <tr>\n",
       "      <th>std</th>\n",
       "      <td>0.078537</td>\n",
       "      <td>0.529788</td>\n",
       "      <td>0.0</td>\n",
       "      <td>2.796352e+06</td>\n",
       "      <td>0.039269</td>\n",
       "      <td>0.039269</td>\n",
       "      <td>0.0</td>\n",
       "    </tr>\n",
       "    <tr>\n",
       "      <th>min</th>\n",
       "      <td>2.000000</td>\n",
       "      <td>0.000000</td>\n",
       "      <td>1.0</td>\n",
       "      <td>3.001100e+05</td>\n",
       "      <td>3.000000</td>\n",
       "      <td>3.000000</td>\n",
       "      <td>2.0</td>\n",
       "    </tr>\n",
       "    <tr>\n",
       "      <th>25%</th>\n",
       "      <td>2.000000</td>\n",
       "      <td>2.000000</td>\n",
       "      <td>1.0</td>\n",
       "      <td>3.001100e+05</td>\n",
       "      <td>3.000000</td>\n",
       "      <td>3.000000</td>\n",
       "      <td>2.0</td>\n",
       "    </tr>\n",
       "    <tr>\n",
       "      <th>50%</th>\n",
       "      <td>2.000000</td>\n",
       "      <td>2.000000</td>\n",
       "      <td>1.0</td>\n",
       "      <td>3.001100e+05</td>\n",
       "      <td>3.000000</td>\n",
       "      <td>3.000000</td>\n",
       "      <td>2.0</td>\n",
       "    </tr>\n",
       "    <tr>\n",
       "      <th>75%</th>\n",
       "      <td>2.000000</td>\n",
       "      <td>2.000000</td>\n",
       "      <td>1.0</td>\n",
       "      <td>4.501100e+05</td>\n",
       "      <td>3.000000</td>\n",
       "      <td>3.000000</td>\n",
       "      <td>2.0</td>\n",
       "    </tr>\n",
       "    <tr>\n",
       "      <th>max</th>\n",
       "      <td>4.000000</td>\n",
       "      <td>2.000000</td>\n",
       "      <td>1.0</td>\n",
       "      <td>7.500011e+07</td>\n",
       "      <td>4.000000</td>\n",
       "      <td>4.000000</td>\n",
       "      <td>2.0</td>\n",
       "    </tr>\n",
       "  </tbody>\n",
       "</table>\n",
       "</div>"
      ],
      "text/plain": [
       "              业务代码         渠道标识      净值          申请金额         资金状态  \\\n",
       "count  3886.000000  3886.000000  3886.0  3.886000e+03  3886.000000   \n",
       "mean      2.003088     1.848173     1.0  5.537490e+05     3.001544   \n",
       "std       0.078537     0.529788     0.0  2.796352e+06     0.039269   \n",
       "min       2.000000     0.000000     1.0  3.001100e+05     3.000000   \n",
       "25%       2.000000     2.000000     1.0  3.001100e+05     3.000000   \n",
       "50%       2.000000     2.000000     1.0  3.001100e+05     3.000000   \n",
       "75%       2.000000     2.000000     1.0  4.501100e+05     3.000000   \n",
       "max       4.000000     2.000000     1.0  7.500011e+07     4.000000   \n",
       "\n",
       "              交易状态  prod_class  \n",
       "count  3886.000000      3886.0  \n",
       "mean      3.001544         2.0  \n",
       "std       0.039269         0.0  \n",
       "min       3.000000         2.0  \n",
       "25%       3.000000         2.0  \n",
       "50%       3.000000         2.0  \n",
       "75%       3.000000         2.0  \n",
       "max       4.000000         2.0  "
      ]
     },
     "execution_count": 157,
     "metadata": {},
     "output_type": "execute_result"
    }
   ],
   "source": [
    "q_data.describe()"
   ]
  },
  {
   "cell_type": "markdown",
   "id": "51bec9a9-8ff2-43d1-9afb-d95d87ea200c",
   "metadata": {},
   "source": [
    "### D产品流水表"
   ]
  },
  {
   "cell_type": "code",
   "execution_count": 158,
   "id": "54a745a7-2384-42e4-bbe3-c043b187b285",
   "metadata": {},
   "outputs": [
    {
     "data": {
      "text/html": [
       "<div>\n",
       "<style scoped>\n",
       "    .dataframe tbody tr th:only-of-type {\n",
       "        vertical-align: middle;\n",
       "    }\n",
       "\n",
       "    .dataframe tbody tr th {\n",
       "        vertical-align: top;\n",
       "    }\n",
       "\n",
       "    .dataframe thead th {\n",
       "        text-align: right;\n",
       "    }\n",
       "</style>\n",
       "<table border=\"1\" class=\"dataframe\">\n",
       "  <thead>\n",
       "    <tr style=\"text-align: right;\">\n",
       "      <th></th>\n",
       "      <th>p1</th>\n",
       "      <th>p2</th>\n",
       "      <th>p3</th>\n",
       "      <th>core_cust_id</th>\n",
       "      <th>prod_code</th>\n",
       "      <th>p6</th>\n",
       "      <th>p7</th>\n",
       "      <th>p8</th>\n",
       "      <th>p9</th>\n",
       "      <th>p10</th>\n",
       "      <th>p11</th>\n",
       "      <th>p12</th>\n",
       "    </tr>\n",
       "  </thead>\n",
       "  <tbody>\n",
       "    <tr>\n",
       "      <th>0</th>\n",
       "      <td>DLC202101100000000013522</td>\n",
       "      <td>9</td>\n",
       "      <td>1.0</td>\n",
       "      <td>bf9eaccd54</td>\n",
       "      <td>H210107M</td>\n",
       "      <td>1.169712</td>\n",
       "      <td>75110.0</td>\n",
       "      <td>0.0011</td>\n",
       "      <td>3</td>\n",
       "      <td>3.0</td>\n",
       "      <td>0</td>\n",
       "      <td>20210110</td>\n",
       "    </tr>\n",
       "    <tr>\n",
       "      <th>1</th>\n",
       "      <td>DLC202101100000000013521</td>\n",
       "      <td>4</td>\n",
       "      <td>1.0</td>\n",
       "      <td>bf9eaccd54</td>\n",
       "      <td>H210107M</td>\n",
       "      <td>1.169712</td>\n",
       "      <td>75110.0</td>\n",
       "      <td>0.0011</td>\n",
       "      <td>2</td>\n",
       "      <td>3.0</td>\n",
       "      <td>0</td>\n",
       "      <td>20210110</td>\n",
       "    </tr>\n",
       "  </tbody>\n",
       "</table>\n",
       "</div>"
      ],
      "text/plain": [
       "                         p1  p2   p3 core_cust_id prod_code        p6  \\\n",
       "0  DLC202101100000000013522   9  1.0   bf9eaccd54  H210107M  1.169712   \n",
       "1  DLC202101100000000013521   4  1.0   bf9eaccd54  H210107M  1.169712   \n",
       "\n",
       "        p7      p8  p9  p10  p11       p12  \n",
       "0  75110.0  0.0011   3  3.0    0  20210110  \n",
       "1  75110.0  0.0011   2  3.0    0  20210110  "
      ]
     },
     "execution_count": 158,
     "metadata": {},
     "output_type": "execute_result"
    }
   ],
   "source": [
    "p_data = pd.read_csv(path2 + 'p.csv', thousands=',')\n",
    "#p_data = reduce_mem_usage(p_data)\n",
    "p_data.head(2)"
   ]
  },
  {
   "cell_type": "code",
   "execution_count": 159,
   "id": "4b3fb642-85c6-4e1c-af7b-2a5cb693b22b",
   "metadata": {},
   "outputs": [],
   "source": [
    "p_columns = ['流水号', '业务代码', '渠道标识', 'core_cust_id', 'prod_code', '净值', '申请金额', '折扣率', '交易状态', '资金状态', '费率', 'trade_date']"
   ]
  },
  {
   "cell_type": "code",
   "execution_count": 160,
   "id": "b882c3fe-b684-4e45-9d18-afd168bcdd3b",
   "metadata": {},
   "outputs": [
    {
     "data": {
      "text/html": [
       "<div>\n",
       "<style scoped>\n",
       "    .dataframe tbody tr th:only-of-type {\n",
       "        vertical-align: middle;\n",
       "    }\n",
       "\n",
       "    .dataframe tbody tr th {\n",
       "        vertical-align: top;\n",
       "    }\n",
       "\n",
       "    .dataframe thead th {\n",
       "        text-align: right;\n",
       "    }\n",
       "</style>\n",
       "<table border=\"1\" class=\"dataframe\">\n",
       "  <thead>\n",
       "    <tr style=\"text-align: right;\">\n",
       "      <th></th>\n",
       "      <th>流水号</th>\n",
       "      <th>业务代码</th>\n",
       "      <th>渠道标识</th>\n",
       "      <th>core_cust_id</th>\n",
       "      <th>prod_code</th>\n",
       "      <th>净值</th>\n",
       "      <th>申请金额</th>\n",
       "      <th>折扣率</th>\n",
       "      <th>交易状态</th>\n",
       "      <th>资金状态</th>\n",
       "      <th>费率</th>\n",
       "      <th>trade_date</th>\n",
       "      <th>prod_class</th>\n",
       "    </tr>\n",
       "  </thead>\n",
       "  <tbody>\n",
       "    <tr>\n",
       "      <th>0</th>\n",
       "      <td>DLC202101100000000013522</td>\n",
       "      <td>9</td>\n",
       "      <td>1.0</td>\n",
       "      <td>bf9eaccd54</td>\n",
       "      <td>H210107M</td>\n",
       "      <td>1.169712</td>\n",
       "      <td>75110.0</td>\n",
       "      <td>0.0011</td>\n",
       "      <td>3</td>\n",
       "      <td>3.0</td>\n",
       "      <td>0</td>\n",
       "      <td>20210110</td>\n",
       "      <td>4</td>\n",
       "    </tr>\n",
       "    <tr>\n",
       "      <th>1</th>\n",
       "      <td>DLC202101100000000013521</td>\n",
       "      <td>4</td>\n",
       "      <td>1.0</td>\n",
       "      <td>bf9eaccd54</td>\n",
       "      <td>H210107M</td>\n",
       "      <td>1.169712</td>\n",
       "      <td>75110.0</td>\n",
       "      <td>0.0011</td>\n",
       "      <td>2</td>\n",
       "      <td>3.0</td>\n",
       "      <td>0</td>\n",
       "      <td>20210110</td>\n",
       "      <td>4</td>\n",
       "    </tr>\n",
       "  </tbody>\n",
       "</table>\n",
       "</div>"
      ],
      "text/plain": [
       "                        流水号  业务代码  渠道标识 core_cust_id prod_code        净值  \\\n",
       "0  DLC202101100000000013522     9   1.0   bf9eaccd54  H210107M  1.169712   \n",
       "1  DLC202101100000000013521     4   1.0   bf9eaccd54  H210107M  1.169712   \n",
       "\n",
       "      申请金额     折扣率  交易状态  资金状态  费率 trade_date  prod_class  \n",
       "0  75110.0  0.0011     3   3.0   0   20210110           4  \n",
       "1  75110.0  0.0011     2   3.0   0   20210110           4  "
      ]
     },
     "execution_count": 160,
     "metadata": {},
     "output_type": "execute_result"
    }
   ],
   "source": [
    "p_data.columns = p_columns\n",
    "p_data['prod_class'] = 4\n",
    "p_data['trade_date'] = p_data['trade_date'].astype('str')\n",
    "#p_data['trade_date'] = pd.to_datetime(p_data['trade_date'], format='%Y%m%d', errors='coerce')\n",
    "p_data.head(2)"
   ]
  },
  {
   "cell_type": "code",
   "execution_count": 161,
   "id": "2d10ac35-2473-47a5-8505-a8ba6fede80c",
   "metadata": {},
   "outputs": [],
   "source": [
    "#按照core_cust_id和prod_code排序，向上填充\n",
    "p_data.sort_values(by=['core_cust_id', 'prod_code'], inplace=True)\n",
    "p_data['渠道标识'] = p_data['渠道标识'].fillna(method='ffill')"
   ]
  },
  {
   "cell_type": "code",
   "execution_count": 162,
   "id": "efd80517-2b07-4d1d-95c7-a1c8138338d1",
   "metadata": {},
   "outputs": [],
   "source": [
    "#按照core_cust_id和prod_code排序，向上填充\n",
    "p_data.sort_values(by=['core_cust_id', 'prod_code'], inplace=True)\n",
    "p_data['资金状态'] = p_data['资金状态'].fillna(method='ffill')"
   ]
  },
  {
   "cell_type": "code",
   "execution_count": 163,
   "id": "22b26a7e-c9ac-485f-b380-94b687fa5bd8",
   "metadata": {},
   "outputs": [],
   "source": [
    "p_data['净值'] = p_data['净值'].apply(lambda x:round(x, 6))"
   ]
  },
  {
   "cell_type": "code",
   "execution_count": 164,
   "id": "3363f632-f26b-4e99-ac85-6006d3bb5423",
   "metadata": {},
   "outputs": [
    {
     "data": {
      "text/html": [
       "<div>\n",
       "<style scoped>\n",
       "    .dataframe tbody tr th:only-of-type {\n",
       "        vertical-align: middle;\n",
       "    }\n",
       "\n",
       "    .dataframe tbody tr th {\n",
       "        vertical-align: top;\n",
       "    }\n",
       "\n",
       "    .dataframe thead th {\n",
       "        text-align: right;\n",
       "    }\n",
       "</style>\n",
       "<table border=\"1\" class=\"dataframe\">\n",
       "  <thead>\n",
       "    <tr style=\"text-align: right;\">\n",
       "      <th></th>\n",
       "      <th>业务代码</th>\n",
       "      <th>渠道标识</th>\n",
       "      <th>净值</th>\n",
       "      <th>申请金额</th>\n",
       "      <th>折扣率</th>\n",
       "      <th>交易状态</th>\n",
       "      <th>资金状态</th>\n",
       "      <th>费率</th>\n",
       "      <th>prod_class</th>\n",
       "    </tr>\n",
       "  </thead>\n",
       "  <tbody>\n",
       "    <tr>\n",
       "      <th>count</th>\n",
       "      <td>1.056586e+06</td>\n",
       "      <td>1.056586e+06</td>\n",
       "      <td>1.056586e+06</td>\n",
       "      <td>1.056586e+06</td>\n",
       "      <td>1.056586e+06</td>\n",
       "      <td>1.056586e+06</td>\n",
       "      <td>1.056586e+06</td>\n",
       "      <td>1.056586e+06</td>\n",
       "      <td>1056586.0</td>\n",
       "    </tr>\n",
       "    <tr>\n",
       "      <th>mean</th>\n",
       "      <td>9.094583e+00</td>\n",
       "      <td>1.179598e+00</td>\n",
       "      <td>1.162081e+00</td>\n",
       "      <td>2.499610e+04</td>\n",
       "      <td>5.680630e-04</td>\n",
       "      <td>3.038944e+00</td>\n",
       "      <td>2.190266e+00</td>\n",
       "      <td>1.516204e-03</td>\n",
       "      <td>4.0</td>\n",
       "    </tr>\n",
       "    <tr>\n",
       "      <th>std</th>\n",
       "      <td>2.414170e+00</td>\n",
       "      <td>7.792072e-01</td>\n",
       "      <td>2.625669e-02</td>\n",
       "      <td>5.166628e+05</td>\n",
       "      <td>1.864037e-02</td>\n",
       "      <td>4.123497e-01</td>\n",
       "      <td>1.498176e+00</td>\n",
       "      <td>3.890895e-02</td>\n",
       "      <td>0.0</td>\n",
       "    </tr>\n",
       "    <tr>\n",
       "      <th>min</th>\n",
       "      <td>2.000000e+00</td>\n",
       "      <td>1.000000e+00</td>\n",
       "      <td>1.100000e-01</td>\n",
       "      <td>1.100000e+02</td>\n",
       "      <td>0.000000e+00</td>\n",
       "      <td>2.000000e+00</td>\n",
       "      <td>1.000000e+00</td>\n",
       "      <td>0.000000e+00</td>\n",
       "      <td>4.0</td>\n",
       "    </tr>\n",
       "    <tr>\n",
       "      <th>25%</th>\n",
       "      <td>1.000000e+01</td>\n",
       "      <td>1.000000e+00</td>\n",
       "      <td>1.160000e+00</td>\n",
       "      <td>1.103750e+02</td>\n",
       "      <td>0.000000e+00</td>\n",
       "      <td>3.000000e+00</td>\n",
       "      <td>1.000000e+00</td>\n",
       "      <td>0.000000e+00</td>\n",
       "      <td>4.0</td>\n",
       "    </tr>\n",
       "    <tr>\n",
       "      <th>50%</th>\n",
       "      <td>1.000000e+01</td>\n",
       "      <td>1.000000e+00</td>\n",
       "      <td>1.160000e+00</td>\n",
       "      <td>1.125350e+02</td>\n",
       "      <td>0.000000e+00</td>\n",
       "      <td>3.000000e+00</td>\n",
       "      <td>1.000000e+00</td>\n",
       "      <td>0.000000e+00</td>\n",
       "      <td>4.0</td>\n",
       "    </tr>\n",
       "    <tr>\n",
       "      <th>75%</th>\n",
       "      <td>1.000000e+01</td>\n",
       "      <td>1.000000e+00</td>\n",
       "      <td>1.160000e+00</td>\n",
       "      <td>1.263800e+02</td>\n",
       "      <td>0.000000e+00</td>\n",
       "      <td>3.000000e+00</td>\n",
       "      <td>4.000000e+00</td>\n",
       "      <td>0.000000e+00</td>\n",
       "      <td>4.0</td>\n",
       "    </tr>\n",
       "    <tr>\n",
       "      <th>max</th>\n",
       "      <td>1.000000e+01</td>\n",
       "      <td>6.000000e+00</td>\n",
       "      <td>1.299293e+00</td>\n",
       "      <td>1.650001e+08</td>\n",
       "      <td>1.000000e+00</td>\n",
       "      <td>7.000000e+00</td>\n",
       "      <td>5.000000e+00</td>\n",
       "      <td>1.000000e+00</td>\n",
       "      <td>4.0</td>\n",
       "    </tr>\n",
       "  </tbody>\n",
       "</table>\n",
       "</div>"
      ],
      "text/plain": [
       "               业务代码          渠道标识            净值          申请金额           折扣率  \\\n",
       "count  1.056586e+06  1.056586e+06  1.056586e+06  1.056586e+06  1.056586e+06   \n",
       "mean   9.094583e+00  1.179598e+00  1.162081e+00  2.499610e+04  5.680630e-04   \n",
       "std    2.414170e+00  7.792072e-01  2.625669e-02  5.166628e+05  1.864037e-02   \n",
       "min    2.000000e+00  1.000000e+00  1.100000e-01  1.100000e+02  0.000000e+00   \n",
       "25%    1.000000e+01  1.000000e+00  1.160000e+00  1.103750e+02  0.000000e+00   \n",
       "50%    1.000000e+01  1.000000e+00  1.160000e+00  1.125350e+02  0.000000e+00   \n",
       "75%    1.000000e+01  1.000000e+00  1.160000e+00  1.263800e+02  0.000000e+00   \n",
       "max    1.000000e+01  6.000000e+00  1.299293e+00  1.650001e+08  1.000000e+00   \n",
       "\n",
       "               交易状态          资金状态            费率  prod_class  \n",
       "count  1.056586e+06  1.056586e+06  1.056586e+06   1056586.0  \n",
       "mean   3.038944e+00  2.190266e+00  1.516204e-03         4.0  \n",
       "std    4.123497e-01  1.498176e+00  3.890895e-02         0.0  \n",
       "min    2.000000e+00  1.000000e+00  0.000000e+00         4.0  \n",
       "25%    3.000000e+00  1.000000e+00  0.000000e+00         4.0  \n",
       "50%    3.000000e+00  1.000000e+00  0.000000e+00         4.0  \n",
       "75%    3.000000e+00  4.000000e+00  0.000000e+00         4.0  \n",
       "max    7.000000e+00  5.000000e+00  1.000000e+00         4.0  "
      ]
     },
     "execution_count": 164,
     "metadata": {},
     "output_type": "execute_result"
    }
   ],
   "source": [
    "p_data.describe()"
   ]
  },
  {
   "cell_type": "markdown",
   "id": "ae4e7635-86a3-4c34-8cf7-52a9bd593add",
   "metadata": {},
   "source": [
    "### 流水表汇总"
   ]
  },
  {
   "cell_type": "code",
   "execution_count": 165,
   "id": "579fce9c-66ca-460d-965b-bb6bcc51b154",
   "metadata": {},
   "outputs": [],
   "source": [
    "record = pd.concat([n_data, o_data, q_data, p_data], ignore_index=True)"
   ]
  },
  {
   "cell_type": "code",
   "execution_count": 166,
   "id": "3231a5a2-9800-449d-ba67-a705030d80ad",
   "metadata": {},
   "outputs": [],
   "source": [
    "record.drop(['总金额', '超额管理费', '折扣率', '费率'], axis=1, inplace=True)"
   ]
  },
  {
   "cell_type": "code",
   "execution_count": 167,
   "id": "7f3adf7b-8b82-4f34-88de-b3a91a1bf915",
   "metadata": {},
   "outputs": [
    {
     "data": {
      "text/html": [
       "<div>\n",
       "<style scoped>\n",
       "    .dataframe tbody tr th:only-of-type {\n",
       "        vertical-align: middle;\n",
       "    }\n",
       "\n",
       "    .dataframe tbody tr th {\n",
       "        vertical-align: top;\n",
       "    }\n",
       "\n",
       "    .dataframe thead th {\n",
       "        text-align: right;\n",
       "    }\n",
       "</style>\n",
       "<table border=\"1\" class=\"dataframe\">\n",
       "  <thead>\n",
       "    <tr style=\"text-align: right;\">\n",
       "      <th></th>\n",
       "      <th>流水号</th>\n",
       "      <th>业务代码</th>\n",
       "      <th>渠道标识</th>\n",
       "      <th>core_cust_id</th>\n",
       "      <th>prod_code</th>\n",
       "      <th>净值</th>\n",
       "      <th>申请金额</th>\n",
       "      <th>资金状态</th>\n",
       "      <th>交易状态</th>\n",
       "      <th>trade_date</th>\n",
       "      <th>prod_class</th>\n",
       "    </tr>\n",
       "  </thead>\n",
       "  <tbody>\n",
       "    <tr>\n",
       "      <th>0</th>\n",
       "      <td>JGX202103110000006437222</td>\n",
       "      <td>10.0</td>\n",
       "      <td>5.0</td>\n",
       "      <td>1087ee0a95</td>\n",
       "      <td>GRSHA2020255</td>\n",
       "      <td>1.0</td>\n",
       "      <td>110.0</td>\n",
       "      <td>0.0</td>\n",
       "      <td>3</td>\n",
       "      <td>20210311</td>\n",
       "      <td>1</td>\n",
       "    </tr>\n",
       "    <tr>\n",
       "      <th>1</th>\n",
       "      <td>JGX202103110000006440647</td>\n",
       "      <td>7.0</td>\n",
       "      <td>5.0</td>\n",
       "      <td>1087ee0a95</td>\n",
       "      <td>GRSHA2020255</td>\n",
       "      <td>1.0</td>\n",
       "      <td>110.0</td>\n",
       "      <td>6.0</td>\n",
       "      <td>3</td>\n",
       "      <td>20210311</td>\n",
       "      <td>1</td>\n",
       "    </tr>\n",
       "    <tr>\n",
       "      <th>2</th>\n",
       "      <td>JGX202103110000006439605</td>\n",
       "      <td>8.0</td>\n",
       "      <td>5.0</td>\n",
       "      <td>1087ee0a95</td>\n",
       "      <td>GRSHA2020255</td>\n",
       "      <td>1.0</td>\n",
       "      <td>110.0</td>\n",
       "      <td>6.0</td>\n",
       "      <td>3</td>\n",
       "      <td>20210311</td>\n",
       "      <td>1</td>\n",
       "    </tr>\n",
       "  </tbody>\n",
       "</table>\n",
       "</div>"
      ],
      "text/plain": [
       "                        流水号  业务代码  渠道标识 core_cust_id     prod_code   净值  \\\n",
       "0  JGX202103110000006437222  10.0   5.0   1087ee0a95  GRSHA2020255  1.0   \n",
       "1  JGX202103110000006440647   7.0   5.0   1087ee0a95  GRSHA2020255  1.0   \n",
       "2  JGX202103110000006439605   8.0   5.0   1087ee0a95  GRSHA2020255  1.0   \n",
       "\n",
       "    申请金额  资金状态  交易状态 trade_date  prod_class  \n",
       "0  110.0   0.0     3   20210311           1  \n",
       "1  110.0   6.0     3   20210311           1  \n",
       "2  110.0   6.0     3   20210311           1  "
      ]
     },
     "execution_count": 167,
     "metadata": {},
     "output_type": "execute_result"
    }
   ],
   "source": [
    "record.head(3)"
   ]
  },
  {
   "cell_type": "code",
   "execution_count": 168,
   "id": "b9523316-7479-46fa-9ec5-9a28bc486e8e",
   "metadata": {},
   "outputs": [
    {
     "name": "stdout",
     "output_type": "stream",
     "text": [
      "<class 'pandas.core.frame.DataFrame'>\n",
      "RangeIndex: 2052078 entries, 0 to 2052077\n",
      "Data columns (total 11 columns):\n",
      " #   Column        Dtype  \n",
      "---  ------        -----  \n",
      " 0   流水号           object \n",
      " 1   业务代码          float64\n",
      " 2   渠道标识          float64\n",
      " 3   core_cust_id  object \n",
      " 4   prod_code     object \n",
      " 5   净值            float64\n",
      " 6   申请金额          float64\n",
      " 7   资金状态          float64\n",
      " 8   交易状态          int64  \n",
      " 9   trade_date    object \n",
      " 10  prod_class    int64  \n",
      "dtypes: float64(5), int64(2), object(4)\n",
      "memory usage: 172.2+ MB\n"
     ]
    }
   ],
   "source": [
    "record.info()"
   ]
  },
  {
   "cell_type": "code",
   "execution_count": 169,
   "id": "ed465175-8237-49a0-94ff-0fcaae7a6c32",
   "metadata": {},
   "outputs": [
    {
     "data": {
      "text/plain": [
       "流水号             2052078\n",
       "业务代码                 10\n",
       "渠道标识                  5\n",
       "core_cust_id      62074\n",
       "prod_code          2810\n",
       "净值                  331\n",
       "申请金额              39122\n",
       "资金状态                  8\n",
       "交易状态                  5\n",
       "trade_date          273\n",
       "prod_class            4\n",
       "dtype: int64"
      ]
     },
     "execution_count": 169,
     "metadata": {},
     "output_type": "execute_result"
    }
   ],
   "source": [
    "record.nunique()"
   ]
  },
  {
   "cell_type": "code",
   "execution_count": 170,
   "id": "86e382de-c175-4497-b0fc-1bca218a3154",
   "metadata": {},
   "outputs": [
    {
     "data": {
      "text/plain": [
       "流水号             0\n",
       "业务代码            0\n",
       "渠道标识            0\n",
       "core_cust_id    0\n",
       "prod_code       0\n",
       "净值              0\n",
       "申请金额            0\n",
       "资金状态            0\n",
       "交易状态            0\n",
       "trade_date      0\n",
       "prod_class      0\n",
       "dtype: int64"
      ]
     },
     "execution_count": 170,
     "metadata": {},
     "output_type": "execute_result"
    }
   ],
   "source": [
    "record.isnull().sum()"
   ]
  },
  {
   "cell_type": "code",
   "execution_count": 171,
   "id": "f2b154f6-44f8-448f-bd59-922e623e1bfd",
   "metadata": {},
   "outputs": [],
   "source": [
    "record.to_pickle('prod_record.pkl')"
   ]
  },
  {
   "cell_type": "code",
   "execution_count": 172,
   "id": "4d85a3c8-3e17-4e1c-bbfc-120d6821bf32",
   "metadata": {},
   "outputs": [
    {
     "data": {
      "text/plain": [
       "3    1988446\n",
       "7      44284\n",
       "2      18875\n",
       "4        388\n",
       "1         85\n",
       "Name: 交易状态, dtype: int64"
      ]
     },
     "execution_count": 172,
     "metadata": {},
     "output_type": "execute_result"
    }
   ],
   "source": [
    "record['交易状态'].value_counts()"
   ]
  },
  {
   "cell_type": "code",
   "execution_count": 217,
   "id": "16f564c2-0c5f-4bd1-ae01-018a459cbf84",
   "metadata": {},
   "outputs": [],
   "source": []
  },
  {
   "cell_type": "code",
   "execution_count": null,
   "id": "158f4a41-4304-470b-9c6a-ec6d965cf8e4",
   "metadata": {},
   "outputs": [],
   "source": []
  },
  {
   "cell_type": "code",
   "execution_count": null,
   "id": "ab76ba5b-aeda-4636-ab85-10eca266d93e",
   "metadata": {},
   "outputs": [],
   "source": []
  },
  {
   "cell_type": "code",
   "execution_count": null,
   "id": "e613b53f-d402-42a0-8f6f-4144a169a5f7",
   "metadata": {},
   "outputs": [],
   "source": []
  },
  {
   "cell_type": "code",
   "execution_count": null,
   "id": "11147e96-d757-44e3-a6e9-e5a30026bd15",
   "metadata": {},
   "outputs": [],
   "source": []
  },
  {
   "cell_type": "code",
   "execution_count": 255,
   "id": "5cdc25a7-3987-4fcb-b65d-802fce696d47",
   "metadata": {},
   "outputs": [],
   "source": [
    "#record[record['core_cust_id'] == '1087ee0a95']"
   ]
  },
  {
   "cell_type": "markdown",
   "id": "bf4b740e-6b7f-4166-a853-1a6e0d1354ba",
   "metadata": {},
   "source": [
    "#### 统计流水总数"
   ]
  },
  {
   "cell_type": "markdown",
   "id": "9eb149de-e02f-4f13-b107-9469b17b02aa",
   "metadata": {},
   "source": [
    "按照用户和产品编号聚类\n",
    "- 统计6、7、8、9月份流水总数\n",
    "- 统计7.1前，8.1日前，9.1日前，10.1日前的流水总数"
   ]
  },
  {
   "cell_type": "code",
   "execution_count": 348,
   "id": "5993515a-4462-440b-a5e0-3f6c3a0514fa",
   "metadata": {},
   "outputs": [],
   "source": [
    "record_6_7 = record[(record['trade_date']>'2021-05-31') & (record['trade_date']<'2021-07-01')]\n",
    "record_7_8 = record[(record['trade_date']>'2021-06-30') & (record['trade_date']<'2021-08-01')]\n",
    "record_8_9 = record[(record['trade_date']>'2021-07-31') & (record['trade_date']<'2021-09-01')]\n",
    "record_9_10 = record[(record['trade_date']>'2021-08-31') & (record['trade_date']<'2021-10-01')]"
   ]
  },
  {
   "cell_type": "code",
   "execution_count": 349,
   "id": "e4ed895d-2a22-41ab-88d1-db080f4cf70e",
   "metadata": {},
   "outputs": [],
   "source": [
    "record_b_7 = record[record['trade_date']<'2021-07-01']\n",
    "record_b_8 = record[record['trade_date']<'2021-08-01']\n",
    "record_b_9 = record[record['trade_date']<'2021-09-01']\n",
    "record_b_10 = record.copy()"
   ]
  },
  {
   "cell_type": "markdown",
   "id": "782dc282-5bfb-475f-8317-dbb1f97d12ca",
   "metadata": {},
   "source": [
    "以往流水总数"
   ]
  },
  {
   "cell_type": "code",
   "execution_count": null,
   "id": "9f683c52-c9c9-4523-b16b-96f9dbb8f735",
   "metadata": {},
   "outputs": [],
   "source": [
    "record_6_7['rw_6_7'] = record_6_7.groupby(['core_cust_id', 'prod_code'])['流水号'].transform(lambda x:x.count()).values.tolist()\n",
    "record_7_8['rw_7_8'] = record_7_8.groupby(['core_cust_id', 'prod_code'])['流水号'].transform(lambda x:x.count()).values.tolist()\n",
    "record_8_9['rw_8_9'] = record_8_9.groupby(['core_cust_id', 'prod_code'])['流水号'].transform(lambda x:x.count()).values.tolist()\n",
    "record_9_10['rw_9_10'] = record_9_10.groupby(['core_cust_id', 'prod_code'])['流水号'].transform(lambda x:x.count()).values.tolist()"
   ]
  },
  {
   "cell_type": "code",
   "execution_count": null,
   "id": "b77485a9-297a-4574-8e08-ad1577de1e98",
   "metadata": {},
   "outputs": [],
   "source": [
    "record_b_7['rw_b_7'] = record_b_7.groupby(['core_cust_id', 'prod_code'])['流水号'].transform(lambda x:x.count()).values.tolist()\n",
    "record_b_8['rw_b_8'] = record_b_8.groupby(['core_cust_id', 'prod_code'])['流水号'].transform(lambda x:x.count()).values.tolist()\n",
    "record_b_9['rw_b_9'] = record_b_9.groupby(['core_cust_id', 'prod_code'])['流水号'].transform(lambda x:x.count()).values.tolist()\n",
    "record_b_10['rw_b_10'] = record_b_10.groupby(['core_cust_id', 'prod_code'])['流水号'].transform(lambda x:x.count()).values.tolist()"
   ]
  },
  {
   "cell_type": "markdown",
   "id": "cf5a975d-39f3-440e-b38f-b7c4a8482ad4",
   "metadata": {},
   "source": [
    "交易日期最早"
   ]
  },
  {
   "cell_type": "code",
   "execution_count": null,
   "id": "e44523ee-edde-4113-81c9-3fcf7985b850",
   "metadata": {},
   "outputs": [],
   "source": [
    "record_b_7['date_b_7'] = record_b_7.groupby(['core_cust_id', 'prod_code'])['trade_date'].transform(lambda x:x.min()).values.tolist()\n",
    "record_b_8['date_b_8'] = record_b_8.groupby(['core_cust_id', 'prod_code'])['trade_date'].transform(lambda x:x.min()).values.tolist()\n",
    "record_b_9['date_b_9'] = record_b_9.groupby(['core_cust_id', 'prod_code'])['trade_date'].transform(lambda x:x.min()).values.tolist()\n",
    "record_b_10['date_b_10'] = record_b_10.groupby(['core_cust_id', 'prod_code'])['trade_date'].transform(lambda x:x.min()).values.tolist()"
   ]
  },
  {
   "cell_type": "markdown",
   "id": "02becaa9-4452-4f0b-9c77-ba5bb4a78c3b",
   "metadata": {},
   "source": [
    "交易状态为3表示成功"
   ]
  },
  {
   "cell_type": "code",
   "execution_count": 350,
   "id": "eacf3bee-06d2-4733-a7a0-1a58d93e5b10",
   "metadata": {},
   "outputs": [],
   "source": [
    "record_6_7['su_6_7'] = record_6_7.groupby(['core_cust_id', 'prod_code'])['交易状态'].transform(lambda x:(x==3).count()).values.tolist()\n",
    "record_7_8['su_7_8'] = record_7_8.groupby(['core_cust_id', 'prod_code'])['交易状态'].transform(lambda x:(x==3).count()).values.tolist()\n",
    "record_8_9['su_8_9'] = record_8_9.groupby(['core_cust_id', 'prod_code'])['交易状态'].transform(lambda x:(x==3).count()).values.tolist()\n",
    "record_9_10['su_9_10'] = record_9_10.groupby(['core_cust_id', 'prod_code'])['交易状态'].transform(lambda x:(x==3).count()).values.tolist()"
   ]
  },
  {
   "cell_type": "code",
   "execution_count": null,
   "id": "e9729d3a-4920-44e0-93dc-b4d31c069110",
   "metadata": {},
   "outputs": [],
   "source": [
    "record_b_7['su_b_7'] = record_b_7.groupby(['core_cust_id', 'prod_code'])['交易状态'].transform(lambda x:(x==3).count()).values.tolist()\n",
    "record_b_8['su_b_8'] = record_b_8.groupby(['core_cust_id', 'prod_code'])['交易状态'].transform(lambda x:x.count()).values.tolist()\n",
    "record_b_9['su_b_9'] = record_b_9.groupby(['core_cust_id', 'prod_code'])['交易状态'].transform(lambda x:x.count()).values.tolist()\n",
    "record_b_10['su_b_10'] = record_b_10.groupby(['core_cust_id', 'prod_code'])['交易状态'].transform(lambda x:x.count()).values.tolist()"
   ]
  },
  {
   "cell_type": "code",
   "execution_count": null,
   "id": "1e16e6ca-35b5-427b-88f8-712f368005ef",
   "metadata": {},
   "outputs": [],
   "source": []
  },
  {
   "cell_type": "code",
   "execution_count": null,
   "id": "2ad9c920-bd11-4887-916a-2e41aa33553f",
   "metadata": {},
   "outputs": [],
   "source": []
  },
  {
   "cell_type": "code",
   "execution_count": null,
   "id": "9cf13f26-e18a-480f-9bcc-85c93be9cb6a",
   "metadata": {},
   "outputs": [],
   "source": []
  },
  {
   "cell_type": "code",
   "execution_count": null,
   "id": "02862d84-b844-4baf-a97c-14fb650ab1c6",
   "metadata": {},
   "outputs": [],
   "source": []
  },
  {
   "cell_type": "code",
   "execution_count": 257,
   "id": "87698fce-64ca-4fea-9f3b-7372f551bef7",
   "metadata": {},
   "outputs": [
    {
     "ename": "ValueError",
     "evalue": "Length of values (1035389) does not match length of index (2052078)",
     "output_type": "error",
     "traceback": [
      "\u001b[1;31m---------------------------------------------------------------------------\u001b[0m",
      "\u001b[1;31mValueError\u001b[0m                                Traceback (most recent call last)",
      "\u001b[1;32m<ipython-input-257-537ee70c5232>\u001b[0m in \u001b[0;36m<module>\u001b[1;34m\u001b[0m\n\u001b[0;32m      1\u001b[0m \u001b[1;31m# 7.1前\u001b[0m\u001b[1;33m\u001b[0m\u001b[1;33m\u001b[0m\u001b[1;33m\u001b[0m\u001b[0m\n\u001b[1;32m----> 2\u001b[1;33m \u001b[0mrecord\u001b[0m\u001b[1;33m[\u001b[0m\u001b[1;34m'before_7'\u001b[0m\u001b[1;33m]\u001b[0m \u001b[1;33m=\u001b[0m \u001b[0mrecord\u001b[0m\u001b[1;33m[\u001b[0m\u001b[0mrecord\u001b[0m\u001b[1;33m[\u001b[0m\u001b[1;34m'trade_date'\u001b[0m\u001b[1;33m]\u001b[0m\u001b[1;33m<\u001b[0m\u001b[1;34m'2021-07-01'\u001b[0m\u001b[1;33m]\u001b[0m\u001b[1;33m.\u001b[0m\u001b[0mgroupby\u001b[0m\u001b[1;33m(\u001b[0m\u001b[1;33m[\u001b[0m\u001b[1;34m'core_cust_id'\u001b[0m\u001b[1;33m,\u001b[0m \u001b[1;34m'prod_code'\u001b[0m\u001b[1;33m]\u001b[0m\u001b[1;33m)\u001b[0m\u001b[1;33m[\u001b[0m\u001b[1;34m'流水号'\u001b[0m\u001b[1;33m]\u001b[0m\u001b[1;33m.\u001b[0m\u001b[0mtransform\u001b[0m\u001b[1;33m(\u001b[0m\u001b[1;32mlambda\u001b[0m \u001b[0mx\u001b[0m\u001b[1;33m:\u001b[0m\u001b[0mx\u001b[0m\u001b[1;33m.\u001b[0m\u001b[0mcount\u001b[0m\u001b[1;33m(\u001b[0m\u001b[1;33m)\u001b[0m\u001b[1;33m)\u001b[0m\u001b[1;33m.\u001b[0m\u001b[0mvalues\u001b[0m\u001b[1;33m.\u001b[0m\u001b[0mtolist\u001b[0m\u001b[1;33m(\u001b[0m\u001b[1;33m)\u001b[0m\u001b[1;33m\u001b[0m\u001b[1;33m\u001b[0m\u001b[0m\n\u001b[0m",
      "\u001b[1;32mF:\\anaconda\\lib\\site-packages\\pandas\\core\\frame.py\u001b[0m in \u001b[0;36m__setitem__\u001b[1;34m(self, key, value)\u001b[0m\n\u001b[0;32m   3161\u001b[0m         \u001b[1;32melse\u001b[0m\u001b[1;33m:\u001b[0m\u001b[1;33m\u001b[0m\u001b[1;33m\u001b[0m\u001b[0m\n\u001b[0;32m   3162\u001b[0m             \u001b[1;31m# set column\u001b[0m\u001b[1;33m\u001b[0m\u001b[1;33m\u001b[0m\u001b[1;33m\u001b[0m\u001b[0m\n\u001b[1;32m-> 3163\u001b[1;33m             \u001b[0mself\u001b[0m\u001b[1;33m.\u001b[0m\u001b[0m_set_item\u001b[0m\u001b[1;33m(\u001b[0m\u001b[0mkey\u001b[0m\u001b[1;33m,\u001b[0m \u001b[0mvalue\u001b[0m\u001b[1;33m)\u001b[0m\u001b[1;33m\u001b[0m\u001b[1;33m\u001b[0m\u001b[0m\n\u001b[0m\u001b[0;32m   3164\u001b[0m \u001b[1;33m\u001b[0m\u001b[0m\n\u001b[0;32m   3165\u001b[0m     \u001b[1;32mdef\u001b[0m \u001b[0m_setitem_slice\u001b[0m\u001b[1;33m(\u001b[0m\u001b[0mself\u001b[0m\u001b[1;33m,\u001b[0m \u001b[0mkey\u001b[0m\u001b[1;33m:\u001b[0m \u001b[0mslice\u001b[0m\u001b[1;33m,\u001b[0m \u001b[0mvalue\u001b[0m\u001b[1;33m)\u001b[0m\u001b[1;33m:\u001b[0m\u001b[1;33m\u001b[0m\u001b[1;33m\u001b[0m\u001b[0m\n",
      "\u001b[1;32mF:\\anaconda\\lib\\site-packages\\pandas\\core\\frame.py\u001b[0m in \u001b[0;36m_set_item\u001b[1;34m(self, key, value)\u001b[0m\n\u001b[0;32m   3240\u001b[0m         \"\"\"\n\u001b[0;32m   3241\u001b[0m         \u001b[0mself\u001b[0m\u001b[1;33m.\u001b[0m\u001b[0m_ensure_valid_index\u001b[0m\u001b[1;33m(\u001b[0m\u001b[0mvalue\u001b[0m\u001b[1;33m)\u001b[0m\u001b[1;33m\u001b[0m\u001b[1;33m\u001b[0m\u001b[0m\n\u001b[1;32m-> 3242\u001b[1;33m         \u001b[0mvalue\u001b[0m \u001b[1;33m=\u001b[0m \u001b[0mself\u001b[0m\u001b[1;33m.\u001b[0m\u001b[0m_sanitize_column\u001b[0m\u001b[1;33m(\u001b[0m\u001b[0mkey\u001b[0m\u001b[1;33m,\u001b[0m \u001b[0mvalue\u001b[0m\u001b[1;33m)\u001b[0m\u001b[1;33m\u001b[0m\u001b[1;33m\u001b[0m\u001b[0m\n\u001b[0m\u001b[0;32m   3243\u001b[0m         \u001b[0mNDFrame\u001b[0m\u001b[1;33m.\u001b[0m\u001b[0m_set_item\u001b[0m\u001b[1;33m(\u001b[0m\u001b[0mself\u001b[0m\u001b[1;33m,\u001b[0m \u001b[0mkey\u001b[0m\u001b[1;33m,\u001b[0m \u001b[0mvalue\u001b[0m\u001b[1;33m)\u001b[0m\u001b[1;33m\u001b[0m\u001b[1;33m\u001b[0m\u001b[0m\n\u001b[0;32m   3244\u001b[0m \u001b[1;33m\u001b[0m\u001b[0m\n",
      "\u001b[1;32mF:\\anaconda\\lib\\site-packages\\pandas\\core\\frame.py\u001b[0m in \u001b[0;36m_sanitize_column\u001b[1;34m(self, key, value, broadcast)\u001b[0m\n\u001b[0;32m   3897\u001b[0m \u001b[1;33m\u001b[0m\u001b[0m\n\u001b[0;32m   3898\u001b[0m             \u001b[1;31m# turn me into an ndarray\u001b[0m\u001b[1;33m\u001b[0m\u001b[1;33m\u001b[0m\u001b[1;33m\u001b[0m\u001b[0m\n\u001b[1;32m-> 3899\u001b[1;33m             \u001b[0mvalue\u001b[0m \u001b[1;33m=\u001b[0m \u001b[0msanitize_index\u001b[0m\u001b[1;33m(\u001b[0m\u001b[0mvalue\u001b[0m\u001b[1;33m,\u001b[0m \u001b[0mself\u001b[0m\u001b[1;33m.\u001b[0m\u001b[0mindex\u001b[0m\u001b[1;33m)\u001b[0m\u001b[1;33m\u001b[0m\u001b[1;33m\u001b[0m\u001b[0m\n\u001b[0m\u001b[0;32m   3900\u001b[0m             \u001b[1;32mif\u001b[0m \u001b[1;32mnot\u001b[0m \u001b[0misinstance\u001b[0m\u001b[1;33m(\u001b[0m\u001b[0mvalue\u001b[0m\u001b[1;33m,\u001b[0m \u001b[1;33m(\u001b[0m\u001b[0mnp\u001b[0m\u001b[1;33m.\u001b[0m\u001b[0mndarray\u001b[0m\u001b[1;33m,\u001b[0m \u001b[0mIndex\u001b[0m\u001b[1;33m)\u001b[0m\u001b[1;33m)\u001b[0m\u001b[1;33m:\u001b[0m\u001b[1;33m\u001b[0m\u001b[1;33m\u001b[0m\u001b[0m\n\u001b[0;32m   3901\u001b[0m                 \u001b[1;32mif\u001b[0m \u001b[0misinstance\u001b[0m\u001b[1;33m(\u001b[0m\u001b[0mvalue\u001b[0m\u001b[1;33m,\u001b[0m \u001b[0mlist\u001b[0m\u001b[1;33m)\u001b[0m \u001b[1;32mand\u001b[0m \u001b[0mlen\u001b[0m\u001b[1;33m(\u001b[0m\u001b[0mvalue\u001b[0m\u001b[1;33m)\u001b[0m \u001b[1;33m>\u001b[0m \u001b[1;36m0\u001b[0m\u001b[1;33m:\u001b[0m\u001b[1;33m\u001b[0m\u001b[1;33m\u001b[0m\u001b[0m\n",
      "\u001b[1;32mF:\\anaconda\\lib\\site-packages\\pandas\\core\\internals\\construction.py\u001b[0m in \u001b[0;36msanitize_index\u001b[1;34m(data, index)\u001b[0m\n\u001b[0;32m    749\u001b[0m     \"\"\"\n\u001b[0;32m    750\u001b[0m     \u001b[1;32mif\u001b[0m \u001b[0mlen\u001b[0m\u001b[1;33m(\u001b[0m\u001b[0mdata\u001b[0m\u001b[1;33m)\u001b[0m \u001b[1;33m!=\u001b[0m \u001b[0mlen\u001b[0m\u001b[1;33m(\u001b[0m\u001b[0mindex\u001b[0m\u001b[1;33m)\u001b[0m\u001b[1;33m:\u001b[0m\u001b[1;33m\u001b[0m\u001b[1;33m\u001b[0m\u001b[0m\n\u001b[1;32m--> 751\u001b[1;33m         raise ValueError(\n\u001b[0m\u001b[0;32m    752\u001b[0m             \u001b[1;34m\"Length of values \"\u001b[0m\u001b[1;33m\u001b[0m\u001b[1;33m\u001b[0m\u001b[0m\n\u001b[0;32m    753\u001b[0m             \u001b[1;34mf\"({len(data)}) \"\u001b[0m\u001b[1;33m\u001b[0m\u001b[1;33m\u001b[0m\u001b[0m\n",
      "\u001b[1;31mValueError\u001b[0m: Length of values (1035389) does not match length of index (2052078)"
     ]
    }
   ],
   "source": [
    "# 7.1前\n",
    "record['before_7'] = record.groupby(['core_cust_id', 'prod_code'])['流水号'].transform(lambda x:x.count()).values.tolist()"
   ]
  },
  {
   "cell_type": "code",
   "execution_count": null,
   "id": "3ab4c764-fa08-4e1a-b203-e7610a307b02",
   "metadata": {},
   "outputs": [],
   "source": [
    "#8.1前\n",
    "record['before_7'] = record[record['trade_date']<'2021-07-01'].groupby(['core_cust_id', 'prod_code'])['流水号'].transform(lambda x:x.count()).values.tolist()"
   ]
  },
  {
   "cell_type": "code",
   "execution_count": null,
   "id": "3b70bdc1-cbb6-4082-9517-dc7fcf11e930",
   "metadata": {},
   "outputs": [],
   "source": [
    "#9.1前\n",
    "record['before_7'] = record[record['trade_date']<'2021-07-01'].groupby(['core_cust_id', 'prod_code'])['流水号'].transform(lambda x:x.count()).values.tolist()"
   ]
  },
  {
   "cell_type": "code",
   "execution_count": null,
   "id": "4e94b318-dbf0-44d3-b0fd-94d6a525b212",
   "metadata": {},
   "outputs": [],
   "source": []
  },
  {
   "cell_type": "markdown",
   "id": "a130f7b9-1605-4503-a5da-f11fb3c1c0f7",
   "metadata": {},
   "source": [
    "### 与train和test做对比"
   ]
  },
  {
   "cell_type": "markdown",
   "id": "6ad20b07-50f1-476a-a52d-ff373c136213",
   "metadata": {},
   "source": [
    "#### 产品对比"
   ]
  },
  {
   "cell_type": "code",
   "execution_count": 231,
   "id": "4fe2f04f-6880-4fa5-a747-06e6fbb67b37",
   "metadata": {},
   "outputs": [],
   "source": [
    "prod_4 = record['prod_code'].unique().tolist()"
   ]
  },
  {
   "cell_type": "code",
   "execution_count": 233,
   "id": "b6f2f3aa-fb66-434f-872f-755fd386c739",
   "metadata": {},
   "outputs": [
    {
     "data": {
      "text/plain": [
       "(2810, 129)"
      ]
     },
     "execution_count": 233,
     "metadata": {},
     "output_type": "execute_result"
    }
   ],
   "source": [
    "len(prod_4), len(using_prod)"
   ]
  },
  {
   "cell_type": "code",
   "execution_count": 234,
   "id": "2533d766-2ff9-4e2f-9857-aaba224d822b",
   "metadata": {},
   "outputs": [
    {
     "data": {
      "text/plain": [
       "118"
      ]
     },
     "execution_count": 234,
     "metadata": {},
     "output_type": "execute_result"
    }
   ],
   "source": [
    "#prod_4:2810, using_prod:129\n",
    "len(set(prod_4) & using_prod)"
   ]
  },
  {
   "cell_type": "markdown",
   "id": "c82e6551-0369-4e59-a120-5ec19376b4cc",
   "metadata": {},
   "source": [
    "- 所有训练预测产品均在ABCD产品表中"
   ]
  },
  {
   "cell_type": "markdown",
   "id": "f954d824-aa1d-49f2-8bc6-344e07a1e56a",
   "metadata": {},
   "source": [
    "#### 用户对比"
   ]
  },
  {
   "cell_type": "code",
   "execution_count": 235,
   "id": "2fcc7bb4-8581-488a-ad35-0e42ff91391d",
   "metadata": {},
   "outputs": [],
   "source": [
    "cust_4 = record['core_cust_id'].unique().tolist()"
   ]
  },
  {
   "cell_type": "code",
   "execution_count": 236,
   "id": "a908cdcb-e709-4aea-8415-1633d7ff5cf8",
   "metadata": {},
   "outputs": [
    {
     "data": {
      "text/plain": [
       "(62074, 264055, 16656)"
      ]
     },
     "execution_count": 236,
     "metadata": {},
     "output_type": "execute_result"
    }
   ],
   "source": [
    "len(cust_4), len(using_cust), len(buy_cust)"
   ]
  },
  {
   "cell_type": "code",
   "execution_count": 237,
   "id": "b41bbddf-f2b8-4b06-b8cf-8fa8563d5662",
   "metadata": {},
   "outputs": [
    {
     "data": {
      "text/plain": [
       "16656"
      ]
     },
     "execution_count": 237,
     "metadata": {},
     "output_type": "execute_result"
    }
   ],
   "source": [
    "len(set(cust_4) & set(buy_cust))"
   ]
  },
  {
   "cell_type": "code",
   "execution_count": 239,
   "id": "fb8e388f-f403-4e82-8518-490dce8ee49f",
   "metadata": {},
   "outputs": [
    {
     "data": {
      "text/plain": [
       "58592"
      ]
     },
     "execution_count": 239,
     "metadata": {},
     "output_type": "execute_result"
    }
   ],
   "source": [
    "len(set(cust_4) & set(train_cust))"
   ]
  },
  {
   "cell_type": "code",
   "execution_count": 238,
   "id": "8e2d43b0-0095-4158-b4a1-649d51a4c607",
   "metadata": {},
   "outputs": [
    {
     "data": {
      "text/plain": [
       "59372"
      ]
     },
     "execution_count": 238,
     "metadata": {},
     "output_type": "execute_result"
    }
   ],
   "source": [
    "#cust_4:62074, using_cust:264055\n",
    "len(set(cust_4) & using_cust)"
   ]
  },
  {
   "cell_type": "markdown",
   "id": "8544b123-e2cb-413a-99ae-78c7465189bf",
   "metadata": {},
   "source": [
    "- 训练测试的用户大部分都没有在ABCD流水表中，且一部分用户流水没有出现在训练测试集中"
   ]
  },
  {
   "cell_type": "code",
   "execution_count": null,
   "id": "ac909bc7-49a7-4c12-b6da-089d1d27ab24",
   "metadata": {},
   "outputs": [],
   "source": []
  },
  {
   "cell_type": "code",
   "execution_count": null,
   "id": "9c24d950-a449-42cc-bf40-0647193d98bd",
   "metadata": {},
   "outputs": [],
   "source": []
  },
  {
   "cell_type": "markdown",
   "id": "5091fe47-8293-4653-af1a-2870a843a41f",
   "metadata": {},
   "source": [
    "### A产品基本信息+流水表"
   ]
  },
  {
   "cell_type": "code",
   "execution_count": 133,
   "id": "a408356f-a2b7-4890-8558-44a0ca8fb6f4",
   "metadata": {},
   "outputs": [],
   "source": [
    "A_df = pd.merge(a_prod, n_data, on=['prod_code', 'prod_class'], how='outer')"
   ]
  },
  {
   "cell_type": "code",
   "execution_count": 134,
   "id": "7501b8c6-1130-4f3c-a0cc-94e1b2b9cca1",
   "metadata": {},
   "outputs": [
    {
     "data": {
      "text/html": [
       "<div>\n",
       "<style scoped>\n",
       "    .dataframe tbody tr th:only-of-type {\n",
       "        vertical-align: middle;\n",
       "    }\n",
       "\n",
       "    .dataframe tbody tr th {\n",
       "        vertical-align: top;\n",
       "    }\n",
       "\n",
       "    .dataframe thead th {\n",
       "        text-align: right;\n",
       "    }\n",
       "</style>\n",
       "<table border=\"1\" class=\"dataframe\">\n",
       "  <thead>\n",
       "    <tr style=\"text-align: right;\">\n",
       "      <th></th>\n",
       "      <th>prod_code</th>\n",
       "      <th>计价类型</th>\n",
       "      <th>周期类型</th>\n",
       "      <th>模式</th>\n",
       "      <th>风险等级</th>\n",
       "      <th>是否滚存</th>\n",
       "      <th>是否允许变更分红方式</th>\n",
       "      <th>产品品种</th>\n",
       "      <th>持有天数</th>\n",
       "      <th>数据日期</th>\n",
       "      <th>募集方式</th>\n",
       "      <th>管理方式</th>\n",
       "      <th>业务模式</th>\n",
       "      <th>收益特点</th>\n",
       "      <th>期限</th>\n",
       "      <th>投资模式</th>\n",
       "      <th>预期收益率</th>\n",
       "      <th>最高收益率</th>\n",
       "      <th>最低收益率</th>\n",
       "      <th>展示等级</th>\n",
       "      <th>prod_class</th>\n",
       "      <th>流水号</th>\n",
       "      <th>业务代码</th>\n",
       "      <th>渠道标识</th>\n",
       "      <th>core_cust_id</th>\n",
       "      <th>净值</th>\n",
       "      <th>申请金额</th>\n",
       "      <th>资金状态</th>\n",
       "      <th>交易状态</th>\n",
       "      <th>总金额</th>\n",
       "      <th>trade_date</th>\n",
       "    </tr>\n",
       "  </thead>\n",
       "  <tbody>\n",
       "    <tr>\n",
       "      <th>0</th>\n",
       "      <td>ZXGRHLA2021059</td>\n",
       "      <td>0.0</td>\n",
       "      <td>1.0</td>\n",
       "      <td>1.0</td>\n",
       "      <td>1.0</td>\n",
       "      <td>0.0</td>\n",
       "      <td>0.0</td>\n",
       "      <td>0.0</td>\n",
       "      <td>364.0</td>\n",
       "      <td>2099-12-01</td>\n",
       "      <td>NaN</td>\n",
       "      <td>NaN</td>\n",
       "      <td>NaN</td>\n",
       "      <td>2.0</td>\n",
       "      <td>NaN</td>\n",
       "      <td>1.0</td>\n",
       "      <td>0.042694</td>\n",
       "      <td>0.043732</td>\n",
       "      <td>0.015793</td>\n",
       "      <td>NaN</td>\n",
       "      <td>1</td>\n",
       "      <td>NaN</td>\n",
       "      <td>NaN</td>\n",
       "      <td>NaN</td>\n",
       "      <td>NaN</td>\n",
       "      <td>NaN</td>\n",
       "      <td>NaN</td>\n",
       "      <td>NaN</td>\n",
       "      <td>NaN</td>\n",
       "      <td>NaN</td>\n",
       "      <td>NaT</td>\n",
       "    </tr>\n",
       "    <tr>\n",
       "      <th>1</th>\n",
       "      <td>GRSHB201902005</td>\n",
       "      <td>0.0</td>\n",
       "      <td>1.0</td>\n",
       "      <td>1.0</td>\n",
       "      <td>1.0</td>\n",
       "      <td>1.0</td>\n",
       "      <td>0.0</td>\n",
       "      <td>0.0</td>\n",
       "      <td>1.0</td>\n",
       "      <td>2099-12-01</td>\n",
       "      <td>NaN</td>\n",
       "      <td>NaN</td>\n",
       "      <td>NaN</td>\n",
       "      <td>2.0</td>\n",
       "      <td>NaN</td>\n",
       "      <td>1.0</td>\n",
       "      <td>0.027344</td>\n",
       "      <td>0.027344</td>\n",
       "      <td>0.001100</td>\n",
       "      <td>5.0</td>\n",
       "      <td>1</td>\n",
       "      <td>NaN</td>\n",
       "      <td>NaN</td>\n",
       "      <td>NaN</td>\n",
       "      <td>NaN</td>\n",
       "      <td>NaN</td>\n",
       "      <td>NaN</td>\n",
       "      <td>NaN</td>\n",
       "      <td>NaN</td>\n",
       "      <td>NaN</td>\n",
       "      <td>NaT</td>\n",
       "    </tr>\n",
       "    <tr>\n",
       "      <th>2</th>\n",
       "      <td>GRHLA20211629</td>\n",
       "      <td>0.0</td>\n",
       "      <td>1.0</td>\n",
       "      <td>1.0</td>\n",
       "      <td>1.0</td>\n",
       "      <td>0.0</td>\n",
       "      <td>0.0</td>\n",
       "      <td>0.0</td>\n",
       "      <td>112.0</td>\n",
       "      <td>2099-12-01</td>\n",
       "      <td>NaN</td>\n",
       "      <td>NaN</td>\n",
       "      <td>NaN</td>\n",
       "      <td>2.0</td>\n",
       "      <td>5.0</td>\n",
       "      <td>1.0</td>\n",
       "      <td>0.040466</td>\n",
       "      <td>0.043091</td>\n",
       "      <td>0.015793</td>\n",
       "      <td>2.0</td>\n",
       "      <td>1</td>\n",
       "      <td>JGX202109260000007886008</td>\n",
       "      <td>4.0</td>\n",
       "      <td>1.0</td>\n",
       "      <td>2847abcb4d</td>\n",
       "      <td>1.0</td>\n",
       "      <td>60,110</td>\n",
       "      <td>3.0</td>\n",
       "      <td>3.0</td>\n",
       "      <td>0.0</td>\n",
       "      <td>2021-09-26</td>\n",
       "    </tr>\n",
       "  </tbody>\n",
       "</table>\n",
       "</div>"
      ],
      "text/plain": [
       "        prod_code  计价类型  周期类型   模式  风险等级  是否滚存  是否允许变更分红方式  产品品种   持有天数  \\\n",
       "0  ZXGRHLA2021059   0.0   1.0  1.0   1.0   0.0         0.0   0.0  364.0   \n",
       "1  GRSHB201902005   0.0   1.0  1.0   1.0   1.0         0.0   0.0    1.0   \n",
       "2   GRHLA20211629   0.0   1.0  1.0   1.0   0.0         0.0   0.0  112.0   \n",
       "\n",
       "        数据日期  募集方式  管理方式  业务模式  收益特点   期限  投资模式     预期收益率     最高收益率     最低收益率  \\\n",
       "0 2099-12-01   NaN   NaN   NaN   2.0  NaN   1.0  0.042694  0.043732  0.015793   \n",
       "1 2099-12-01   NaN   NaN   NaN   2.0  NaN   1.0  0.027344  0.027344  0.001100   \n",
       "2 2099-12-01   NaN   NaN   NaN   2.0  5.0   1.0  0.040466  0.043091  0.015793   \n",
       "\n",
       "   展示等级  prod_class                       流水号  业务代码  渠道标识 core_cust_id   净值  \\\n",
       "0   NaN           1                       NaN   NaN   NaN          NaN  NaN   \n",
       "1   5.0           1                       NaN   NaN   NaN          NaN  NaN   \n",
       "2   2.0           1  JGX202109260000007886008   4.0   1.0   2847abcb4d  1.0   \n",
       "\n",
       "     申请金额  资金状态  交易状态  总金额 trade_date  \n",
       "0     NaN   NaN   NaN  NaN        NaT  \n",
       "1     NaN   NaN   NaN  NaN        NaT  \n",
       "2  60,110   3.0   3.0  0.0 2021-09-26  "
      ]
     },
     "execution_count": 134,
     "metadata": {},
     "output_type": "execute_result"
    }
   ],
   "source": [
    "A_df.head(3)"
   ]
  },
  {
   "cell_type": "code",
   "execution_count": 135,
   "id": "377d4e6a-537b-4983-b5ed-0583a4e42cac",
   "metadata": {},
   "outputs": [
    {
     "name": "stdout",
     "output_type": "stream",
     "text": [
      "<class 'pandas.core.frame.DataFrame'>\n",
      "Int64Index: 969443 entries, 0 to 969442\n",
      "Data columns (total 31 columns):\n",
      " #   Column        Non-Null Count   Dtype         \n",
      "---  ------        --------------   -----         \n",
      " 0   prod_code     969443 non-null  object        \n",
      " 1   计价类型          953096 non-null  float64       \n",
      " 2   周期类型          953096 non-null  float64       \n",
      " 3   模式            953096 non-null  float64       \n",
      " 4   风险等级          953096 non-null  float64       \n",
      " 5   是否滚存          953096 non-null  float64       \n",
      " 6   是否允许变更分红方式    953096 non-null  float64       \n",
      " 7   产品品种          953096 non-null  float64       \n",
      " 8   持有天数          953096 non-null  float64       \n",
      " 9   数据日期          969443 non-null  datetime64[ns]\n",
      " 10  募集方式          314 non-null     float16       \n",
      " 11  管理方式          314 non-null     float16       \n",
      " 12  业务模式          314 non-null     float16       \n",
      " 13  收益特点          969413 non-null  float64       \n",
      " 14  期限            416667 non-null  float16       \n",
      " 15  投资模式          969413 non-null  float64       \n",
      " 16  预期收益率         969413 non-null  float16       \n",
      " 17  最高收益率         969413 non-null  float16       \n",
      " 18  最低收益率         969413 non-null  float16       \n",
      " 19  展示等级          286749 non-null  float16       \n",
      " 20  prod_class    969443 non-null  int64         \n",
      " 21  流水号           949114 non-null  object        \n",
      " 22  业务代码          768728 non-null  float16       \n",
      " 23  渠道标识          949114 non-null  float64       \n",
      " 24  core_cust_id  949114 non-null  object        \n",
      " 25  净值            949114 non-null  float64       \n",
      " 26  申请金额          949114 non-null  object        \n",
      " 27  资金状态          949114 non-null  float64       \n",
      " 28  交易状态          949114 non-null  float64       \n",
      " 29  总金额           949114 non-null  float64       \n",
      " 30  trade_date    949114 non-null  datetime64[ns]\n",
      "dtypes: datetime64[ns](2), float16(9), float64(15), int64(1), object(4)\n",
      "memory usage: 186.8+ MB\n"
     ]
    }
   ],
   "source": [
    "A_df.info()"
   ]
  },
  {
   "cell_type": "code",
   "execution_count": 136,
   "id": "7b8228eb-8616-4e63-b58d-86c7996ef7bc",
   "metadata": {},
   "outputs": [
    {
     "data": {
      "text/plain": [
       "prod_code        22899\n",
       "计价类型                 1\n",
       "周期类型                 1\n",
       "模式                   1\n",
       "风险等级                 2\n",
       "是否滚存                 2\n",
       "是否允许变更分红方式           1\n",
       "产品品种                 1\n",
       "持有天数               319\n",
       "数据日期                30\n",
       "募集方式                 1\n",
       "管理方式                 1\n",
       "业务模式                 1\n",
       "收益特点                 1\n",
       "期限                   6\n",
       "投资模式                 1\n",
       "预期收益率              213\n",
       "最高收益率              214\n",
       "最低收益率               25\n",
       "展示等级                 5\n",
       "prod_class           1\n",
       "流水号             949114\n",
       "业务代码                 7\n",
       "渠道标识                 4\n",
       "core_cust_id     51888\n",
       "净值                   1\n",
       "申请金额              2155\n",
       "资金状态                 6\n",
       "交易状态                 4\n",
       "总金额                  1\n",
       "trade_date         273\n",
       "dtype: int64"
      ]
     },
     "execution_count": 136,
     "metadata": {},
     "output_type": "execute_result"
    }
   ],
   "source": [
    "A_df.nunique()"
   ]
  },
  {
   "cell_type": "markdown",
   "id": "d5c4a384-ac17-4af0-8477-889c34fa5d04",
   "metadata": {},
   "source": [
    "### B产品基本信息+流水表"
   ]
  },
  {
   "cell_type": "code",
   "execution_count": 137,
   "id": "9a11316f-c8d9-4587-9f62-26f5d3796d9a",
   "metadata": {},
   "outputs": [],
   "source": [
    "B_df = pd.merge(b_prod, o_data, on=['prod_code', 'prod_class'], how='outer')"
   ]
  },
  {
   "cell_type": "code",
   "execution_count": 138,
   "id": "60167115-0c95-46cb-80bf-31f2e63d9813",
   "metadata": {},
   "outputs": [
    {
     "data": {
      "text/html": [
       "<div>\n",
       "<style scoped>\n",
       "    .dataframe tbody tr th:only-of-type {\n",
       "        vertical-align: middle;\n",
       "    }\n",
       "\n",
       "    .dataframe tbody tr th {\n",
       "        vertical-align: top;\n",
       "    }\n",
       "\n",
       "    .dataframe thead th {\n",
       "        text-align: right;\n",
       "    }\n",
       "</style>\n",
       "<table border=\"1\" class=\"dataframe\">\n",
       "  <thead>\n",
       "    <tr style=\"text-align: right;\">\n",
       "      <th></th>\n",
       "      <th>prod_code</th>\n",
       "      <th>计价类型</th>\n",
       "      <th>周期类型</th>\n",
       "      <th>模式</th>\n",
       "      <th>风险等级</th>\n",
       "      <th>是否允许变更分红方式</th>\n",
       "      <th>产品品种</th>\n",
       "      <th>模式2</th>\n",
       "      <th>数据日期</th>\n",
       "      <th>募集方式</th>\n",
       "      <th>管理方式</th>\n",
       "      <th>业务模式</th>\n",
       "      <th>收益特点</th>\n",
       "      <th>期限</th>\n",
       "      <th>投资模式</th>\n",
       "      <th>prod_class</th>\n",
       "      <th>流水号</th>\n",
       "      <th>业务代码</th>\n",
       "      <th>渠道标识</th>\n",
       "      <th>core_cust_id</th>\n",
       "      <th>净值</th>\n",
       "      <th>申请金额</th>\n",
       "      <th>交易状态</th>\n",
       "      <th>资金状态</th>\n",
       "      <th>总金额</th>\n",
       "      <th>超额管理费</th>\n",
       "      <th>trade_date</th>\n",
       "    </tr>\n",
       "  </thead>\n",
       "  <tbody>\n",
       "    <tr>\n",
       "      <th>0</th>\n",
       "      <td>ZYGR2016286</td>\n",
       "      <td>0.0</td>\n",
       "      <td>1.0</td>\n",
       "      <td>1.0</td>\n",
       "      <td>2.0</td>\n",
       "      <td>0.0</td>\n",
       "      <td>0.0</td>\n",
       "      <td>NaN</td>\n",
       "      <td>2099-12-01</td>\n",
       "      <td>0.0</td>\n",
       "      <td>2.0</td>\n",
       "      <td>1.0</td>\n",
       "      <td>2</td>\n",
       "      <td>NaN</td>\n",
       "      <td>1</td>\n",
       "      <td>3</td>\n",
       "      <td>NaN</td>\n",
       "      <td>NaN</td>\n",
       "      <td>NaN</td>\n",
       "      <td>NaN</td>\n",
       "      <td>NaN</td>\n",
       "      <td>NaN</td>\n",
       "      <td>NaN</td>\n",
       "      <td>NaN</td>\n",
       "      <td>NaN</td>\n",
       "      <td>NaN</td>\n",
       "      <td>NaT</td>\n",
       "    </tr>\n",
       "    <tr>\n",
       "      <th>1</th>\n",
       "      <td>ZYGR2015103</td>\n",
       "      <td>0.0</td>\n",
       "      <td>1.0</td>\n",
       "      <td>1.0</td>\n",
       "      <td>2.0</td>\n",
       "      <td>1.0</td>\n",
       "      <td>0.0</td>\n",
       "      <td>NaN</td>\n",
       "      <td>2099-12-01</td>\n",
       "      <td>1.0</td>\n",
       "      <td>2.0</td>\n",
       "      <td>1.0</td>\n",
       "      <td>2</td>\n",
       "      <td>6.0</td>\n",
       "      <td>1</td>\n",
       "      <td>3</td>\n",
       "      <td>NaN</td>\n",
       "      <td>NaN</td>\n",
       "      <td>NaN</td>\n",
       "      <td>NaN</td>\n",
       "      <td>NaN</td>\n",
       "      <td>NaN</td>\n",
       "      <td>NaN</td>\n",
       "      <td>NaN</td>\n",
       "      <td>NaN</td>\n",
       "      <td>NaN</td>\n",
       "      <td>NaT</td>\n",
       "    </tr>\n",
       "    <tr>\n",
       "      <th>2</th>\n",
       "      <td>YQ2017167</td>\n",
       "      <td>0.0</td>\n",
       "      <td>1.0</td>\n",
       "      <td>1.0</td>\n",
       "      <td>1.0</td>\n",
       "      <td>0.0</td>\n",
       "      <td>0.0</td>\n",
       "      <td>NaN</td>\n",
       "      <td>2099-12-01</td>\n",
       "      <td>0.0</td>\n",
       "      <td>2.0</td>\n",
       "      <td>1.0</td>\n",
       "      <td>2</td>\n",
       "      <td>NaN</td>\n",
       "      <td>0</td>\n",
       "      <td>3</td>\n",
       "      <td>NaN</td>\n",
       "      <td>NaN</td>\n",
       "      <td>NaN</td>\n",
       "      <td>NaN</td>\n",
       "      <td>NaN</td>\n",
       "      <td>NaN</td>\n",
       "      <td>NaN</td>\n",
       "      <td>NaN</td>\n",
       "      <td>NaN</td>\n",
       "      <td>NaN</td>\n",
       "      <td>NaT</td>\n",
       "    </tr>\n",
       "  </tbody>\n",
       "</table>\n",
       "</div>"
      ],
      "text/plain": [
       "     prod_code  计价类型  周期类型   模式  风险等级  是否允许变更分红方式  产品品种  模式2       数据日期  募集方式  \\\n",
       "0  ZYGR2016286   0.0   1.0  1.0   2.0         0.0   0.0  NaN 2099-12-01   0.0   \n",
       "1  ZYGR2015103   0.0   1.0  1.0   2.0         1.0   0.0  NaN 2099-12-01   1.0   \n",
       "2    YQ2017167   0.0   1.0  1.0   1.0         0.0   0.0  NaN 2099-12-01   0.0   \n",
       "\n",
       "   管理方式  业务模式  收益特点   期限  投资模式  prod_class  流水号  业务代码  渠道标识 core_cust_id  净值  \\\n",
       "0   2.0   1.0     2  NaN     1           3  NaN   NaN   NaN          NaN NaN   \n",
       "1   2.0   1.0     2  6.0     1           3  NaN   NaN   NaN          NaN NaN   \n",
       "2   2.0   1.0     2  NaN     0           3  NaN   NaN   NaN          NaN NaN   \n",
       "\n",
       "  申请金额  交易状态  资金状态  总金额 超额管理费 trade_date  \n",
       "0  NaN   NaN   NaN  NaN   NaN        NaT  \n",
       "1  NaN   NaN   NaN  NaN   NaN        NaT  \n",
       "2  NaN   NaN   NaN  NaN   NaN        NaT  "
      ]
     },
     "execution_count": 138,
     "metadata": {},
     "output_type": "execute_result"
    }
   ],
   "source": [
    "B_df.head(3)"
   ]
  },
  {
   "cell_type": "code",
   "execution_count": 139,
   "id": "e73d5b7c-d9f3-4301-8aad-ee7fa0385a82",
   "metadata": {},
   "outputs": [
    {
     "name": "stdout",
     "output_type": "stream",
     "text": [
      "<class 'pandas.core.frame.DataFrame'>\n",
      "Int64Index: 45382 entries, 0 to 45381\n",
      "Data columns (total 27 columns):\n",
      " #   Column        Non-Null Count  Dtype         \n",
      "---  ------        --------------  -----         \n",
      " 0   prod_code     45382 non-null  object        \n",
      " 1   计价类型          45076 non-null  float64       \n",
      " 2   周期类型          45076 non-null  float64       \n",
      " 3   模式            45076 non-null  float64       \n",
      " 4   风险等级          45076 non-null  float64       \n",
      " 5   是否允许变更分红方式    45076 non-null  float64       \n",
      " 6   产品品种          45076 non-null  float64       \n",
      " 7   模式2           31017 non-null  float16       \n",
      " 8   数据日期          45382 non-null  datetime64[ns]\n",
      " 9   募集方式          36879 non-null  float16       \n",
      " 10  管理方式          36879 non-null  float16       \n",
      " 11  业务模式          36879 non-null  float16       \n",
      " 12  收益特点          45382 non-null  int8          \n",
      " 13  期限            8776 non-null   float16       \n",
      " 14  投资模式          45382 non-null  int8          \n",
      " 15  prod_class    45382 non-null  int64         \n",
      " 16  流水号           42492 non-null  object        \n",
      " 17  业务代码          42492 non-null  float64       \n",
      " 18  渠道标识          42492 non-null  float64       \n",
      " 19  core_cust_id  42492 non-null  object        \n",
      " 20  净值            42492 non-null  float64       \n",
      " 21  申请金额          42492 non-null  object        \n",
      " 22  交易状态          42492 non-null  float64       \n",
      " 23  资金状态          42492 non-null  float64       \n",
      " 24  总金额           42492 non-null  object        \n",
      " 25  超额管理费         42492 non-null  object        \n",
      " 26  trade_date    42492 non-null  datetime64[ns]\n",
      "dtypes: datetime64[ns](2), float16(5), float64(11), int64(1), int8(2), object(6)\n",
      "memory usage: 7.8+ MB\n"
     ]
    }
   ],
   "source": [
    "B_df.info()"
   ]
  },
  {
   "cell_type": "code",
   "execution_count": 140,
   "id": "94266441-3cf9-49dd-8840-0c42640b3388",
   "metadata": {},
   "outputs": [
    {
     "data": {
      "text/plain": [
       "prod_code        3002\n",
       "计价类型                2\n",
       "周期类型                2\n",
       "模式                  2\n",
       "风险等级                3\n",
       "是否允许变更分红方式          2\n",
       "产品品种                1\n",
       "模式2                 7\n",
       "数据日期                3\n",
       "募集方式                2\n",
       "管理方式                2\n",
       "业务模式                2\n",
       "收益特点                2\n",
       "期限                  5\n",
       "投资模式                2\n",
       "prod_class          1\n",
       "流水号             42492\n",
       "业务代码                9\n",
       "渠道标识                4\n",
       "core_cust_id    13678\n",
       "净值                 87\n",
       "申请金额              741\n",
       "交易状态                5\n",
       "资金状态                5\n",
       "总金额              1123\n",
       "超额管理费             960\n",
       "trade_date        188\n",
       "dtype: int64"
      ]
     },
     "execution_count": 140,
     "metadata": {},
     "output_type": "execute_result"
    }
   ],
   "source": [
    "B_df.nunique()"
   ]
  },
  {
   "cell_type": "markdown",
   "id": "cd59355f-b5f8-4ad6-ba22-b8557e503bd8",
   "metadata": {},
   "source": [
    "### C产品基本信息+流水表"
   ]
  },
  {
   "cell_type": "code",
   "execution_count": 141,
   "id": "bd130f66-7f85-4cab-9abd-133d97bd7c73",
   "metadata": {},
   "outputs": [],
   "source": [
    "C_df = pd.merge(c_prod, q_data, on=['prod_code', 'prod_class'], how='outer')"
   ]
  },
  {
   "cell_type": "code",
   "execution_count": 142,
   "id": "1e90042b-31ca-49c6-b222-8c83f99dc0ba",
   "metadata": {},
   "outputs": [
    {
     "data": {
      "text/html": [
       "<div>\n",
       "<style scoped>\n",
       "    .dataframe tbody tr th:only-of-type {\n",
       "        vertical-align: middle;\n",
       "    }\n",
       "\n",
       "    .dataframe tbody tr th {\n",
       "        vertical-align: top;\n",
       "    }\n",
       "\n",
       "    .dataframe thead th {\n",
       "        text-align: right;\n",
       "    }\n",
       "</style>\n",
       "<table border=\"1\" class=\"dataframe\">\n",
       "  <thead>\n",
       "    <tr style=\"text-align: right;\">\n",
       "      <th></th>\n",
       "      <th>prod_code</th>\n",
       "      <th>计价类型</th>\n",
       "      <th>周期类型</th>\n",
       "      <th>模式</th>\n",
       "      <th>风险等级</th>\n",
       "      <th>是否允许变更分红方式</th>\n",
       "      <th>份额冻结比率</th>\n",
       "      <th>产品品种</th>\n",
       "      <th>持有天数</th>\n",
       "      <th>数据日期</th>\n",
       "      <th>募集方式</th>\n",
       "      <th>管理方式</th>\n",
       "      <th>业务模式</th>\n",
       "      <th>收益特点</th>\n",
       "      <th>期限</th>\n",
       "      <th>投资模式</th>\n",
       "      <th>预期收益率</th>\n",
       "      <th>展示等级</th>\n",
       "      <th>prod_class</th>\n",
       "      <th>流水号</th>\n",
       "      <th>业务代码</th>\n",
       "      <th>渠道标识</th>\n",
       "      <th>core_cust_id</th>\n",
       "      <th>净值</th>\n",
       "      <th>申请金额</th>\n",
       "      <th>资金状态</th>\n",
       "      <th>交易状态</th>\n",
       "      <th>trade_date</th>\n",
       "    </tr>\n",
       "  </thead>\n",
       "  <tbody>\n",
       "    <tr>\n",
       "      <th>0</th>\n",
       "      <td>DECD21052405</td>\n",
       "      <td>0</td>\n",
       "      <td>0</td>\n",
       "      <td>2</td>\n",
       "      <td>NaN</td>\n",
       "      <td>0</td>\n",
       "      <td>0</td>\n",
       "      <td>0</td>\n",
       "      <td>0</td>\n",
       "      <td>2099-12-01</td>\n",
       "      <td>NaN</td>\n",
       "      <td>NaN</td>\n",
       "      <td>NaN</td>\n",
       "      <td>NaN</td>\n",
       "      <td>NaN</td>\n",
       "      <td>2</td>\n",
       "      <td>0.035278</td>\n",
       "      <td>NaN</td>\n",
       "      <td>2</td>\n",
       "      <td>ADE202106080000007065142</td>\n",
       "      <td>2.0</td>\n",
       "      <td>2.0</td>\n",
       "      <td>baf6949c96</td>\n",
       "      <td>1.0</td>\n",
       "      <td>600,110</td>\n",
       "      <td>3.0</td>\n",
       "      <td>3.0</td>\n",
       "      <td>2021-06-08</td>\n",
       "    </tr>\n",
       "    <tr>\n",
       "      <th>1</th>\n",
       "      <td>DECD21052405</td>\n",
       "      <td>0</td>\n",
       "      <td>0</td>\n",
       "      <td>2</td>\n",
       "      <td>NaN</td>\n",
       "      <td>0</td>\n",
       "      <td>0</td>\n",
       "      <td>0</td>\n",
       "      <td>0</td>\n",
       "      <td>2099-12-01</td>\n",
       "      <td>NaN</td>\n",
       "      <td>NaN</td>\n",
       "      <td>NaN</td>\n",
       "      <td>NaN</td>\n",
       "      <td>NaN</td>\n",
       "      <td>2</td>\n",
       "      <td>0.035278</td>\n",
       "      <td>NaN</td>\n",
       "      <td>2</td>\n",
       "      <td>ADE202106090000007073728</td>\n",
       "      <td>2.0</td>\n",
       "      <td>2.0</td>\n",
       "      <td>d23f0d85df</td>\n",
       "      <td>1.0</td>\n",
       "      <td>450,110</td>\n",
       "      <td>3.0</td>\n",
       "      <td>3.0</td>\n",
       "      <td>2021-06-09</td>\n",
       "    </tr>\n",
       "    <tr>\n",
       "      <th>2</th>\n",
       "      <td>DECD21052405</td>\n",
       "      <td>0</td>\n",
       "      <td>0</td>\n",
       "      <td>2</td>\n",
       "      <td>NaN</td>\n",
       "      <td>0</td>\n",
       "      <td>0</td>\n",
       "      <td>0</td>\n",
       "      <td>0</td>\n",
       "      <td>2099-12-01</td>\n",
       "      <td>NaN</td>\n",
       "      <td>NaN</td>\n",
       "      <td>NaN</td>\n",
       "      <td>NaN</td>\n",
       "      <td>NaN</td>\n",
       "      <td>2</td>\n",
       "      <td>0.035278</td>\n",
       "      <td>NaN</td>\n",
       "      <td>2</td>\n",
       "      <td>ADE202106100000007082691</td>\n",
       "      <td>2.0</td>\n",
       "      <td>2.0</td>\n",
       "      <td>7c195edce2</td>\n",
       "      <td>1.0</td>\n",
       "      <td>300,110</td>\n",
       "      <td>3.0</td>\n",
       "      <td>3.0</td>\n",
       "      <td>2021-06-10</td>\n",
       "    </tr>\n",
       "  </tbody>\n",
       "</table>\n",
       "</div>"
      ],
      "text/plain": [
       "      prod_code  计价类型  周期类型  模式  风险等级  是否允许变更分红方式  份额冻结比率  产品品种  持有天数  \\\n",
       "0  DECD21052405     0     0   2   NaN           0       0     0     0   \n",
       "1  DECD21052405     0     0   2   NaN           0       0     0     0   \n",
       "2  DECD21052405     0     0   2   NaN           0       0     0     0   \n",
       "\n",
       "        数据日期  募集方式  管理方式  业务模式  收益特点  期限  投资模式     预期收益率  展示等级  prod_class  \\\n",
       "0 2099-12-01   NaN   NaN   NaN   NaN NaN     2  0.035278   NaN           2   \n",
       "1 2099-12-01   NaN   NaN   NaN   NaN NaN     2  0.035278   NaN           2   \n",
       "2 2099-12-01   NaN   NaN   NaN   NaN NaN     2  0.035278   NaN           2   \n",
       "\n",
       "                        流水号  业务代码  渠道标识 core_cust_id   净值     申请金额  资金状态  \\\n",
       "0  ADE202106080000007065142   2.0   2.0   baf6949c96  1.0  600,110   3.0   \n",
       "1  ADE202106090000007073728   2.0   2.0   d23f0d85df  1.0  450,110   3.0   \n",
       "2  ADE202106100000007082691   2.0   2.0   7c195edce2  1.0  300,110   3.0   \n",
       "\n",
       "   交易状态 trade_date  \n",
       "0   3.0 2021-06-08  \n",
       "1   3.0 2021-06-09  \n",
       "2   3.0 2021-06-10  "
      ]
     },
     "execution_count": 142,
     "metadata": {},
     "output_type": "execute_result"
    }
   ],
   "source": [
    "C_df.head(3)"
   ]
  },
  {
   "cell_type": "code",
   "execution_count": 143,
   "id": "cd111cad-7cdc-447b-9af3-c7fdbbfd65b3",
   "metadata": {},
   "outputs": [
    {
     "name": "stdout",
     "output_type": "stream",
     "text": [
      "<class 'pandas.core.frame.DataFrame'>\n",
      "Int64Index: 3986 entries, 0 to 3985\n",
      "Data columns (total 28 columns):\n",
      " #   Column        Non-Null Count  Dtype         \n",
      "---  ------        --------------  -----         \n",
      " 0   prod_code     3986 non-null   object        \n",
      " 1   计价类型          3986 non-null   int8          \n",
      " 2   周期类型          3986 non-null   int8          \n",
      " 3   模式            3986 non-null   int8          \n",
      " 4   风险等级          0 non-null      float64       \n",
      " 5   是否允许变更分红方式    3986 non-null   int8          \n",
      " 6   份额冻结比率        3986 non-null   int8          \n",
      " 7   产品品种          3986 non-null   int8          \n",
      " 8   持有天数          3986 non-null   int8          \n",
      " 9   数据日期          3986 non-null   datetime64[ns]\n",
      " 10  募集方式          0 non-null      float64       \n",
      " 11  管理方式          0 non-null      float64       \n",
      " 12  业务模式          0 non-null      float64       \n",
      " 13  收益特点          0 non-null      float64       \n",
      " 14  期限            0 non-null      float64       \n",
      " 15  投资模式          3986 non-null   int8          \n",
      " 16  预期收益率         3986 non-null   float16       \n",
      " 17  展示等级          2232 non-null   float16       \n",
      " 18  prod_class    3986 non-null   int64         \n",
      " 19  流水号           3886 non-null   object        \n",
      " 20  业务代码          3886 non-null   float64       \n",
      " 21  渠道标识          3886 non-null   float64       \n",
      " 22  core_cust_id  3886 non-null   object        \n",
      " 23  净值            3886 non-null   float64       \n",
      " 24  申请金额          3886 non-null   object        \n",
      " 25  资金状态          3886 non-null   float64       \n",
      " 26  交易状态          3886 non-null   float64       \n",
      " 27  trade_date    3886 non-null   datetime64[ns]\n",
      "dtypes: datetime64[ns](2), float16(2), float64(11), int64(1), int8(8), object(4)\n",
      "memory usage: 638.4+ KB\n"
     ]
    }
   ],
   "source": [
    "C_df.info()"
   ]
  },
  {
   "cell_type": "code",
   "execution_count": 144,
   "id": "5867d7ad-614c-44b7-8b91-e671bcc08469",
   "metadata": {},
   "outputs": [
    {
     "data": {
      "text/plain": [
       "prod_code        129\n",
       "计价类型               2\n",
       "周期类型               2\n",
       "模式                 2\n",
       "风险等级               0\n",
       "是否允许变更分红方式         1\n",
       "份额冻结比率             1\n",
       "产品品种               1\n",
       "持有天数               1\n",
       "数据日期               1\n",
       "募集方式               0\n",
       "管理方式               0\n",
       "业务模式               0\n",
       "收益特点               0\n",
       "期限                 0\n",
       "投资模式               1\n",
       "预期收益率             12\n",
       "展示等级               2\n",
       "prod_class         1\n",
       "流水号             3886\n",
       "业务代码               2\n",
       "渠道标识               2\n",
       "core_cust_id    2852\n",
       "净值                 1\n",
       "申请金额             187\n",
       "资金状态               2\n",
       "交易状态               2\n",
       "trade_date        84\n",
       "dtype: int64"
      ]
     },
     "execution_count": 144,
     "metadata": {},
     "output_type": "execute_result"
    }
   ],
   "source": [
    "C_df.nunique()"
   ]
  },
  {
   "cell_type": "markdown",
   "id": "2e926d95-e5f8-463d-ae6b-d7b63c013834",
   "metadata": {},
   "source": [
    "### D产品基本信息+流水表"
   ]
  },
  {
   "cell_type": "code",
   "execution_count": 145,
   "id": "097b211a-7c60-4db4-8d5b-0a17e814ff9d",
   "metadata": {},
   "outputs": [],
   "source": [
    "D_df = pd.merge(d_prod, p_data, on=['prod_code', 'prod_class'], how='outer')"
   ]
  },
  {
   "cell_type": "code",
   "execution_count": 146,
   "id": "531919bf-dfa0-4977-b685-527418a02b41",
   "metadata": {},
   "outputs": [
    {
     "data": {
      "text/html": [
       "<div>\n",
       "<style scoped>\n",
       "    .dataframe tbody tr th:only-of-type {\n",
       "        vertical-align: middle;\n",
       "    }\n",
       "\n",
       "    .dataframe tbody tr th {\n",
       "        vertical-align: top;\n",
       "    }\n",
       "\n",
       "    .dataframe thead th {\n",
       "        text-align: right;\n",
       "    }\n",
       "</style>\n",
       "<table border=\"1\" class=\"dataframe\">\n",
       "  <thead>\n",
       "    <tr style=\"text-align: right;\">\n",
       "      <th></th>\n",
       "      <th>prod_code</th>\n",
       "      <th>计价类型</th>\n",
       "      <th>周期类型</th>\n",
       "      <th>模式</th>\n",
       "      <th>风险等级</th>\n",
       "      <th>是否允许变更分红方式</th>\n",
       "      <th>收益计息基数</th>\n",
       "      <th>最低收益率</th>\n",
       "      <th>最高收益率</th>\n",
       "      <th>产品面值</th>\n",
       "      <th>发行价格</th>\n",
       "      <th>预期收益率</th>\n",
       "      <th>持有天数</th>\n",
       "      <th>数据日期</th>\n",
       "      <th>prod_class</th>\n",
       "      <th>流水号</th>\n",
       "      <th>业务代码</th>\n",
       "      <th>渠道标识</th>\n",
       "      <th>core_cust_id</th>\n",
       "      <th>净值</th>\n",
       "      <th>申请金额</th>\n",
       "      <th>折扣率</th>\n",
       "      <th>交易状态</th>\n",
       "      <th>资金状态</th>\n",
       "      <th>费率</th>\n",
       "      <th>trade_date</th>\n",
       "    </tr>\n",
       "  </thead>\n",
       "  <tbody>\n",
       "    <tr>\n",
       "      <th>0</th>\n",
       "      <td>FYG21040C</td>\n",
       "      <td>1</td>\n",
       "      <td>1</td>\n",
       "      <td>6.0</td>\n",
       "      <td>2</td>\n",
       "      <td>1</td>\n",
       "      <td>2</td>\n",
       "      <td>0.001100</td>\n",
       "      <td>0.001100</td>\n",
       "      <td>1</td>\n",
       "      <td>1</td>\n",
       "      <td>4.472656</td>\n",
       "      <td>1</td>\n",
       "      <td>2021-12-01</td>\n",
       "      <td>4</td>\n",
       "      <td>NaN</td>\n",
       "      <td>NaN</td>\n",
       "      <td>NaN</td>\n",
       "      <td>NaN</td>\n",
       "      <td>NaN</td>\n",
       "      <td>NaN</td>\n",
       "      <td>NaN</td>\n",
       "      <td>NaN</td>\n",
       "      <td>NaN</td>\n",
       "      <td>NaN</td>\n",
       "      <td>NaT</td>\n",
       "    </tr>\n",
       "    <tr>\n",
       "      <th>1</th>\n",
       "      <td>H201224A</td>\n",
       "      <td>1</td>\n",
       "      <td>1</td>\n",
       "      <td>6.0</td>\n",
       "      <td>1</td>\n",
       "      <td>0</td>\n",
       "      <td>1</td>\n",
       "      <td>0.036804</td>\n",
       "      <td>0.036804</td>\n",
       "      <td>1</td>\n",
       "      <td>1</td>\n",
       "      <td>NaN</td>\n",
       "      <td>1</td>\n",
       "      <td>2021-12-01</td>\n",
       "      <td>4</td>\n",
       "      <td>NaN</td>\n",
       "      <td>NaN</td>\n",
       "      <td>NaN</td>\n",
       "      <td>NaN</td>\n",
       "      <td>NaN</td>\n",
       "      <td>NaN</td>\n",
       "      <td>NaN</td>\n",
       "      <td>NaN</td>\n",
       "      <td>NaN</td>\n",
       "      <td>NaN</td>\n",
       "      <td>NaT</td>\n",
       "    </tr>\n",
       "    <tr>\n",
       "      <th>2</th>\n",
       "      <td>H201029B</td>\n",
       "      <td>1</td>\n",
       "      <td>1</td>\n",
       "      <td>6.0</td>\n",
       "      <td>1</td>\n",
       "      <td>0</td>\n",
       "      <td>1</td>\n",
       "      <td>0.038361</td>\n",
       "      <td>0.038361</td>\n",
       "      <td>1</td>\n",
       "      <td>1</td>\n",
       "      <td>NaN</td>\n",
       "      <td>1</td>\n",
       "      <td>2021-12-01</td>\n",
       "      <td>4</td>\n",
       "      <td>NaN</td>\n",
       "      <td>NaN</td>\n",
       "      <td>NaN</td>\n",
       "      <td>NaN</td>\n",
       "      <td>NaN</td>\n",
       "      <td>NaN</td>\n",
       "      <td>NaN</td>\n",
       "      <td>NaN</td>\n",
       "      <td>NaN</td>\n",
       "      <td>NaN</td>\n",
       "      <td>NaT</td>\n",
       "    </tr>\n",
       "  </tbody>\n",
       "</table>\n",
       "</div>"
      ],
      "text/plain": [
       "   prod_code  计价类型  周期类型   模式  风险等级  是否允许变更分红方式  收益计息基数     最低收益率     最高收益率  \\\n",
       "0  FYG21040C     1     1  6.0     2           1       2  0.001100  0.001100   \n",
       "1   H201224A     1     1  6.0     1           0       1  0.036804  0.036804   \n",
       "2   H201029B     1     1  6.0     1           0       1  0.038361  0.038361   \n",
       "\n",
       "   产品面值  发行价格     预期收益率  持有天数       数据日期  prod_class  流水号  业务代码  渠道标识  \\\n",
       "0     1     1  4.472656     1 2021-12-01           4  NaN   NaN   NaN   \n",
       "1     1     1       NaN     1 2021-12-01           4  NaN   NaN   NaN   \n",
       "2     1     1       NaN     1 2021-12-01           4  NaN   NaN   NaN   \n",
       "\n",
       "  core_cust_id  净值 申请金额  折扣率  交易状态  资金状态  费率 trade_date  \n",
       "0          NaN NaN  NaN  NaN   NaN   NaN NaN        NaT  \n",
       "1          NaN NaN  NaN  NaN   NaN   NaN NaN        NaT  \n",
       "2          NaN NaN  NaN  NaN   NaN   NaN NaN        NaT  "
      ]
     },
     "execution_count": 146,
     "metadata": {},
     "output_type": "execute_result"
    }
   ],
   "source": [
    "D_df.head(3)"
   ]
  },
  {
   "cell_type": "code",
   "execution_count": 147,
   "id": "54bf791b-0d2d-48e5-9b22-091d41c1fe76",
   "metadata": {},
   "outputs": [
    {
     "name": "stdout",
     "output_type": "stream",
     "text": [
      "<class 'pandas.core.frame.DataFrame'>\n",
      "Int64Index: 1056723 entries, 0 to 1056722\n",
      "Data columns (total 26 columns):\n",
      " #   Column        Non-Null Count    Dtype         \n",
      "---  ------        --------------    -----         \n",
      " 0   prod_code     1056723 non-null  object        \n",
      " 1   计价类型          1056723 non-null  int8          \n",
      " 2   周期类型          1056723 non-null  int8          \n",
      " 3   模式            1056716 non-null  float16       \n",
      " 4   风险等级          1056723 non-null  int8          \n",
      " 5   是否允许变更分红方式    1056723 non-null  int8          \n",
      " 6   收益计息基数        1056723 non-null  int8          \n",
      " 7   最低收益率         1056723 non-null  float16       \n",
      " 8   最高收益率         1056723 non-null  float16       \n",
      " 9   产品面值          1056723 non-null  int8          \n",
      " 10  发行价格          1056723 non-null  int8          \n",
      " 11  预期收益率         1056640 non-null  float16       \n",
      " 12  持有天数          1056723 non-null  int8          \n",
      " 13  数据日期          1056723 non-null  datetime64[ns]\n",
      " 14  prod_class    1056723 non-null  int64         \n",
      " 15  流水号           1056586 non-null  object        \n",
      " 16  业务代码          1056586 non-null  float64       \n",
      " 17  渠道标识          138973 non-null   float16       \n",
      " 18  core_cust_id  1056586 non-null  object        \n",
      " 19  净值            1056586 non-null  float16       \n",
      " 20  申请金额          1056586 non-null  object        \n",
      " 21  折扣率           1056586 non-null  float16       \n",
      " 22  交易状态          1056586 non-null  float64       \n",
      " 23  资金状态          127049 non-null   float16       \n",
      " 24  费率            1056586 non-null  float64       \n",
      " 25  trade_date    1056586 non-null  datetime64[ns]\n",
      "dtypes: datetime64[ns](2), float16(8), float64(3), int64(1), int8(8), object(4)\n",
      "memory usage: 112.9+ MB\n"
     ]
    }
   ],
   "source": [
    "D_df.info()"
   ]
  },
  {
   "cell_type": "code",
   "execution_count": 148,
   "id": "ceec493f-86c4-4a9a-85f9-32d5bb8a9d6b",
   "metadata": {},
   "outputs": [
    {
     "data": {
      "text/plain": [
       "prod_code           231\n",
       "计价类型                  1\n",
       "周期类型                  2\n",
       "模式                    3\n",
       "风险等级                  3\n",
       "是否允许变更分红方式            2\n",
       "收益计息基数                3\n",
       "最低收益率                16\n",
       "最高收益率                16\n",
       "产品面值                  2\n",
       "发行价格                  2\n",
       "预期收益率                31\n",
       "持有天数                  1\n",
       "数据日期                  1\n",
       "prod_class            1\n",
       "流水号             1056586\n",
       "业务代码                  6\n",
       "渠道标识                  3\n",
       "core_cust_id      19012\n",
       "净值                   70\n",
       "申请金额              37838\n",
       "折扣率                   7\n",
       "交易状态                  4\n",
       "资金状态                  5\n",
       "费率                    2\n",
       "trade_date          273\n",
       "dtype: int64"
      ]
     },
     "execution_count": 148,
     "metadata": {},
     "output_type": "execute_result"
    }
   ],
   "source": [
    "D_df.nunique()"
   ]
  },
  {
   "cell_type": "markdown",
   "id": "4eedabbe-44eb-49b0-81b7-fe215af677a4",
   "metadata": {},
   "source": [
    "### A+B+C+D产品表"
   ]
  },
  {
   "cell_type": "code",
   "execution_count": 149,
   "id": "f8cdc815-a039-46d1-b3d8-f461bafc3897",
   "metadata": {},
   "outputs": [],
   "source": [
    "prod_df = pd.concat([A_df, B_df, C_df, D_df], ignore_index=True)"
   ]
  },
  {
   "cell_type": "code",
   "execution_count": 150,
   "id": "01ed22e6-d9b4-4a44-95f9-f76428126d71",
   "metadata": {},
   "outputs": [
    {
     "data": {
      "text/html": [
       "<div>\n",
       "<style scoped>\n",
       "    .dataframe tbody tr th:only-of-type {\n",
       "        vertical-align: middle;\n",
       "    }\n",
       "\n",
       "    .dataframe tbody tr th {\n",
       "        vertical-align: top;\n",
       "    }\n",
       "\n",
       "    .dataframe thead th {\n",
       "        text-align: right;\n",
       "    }\n",
       "</style>\n",
       "<table border=\"1\" class=\"dataframe\">\n",
       "  <thead>\n",
       "    <tr style=\"text-align: right;\">\n",
       "      <th></th>\n",
       "      <th>prod_code</th>\n",
       "      <th>计价类型</th>\n",
       "      <th>周期类型</th>\n",
       "      <th>模式</th>\n",
       "      <th>风险等级</th>\n",
       "      <th>是否滚存</th>\n",
       "      <th>是否允许变更分红方式</th>\n",
       "      <th>产品品种</th>\n",
       "      <th>持有天数</th>\n",
       "      <th>数据日期</th>\n",
       "      <th>募集方式</th>\n",
       "      <th>管理方式</th>\n",
       "      <th>业务模式</th>\n",
       "      <th>收益特点</th>\n",
       "      <th>期限</th>\n",
       "      <th>投资模式</th>\n",
       "      <th>预期收益率</th>\n",
       "      <th>最高收益率</th>\n",
       "      <th>最低收益率</th>\n",
       "      <th>展示等级</th>\n",
       "      <th>prod_class</th>\n",
       "      <th>流水号</th>\n",
       "      <th>业务代码</th>\n",
       "      <th>渠道标识</th>\n",
       "      <th>core_cust_id</th>\n",
       "      <th>净值</th>\n",
       "      <th>申请金额</th>\n",
       "      <th>资金状态</th>\n",
       "      <th>交易状态</th>\n",
       "      <th>总金额</th>\n",
       "      <th>trade_date</th>\n",
       "      <th>模式2</th>\n",
       "      <th>超额管理费</th>\n",
       "      <th>份额冻结比率</th>\n",
       "      <th>收益计息基数</th>\n",
       "      <th>产品面值</th>\n",
       "      <th>发行价格</th>\n",
       "      <th>折扣率</th>\n",
       "      <th>费率</th>\n",
       "    </tr>\n",
       "  </thead>\n",
       "  <tbody>\n",
       "    <tr>\n",
       "      <th>0</th>\n",
       "      <td>ZXGRHLA2021059</td>\n",
       "      <td>0.0</td>\n",
       "      <td>1.0</td>\n",
       "      <td>1.0</td>\n",
       "      <td>1.0</td>\n",
       "      <td>0.0</td>\n",
       "      <td>0.0</td>\n",
       "      <td>0.0</td>\n",
       "      <td>364.0</td>\n",
       "      <td>2099-12-01</td>\n",
       "      <td>NaN</td>\n",
       "      <td>NaN</td>\n",
       "      <td>NaN</td>\n",
       "      <td>2.0</td>\n",
       "      <td>NaN</td>\n",
       "      <td>1.0</td>\n",
       "      <td>0.042694</td>\n",
       "      <td>0.043732</td>\n",
       "      <td>0.015793</td>\n",
       "      <td>NaN</td>\n",
       "      <td>1</td>\n",
       "      <td>NaN</td>\n",
       "      <td>NaN</td>\n",
       "      <td>NaN</td>\n",
       "      <td>NaN</td>\n",
       "      <td>NaN</td>\n",
       "      <td>NaN</td>\n",
       "      <td>NaN</td>\n",
       "      <td>NaN</td>\n",
       "      <td>NaN</td>\n",
       "      <td>NaT</td>\n",
       "      <td>NaN</td>\n",
       "      <td>NaN</td>\n",
       "      <td>NaN</td>\n",
       "      <td>NaN</td>\n",
       "      <td>NaN</td>\n",
       "      <td>NaN</td>\n",
       "      <td>NaN</td>\n",
       "      <td>NaN</td>\n",
       "    </tr>\n",
       "    <tr>\n",
       "      <th>1</th>\n",
       "      <td>GRSHB201902005</td>\n",
       "      <td>0.0</td>\n",
       "      <td>1.0</td>\n",
       "      <td>1.0</td>\n",
       "      <td>1.0</td>\n",
       "      <td>1.0</td>\n",
       "      <td>0.0</td>\n",
       "      <td>0.0</td>\n",
       "      <td>1.0</td>\n",
       "      <td>2099-12-01</td>\n",
       "      <td>NaN</td>\n",
       "      <td>NaN</td>\n",
       "      <td>NaN</td>\n",
       "      <td>2.0</td>\n",
       "      <td>NaN</td>\n",
       "      <td>1.0</td>\n",
       "      <td>0.027344</td>\n",
       "      <td>0.027344</td>\n",
       "      <td>0.001100</td>\n",
       "      <td>5.0</td>\n",
       "      <td>1</td>\n",
       "      <td>NaN</td>\n",
       "      <td>NaN</td>\n",
       "      <td>NaN</td>\n",
       "      <td>NaN</td>\n",
       "      <td>NaN</td>\n",
       "      <td>NaN</td>\n",
       "      <td>NaN</td>\n",
       "      <td>NaN</td>\n",
       "      <td>NaN</td>\n",
       "      <td>NaT</td>\n",
       "      <td>NaN</td>\n",
       "      <td>NaN</td>\n",
       "      <td>NaN</td>\n",
       "      <td>NaN</td>\n",
       "      <td>NaN</td>\n",
       "      <td>NaN</td>\n",
       "      <td>NaN</td>\n",
       "      <td>NaN</td>\n",
       "    </tr>\n",
       "    <tr>\n",
       "      <th>2</th>\n",
       "      <td>GRHLA20211629</td>\n",
       "      <td>0.0</td>\n",
       "      <td>1.0</td>\n",
       "      <td>1.0</td>\n",
       "      <td>1.0</td>\n",
       "      <td>0.0</td>\n",
       "      <td>0.0</td>\n",
       "      <td>0.0</td>\n",
       "      <td>112.0</td>\n",
       "      <td>2099-12-01</td>\n",
       "      <td>NaN</td>\n",
       "      <td>NaN</td>\n",
       "      <td>NaN</td>\n",
       "      <td>2.0</td>\n",
       "      <td>5.0</td>\n",
       "      <td>1.0</td>\n",
       "      <td>0.040466</td>\n",
       "      <td>0.043091</td>\n",
       "      <td>0.015793</td>\n",
       "      <td>2.0</td>\n",
       "      <td>1</td>\n",
       "      <td>JGX202109260000007886008</td>\n",
       "      <td>4.0</td>\n",
       "      <td>1.0</td>\n",
       "      <td>2847abcb4d</td>\n",
       "      <td>1.0</td>\n",
       "      <td>60,110</td>\n",
       "      <td>3.0</td>\n",
       "      <td>3.0</td>\n",
       "      <td>0.0</td>\n",
       "      <td>2021-09-26</td>\n",
       "      <td>NaN</td>\n",
       "      <td>NaN</td>\n",
       "      <td>NaN</td>\n",
       "      <td>NaN</td>\n",
       "      <td>NaN</td>\n",
       "      <td>NaN</td>\n",
       "      <td>NaN</td>\n",
       "      <td>NaN</td>\n",
       "    </tr>\n",
       "    <tr>\n",
       "      <th>3</th>\n",
       "      <td>GRHLA20211629</td>\n",
       "      <td>0.0</td>\n",
       "      <td>1.0</td>\n",
       "      <td>1.0</td>\n",
       "      <td>1.0</td>\n",
       "      <td>0.0</td>\n",
       "      <td>0.0</td>\n",
       "      <td>0.0</td>\n",
       "      <td>112.0</td>\n",
       "      <td>2099-12-01</td>\n",
       "      <td>NaN</td>\n",
       "      <td>NaN</td>\n",
       "      <td>NaN</td>\n",
       "      <td>2.0</td>\n",
       "      <td>5.0</td>\n",
       "      <td>1.0</td>\n",
       "      <td>0.040466</td>\n",
       "      <td>0.043091</td>\n",
       "      <td>0.015793</td>\n",
       "      <td>2.0</td>\n",
       "      <td>1</td>\n",
       "      <td>JGX202109300000007935151</td>\n",
       "      <td>4.0</td>\n",
       "      <td>1.0</td>\n",
       "      <td>4b345248ce</td>\n",
       "      <td>1.0</td>\n",
       "      <td>78,110</td>\n",
       "      <td>1.0</td>\n",
       "      <td>2.0</td>\n",
       "      <td>0.0</td>\n",
       "      <td>2021-09-30</td>\n",
       "      <td>NaN</td>\n",
       "      <td>NaN</td>\n",
       "      <td>NaN</td>\n",
       "      <td>NaN</td>\n",
       "      <td>NaN</td>\n",
       "      <td>NaN</td>\n",
       "      <td>NaN</td>\n",
       "      <td>NaN</td>\n",
       "    </tr>\n",
       "    <tr>\n",
       "      <th>4</th>\n",
       "      <td>GRHLA20211629</td>\n",
       "      <td>0.0</td>\n",
       "      <td>1.0</td>\n",
       "      <td>1.0</td>\n",
       "      <td>1.0</td>\n",
       "      <td>0.0</td>\n",
       "      <td>0.0</td>\n",
       "      <td>0.0</td>\n",
       "      <td>112.0</td>\n",
       "      <td>2099-12-01</td>\n",
       "      <td>NaN</td>\n",
       "      <td>NaN</td>\n",
       "      <td>NaN</td>\n",
       "      <td>2.0</td>\n",
       "      <td>5.0</td>\n",
       "      <td>1.0</td>\n",
       "      <td>0.040466</td>\n",
       "      <td>0.043091</td>\n",
       "      <td>0.015793</td>\n",
       "      <td>2.0</td>\n",
       "      <td>1</td>\n",
       "      <td>JGX202109300000007935172</td>\n",
       "      <td>9.0</td>\n",
       "      <td>1.0</td>\n",
       "      <td>4b345248ce</td>\n",
       "      <td>1.0</td>\n",
       "      <td>78,110</td>\n",
       "      <td>8.0</td>\n",
       "      <td>3.0</td>\n",
       "      <td>0.0</td>\n",
       "      <td>2021-09-30</td>\n",
       "      <td>NaN</td>\n",
       "      <td>NaN</td>\n",
       "      <td>NaN</td>\n",
       "      <td>NaN</td>\n",
       "      <td>NaN</td>\n",
       "      <td>NaN</td>\n",
       "      <td>NaN</td>\n",
       "      <td>NaN</td>\n",
       "    </tr>\n",
       "  </tbody>\n",
       "</table>\n",
       "</div>"
      ],
      "text/plain": [
       "        prod_code  计价类型  周期类型   模式  风险等级  是否滚存  是否允许变更分红方式  产品品种   持有天数  \\\n",
       "0  ZXGRHLA2021059   0.0   1.0  1.0   1.0   0.0         0.0   0.0  364.0   \n",
       "1  GRSHB201902005   0.0   1.0  1.0   1.0   1.0         0.0   0.0    1.0   \n",
       "2   GRHLA20211629   0.0   1.0  1.0   1.0   0.0         0.0   0.0  112.0   \n",
       "3   GRHLA20211629   0.0   1.0  1.0   1.0   0.0         0.0   0.0  112.0   \n",
       "4   GRHLA20211629   0.0   1.0  1.0   1.0   0.0         0.0   0.0  112.0   \n",
       "\n",
       "        数据日期  募集方式  管理方式  业务模式  收益特点   期限  投资模式     预期收益率     最高收益率     最低收益率  \\\n",
       "0 2099-12-01   NaN   NaN   NaN   2.0  NaN   1.0  0.042694  0.043732  0.015793   \n",
       "1 2099-12-01   NaN   NaN   NaN   2.0  NaN   1.0  0.027344  0.027344  0.001100   \n",
       "2 2099-12-01   NaN   NaN   NaN   2.0  5.0   1.0  0.040466  0.043091  0.015793   \n",
       "3 2099-12-01   NaN   NaN   NaN   2.0  5.0   1.0  0.040466  0.043091  0.015793   \n",
       "4 2099-12-01   NaN   NaN   NaN   2.0  5.0   1.0  0.040466  0.043091  0.015793   \n",
       "\n",
       "   展示等级  prod_class                       流水号  业务代码  渠道标识 core_cust_id   净值  \\\n",
       "0   NaN           1                       NaN   NaN   NaN          NaN  NaN   \n",
       "1   5.0           1                       NaN   NaN   NaN          NaN  NaN   \n",
       "2   2.0           1  JGX202109260000007886008   4.0   1.0   2847abcb4d  1.0   \n",
       "3   2.0           1  JGX202109300000007935151   4.0   1.0   4b345248ce  1.0   \n",
       "4   2.0           1  JGX202109300000007935172   9.0   1.0   4b345248ce  1.0   \n",
       "\n",
       "     申请金额  资金状态  交易状态  总金额 trade_date  模式2 超额管理费  份额冻结比率  收益计息基数  产品面值  发行价格  \\\n",
       "0     NaN   NaN   NaN  NaN        NaT  NaN   NaN     NaN     NaN   NaN   NaN   \n",
       "1     NaN   NaN   NaN  NaN        NaT  NaN   NaN     NaN     NaN   NaN   NaN   \n",
       "2  60,110   3.0   3.0  0.0 2021-09-26  NaN   NaN     NaN     NaN   NaN   NaN   \n",
       "3  78,110   1.0   2.0  0.0 2021-09-30  NaN   NaN     NaN     NaN   NaN   NaN   \n",
       "4  78,110   8.0   3.0  0.0 2021-09-30  NaN   NaN     NaN     NaN   NaN   NaN   \n",
       "\n",
       "   折扣率  费率  \n",
       "0  NaN NaN  \n",
       "1  NaN NaN  \n",
       "2  NaN NaN  \n",
       "3  NaN NaN  \n",
       "4  NaN NaN  "
      ]
     },
     "execution_count": 150,
     "metadata": {},
     "output_type": "execute_result"
    }
   ],
   "source": [
    "prod_df.head()"
   ]
  },
  {
   "cell_type": "code",
   "execution_count": 151,
   "id": "5aca5b05-0752-460d-938e-0989206f7872",
   "metadata": {},
   "outputs": [
    {
     "name": "stdout",
     "output_type": "stream",
     "text": [
      "<class 'pandas.core.frame.DataFrame'>\n",
      "RangeIndex: 2075534 entries, 0 to 2075533\n",
      "Data columns (total 39 columns):\n",
      " #   Column        Dtype         \n",
      "---  ------        -----         \n",
      " 0   prod_code     object        \n",
      " 1   计价类型          float64       \n",
      " 2   周期类型          float64       \n",
      " 3   模式            float64       \n",
      " 4   风险等级          float64       \n",
      " 5   是否滚存          float64       \n",
      " 6   是否允许变更分红方式    float64       \n",
      " 7   产品品种          float64       \n",
      " 8   持有天数          float64       \n",
      " 9   数据日期          datetime64[ns]\n",
      " 10  募集方式          float64       \n",
      " 11  管理方式          float64       \n",
      " 12  业务模式          float64       \n",
      " 13  收益特点          float64       \n",
      " 14  期限            float64       \n",
      " 15  投资模式          float64       \n",
      " 16  预期收益率         float16       \n",
      " 17  最高收益率         float16       \n",
      " 18  最低收益率         float16       \n",
      " 19  展示等级          float16       \n",
      " 20  prod_class    int64         \n",
      " 21  流水号           object        \n",
      " 22  业务代码          float64       \n",
      " 23  渠道标识          float64       \n",
      " 24  core_cust_id  object        \n",
      " 25  净值            float64       \n",
      " 26  申请金额          object        \n",
      " 27  资金状态          float64       \n",
      " 28  交易状态          float64       \n",
      " 29  总金额           object        \n",
      " 30  trade_date    datetime64[ns]\n",
      " 31  模式2           float16       \n",
      " 32  超额管理费         object        \n",
      " 33  份额冻结比率        float64       \n",
      " 34  收益计息基数        float64       \n",
      " 35  产品面值          float64       \n",
      " 36  发行价格          float64       \n",
      " 37  折扣率           float16       \n",
      " 38  费率            float64       \n",
      "dtypes: datetime64[ns](2), float16(6), float64(24), int64(1), object(6)\n",
      "memory usage: 546.3+ MB\n"
     ]
    }
   ],
   "source": [
    "prod_df.info()"
   ]
  },
  {
   "cell_type": "code",
   "execution_count": 152,
   "id": "97a53f8f-5c0d-4152-878c-61fefeffb87a",
   "metadata": {},
   "outputs": [
    {
     "data": {
      "text/plain": [
       "prod_code         25825\n",
       "计价类型                  2\n",
       "周期类型                  2\n",
       "模式                    4\n",
       "风险等级                  3\n",
       "是否滚存                  2\n",
       "是否允许变更分红方式            2\n",
       "产品品种                  1\n",
       "持有天数                320\n",
       "数据日期                 32\n",
       "募集方式                  2\n",
       "管理方式                  2\n",
       "业务模式                  2\n",
       "收益特点                  2\n",
       "期限                    6\n",
       "投资模式                  3\n",
       "预期收益率               249\n",
       "最高收益率               215\n",
       "最低收益率                34\n",
       "展示等级                  5\n",
       "prod_class            4\n",
       "流水号             2052078\n",
       "业务代码                 10\n",
       "渠道标识                  5\n",
       "core_cust_id      62074\n",
       "净值                  157\n",
       "申请金额              39122\n",
       "资金状态                  8\n",
       "交易状态                  5\n",
       "总金额                1124\n",
       "trade_date          273\n",
       "模式2                   7\n",
       "超额管理费               960\n",
       "份额冻结比率                1\n",
       "收益计息基数                3\n",
       "产品面值                  2\n",
       "发行价格                  2\n",
       "折扣率                   7\n",
       "费率                    2\n",
       "dtype: int64"
      ]
     },
     "execution_count": 152,
     "metadata": {},
     "output_type": "execute_result"
    }
   ],
   "source": [
    "prod_df.nunique()"
   ]
  },
  {
   "cell_type": "markdown",
   "id": "173997ff-14d7-45a6-b3ed-f583fb605a20",
   "metadata": {},
   "source": [
    "#### 产品品种、份额冻结比率，只有一个值，可以删除"
   ]
  },
  {
   "cell_type": "code",
   "execution_count": 153,
   "id": "8a3e31d0-8d76-4935-8470-07b3148c7753",
   "metadata": {},
   "outputs": [],
   "source": [
    "del prod_df['产品品种']"
   ]
  },
  {
   "cell_type": "code",
   "execution_count": 154,
   "id": "4d0766aa-4ae7-4f49-a701-3eb6163da446",
   "metadata": {},
   "outputs": [],
   "source": [
    "del prod_df['份额冻结比率']"
   ]
  },
  {
   "cell_type": "code",
   "execution_count": 155,
   "id": "23e5fa6d-ad72-4a77-87db-80fb0d741995",
   "metadata": {},
   "outputs": [],
   "source": [
    "#A/B/C/D客户的重合度\n",
    "a_num = A_df['core_cust_id'].value_counts().index.tolist()\n",
    "b_num = B_df['core_cust_id'].value_counts().index.tolist()\n",
    "c_num = C_df['core_cust_id'].value_counts().index.tolist()\n",
    "d_num = D_df['core_cust_id'].value_counts().index.tolist()"
   ]
  },
  {
   "cell_type": "code",
   "execution_count": 156,
   "id": "d3ea9ae0-2682-4010-a1f4-f4802429f788",
   "metadata": {},
   "outputs": [
    {
     "data": {
      "text/plain": [
       "(455, 6497, 754)"
      ]
     },
     "execution_count": 156,
     "metadata": {},
     "output_type": "execute_result"
    }
   ],
   "source": [
    "len(set(a_num) & set(b_num)), len(set(a_num) & set(c_num)), len(set(a_num) & set(d_num)), \n",
    "len(set(b_num) & set(c_num)), len(set(d_num) & set(b_num)), len(set(c_num) & set(d_num))"
   ]
  },
  {
   "cell_type": "code",
   "execution_count": 157,
   "id": "365a191f-7e74-4dcc-8b54-e38d627b7c7d",
   "metadata": {},
   "outputs": [
    {
     "data": {
      "text/plain": [
       "(230, 62074)"
      ]
     },
     "execution_count": 157,
     "metadata": {},
     "output_type": "execute_result"
    }
   ],
   "source": [
    "len(set(a_num) & set(b_num) & set(c_num) & set(d_num)), len(set(a_num) | set(b_num) | set(c_num) | set(d_num)) "
   ]
  },
  {
   "cell_type": "code",
   "execution_count": 158,
   "id": "cc244b75-3211-4f78-b6b4-d8fb418668ba",
   "metadata": {},
   "outputs": [
    {
     "data": {
      "text/plain": [
       "(51888, 13678, 2852, 19012)"
      ]
     },
     "execution_count": 158,
     "metadata": {},
     "output_type": "execute_result"
    }
   ],
   "source": [
    "len(a_num), len(b_num), len(c_num), len(d_num)"
   ]
  },
  {
   "cell_type": "code",
   "execution_count": null,
   "id": "87ed24af-5e7e-4a70-aa6b-08da4c542e19",
   "metadata": {},
   "outputs": [],
   "source": []
  },
  {
   "cell_type": "code",
   "execution_count": null,
   "id": "c7ef1d5b-89aa-4afb-9fc1-59b425369a41",
   "metadata": {},
   "outputs": [],
   "source": []
  },
  {
   "cell_type": "code",
   "execution_count": null,
   "id": "6cd58e74-0e8c-4ed5-81c0-f1a5696e9f6c",
   "metadata": {},
   "outputs": [],
   "source": []
  },
  {
   "cell_type": "code",
   "execution_count": null,
   "id": "43edeb52-df69-4fbe-8f27-6e6ae4acea86",
   "metadata": {},
   "outputs": [],
   "source": []
  },
  {
   "cell_type": "markdown",
   "id": "73e7cdff-6bba-4c32-869c-df1f4ef9af56",
   "metadata": {},
   "source": [
    "### D客户信息表"
   ]
  },
  {
   "cell_type": "code",
   "execution_count": 354,
   "id": "99988f78-8a89-4581-a60c-734961305989",
   "metadata": {},
   "outputs": [
    {
     "name": "stdout",
     "output_type": "stream",
     "text": [
      "Memory usage of dataframe is 8.06 MB\n",
      "Memory usage after optimization is: 3.02 MB\n",
      "Decreased by 62.5%\n"
     ]
    },
    {
     "data": {
      "text/html": [
       "<div>\n",
       "<style scoped>\n",
       "    .dataframe tbody tr th:only-of-type {\n",
       "        vertical-align: middle;\n",
       "    }\n",
       "\n",
       "    .dataframe tbody tr th {\n",
       "        vertical-align: top;\n",
       "    }\n",
       "\n",
       "    .dataframe thead th {\n",
       "        text-align: right;\n",
       "    }\n",
       "</style>\n",
       "<table border=\"1\" class=\"dataframe\">\n",
       "  <thead>\n",
       "    <tr style=\"text-align: right;\">\n",
       "      <th></th>\n",
       "      <th>core_cust_id</th>\n",
       "      <th>d1</th>\n",
       "      <th>d2</th>\n",
       "      <th>d3</th>\n",
       "    </tr>\n",
       "  </thead>\n",
       "  <tbody>\n",
       "    <tr>\n",
       "      <th>0</th>\n",
       "      <td>d4931873cb</td>\n",
       "      <td>1</td>\n",
       "      <td>4.0</td>\n",
       "      <td>40</td>\n",
       "    </tr>\n",
       "    <tr>\n",
       "      <th>1</th>\n",
       "      <td>af52580627</td>\n",
       "      <td>2</td>\n",
       "      <td>3.0</td>\n",
       "      <td>32</td>\n",
       "    </tr>\n",
       "  </tbody>\n",
       "</table>\n",
       "</div>"
      ],
      "text/plain": [
       "  core_cust_id  d1   d2  d3\n",
       "0   d4931873cb   1  4.0  40\n",
       "1   af52580627   2  3.0  32"
      ]
     },
     "execution_count": 354,
     "metadata": {},
     "output_type": "execute_result"
    }
   ],
   "source": [
    "d_data = pd.read_csv(path2 + 'd.csv')\n",
    "d_data = reduce_mem_usage(d_data)\n",
    "d_data.head(2)"
   ]
  },
  {
   "cell_type": "code",
   "execution_count": 355,
   "id": "13a3ced2-7f82-49b8-80b1-5d19b01e54e3",
   "metadata": {},
   "outputs": [],
   "source": [
    "d_columns = ['core_cust_id', '性别', '客户等级', '年龄']"
   ]
  },
  {
   "cell_type": "code",
   "execution_count": 356,
   "id": "51a42d18-4e90-4dd7-8007-57f4727b1a6c",
   "metadata": {},
   "outputs": [
    {
     "data": {
      "text/html": [
       "<div>\n",
       "<style scoped>\n",
       "    .dataframe tbody tr th:only-of-type {\n",
       "        vertical-align: middle;\n",
       "    }\n",
       "\n",
       "    .dataframe tbody tr th {\n",
       "        vertical-align: top;\n",
       "    }\n",
       "\n",
       "    .dataframe thead th {\n",
       "        text-align: right;\n",
       "    }\n",
       "</style>\n",
       "<table border=\"1\" class=\"dataframe\">\n",
       "  <thead>\n",
       "    <tr style=\"text-align: right;\">\n",
       "      <th></th>\n",
       "      <th>core_cust_id</th>\n",
       "      <th>性别</th>\n",
       "      <th>客户等级</th>\n",
       "      <th>年龄</th>\n",
       "    </tr>\n",
       "  </thead>\n",
       "  <tbody>\n",
       "    <tr>\n",
       "      <th>0</th>\n",
       "      <td>d4931873cb</td>\n",
       "      <td>1</td>\n",
       "      <td>4.0</td>\n",
       "      <td>40</td>\n",
       "    </tr>\n",
       "    <tr>\n",
       "      <th>1</th>\n",
       "      <td>af52580627</td>\n",
       "      <td>2</td>\n",
       "      <td>3.0</td>\n",
       "      <td>32</td>\n",
       "    </tr>\n",
       "  </tbody>\n",
       "</table>\n",
       "</div>"
      ],
      "text/plain": [
       "  core_cust_id  性别  客户等级  年龄\n",
       "0   d4931873cb   1   4.0  40\n",
       "1   af52580627   2   3.0  32"
      ]
     },
     "execution_count": 356,
     "metadata": {},
     "output_type": "execute_result"
    }
   ],
   "source": [
    "d_data.columns = d_columns\n",
    "d_data.head(2)"
   ]
  },
  {
   "cell_type": "code",
   "execution_count": 357,
   "id": "744edda7-04e3-4421-b5d3-e3393dfc13f0",
   "metadata": {},
   "outputs": [
    {
     "name": "stdout",
     "output_type": "stream",
     "text": [
      "<class 'pandas.core.frame.DataFrame'>\n",
      "RangeIndex: 264055 entries, 0 to 264054\n",
      "Data columns (total 4 columns):\n",
      " #   Column        Non-Null Count   Dtype  \n",
      "---  ------        --------------   -----  \n",
      " 0   core_cust_id  264055 non-null  object \n",
      " 1   性别            264055 non-null  int8   \n",
      " 2   客户等级          228810 non-null  float16\n",
      " 3   年龄            264055 non-null  int8   \n",
      "dtypes: float16(1), int8(2), object(1)\n",
      "memory usage: 3.0+ MB\n"
     ]
    }
   ],
   "source": [
    "d_data.info()"
   ]
  },
  {
   "cell_type": "code",
   "execution_count": 358,
   "id": "c3741801-740c-4d31-a35c-53171e1bb88d",
   "metadata": {},
   "outputs": [
    {
     "data": {
      "text/plain": [
       "core_cust_id    264055\n",
       "性别                   2\n",
       "客户等级                 4\n",
       "年龄                  84\n",
       "dtype: int64"
      ]
     },
     "execution_count": 358,
     "metadata": {},
     "output_type": "execute_result"
    }
   ],
   "source": [
    "d_data.nunique()"
   ]
  },
  {
   "cell_type": "code",
   "execution_count": 359,
   "id": "59640648-01d2-47da-a1b0-08856ed1240b",
   "metadata": {},
   "outputs": [
    {
     "data": {
      "text/plain": [
       "4.0    164693\n",
       "3.0     40932\n",
       "2.0     21614\n",
       "1.0      1571\n",
       "Name: 客户等级, dtype: int64"
      ]
     },
     "execution_count": 359,
     "metadata": {},
     "output_type": "execute_result"
    }
   ],
   "source": [
    "d_data['客户等级'].value_counts()"
   ]
  },
  {
   "cell_type": "code",
   "execution_count": 362,
   "id": "6e563d78-a070-4151-92d5-96f2fea176f9",
   "metadata": {},
   "outputs": [],
   "source": [
    "d_data['年龄'].value_counts();"
   ]
  },
  {
   "cell_type": "code",
   "execution_count": 363,
   "id": "48991e5b-ebd7-4832-92be-4b1b66528e11",
   "metadata": {},
   "outputs": [],
   "source": [
    "d_data.to_pickle('cust_info.pkl')"
   ]
  },
  {
   "cell_type": "code",
   "execution_count": 169,
   "id": "39644c01-2874-4911-ba2c-a0392349c24b",
   "metadata": {},
   "outputs": [
    {
     "data": {
      "text/plain": [
       "264055"
      ]
     },
     "execution_count": 169,
     "metadata": {},
     "output_type": "execute_result"
    }
   ],
   "source": [
    "len(set(d_data['core_cust_id'].unique().tolist()) & using_cust)"
   ]
  },
  {
   "cell_type": "markdown",
   "id": "ee74aa6d-0609-4b2b-9f5d-3036c4ea037a",
   "metadata": {},
   "source": [
    "#### 客户信息表刚好契合data"
   ]
  },
  {
   "cell_type": "code",
   "execution_count": null,
   "id": "3e3bd9b8-e4fa-4010-8398-31893cd27bac",
   "metadata": {},
   "outputs": [],
   "source": []
  },
  {
   "cell_type": "markdown",
   "id": "c6d6f770-1517-42c8-84a0-63ef41b373e2",
   "metadata": {},
   "source": [
    "### E客户风险表"
   ]
  },
  {
   "cell_type": "code",
   "execution_count": 364,
   "id": "e1dc2cf6-ce8d-43d2-862f-0bca07fac1cb",
   "metadata": {},
   "outputs": [
    {
     "name": "stdout",
     "output_type": "stream",
     "text": [
      "Memory usage of dataframe is 7.24 MB\n",
      "Memory usage after optimization is: 3.92 MB\n",
      "Decreased by 45.8%\n"
     ]
    },
    {
     "data": {
      "text/html": [
       "<div>\n",
       "<style scoped>\n",
       "    .dataframe tbody tr th:only-of-type {\n",
       "        vertical-align: middle;\n",
       "    }\n",
       "\n",
       "    .dataframe tbody tr th {\n",
       "        vertical-align: top;\n",
       "    }\n",
       "\n",
       "    .dataframe thead th {\n",
       "        text-align: right;\n",
       "    }\n",
       "</style>\n",
       "<table border=\"1\" class=\"dataframe\">\n",
       "  <thead>\n",
       "    <tr style=\"text-align: right;\">\n",
       "      <th></th>\n",
       "      <th>core_cust_id</th>\n",
       "      <th>e1</th>\n",
       "      <th>e2</th>\n",
       "    </tr>\n",
       "  </thead>\n",
       "  <tbody>\n",
       "    <tr>\n",
       "      <th>0</th>\n",
       "      <td>d4931873cb</td>\n",
       "      <td>3</td>\n",
       "      <td>20200608</td>\n",
       "    </tr>\n",
       "    <tr>\n",
       "      <th>1</th>\n",
       "      <td>af52580627</td>\n",
       "      <td>3</td>\n",
       "      <td>20200330</td>\n",
       "    </tr>\n",
       "  </tbody>\n",
       "</table>\n",
       "</div>"
      ],
      "text/plain": [
       "  core_cust_id  e1        e2\n",
       "0   d4931873cb   3  20200608\n",
       "1   af52580627   3  20200330"
      ]
     },
     "execution_count": 364,
     "metadata": {},
     "output_type": "execute_result"
    }
   ],
   "source": [
    "e_data = pd.read_csv(path2 + 'e.csv')\n",
    "e_data = reduce_mem_usage(e_data)\n",
    "e_data.head(2)"
   ]
  },
  {
   "cell_type": "code",
   "execution_count": 365,
   "id": "44663a94-f3f4-4587-9279-cef694016494",
   "metadata": {},
   "outputs": [],
   "source": [
    "e_columns = ['core_cust_id', '客户风险等级', '评估日期']"
   ]
  },
  {
   "cell_type": "code",
   "execution_count": 366,
   "id": "870b079f-150f-4f01-b3df-3d005b985c4e",
   "metadata": {},
   "outputs": [
    {
     "data": {
      "text/html": [
       "<div>\n",
       "<style scoped>\n",
       "    .dataframe tbody tr th:only-of-type {\n",
       "        vertical-align: middle;\n",
       "    }\n",
       "\n",
       "    .dataframe tbody tr th {\n",
       "        vertical-align: top;\n",
       "    }\n",
       "\n",
       "    .dataframe thead th {\n",
       "        text-align: right;\n",
       "    }\n",
       "</style>\n",
       "<table border=\"1\" class=\"dataframe\">\n",
       "  <thead>\n",
       "    <tr style=\"text-align: right;\">\n",
       "      <th></th>\n",
       "      <th>core_cust_id</th>\n",
       "      <th>客户风险等级</th>\n",
       "      <th>评估日期</th>\n",
       "    </tr>\n",
       "  </thead>\n",
       "  <tbody>\n",
       "    <tr>\n",
       "      <th>0</th>\n",
       "      <td>d4931873cb</td>\n",
       "      <td>3</td>\n",
       "      <td>20200608</td>\n",
       "    </tr>\n",
       "    <tr>\n",
       "      <th>1</th>\n",
       "      <td>af52580627</td>\n",
       "      <td>3</td>\n",
       "      <td>20200330</td>\n",
       "    </tr>\n",
       "  </tbody>\n",
       "</table>\n",
       "</div>"
      ],
      "text/plain": [
       "  core_cust_id  客户风险等级      评估日期\n",
       "0   d4931873cb       3  20200608\n",
       "1   af52580627       3  20200330"
      ]
     },
     "execution_count": 366,
     "metadata": {},
     "output_type": "execute_result"
    }
   ],
   "source": [
    "e_data.columns = e_columns\n",
    "e_data.head(2)"
   ]
  },
  {
   "cell_type": "code",
   "execution_count": 367,
   "id": "6116133f-c9f6-4a56-acf9-c7d68bb2f5c6",
   "metadata": {},
   "outputs": [],
   "source": [
    "e_data['评估日期'] = e_data['评估日期'].astype('object')\n",
    "e_data['评估日期'] = pd.to_datetime(e_data['评估日期'], format='%Y%m%d', errors='coerce')"
   ]
  },
  {
   "cell_type": "code",
   "execution_count": 368,
   "id": "4bd69978-36a4-4a96-8990-1fcde0a759f2",
   "metadata": {},
   "outputs": [
    {
     "name": "stdout",
     "output_type": "stream",
     "text": [
      "<class 'pandas.core.frame.DataFrame'>\n",
      "RangeIndex: 316116 entries, 0 to 316115\n",
      "Data columns (total 3 columns):\n",
      " #   Column        Non-Null Count   Dtype         \n",
      "---  ------        --------------   -----         \n",
      " 0   core_cust_id  316116 non-null  object        \n",
      " 1   客户风险等级        316116 non-null  int8          \n",
      " 2   评估日期          316116 non-null  datetime64[ns]\n",
      "dtypes: datetime64[ns](1), int8(1), object(1)\n",
      "memory usage: 5.1+ MB\n"
     ]
    }
   ],
   "source": [
    "e_data.info()"
   ]
  },
  {
   "cell_type": "code",
   "execution_count": 370,
   "id": "bb7c9700-2661-4b9a-a77e-caadb780a014",
   "metadata": {},
   "outputs": [
    {
     "data": {
      "text/plain": [
       "core_cust_id    220823\n",
       "客户风险等级               5\n",
       "评估日期              2687\n",
       "dtype: int64"
      ]
     },
     "execution_count": 370,
     "metadata": {},
     "output_type": "execute_result"
    }
   ],
   "source": [
    "e_data.nunique()"
   ]
  },
  {
   "cell_type": "code",
   "execution_count": 371,
   "id": "cc1dcd00-662e-431e-95ba-066630084479",
   "metadata": {},
   "outputs": [],
   "source": [
    "e_data.to_pickle('cust_risk.pkl')"
   ]
  },
  {
   "cell_type": "code",
   "execution_count": 176,
   "id": "12702388-5cb3-4d6e-a076-e74de677623f",
   "metadata": {},
   "outputs": [
    {
     "data": {
      "text/plain": [
       "2    161543\n",
       "3     92841\n",
       "1     38793\n",
       "4     15725\n",
       "5      7214\n",
       "Name: 客户风险等级, dtype: int64"
      ]
     },
     "execution_count": 176,
     "metadata": {},
     "output_type": "execute_result"
    }
   ],
   "source": [
    "e_data['客户风险等级'].value_counts()"
   ]
  },
  {
   "cell_type": "code",
   "execution_count": 177,
   "id": "9a207825-1a9e-4a8d-a29e-b31c9b872f4a",
   "metadata": {},
   "outputs": [],
   "source": [
    "#e_data['new_date'] = e_data.groupby(['core_cust_id'])['评估日期'].agg(max)"
   ]
  },
  {
   "cell_type": "code",
   "execution_count": 178,
   "id": "580ab945-aec1-43a7-b3b3-982ca9d40e7f",
   "metadata": {},
   "outputs": [],
   "source": [
    "#e_data_id = e_data.groupby(['core_cust_id'])['new_date']\n",
    "#e_data_id.count()"
   ]
  },
  {
   "cell_type": "code",
   "execution_count": 179,
   "id": "aed2b150-6fa5-435b-b495-1b4d17309dcc",
   "metadata": {},
   "outputs": [],
   "source": [
    "risk_data = pd.merge(e_data, buy_data, on='core_cust_id')"
   ]
  },
  {
   "cell_type": "code",
   "execution_count": 180,
   "id": "c0ff2224-e2b1-49b7-b6b5-d47d53fc6cc4",
   "metadata": {},
   "outputs": [
    {
     "data": {
      "text/plain": [
       "2    32739\n",
       "3    26333\n",
       "1     6457\n",
       "4     4399\n",
       "5     2164\n",
       "Name: 客户风险等级, dtype: int64"
      ]
     },
     "execution_count": 180,
     "metadata": {},
     "output_type": "execute_result"
    }
   ],
   "source": [
    "risk_data['客户风险等级'].value_counts()"
   ]
  },
  {
   "cell_type": "code",
   "execution_count": 181,
   "id": "fbac62d4-7fb4-4a4b-9a4a-c565c4bd1215",
   "metadata": {},
   "outputs": [],
   "source": [
    "#客户风险等级，查看购买产品的用户风险等级是多少"
   ]
  },
  {
   "cell_type": "code",
   "execution_count": 182,
   "id": "8e1224f6-4858-4fd3-9251-712661078734",
   "metadata": {},
   "outputs": [
    {
     "data": {
      "text/plain": [
       "127495"
      ]
     },
     "execution_count": 182,
     "metadata": {},
     "output_type": "execute_result"
    }
   ],
   "source": [
    "len(set(e_data['core_cust_id'].unique().tolist()) & using_cust)"
   ]
  },
  {
   "cell_type": "markdown",
   "id": "6014beef-00b0-4a9b-ba54-9bd9718de4b9",
   "metadata": {},
   "source": [
    "#### 一部分不能用且有缺失"
   ]
  },
  {
   "cell_type": "code",
   "execution_count": 183,
   "id": "7612f842-b93e-45db-8c23-1170ebdadc73",
   "metadata": {},
   "outputs": [
    {
     "data": {
      "text/plain": [
       "16585"
      ]
     },
     "execution_count": 183,
     "metadata": {},
     "output_type": "execute_result"
    }
   ],
   "source": [
    "#buy_cust:16656\n",
    "len(set(e_data['core_cust_id'].unique().tolist()) & set(buy_cust))"
   ]
  },
  {
   "cell_type": "code",
   "execution_count": 184,
   "id": "c209e4de-5495-41e0-96a7-b23f7c3f624d",
   "metadata": {},
   "outputs": [],
   "source": [
    "#总共220823，可用127495， 缺失136560\n",
    "e_using = list(set(e_data['core_cust_id'].unique().tolist()) & using_cust)"
   ]
  },
  {
   "cell_type": "code",
   "execution_count": null,
   "id": "22b3d0d0-0505-4087-8b0c-948e31f21e8a",
   "metadata": {},
   "outputs": [],
   "source": []
  },
  {
   "cell_type": "markdown",
   "id": "2d2a60c3-6fc9-49b0-837f-ec64f8532866",
   "metadata": {},
   "source": [
    "### F资产信息表"
   ]
  },
  {
   "cell_type": "code",
   "execution_count": 372,
   "id": "0384083c-93d5-4b26-870c-36b9908f5ea0",
   "metadata": {},
   "outputs": [
    {
     "name": "stdout",
     "output_type": "stream",
     "text": [
      "Memory usage of dataframe is 182.25 MB\n",
      "Memory usage after optimization is: 99.05 MB\n",
      "Decreased by 45.7%\n"
     ]
    },
    {
     "data": {
      "text/html": [
       "<div>\n",
       "<style scoped>\n",
       "    .dataframe tbody tr th:only-of-type {\n",
       "        vertical-align: middle;\n",
       "    }\n",
       "\n",
       "    .dataframe tbody tr th {\n",
       "        vertical-align: top;\n",
       "    }\n",
       "\n",
       "    .dataframe thead th {\n",
       "        text-align: right;\n",
       "    }\n",
       "</style>\n",
       "<table border=\"1\" class=\"dataframe\">\n",
       "  <thead>\n",
       "    <tr style=\"text-align: right;\">\n",
       "      <th></th>\n",
       "      <th>core_cust_id</th>\n",
       "      <th>f1</th>\n",
       "      <th>f2</th>\n",
       "      <th>f3</th>\n",
       "      <th>f4</th>\n",
       "      <th>f5</th>\n",
       "      <th>f6</th>\n",
       "      <th>f7</th>\n",
       "      <th>f8</th>\n",
       "      <th>f9</th>\n",
       "      <th>f10</th>\n",
       "      <th>f11</th>\n",
       "      <th>f12</th>\n",
       "      <th>f13</th>\n",
       "      <th>f14</th>\n",
       "      <th>f15</th>\n",
       "      <th>f16</th>\n",
       "      <th>f17</th>\n",
       "      <th>f18</th>\n",
       "      <th>f19</th>\n",
       "      <th>f20</th>\n",
       "      <th>f21</th>\n",
       "      <th>f22</th>\n",
       "    </tr>\n",
       "  </thead>\n",
       "  <tbody>\n",
       "    <tr>\n",
       "      <th>0</th>\n",
       "      <td>48e055617a</td>\n",
       "      <td>2020-11-26</td>\n",
       "      <td>NaN</td>\n",
       "      <td>NaN</td>\n",
       "      <td>NaN</td>\n",
       "      <td>NaN</td>\n",
       "      <td>NaN</td>\n",
       "      <td>NaN</td>\n",
       "      <td>NaN</td>\n",
       "      <td>NaN</td>\n",
       "      <td>NaN</td>\n",
       "      <td>NaN</td>\n",
       "      <td>NaN</td>\n",
       "      <td>NaN</td>\n",
       "      <td>NaN</td>\n",
       "      <td>NaN</td>\n",
       "      <td>NaN</td>\n",
       "      <td>NaN</td>\n",
       "      <td>NaN</td>\n",
       "      <td>NaN</td>\n",
       "      <td>NaN</td>\n",
       "      <td>NaN</td>\n",
       "      <td>20210830</td>\n",
       "    </tr>\n",
       "    <tr>\n",
       "      <th>1</th>\n",
       "      <td>48e055617a</td>\n",
       "      <td>2020-11-26</td>\n",
       "      <td>NaN</td>\n",
       "      <td>NaN</td>\n",
       "      <td>NaN</td>\n",
       "      <td>NaN</td>\n",
       "      <td>NaN</td>\n",
       "      <td>NaN</td>\n",
       "      <td>NaN</td>\n",
       "      <td>NaN</td>\n",
       "      <td>NaN</td>\n",
       "      <td>NaN</td>\n",
       "      <td>NaN</td>\n",
       "      <td>NaN</td>\n",
       "      <td>NaN</td>\n",
       "      <td>NaN</td>\n",
       "      <td>NaN</td>\n",
       "      <td>NaN</td>\n",
       "      <td>NaN</td>\n",
       "      <td>NaN</td>\n",
       "      <td>NaN</td>\n",
       "      <td>NaN</td>\n",
       "      <td>20210730</td>\n",
       "    </tr>\n",
       "  </tbody>\n",
       "</table>\n",
       "</div>"
      ],
      "text/plain": [
       "  core_cust_id          f1  f2  f3  f4  f5  f6  f7  f8  f9  f10  f11  f12  \\\n",
       "0   48e055617a  2020-11-26 NaN NaN NaN NaN NaN NaN NaN NaN  NaN  NaN  NaN   \n",
       "1   48e055617a  2020-11-26 NaN NaN NaN NaN NaN NaN NaN NaN  NaN  NaN  NaN   \n",
       "\n",
       "   f13  f14  f15  f16  f17  f18  f19  f20  f21       f22  \n",
       "0  NaN  NaN  NaN  NaN  NaN  NaN  NaN  NaN  NaN  20210830  \n",
       "1  NaN  NaN  NaN  NaN  NaN  NaN  NaN  NaN  NaN  20210730  "
      ]
     },
     "execution_count": 372,
     "metadata": {},
     "output_type": "execute_result"
    }
   ],
   "source": [
    "#去除千分位的逗号：df = df.applymap(lambda x: x.replace(',', ''))；或者用下面方法\n",
    "f_data = pd.read_csv(path2 + 'f.csv', thousands=',')\n",
    "f_data = reduce_mem_usage(f_data)\n",
    "f_data.head(2)"
   ]
  },
  {
   "cell_type": "code",
   "execution_count": 373,
   "id": "c283a71e-56a8-4609-86a9-eb646a24aa7d",
   "metadata": {},
   "outputs": [],
   "source": [
    "f_columns = ['core_cust_id', '客户编号创建日期', '定期季日均', '大额存单季日均', 'A理财产品季日均', '代销资管季日均', '代销基金季日均', '定期时点余额',\n",
    "             '大额存单时点余额', 'A理财产品时点余额', '代销资管时点余额', '代销基金时点余额', '定期月日均', '大额存单月日均', 'A理财产品月日均', \n",
    "             '代销资管月日均', '代销基金月日均', '定期年日均', '大额存单年日均', 'A理财产品年日均', '代销资管年日均', '代销基金年日均', '数据日期']\n"
   ]
  },
  {
   "cell_type": "code",
   "execution_count": 374,
   "id": "6dd0ac8e-4082-47fe-beee-9f0d1859cd5b",
   "metadata": {},
   "outputs": [
    {
     "data": {
      "text/html": [
       "<div>\n",
       "<style scoped>\n",
       "    .dataframe tbody tr th:only-of-type {\n",
       "        vertical-align: middle;\n",
       "    }\n",
       "\n",
       "    .dataframe tbody tr th {\n",
       "        vertical-align: top;\n",
       "    }\n",
       "\n",
       "    .dataframe thead th {\n",
       "        text-align: right;\n",
       "    }\n",
       "</style>\n",
       "<table border=\"1\" class=\"dataframe\">\n",
       "  <thead>\n",
       "    <tr style=\"text-align: right;\">\n",
       "      <th></th>\n",
       "      <th>core_cust_id</th>\n",
       "      <th>客户编号创建日期</th>\n",
       "      <th>定期季日均</th>\n",
       "      <th>大额存单季日均</th>\n",
       "      <th>A理财产品季日均</th>\n",
       "      <th>代销资管季日均</th>\n",
       "      <th>代销基金季日均</th>\n",
       "      <th>定期时点余额</th>\n",
       "      <th>大额存单时点余额</th>\n",
       "      <th>A理财产品时点余额</th>\n",
       "      <th>代销资管时点余额</th>\n",
       "      <th>代销基金时点余额</th>\n",
       "      <th>定期月日均</th>\n",
       "      <th>大额存单月日均</th>\n",
       "      <th>A理财产品月日均</th>\n",
       "      <th>代销资管月日均</th>\n",
       "      <th>代销基金月日均</th>\n",
       "      <th>定期年日均</th>\n",
       "      <th>大额存单年日均</th>\n",
       "      <th>A理财产品年日均</th>\n",
       "      <th>代销资管年日均</th>\n",
       "      <th>代销基金年日均</th>\n",
       "      <th>数据日期</th>\n",
       "    </tr>\n",
       "  </thead>\n",
       "  <tbody>\n",
       "    <tr>\n",
       "      <th>0</th>\n",
       "      <td>48e055617a</td>\n",
       "      <td>2020-11-26</td>\n",
       "      <td>NaN</td>\n",
       "      <td>NaN</td>\n",
       "      <td>NaN</td>\n",
       "      <td>NaN</td>\n",
       "      <td>NaN</td>\n",
       "      <td>NaN</td>\n",
       "      <td>NaN</td>\n",
       "      <td>NaN</td>\n",
       "      <td>NaN</td>\n",
       "      <td>NaN</td>\n",
       "      <td>NaN</td>\n",
       "      <td>NaN</td>\n",
       "      <td>NaN</td>\n",
       "      <td>NaN</td>\n",
       "      <td>NaN</td>\n",
       "      <td>NaN</td>\n",
       "      <td>NaN</td>\n",
       "      <td>NaN</td>\n",
       "      <td>NaN</td>\n",
       "      <td>NaN</td>\n",
       "      <td>20210830</td>\n",
       "    </tr>\n",
       "    <tr>\n",
       "      <th>1</th>\n",
       "      <td>48e055617a</td>\n",
       "      <td>2020-11-26</td>\n",
       "      <td>NaN</td>\n",
       "      <td>NaN</td>\n",
       "      <td>NaN</td>\n",
       "      <td>NaN</td>\n",
       "      <td>NaN</td>\n",
       "      <td>NaN</td>\n",
       "      <td>NaN</td>\n",
       "      <td>NaN</td>\n",
       "      <td>NaN</td>\n",
       "      <td>NaN</td>\n",
       "      <td>NaN</td>\n",
       "      <td>NaN</td>\n",
       "      <td>NaN</td>\n",
       "      <td>NaN</td>\n",
       "      <td>NaN</td>\n",
       "      <td>NaN</td>\n",
       "      <td>NaN</td>\n",
       "      <td>NaN</td>\n",
       "      <td>NaN</td>\n",
       "      <td>NaN</td>\n",
       "      <td>20210730</td>\n",
       "    </tr>\n",
       "  </tbody>\n",
       "</table>\n",
       "</div>"
      ],
      "text/plain": [
       "  core_cust_id    客户编号创建日期  定期季日均  大额存单季日均  A理财产品季日均  代销资管季日均  代销基金季日均  \\\n",
       "0   48e055617a  2020-11-26    NaN      NaN       NaN      NaN      NaN   \n",
       "1   48e055617a  2020-11-26    NaN      NaN       NaN      NaN      NaN   \n",
       "\n",
       "   定期时点余额  大额存单时点余额  A理财产品时点余额  代销资管时点余额  代销基金时点余额  定期月日均  大额存单月日均  A理财产品月日均  \\\n",
       "0     NaN       NaN        NaN       NaN       NaN    NaN      NaN       NaN   \n",
       "1     NaN       NaN        NaN       NaN       NaN    NaN      NaN       NaN   \n",
       "\n",
       "   代销资管月日均  代销基金月日均  定期年日均  大额存单年日均  A理财产品年日均  代销资管年日均  代销基金年日均      数据日期  \n",
       "0      NaN      NaN    NaN      NaN       NaN      NaN      NaN  20210830  \n",
       "1      NaN      NaN    NaN      NaN       NaN      NaN      NaN  20210730  "
      ]
     },
     "execution_count": 374,
     "metadata": {},
     "output_type": "execute_result"
    }
   ],
   "source": [
    "f_data.columns = f_columns\n",
    "f_data.head(2)"
   ]
  },
  {
   "cell_type": "code",
   "execution_count": 375,
   "id": "69b68204-e844-49d3-8f87-67bcd6adbf70",
   "metadata": {},
   "outputs": [],
   "source": [
    "f_data['客户编号创建日期'] = f_data['客户编号创建日期'].astype('object')\n",
    "f_data['客户编号创建日期'] = pd.to_datetime(f_data['客户编号创建日期'], errors='coerce')"
   ]
  },
  {
   "cell_type": "code",
   "execution_count": 376,
   "id": "136a51f8-8794-47d8-b418-c65907c80b81",
   "metadata": {},
   "outputs": [],
   "source": [
    "f_data['数据日期'] = f_data['数据日期'].astype('object')\n",
    "f_data['数据日期'] = pd.to_datetime(f_data['数据日期'], format='%Y%m%d', errors='coerce')"
   ]
  },
  {
   "cell_type": "code",
   "execution_count": 377,
   "id": "b1aacc7f-9ce1-41d7-a892-f6010747638b",
   "metadata": {},
   "outputs": [
    {
     "name": "stdout",
     "output_type": "stream",
     "text": [
      "<class 'pandas.core.frame.DataFrame'>\n",
      "RangeIndex: 1038596 entries, 0 to 1038595\n",
      "Data columns (total 23 columns):\n",
      " #   Column        Non-Null Count    Dtype         \n",
      "---  ------        --------------    -----         \n",
      " 0   core_cust_id  1038596 non-null  object        \n",
      " 1   客户编号创建日期      1038596 non-null  datetime64[ns]\n",
      " 2   定期季日均         97285 non-null    float32       \n",
      " 3   大额存单季日均       102669 non-null   float32       \n",
      " 4   A理财产品季日均      53939 non-null    float32       \n",
      " 5   代销资管季日均       25147 non-null    float32       \n",
      " 6   代销基金季日均       24650 non-null    float32       \n",
      " 7   定期时点余额        97285 non-null    float32       \n",
      " 8   大额存单时点余额      102669 non-null   float32       \n",
      " 9   A理财产品时点余额     53939 non-null    float32       \n",
      " 10  代销资管时点余额      25147 non-null    float32       \n",
      " 11  代销基金时点余额      24650 non-null    float32       \n",
      " 12  定期月日均         97285 non-null    float32       \n",
      " 13  大额存单月日均       102669 non-null   float32       \n",
      " 14  A理财产品月日均      53939 non-null    float32       \n",
      " 15  代销资管月日均       25147 non-null    float32       \n",
      " 16  代销基金月日均       24650 non-null    float32       \n",
      " 17  定期年日均         97285 non-null    float32       \n",
      " 18  大额存单年日均       102669 non-null   float32       \n",
      " 19  A理财产品年日均      53939 non-null    float32       \n",
      " 20  代销资管年日均       25147 non-null    float32       \n",
      " 21  代销基金年日均       24650 non-null    float32       \n",
      " 22  数据日期          1038596 non-null  datetime64[ns]\n",
      "dtypes: datetime64[ns](2), float32(20), object(1)\n",
      "memory usage: 103.0+ MB\n"
     ]
    }
   ],
   "source": [
    "f_data.info()"
   ]
  },
  {
   "cell_type": "code",
   "execution_count": 191,
   "id": "0312a2b2-1e83-417d-92b1-41c65a43d8f5",
   "metadata": {},
   "outputs": [
    {
     "data": {
      "text/plain": [
       "core_cust_id    264054\n",
       "客户编号创建日期          1159\n",
       "定期季日均            15240\n",
       "大额存单季日均           4341\n",
       "A理财产品季日均         21978\n",
       "代销资管季日均           4793\n",
       "代销基金季日均          15479\n",
       "定期时点余额            6276\n",
       "大额存单时点余额          1408\n",
       "A理财产品时点余额        19440\n",
       "代销资管时点余额          4034\n",
       "代销基金时点余额         14351\n",
       "定期月日均             9012\n",
       "大额存单月日均           2365\n",
       "A理财产品月日均         20675\n",
       "代销资管月日均           4389\n",
       "代销基金月日均          14960\n",
       "定期年日均            35716\n",
       "大额存单年日均          10099\n",
       "A理财产品年日均         26214\n",
       "代销资管年日均           6455\n",
       "代销基金年日均          16377\n",
       "数据日期                 4\n",
       "dtype: int64"
      ]
     },
     "execution_count": 191,
     "metadata": {},
     "output_type": "execute_result"
    }
   ],
   "source": [
    "f_data.nunique()"
   ]
  },
  {
   "cell_type": "code",
   "execution_count": 192,
   "id": "55aca1ad-d78f-4283-8681-b4d19264ecae",
   "metadata": {},
   "outputs": [
    {
     "data": {
      "text/plain": [
       "core_cust_id    13583\n",
       "客户编号创建日期          917\n",
       "定期季日均            3113\n",
       "大额存单季日均          1300\n",
       "A理财产品季日均        21978\n",
       "代销资管季日均          1726\n",
       "代销基金季日均          4688\n",
       "定期时点余额           1430\n",
       "大额存单时点余额          684\n",
       "A理财产品时点余额       19440\n",
       "代销资管时点余额         1429\n",
       "代销基金时点余额         4346\n",
       "定期月日均            2020\n",
       "大额存单月日均           954\n",
       "A理财产品月日均        20675\n",
       "代销资管月日均          1571\n",
       "代销基金月日均          4519\n",
       "定期年日均            7061\n",
       "大额存单年日均          2574\n",
       "A理财产品年日均        26214\n",
       "代销资管年日均          2489\n",
       "代销基金年日均          5235\n",
       "数据日期                4\n",
       "dtype: int64"
      ]
     },
     "execution_count": 192,
     "metadata": {},
     "output_type": "execute_result"
    }
   ],
   "source": [
    "f_data[~f_data['A理财产品年日均'].isnull()].nunique()"
   ]
  },
  {
   "cell_type": "markdown",
   "id": "924b0d48-8a32-4916-b5ef-41705aab6dd2",
   "metadata": {},
   "source": [
    "#### 和data差一个人的记录"
   ]
  },
  {
   "cell_type": "code",
   "execution_count": 193,
   "id": "e280ce5d-a84d-4235-9640-ffd36cc931d8",
   "metadata": {},
   "outputs": [
    {
     "data": {
      "text/plain": [
       "264054"
      ]
     },
     "execution_count": 193,
     "metadata": {},
     "output_type": "execute_result"
    }
   ],
   "source": [
    "len(set(f_data['core_cust_id'].unique().tolist()) & using_cust)"
   ]
  },
  {
   "cell_type": "code",
   "execution_count": null,
   "id": "69aa1953-68a6-4228-babb-b3492ed68fe7",
   "metadata": {},
   "outputs": [],
   "source": []
  },
  {
   "cell_type": "code",
   "execution_count": null,
   "id": "d14dc95b-68c5-4e8e-836d-eed3be9eeda6",
   "metadata": {},
   "outputs": [],
   "source": []
  },
  {
   "cell_type": "code",
   "execution_count": null,
   "id": "70ee867c-375b-4f6a-a827-93b25bebf54b",
   "metadata": {},
   "outputs": [],
   "source": []
  },
  {
   "cell_type": "markdown",
   "id": "430e5d85-7ed1-4c54-9a48-a2a32881f496",
   "metadata": {},
   "source": [
    "### R：app点击行为表"
   ]
  },
  {
   "cell_type": "code",
   "execution_count": 194,
   "id": "29d1fc21-0cfd-42bd-b498-405ee4f8a5e5",
   "metadata": {},
   "outputs": [
    {
     "data": {
      "text/html": [
       "<div>\n",
       "<style scoped>\n",
       "    .dataframe tbody tr th:only-of-type {\n",
       "        vertical-align: middle;\n",
       "    }\n",
       "\n",
       "    .dataframe tbody tr th {\n",
       "        vertical-align: top;\n",
       "    }\n",
       "\n",
       "    .dataframe thead th {\n",
       "        text-align: right;\n",
       "    }\n",
       "</style>\n",
       "<table border=\"1\" class=\"dataframe\">\n",
       "  <thead>\n",
       "    <tr style=\"text-align: right;\">\n",
       "      <th></th>\n",
       "      <th>r1</th>\n",
       "      <th>core_cust_id</th>\n",
       "      <th>r3</th>\n",
       "      <th>prod_code</th>\n",
       "      <th>r5</th>\n",
       "    </tr>\n",
       "  </thead>\n",
       "  <tbody>\n",
       "    <tr>\n",
       "      <th>0</th>\n",
       "      <td>20210825_11277467902</td>\n",
       "      <td>a15a1d681a</td>\n",
       "      <td>2</td>\n",
       "      <td>91318017</td>\n",
       "      <td>2021-08-25 14:18:10</td>\n",
       "    </tr>\n",
       "    <tr>\n",
       "      <th>1</th>\n",
       "      <td>20210824_11229966502</td>\n",
       "      <td>a15a1d681a</td>\n",
       "      <td>1</td>\n",
       "      <td>GRHLA20211386</td>\n",
       "      <td>2021-08-24 14:55:49</td>\n",
       "    </tr>\n",
       "    <tr>\n",
       "      <th>2</th>\n",
       "      <td>20210824_11234138402</td>\n",
       "      <td>a15a1d681a</td>\n",
       "      <td>1</td>\n",
       "      <td>GRHLA20211386</td>\n",
       "      <td>2021-08-24 16:17:15</td>\n",
       "    </tr>\n",
       "    <tr>\n",
       "      <th>3</th>\n",
       "      <td>20210824_11229929502</td>\n",
       "      <td>a15a1d681a</td>\n",
       "      <td>1</td>\n",
       "      <td>GRHLA20211386</td>\n",
       "      <td>2021-08-24 14:55:10</td>\n",
       "    </tr>\n",
       "    <tr>\n",
       "      <th>4</th>\n",
       "      <td>20210824_11230210002</td>\n",
       "      <td>a15a1d681a</td>\n",
       "      <td>1</td>\n",
       "      <td>GRHLA20211386</td>\n",
       "      <td>2021-08-24 15:00:02</td>\n",
       "    </tr>\n",
       "  </tbody>\n",
       "</table>\n",
       "</div>"
      ],
      "text/plain": [
       "                     r1 core_cust_id  r3      prod_code                   r5\n",
       "0  20210825_11277467902   a15a1d681a   2       91318017  2021-08-25 14:18:10\n",
       "1  20210824_11229966502   a15a1d681a   1  GRHLA20211386  2021-08-24 14:55:49\n",
       "2  20210824_11234138402   a15a1d681a   1  GRHLA20211386  2021-08-24 16:17:15\n",
       "3  20210824_11229929502   a15a1d681a   1  GRHLA20211386  2021-08-24 14:55:10\n",
       "4  20210824_11230210002   a15a1d681a   1  GRHLA20211386  2021-08-24 15:00:02"
      ]
     },
     "execution_count": 194,
     "metadata": {},
     "output_type": "execute_result"
    }
   ],
   "source": [
    "r_data = pd.read_csv(path2 + 'r.csv')\n",
    "r_data.head()"
   ]
  },
  {
   "cell_type": "code",
   "execution_count": 195,
   "id": "ddb0371d-4675-40da-aa1c-ebacbe0242eb",
   "metadata": {},
   "outputs": [],
   "source": [
    "r_columns = ['id编码', 'core_cust_id', '点击事件类型', 'prod_code', '点击时间']"
   ]
  },
  {
   "cell_type": "code",
   "execution_count": 196,
   "id": "31c30dc5-193b-43fb-83c7-3a052036ccc4",
   "metadata": {},
   "outputs": [
    {
     "data": {
      "text/html": [
       "<div>\n",
       "<style scoped>\n",
       "    .dataframe tbody tr th:only-of-type {\n",
       "        vertical-align: middle;\n",
       "    }\n",
       "\n",
       "    .dataframe tbody tr th {\n",
       "        vertical-align: top;\n",
       "    }\n",
       "\n",
       "    .dataframe thead th {\n",
       "        text-align: right;\n",
       "    }\n",
       "</style>\n",
       "<table border=\"1\" class=\"dataframe\">\n",
       "  <thead>\n",
       "    <tr style=\"text-align: right;\">\n",
       "      <th></th>\n",
       "      <th>id编码</th>\n",
       "      <th>core_cust_id</th>\n",
       "      <th>点击事件类型</th>\n",
       "      <th>prod_code</th>\n",
       "      <th>点击时间</th>\n",
       "    </tr>\n",
       "  </thead>\n",
       "  <tbody>\n",
       "    <tr>\n",
       "      <th>0</th>\n",
       "      <td>20210825_11277467902</td>\n",
       "      <td>a15a1d681a</td>\n",
       "      <td>2</td>\n",
       "      <td>91318017</td>\n",
       "      <td>2021-08-25 14:18:10</td>\n",
       "    </tr>\n",
       "    <tr>\n",
       "      <th>1</th>\n",
       "      <td>20210824_11229966502</td>\n",
       "      <td>a15a1d681a</td>\n",
       "      <td>1</td>\n",
       "      <td>GRHLA20211386</td>\n",
       "      <td>2021-08-24 14:55:49</td>\n",
       "    </tr>\n",
       "  </tbody>\n",
       "</table>\n",
       "</div>"
      ],
      "text/plain": [
       "                   id编码 core_cust_id  点击事件类型      prod_code  \\\n",
       "0  20210825_11277467902   a15a1d681a       2       91318017   \n",
       "1  20210824_11229966502   a15a1d681a       1  GRHLA20211386   \n",
       "\n",
       "                  点击时间  \n",
       "0  2021-08-25 14:18:10  \n",
       "1  2021-08-24 14:55:49  "
      ]
     },
     "execution_count": 196,
     "metadata": {},
     "output_type": "execute_result"
    }
   ],
   "source": [
    "r_data.columns = r_columns\n",
    "r_data.head(2)"
   ]
  },
  {
   "cell_type": "code",
   "execution_count": 197,
   "id": "7b1478ec-c833-4571-9d0f-5e14d8dddbf6",
   "metadata": {},
   "outputs": [
    {
     "name": "stdout",
     "output_type": "stream",
     "text": [
      "<class 'pandas.core.frame.DataFrame'>\n",
      "RangeIndex: 777075 entries, 0 to 777074\n",
      "Data columns (total 5 columns):\n",
      " #   Column        Non-Null Count   Dtype \n",
      "---  ------        --------------   ----- \n",
      " 0   id编码          777075 non-null  object\n",
      " 1   core_cust_id  777075 non-null  object\n",
      " 2   点击事件类型        777075 non-null  int64 \n",
      " 3   prod_code     777068 non-null  object\n",
      " 4   点击时间          777075 non-null  object\n",
      "dtypes: int64(1), object(4)\n",
      "memory usage: 29.6+ MB\n"
     ]
    }
   ],
   "source": [
    "r_data.info()"
   ]
  },
  {
   "cell_type": "code",
   "execution_count": 198,
   "id": "78fd1a75-61be-4fe7-b574-48408c806162",
   "metadata": {},
   "outputs": [
    {
     "data": {
      "text/plain": [
       "id编码            777075\n",
       "core_cust_id     55864\n",
       "点击事件类型               2\n",
       "prod_code         1193\n",
       "点击时间            739817\n",
       "dtype: int64"
      ]
     },
     "execution_count": 198,
     "metadata": {},
     "output_type": "execute_result"
    }
   ],
   "source": [
    "r_data.nunique()"
   ]
  },
  {
   "cell_type": "code",
   "execution_count": 199,
   "id": "16717a36-b355-4b23-b478-94551aaeb641",
   "metadata": {},
   "outputs": [
    {
     "data": {
      "text/plain": [
       "13605"
      ]
     },
     "execution_count": 199,
     "metadata": {},
     "output_type": "execute_result"
    }
   ],
   "source": [
    "#buy_cust:16656\n",
    "len(set(r_data['core_cust_id'].unique().tolist()) & set(buy_cust))"
   ]
  },
  {
   "cell_type": "code",
   "execution_count": 200,
   "id": "e2533dfd-f913-497e-9cfa-c0e1f848fac5",
   "metadata": {},
   "outputs": [
    {
     "data": {
      "text/plain": [
       "51633"
      ]
     },
     "execution_count": 200,
     "metadata": {},
     "output_type": "execute_result"
    }
   ],
   "source": [
    "len(set(r_data['core_cust_id'].unique().tolist()) & using_cust)"
   ]
  },
  {
   "cell_type": "markdown",
   "id": "b0e380cb-92d5-4540-96ba-8cea04904203",
   "metadata": {},
   "source": [
    "#### 部分可用，缺失多"
   ]
  },
  {
   "cell_type": "markdown",
   "id": "1a662269-cc00-481c-8cff-eecc25d7aa86",
   "metadata": {},
   "source": [
    "- 只有51633个用户记录，缺少212422个用户记录"
   ]
  },
  {
   "cell_type": "code",
   "execution_count": null,
   "id": "57a91b1f-a1bd-42e4-997c-d72ac7c29084",
   "metadata": {},
   "outputs": [],
   "source": []
  },
  {
   "cell_type": "markdown",
   "id": "919114e3-aeec-47af-be86-64b0282aada3",
   "metadata": {},
   "source": [
    "### S账户交易流水表"
   ]
  },
  {
   "cell_type": "code",
   "execution_count": 201,
   "id": "2fb1bafa-371c-4c6f-94ea-ff284a6ebf36",
   "metadata": {},
   "outputs": [
    {
     "name": "stdout",
     "output_type": "stream",
     "text": [
      "Memory usage of dataframe is 347.56 MB\n",
      "Memory usage after optimization is: 279.29 MB\n",
      "Decreased by 19.6%\n"
     ]
    },
    {
     "data": {
      "text/html": [
       "<div>\n",
       "<style scoped>\n",
       "    .dataframe tbody tr th:only-of-type {\n",
       "        vertical-align: middle;\n",
       "    }\n",
       "\n",
       "    .dataframe tbody tr th {\n",
       "        vertical-align: top;\n",
       "    }\n",
       "\n",
       "    .dataframe thead th {\n",
       "        text-align: right;\n",
       "    }\n",
       "</style>\n",
       "<table border=\"1\" class=\"dataframe\">\n",
       "  <thead>\n",
       "    <tr style=\"text-align: right;\">\n",
       "      <th></th>\n",
       "      <th>s1</th>\n",
       "      <th>s2</th>\n",
       "      <th>s3</th>\n",
       "      <th>s4</th>\n",
       "      <th>s5</th>\n",
       "      <th>s6</th>\n",
       "      <th>s7</th>\n",
       "    </tr>\n",
       "  </thead>\n",
       "  <tbody>\n",
       "    <tr>\n",
       "      <th>0</th>\n",
       "      <td>01004320210415202104151FT21105818179741</td>\n",
       "      <td>4</td>\n",
       "      <td>NaN</td>\n",
       "      <td>75617.812500</td>\n",
       "      <td>2021-04-15</td>\n",
       "      <td>9809df0ffe</td>\n",
       "      <td>2021-04-15</td>\n",
       "    </tr>\n",
       "    <tr>\n",
       "      <th>1</th>\n",
       "      <td>01004320210630202106301FT21181810270081</td>\n",
       "      <td>4</td>\n",
       "      <td>NaN</td>\n",
       "      <td>75635.101562</td>\n",
       "      <td>2021-06-30</td>\n",
       "      <td>9809df0ffe</td>\n",
       "      <td>2021-06-30</td>\n",
       "    </tr>\n",
       "  </tbody>\n",
       "</table>\n",
       "</div>"
      ],
      "text/plain": [
       "                                        s1  s2   s3            s4          s5  \\\n",
       "0  01004320210415202104151FT21105818179741   4  NaN  75617.812500  2021-04-15   \n",
       "1  01004320210630202106301FT21181810270081   4  NaN  75635.101562  2021-06-30   \n",
       "\n",
       "           s6          s7  \n",
       "0  9809df0ffe  2021-04-15  \n",
       "1  9809df0ffe  2021-06-30  "
      ]
     },
     "execution_count": 201,
     "metadata": {},
     "output_type": "execute_result"
    }
   ],
   "source": [
    "s_data = pd.read_csv(path2 + 's.csv', thousands=',')\n",
    "s_data = reduce_mem_usage(s_data)\n",
    "s_data.head(2)"
   ]
  },
  {
   "cell_type": "code",
   "execution_count": 202,
   "id": "2fb7f6b6-6e9d-4a02-8485-fe552faf5a65",
   "metadata": {},
   "outputs": [],
   "source": [
    "val_str = str()\n",
    "s_data['s3'].fillna(val_str, inplace=True)\n",
    "s_data['s6'].fillna(val_str, inplace=True)\n",
    "s_data['core_cust_id'] = s_data['s3'] + s_data['s6']\n",
    "s_data['core_cust_id'] = s_data['core_cust_id'].apply(lambda x:x[:9])\n",
    "del s_data['s3'], s_data['s6']"
   ]
  },
  {
   "cell_type": "code",
   "execution_count": 203,
   "id": "dd51d3fc-3312-4090-b679-bf51270a0f8b",
   "metadata": {},
   "outputs": [
    {
     "data": {
      "text/html": [
       "<div>\n",
       "<style scoped>\n",
       "    .dataframe tbody tr th:only-of-type {\n",
       "        vertical-align: middle;\n",
       "    }\n",
       "\n",
       "    .dataframe tbody tr th {\n",
       "        vertical-align: top;\n",
       "    }\n",
       "\n",
       "    .dataframe thead th {\n",
       "        text-align: right;\n",
       "    }\n",
       "</style>\n",
       "<table border=\"1\" class=\"dataframe\">\n",
       "  <thead>\n",
       "    <tr style=\"text-align: right;\">\n",
       "      <th></th>\n",
       "      <th>s1</th>\n",
       "      <th>s2</th>\n",
       "      <th>s4</th>\n",
       "      <th>s5</th>\n",
       "      <th>s7</th>\n",
       "      <th>core_cust_id</th>\n",
       "    </tr>\n",
       "  </thead>\n",
       "  <tbody>\n",
       "    <tr>\n",
       "      <th>0</th>\n",
       "      <td>01004320210415202104151FT21105818179741</td>\n",
       "      <td>4</td>\n",
       "      <td>75617.812500</td>\n",
       "      <td>2021-04-15</td>\n",
       "      <td>2021-04-15</td>\n",
       "      <td>9809df0ff</td>\n",
       "    </tr>\n",
       "    <tr>\n",
       "      <th>1</th>\n",
       "      <td>01004320210630202106301FT21181810270081</td>\n",
       "      <td>4</td>\n",
       "      <td>75635.101562</td>\n",
       "      <td>2021-06-30</td>\n",
       "      <td>2021-06-30</td>\n",
       "      <td>9809df0ff</td>\n",
       "    </tr>\n",
       "  </tbody>\n",
       "</table>\n",
       "</div>"
      ],
      "text/plain": [
       "                                        s1  s2            s4          s5  \\\n",
       "0  01004320210415202104151FT21105818179741   4  75617.812500  2021-04-15   \n",
       "1  01004320210630202106301FT21181810270081   4  75635.101562  2021-06-30   \n",
       "\n",
       "           s7 core_cust_id  \n",
       "0  2021-04-15    9809df0ff  \n",
       "1  2021-06-30    9809df0ff  "
      ]
     },
     "execution_count": 203,
     "metadata": {},
     "output_type": "execute_result"
    }
   ],
   "source": [
    "s_data.head(2)"
   ]
  },
  {
   "cell_type": "code",
   "execution_count": 204,
   "id": "2c30c19b-2ed2-4352-b904-5c898845af94",
   "metadata": {},
   "outputs": [],
   "source": [
    "s_columns = ['事件编号', '交易类型', '借方金额', 's交易日期', 's处理日期', 'core_cust_id']"
   ]
  },
  {
   "cell_type": "code",
   "execution_count": 205,
   "id": "6753bf13-0fc5-43e2-bc62-f700736ebfb8",
   "metadata": {},
   "outputs": [],
   "source": [
    "s_data.columns = s_columns"
   ]
  },
  {
   "cell_type": "code",
   "execution_count": 206,
   "id": "69bc60cf-5836-4429-bf06-5579d9dabe07",
   "metadata": {},
   "outputs": [
    {
     "data": {
      "text/html": [
       "<div>\n",
       "<style scoped>\n",
       "    .dataframe tbody tr th:only-of-type {\n",
       "        vertical-align: middle;\n",
       "    }\n",
       "\n",
       "    .dataframe tbody tr th {\n",
       "        vertical-align: top;\n",
       "    }\n",
       "\n",
       "    .dataframe thead th {\n",
       "        text-align: right;\n",
       "    }\n",
       "</style>\n",
       "<table border=\"1\" class=\"dataframe\">\n",
       "  <thead>\n",
       "    <tr style=\"text-align: right;\">\n",
       "      <th></th>\n",
       "      <th>事件编号</th>\n",
       "      <th>交易类型</th>\n",
       "      <th>借方金额</th>\n",
       "      <th>s交易日期</th>\n",
       "      <th>s处理日期</th>\n",
       "      <th>core_cust_id</th>\n",
       "    </tr>\n",
       "  </thead>\n",
       "  <tbody>\n",
       "    <tr>\n",
       "      <th>0</th>\n",
       "      <td>01004320210415202104151FT21105818179741</td>\n",
       "      <td>4</td>\n",
       "      <td>75617.812500</td>\n",
       "      <td>2021-04-15</td>\n",
       "      <td>2021-04-15</td>\n",
       "      <td>9809df0ff</td>\n",
       "    </tr>\n",
       "    <tr>\n",
       "      <th>1</th>\n",
       "      <td>01004320210630202106301FT21181810270081</td>\n",
       "      <td>4</td>\n",
       "      <td>75635.101562</td>\n",
       "      <td>2021-06-30</td>\n",
       "      <td>2021-06-30</td>\n",
       "      <td>9809df0ff</td>\n",
       "    </tr>\n",
       "    <tr>\n",
       "      <th>2</th>\n",
       "      <td>01004320210205202102051FT21036609489561</td>\n",
       "      <td>4</td>\n",
       "      <td>75955.625000</td>\n",
       "      <td>2021-02-05</td>\n",
       "      <td>2021-02-05</td>\n",
       "      <td>9809df0ff</td>\n",
       "    </tr>\n",
       "  </tbody>\n",
       "</table>\n",
       "</div>"
      ],
      "text/plain": [
       "                                      事件编号  交易类型          借方金额       s交易日期  \\\n",
       "0  01004320210415202104151FT21105818179741     4  75617.812500  2021-04-15   \n",
       "1  01004320210630202106301FT21181810270081     4  75635.101562  2021-06-30   \n",
       "2  01004320210205202102051FT21036609489561     4  75955.625000  2021-02-05   \n",
       "\n",
       "        s处理日期 core_cust_id  \n",
       "0  2021-04-15    9809df0ff  \n",
       "1  2021-06-30    9809df0ff  \n",
       "2  2021-02-05    9809df0ff  "
      ]
     },
     "execution_count": 206,
     "metadata": {},
     "output_type": "execute_result"
    }
   ],
   "source": [
    "s_data.head(3)"
   ]
  },
  {
   "cell_type": "code",
   "execution_count": 207,
   "id": "bd7bbb5c-3ffc-4488-891e-79ab472001c4",
   "metadata": {},
   "outputs": [
    {
     "data": {
      "text/plain": [
       "事件编号            6507904\n",
       "交易类型                 12\n",
       "借方金额             328812\n",
       "s交易日期               273\n",
       "s处理日期               273\n",
       "core_cust_id      96086\n",
       "dtype: int64"
      ]
     },
     "execution_count": 207,
     "metadata": {},
     "output_type": "execute_result"
    }
   ],
   "source": [
    "s_data.nunique()"
   ]
  },
  {
   "cell_type": "code",
   "execution_count": 208,
   "id": "4bc2b7bb-7b0e-4576-bac3-b5fc8a34d83b",
   "metadata": {},
   "outputs": [
    {
     "name": "stdout",
     "output_type": "stream",
     "text": [
      "<class 'pandas.core.frame.DataFrame'>\n",
      "RangeIndex: 6507904 entries, 0 to 6507903\n",
      "Data columns (total 6 columns):\n",
      " #   Column        Dtype  \n",
      "---  ------        -----  \n",
      " 0   事件编号          object \n",
      " 1   交易类型          int8   \n",
      " 2   借方金额          float32\n",
      " 3   s交易日期         object \n",
      " 4   s处理日期         object \n",
      " 5   core_cust_id  object \n",
      "dtypes: float32(1), int8(1), object(4)\n",
      "memory usage: 229.6+ MB\n"
     ]
    }
   ],
   "source": [
    "s_data.info()"
   ]
  },
  {
   "cell_type": "code",
   "execution_count": 209,
   "id": "ab31a568-1cc0-4753-b175-1db1c7cfa7c2",
   "metadata": {},
   "outputs": [
    {
     "data": {
      "text/plain": [
       "2346"
      ]
     },
     "execution_count": 209,
     "metadata": {},
     "output_type": "execute_result"
    }
   ],
   "source": [
    "#buy_cust:16656\n",
    "len(set(s_data['core_cust_id'].unique().tolist()) & set(buy_cust))"
   ]
  },
  {
   "cell_type": "code",
   "execution_count": 210,
   "id": "f8936deb-bef1-4c46-ae43-de348ee7b412",
   "metadata": {},
   "outputs": [
    {
     "data": {
      "text/plain": [
       "12611"
      ]
     },
     "execution_count": 210,
     "metadata": {},
     "output_type": "execute_result"
    }
   ],
   "source": [
    "len(set(s_data['core_cust_id'].unique().tolist()) & using_cust)"
   ]
  },
  {
   "cell_type": "markdown",
   "id": "7bc2bb44-9d2d-4799-97a0-b81f10342cbd",
   "metadata": {},
   "source": [
    "- 训练测试集cust：264055， 账户交易流水表中cust：96086；交集12611"
   ]
  },
  {
   "cell_type": "markdown",
   "id": "a289290e-03c0-45e2-bbdb-6a93cf063f26",
   "metadata": {},
   "source": [
    "### 总结"
   ]
  },
  {
   "cell_type": "markdown",
   "id": "d748cff9-ac9a-4016-9e5b-ce2adfff3f17",
   "metadata": {},
   "source": [
    "- A、B、C、D四个表单独合并，流水表缺失用户20万(59372)，总用户26万(264055),购买用户却全部有记录（预处理删除一些不存在流水表中的用户数据）\n",
    "- D客户信息表可以直接合并\n",
    "- F资产信息表可以直接合并，缺失一条记录，对比看在train和test哪个里面\n",
    "- E客户风险表，缺失13万个用户信息;.......16656/16585,客户风险表中包含大部分购买人信息。。。。。\n",
    "- R点击行为，缺少21万个用户的记录;。。。。。1.6万购买人中1.3万人有点击行为记录\n",
    "- S账户交易流水， 缺少25万个用户的交易流水"
   ]
  },
  {
   "cell_type": "markdown",
   "id": "25ee30ab-612d-437b-8e87-be65ca0595af",
   "metadata": {},
   "source": [
    "### 合并所有表（不包括S）"
   ]
  },
  {
   "cell_type": "markdown",
   "id": "6651d788-1134-49a9-8610-2f3e10feb0bf",
   "metadata": {},
   "source": [
    "#### 合并train/test/D客户信息表/客户风险表/F资产信息表/APP点击表"
   ]
  },
  {
   "cell_type": "markdown",
   "id": "fef36f81-0c7d-4135-9fba-b633bd1a67d1",
   "metadata": {},
   "source": [
    "合并train和test"
   ]
  },
  {
   "cell_type": "code",
   "execution_count": 218,
   "id": "6770923d-d44b-4cff-9f5b-408d9c992ba4",
   "metadata": {},
   "outputs": [],
   "source": [
    "df_tt = pd.concat([train, test])"
   ]
  },
  {
   "cell_type": "code",
   "execution_count": 219,
   "id": "6e5e2d60-7d9c-408b-a57c-bebb6c20fe6c",
   "metadata": {},
   "outputs": [
    {
     "data": {
      "text/html": [
       "<div>\n",
       "<style scoped>\n",
       "    .dataframe tbody tr th:only-of-type {\n",
       "        vertical-align: middle;\n",
       "    }\n",
       "\n",
       "    .dataframe tbody tr th {\n",
       "        vertical-align: top;\n",
       "    }\n",
       "\n",
       "    .dataframe thead th {\n",
       "        text-align: right;\n",
       "    }\n",
       "</style>\n",
       "<table border=\"1\" class=\"dataframe\">\n",
       "  <thead>\n",
       "    <tr style=\"text-align: right;\">\n",
       "      <th></th>\n",
       "      <th>id</th>\n",
       "      <th>core_cust_id</th>\n",
       "      <th>prod_code</th>\n",
       "      <th>y</th>\n",
       "      <th>type</th>\n",
       "      <th>trade_date</th>\n",
       "      <th>prod_class</th>\n",
       "    </tr>\n",
       "  </thead>\n",
       "  <tbody>\n",
       "    <tr>\n",
       "      <th>0</th>\n",
       "      <td>4e3c3d57b83e425f8087b1d6d32a50f7</td>\n",
       "      <td>6e2105d9fe</td>\n",
       "      <td>90318011</td>\n",
       "      <td>0.0</td>\n",
       "      <td>train</td>\n",
       "      <td>2021-08-01</td>\n",
       "      <td>4</td>\n",
       "    </tr>\n",
       "    <tr>\n",
       "      <th>1</th>\n",
       "      <td>aa83c5fc05414c4d9727f0b32882f80e</td>\n",
       "      <td>6e2105d9fe</td>\n",
       "      <td>GRHLA20211530</td>\n",
       "      <td>0.0</td>\n",
       "      <td>train</td>\n",
       "      <td>2021-09-01</td>\n",
       "      <td>1</td>\n",
       "    </tr>\n",
       "  </tbody>\n",
       "</table>\n",
       "</div>"
      ],
      "text/plain": [
       "                                 id core_cust_id      prod_code    y   type  \\\n",
       "0  4e3c3d57b83e425f8087b1d6d32a50f7   6e2105d9fe       90318011  0.0  train   \n",
       "1  aa83c5fc05414c4d9727f0b32882f80e   6e2105d9fe  GRHLA20211530  0.0  train   \n",
       "\n",
       "  trade_date  prod_class  \n",
       "0 2021-08-01           4  \n",
       "1 2021-09-01           1  "
      ]
     },
     "execution_count": 219,
     "metadata": {},
     "output_type": "execute_result"
    }
   ],
   "source": [
    "df_tt.head(2)"
   ]
  },
  {
   "cell_type": "code",
   "execution_count": 220,
   "id": "58837384-efac-4543-bc4d-846f749ba71b",
   "metadata": {},
   "outputs": [
    {
     "data": {
      "text/plain": [
       "(2953495, 7)"
      ]
     },
     "execution_count": 220,
     "metadata": {},
     "output_type": "execute_result"
    }
   ],
   "source": [
    "df_tt.shape"
   ]
  },
  {
   "cell_type": "code",
   "execution_count": 353,
   "id": "84396ed8-b955-4e9a-a4e9-fee7c86539f8",
   "metadata": {},
   "outputs": [],
   "source": [
    "df_tt.to_pickle('data.pkl')"
   ]
  },
  {
   "cell_type": "code",
   "execution_count": 226,
   "id": "b594d5e3-faa8-4311-9690-283e31152d7d",
   "metadata": {},
   "outputs": [],
   "source": [
    "df = pd.merge(df_tt, record, on=['core_cust_id', 'prod_code', 'prod_class', 'trade_date'], how='left')"
   ]
  },
  {
   "cell_type": "code",
   "execution_count": 228,
   "id": "3526fddc-9edd-4bc2-9837-819cc86f573e",
   "metadata": {},
   "outputs": [
    {
     "data": {
      "text/plain": [
       "(2955246, 14)"
      ]
     },
     "execution_count": 228,
     "metadata": {},
     "output_type": "execute_result"
    }
   ],
   "source": [
    "df.shape"
   ]
  },
  {
   "cell_type": "code",
   "execution_count": 227,
   "id": "21c285a1-b86a-46bc-93ad-025d79712c45",
   "metadata": {},
   "outputs": [
    {
     "data": {
      "text/plain": [
       "id                    0\n",
       "core_cust_id          0\n",
       "prod_code             0\n",
       "y                567362\n",
       "type                  0\n",
       "trade_date            0\n",
       "prod_class            0\n",
       "流水号             2941611\n",
       "业务代码            2941611\n",
       "渠道标识            2941611\n",
       "净值              2941611\n",
       "申请金额            2941611\n",
       "资金状态            2941611\n",
       "交易状态            2941611\n",
       "dtype: int64"
      ]
     },
     "execution_count": 227,
     "metadata": {},
     "output_type": "execute_result"
    }
   ],
   "source": [
    "df.isnull().sum()"
   ]
  },
  {
   "cell_type": "markdown",
   "id": "11c88e41-3c68-49ba-bd12-bce61025daeb",
   "metadata": {},
   "source": [
    "合并train/test和D客户信息表"
   ]
  },
  {
   "cell_type": "code",
   "execution_count": 214,
   "id": "f78d058f-876b-4167-9754-180a51b4722f",
   "metadata": {},
   "outputs": [],
   "source": [
    "df_ttd = pd.merge(df_tt, d_data, on='core_cust_id', how='left')"
   ]
  },
  {
   "cell_type": "code",
   "execution_count": 215,
   "id": "66030d27-a3bb-4921-af62-fb70d18a384e",
   "metadata": {},
   "outputs": [
    {
     "data": {
      "text/plain": [
       "(2953495, 10)"
      ]
     },
     "execution_count": 215,
     "metadata": {},
     "output_type": "execute_result"
    }
   ],
   "source": [
    "df_ttd.shape"
   ]
  },
  {
   "cell_type": "markdown",
   "id": "fd4502fc-5bb2-44ce-a35d-c6b57a243f80",
   "metadata": {},
   "source": [
    "合并train/test和E客户风险表"
   ]
  },
  {
   "cell_type": "code",
   "execution_count": 216,
   "id": "5c4b9f36-8f5d-472e-9cff-3931a66fd33f",
   "metadata": {},
   "outputs": [
    {
     "data": {
      "text/html": [
       "<div>\n",
       "<style scoped>\n",
       "    .dataframe tbody tr th:only-of-type {\n",
       "        vertical-align: middle;\n",
       "    }\n",
       "\n",
       "    .dataframe tbody tr th {\n",
       "        vertical-align: top;\n",
       "    }\n",
       "\n",
       "    .dataframe thead th {\n",
       "        text-align: right;\n",
       "    }\n",
       "</style>\n",
       "<table border=\"1\" class=\"dataframe\">\n",
       "  <thead>\n",
       "    <tr style=\"text-align: right;\">\n",
       "      <th></th>\n",
       "      <th>core_cust_id</th>\n",
       "      <th>客户风险等级</th>\n",
       "      <th>评估日期</th>\n",
       "    </tr>\n",
       "  </thead>\n",
       "  <tbody>\n",
       "    <tr>\n",
       "      <th>0</th>\n",
       "      <td>d4931873cb</td>\n",
       "      <td>3</td>\n",
       "      <td>2020-06-08</td>\n",
       "    </tr>\n",
       "    <tr>\n",
       "      <th>1</th>\n",
       "      <td>af52580627</td>\n",
       "      <td>3</td>\n",
       "      <td>2020-03-30</td>\n",
       "    </tr>\n",
       "    <tr>\n",
       "      <th>2</th>\n",
       "      <td>cfeaff22c6</td>\n",
       "      <td>1</td>\n",
       "      <td>2020-04-26</td>\n",
       "    </tr>\n",
       "    <tr>\n",
       "      <th>3</th>\n",
       "      <td>a15a0e01ea</td>\n",
       "      <td>2</td>\n",
       "      <td>2019-10-10</td>\n",
       "    </tr>\n",
       "    <tr>\n",
       "      <th>4</th>\n",
       "      <td>7c72b6e583</td>\n",
       "      <td>2</td>\n",
       "      <td>2021-08-09</td>\n",
       "    </tr>\n",
       "  </tbody>\n",
       "</table>\n",
       "</div>"
      ],
      "text/plain": [
       "  core_cust_id  客户风险等级       评估日期\n",
       "0   d4931873cb       3 2020-06-08\n",
       "1   af52580627       3 2020-03-30\n",
       "2   cfeaff22c6       1 2020-04-26\n",
       "3   a15a0e01ea       2 2019-10-10\n",
       "4   7c72b6e583       2 2021-08-09"
      ]
     },
     "execution_count": 216,
     "metadata": {},
     "output_type": "execute_result"
    }
   ],
   "source": [
    "e_data.head()"
   ]
  },
  {
   "cell_type": "code",
   "execution_count": 217,
   "id": "05133be6-0fc3-4f57-8bfb-e3e03c36cb68",
   "metadata": {},
   "outputs": [
    {
     "data": {
      "text/html": [
       "<div>\n",
       "<style scoped>\n",
       "    .dataframe tbody tr th:only-of-type {\n",
       "        vertical-align: middle;\n",
       "    }\n",
       "\n",
       "    .dataframe tbody tr th {\n",
       "        vertical-align: top;\n",
       "    }\n",
       "\n",
       "    .dataframe thead th {\n",
       "        text-align: right;\n",
       "    }\n",
       "</style>\n",
       "<table border=\"1\" class=\"dataframe\">\n",
       "  <thead>\n",
       "    <tr style=\"text-align: right;\">\n",
       "      <th></th>\n",
       "      <th>core_cust_id</th>\n",
       "      <th>客户风险等级</th>\n",
       "      <th>评估日期</th>\n",
       "    </tr>\n",
       "  </thead>\n",
       "  <tbody>\n",
       "    <tr>\n",
       "      <th>4</th>\n",
       "      <td>7c72b6e583</td>\n",
       "      <td>2</td>\n",
       "      <td>2021-08-09</td>\n",
       "    </tr>\n",
       "  </tbody>\n",
       "</table>\n",
       "</div>"
      ],
      "text/plain": [
       "  core_cust_id  客户风险等级       评估日期\n",
       "4   7c72b6e583       2 2021-08-09"
      ]
     },
     "execution_count": 217,
     "metadata": {},
     "output_type": "execute_result"
    }
   ],
   "source": [
    "e_data[e_data['core_cust_id'] == '7c72b6e583']"
   ]
  },
  {
   "cell_type": "code",
   "execution_count": 218,
   "id": "3017b34e-8b33-4cef-beac-21054d979fef",
   "metadata": {},
   "outputs": [
    {
     "data": {
      "text/html": [
       "<div>\n",
       "<style scoped>\n",
       "    .dataframe tbody tr th:only-of-type {\n",
       "        vertical-align: middle;\n",
       "    }\n",
       "\n",
       "    .dataframe tbody tr th {\n",
       "        vertical-align: top;\n",
       "    }\n",
       "\n",
       "    .dataframe thead th {\n",
       "        text-align: right;\n",
       "    }\n",
       "</style>\n",
       "<table border=\"1\" class=\"dataframe\">\n",
       "  <thead>\n",
       "    <tr style=\"text-align: right;\">\n",
       "      <th></th>\n",
       "      <th>core_cust_id</th>\n",
       "      <th>客户风险等级</th>\n",
       "      <th>评估日期</th>\n",
       "    </tr>\n",
       "  </thead>\n",
       "  <tbody>\n",
       "    <tr>\n",
       "      <th>0</th>\n",
       "      <td>d4931873cb</td>\n",
       "      <td>3</td>\n",
       "      <td>2020-06-08</td>\n",
       "    </tr>\n",
       "    <tr>\n",
       "      <th>1</th>\n",
       "      <td>af52580627</td>\n",
       "      <td>3</td>\n",
       "      <td>2020-03-30</td>\n",
       "    </tr>\n",
       "  </tbody>\n",
       "</table>\n",
       "</div>"
      ],
      "text/plain": [
       "  core_cust_id  客户风险等级       评估日期\n",
       "0   d4931873cb       3 2020-06-08\n",
       "1   af52580627       3 2020-03-30"
      ]
     },
     "execution_count": 218,
     "metadata": {},
     "output_type": "execute_result"
    }
   ],
   "source": [
    "e_data_7 = e_data[e_data['评估日期']<'2021-07-01']\n",
    "e_data_7.head(2)"
   ]
  },
  {
   "cell_type": "code",
   "execution_count": 219,
   "id": "e402fbd2-84cd-47ae-9ce4-b6a9aedbcd70",
   "metadata": {},
   "outputs": [],
   "source": [
    "e_data_7.sort_values(by='评估日期', inplace=True)"
   ]
  },
  {
   "cell_type": "code",
   "execution_count": 220,
   "id": "88c21ed9-a8ec-4f47-9994-74c484765da7",
   "metadata": {},
   "outputs": [],
   "source": [
    "e_data_8 = e_data[e_data['评估日期'] < '2021-08-01']\n",
    "e_data_8 = e_data_8[e_data_8['评估日期'] >= '2021-07-01']\n",
    "e_data_8.sort_values(by='评估日期', inplace=True)\n",
    "\n",
    "e_data_9 = e_data[e_data['评估日期']<'2021-09-01']\n",
    "e_data_9 = e_data_9[e_data_9['评估日期'] >= '2021-08-01']\n",
    "e_data_9.sort_values(by='评估日期', inplace=True)\n",
    "\n",
    "e_data_10 = e_data[e_data['评估日期'] >= '2021-09-01']\n",
    "e_data_10.sort_values(by='评估日期', inplace=True)"
   ]
  },
  {
   "cell_type": "code",
   "execution_count": 221,
   "id": "fe2cb88e-198a-471b-acfd-9c14b7958d56",
   "metadata": {},
   "outputs": [],
   "source": [
    "e_data_7.drop_duplicates('core_cust_id', 'last', inplace=True)\n",
    "e_data_8.drop_duplicates('core_cust_id', 'last', inplace=True)\n",
    "e_data_9.drop_duplicates('core_cust_id', 'last', inplace=True)\n",
    "e_data_10.drop_duplicates('core_cust_id', 'last', inplace=True)"
   ]
  },
  {
   "cell_type": "code",
   "execution_count": 222,
   "id": "fced7df4-133f-43e4-b748-40c778d046b9",
   "metadata": {},
   "outputs": [],
   "source": [
    "e_data_7['trade_date'] = '2021-07-01'\n",
    "e_data_8['trade_date'] = '2021-08-01'\n",
    "e_data_9['trade_date'] = '2021-09-01'\n",
    "e_data_10['trade_date'] = '2021-10-01'"
   ]
  },
  {
   "cell_type": "code",
   "execution_count": 223,
   "id": "ab346eac-56d0-4825-9178-738e044be740",
   "metadata": {},
   "outputs": [],
   "source": [
    "risk_df = pd.concat([e_data_7, e_data_8, e_data_9, e_data_10])"
   ]
  },
  {
   "cell_type": "code",
   "execution_count": 224,
   "id": "bbe9709e-f048-44d0-bac1-4c8875a30300",
   "metadata": {},
   "outputs": [],
   "source": [
    "risk_df.reset_index(inplace=True)"
   ]
  },
  {
   "cell_type": "code",
   "execution_count": 225,
   "id": "0a370008-2835-4143-aa88-8b5d6b1668cd",
   "metadata": {},
   "outputs": [
    {
     "data": {
      "text/html": [
       "<div>\n",
       "<style scoped>\n",
       "    .dataframe tbody tr th:only-of-type {\n",
       "        vertical-align: middle;\n",
       "    }\n",
       "\n",
       "    .dataframe tbody tr th {\n",
       "        vertical-align: top;\n",
       "    }\n",
       "\n",
       "    .dataframe thead th {\n",
       "        text-align: right;\n",
       "    }\n",
       "</style>\n",
       "<table border=\"1\" class=\"dataframe\">\n",
       "  <thead>\n",
       "    <tr style=\"text-align: right;\">\n",
       "      <th></th>\n",
       "      <th>index</th>\n",
       "      <th>core_cust_id</th>\n",
       "      <th>客户风险等级</th>\n",
       "      <th>评估日期</th>\n",
       "      <th>trade_date</th>\n",
       "    </tr>\n",
       "  </thead>\n",
       "  <tbody>\n",
       "    <tr>\n",
       "      <th>0</th>\n",
       "      <td>4691</td>\n",
       "      <td>e33e234fc</td>\n",
       "      <td>3</td>\n",
       "      <td>2013-03-04</td>\n",
       "      <td>2021-07-01</td>\n",
       "    </tr>\n",
       "    <tr>\n",
       "      <th>1</th>\n",
       "      <td>300167</td>\n",
       "      <td>4e3b2d675</td>\n",
       "      <td>3</td>\n",
       "      <td>2013-03-04</td>\n",
       "      <td>2021-07-01</td>\n",
       "    </tr>\n",
       "    <tr>\n",
       "      <th>2</th>\n",
       "      <td>138060</td>\n",
       "      <td>4e3b2e03b</td>\n",
       "      <td>4</td>\n",
       "      <td>2013-03-05</td>\n",
       "      <td>2021-07-01</td>\n",
       "    </tr>\n",
       "  </tbody>\n",
       "</table>\n",
       "</div>"
      ],
      "text/plain": [
       "    index core_cust_id  客户风险等级       评估日期  trade_date\n",
       "0    4691    e33e234fc       3 2013-03-04  2021-07-01\n",
       "1  300167    4e3b2d675       3 2013-03-04  2021-07-01\n",
       "2  138060    4e3b2e03b       4 2013-03-05  2021-07-01"
      ]
     },
     "execution_count": 225,
     "metadata": {},
     "output_type": "execute_result"
    }
   ],
   "source": [
    "risk_df.head(3)"
   ]
  },
  {
   "cell_type": "code",
   "execution_count": 226,
   "id": "e80f0860-b0d8-4005-8746-dbc03413b9b5",
   "metadata": {},
   "outputs": [],
   "source": [
    "risk_df['trade_date'] = pd.to_datetime(risk_df['trade_date'], errors='coerce')"
   ]
  },
  {
   "cell_type": "code",
   "execution_count": 227,
   "id": "c7d93167-c572-4529-b69e-d74540005240",
   "metadata": {},
   "outputs": [
    {
     "name": "stdout",
     "output_type": "stream",
     "text": [
      "<class 'pandas.core.frame.DataFrame'>\n",
      "RangeIndex: 229965 entries, 0 to 229964\n",
      "Data columns (total 5 columns):\n",
      " #   Column        Non-Null Count   Dtype         \n",
      "---  ------        --------------   -----         \n",
      " 0   index         229965 non-null  int64         \n",
      " 1   core_cust_id  229965 non-null  object        \n",
      " 2   客户风险等级        229965 non-null  int8          \n",
      " 3   评估日期          229965 non-null  datetime64[ns]\n",
      " 4   trade_date    229965 non-null  datetime64[ns]\n",
      "dtypes: datetime64[ns](2), int64(1), int8(1), object(1)\n",
      "memory usage: 7.2+ MB\n"
     ]
    }
   ],
   "source": [
    "risk_df.info()"
   ]
  },
  {
   "cell_type": "code",
   "execution_count": 228,
   "id": "da013d59-9536-407e-954e-3fbfcf805caf",
   "metadata": {},
   "outputs": [],
   "source": [
    "df_ttde = pd.merge(df_ttd, risk_df, on=['core_cust_id', 'trade_date'], how='left')"
   ]
  },
  {
   "cell_type": "code",
   "execution_count": 229,
   "id": "2a65d133-27ed-4652-b750-ce71c616e86a",
   "metadata": {},
   "outputs": [
    {
     "data": {
      "text/plain": [
       "(2953495, 13)"
      ]
     },
     "execution_count": 229,
     "metadata": {},
     "output_type": "execute_result"
    }
   ],
   "source": [
    "df_ttde.shape"
   ]
  },
  {
   "cell_type": "code",
   "execution_count": 230,
   "id": "5787b2a9-c129-4d5a-a84d-30d01e0110e5",
   "metadata": {},
   "outputs": [
    {
     "data": {
      "text/html": [
       "<div>\n",
       "<style scoped>\n",
       "    .dataframe tbody tr th:only-of-type {\n",
       "        vertical-align: middle;\n",
       "    }\n",
       "\n",
       "    .dataframe tbody tr th {\n",
       "        vertical-align: top;\n",
       "    }\n",
       "\n",
       "    .dataframe thead th {\n",
       "        text-align: right;\n",
       "    }\n",
       "</style>\n",
       "<table border=\"1\" class=\"dataframe\">\n",
       "  <thead>\n",
       "    <tr style=\"text-align: right;\">\n",
       "      <th></th>\n",
       "      <th>core_cust_id</th>\n",
       "      <th>客户编号创建日期</th>\n",
       "      <th>定期季日均</th>\n",
       "      <th>大额存单季日均</th>\n",
       "      <th>A理财产品季日均</th>\n",
       "      <th>代销资管季日均</th>\n",
       "      <th>代销基金季日均</th>\n",
       "      <th>定期时点余额</th>\n",
       "      <th>大额存单时点余额</th>\n",
       "      <th>A理财产品时点余额</th>\n",
       "      <th>代销资管时点余额</th>\n",
       "      <th>代销基金时点余额</th>\n",
       "      <th>定期月日均</th>\n",
       "      <th>大额存单月日均</th>\n",
       "      <th>A理财产品月日均</th>\n",
       "      <th>代销资管月日均</th>\n",
       "      <th>代销基金月日均</th>\n",
       "      <th>定期年日均</th>\n",
       "      <th>大额存单年日均</th>\n",
       "      <th>A理财产品年日均</th>\n",
       "      <th>代销资管年日均</th>\n",
       "      <th>代销基金年日均</th>\n",
       "      <th>数据日期</th>\n",
       "    </tr>\n",
       "  </thead>\n",
       "  <tbody>\n",
       "    <tr>\n",
       "      <th>0</th>\n",
       "      <td>48e055617a</td>\n",
       "      <td>2020-11-26</td>\n",
       "      <td>NaN</td>\n",
       "      <td>NaN</td>\n",
       "      <td>NaN</td>\n",
       "      <td>NaN</td>\n",
       "      <td>NaN</td>\n",
       "      <td>NaN</td>\n",
       "      <td>NaN</td>\n",
       "      <td>NaN</td>\n",
       "      <td>NaN</td>\n",
       "      <td>NaN</td>\n",
       "      <td>NaN</td>\n",
       "      <td>NaN</td>\n",
       "      <td>NaN</td>\n",
       "      <td>NaN</td>\n",
       "      <td>NaN</td>\n",
       "      <td>NaN</td>\n",
       "      <td>NaN</td>\n",
       "      <td>NaN</td>\n",
       "      <td>NaN</td>\n",
       "      <td>NaN</td>\n",
       "      <td>2021-08-30</td>\n",
       "    </tr>\n",
       "    <tr>\n",
       "      <th>1</th>\n",
       "      <td>48e055617a</td>\n",
       "      <td>2020-11-26</td>\n",
       "      <td>NaN</td>\n",
       "      <td>NaN</td>\n",
       "      <td>NaN</td>\n",
       "      <td>NaN</td>\n",
       "      <td>NaN</td>\n",
       "      <td>NaN</td>\n",
       "      <td>NaN</td>\n",
       "      <td>NaN</td>\n",
       "      <td>NaN</td>\n",
       "      <td>NaN</td>\n",
       "      <td>NaN</td>\n",
       "      <td>NaN</td>\n",
       "      <td>NaN</td>\n",
       "      <td>NaN</td>\n",
       "      <td>NaN</td>\n",
       "      <td>NaN</td>\n",
       "      <td>NaN</td>\n",
       "      <td>NaN</td>\n",
       "      <td>NaN</td>\n",
       "      <td>NaN</td>\n",
       "      <td>2021-07-30</td>\n",
       "    </tr>\n",
       "  </tbody>\n",
       "</table>\n",
       "</div>"
      ],
      "text/plain": [
       "  core_cust_id   客户编号创建日期  定期季日均  大额存单季日均  A理财产品季日均  代销资管季日均  代销基金季日均  定期时点余额  \\\n",
       "0   48e055617a 2020-11-26    NaN      NaN       NaN      NaN      NaN     NaN   \n",
       "1   48e055617a 2020-11-26    NaN      NaN       NaN      NaN      NaN     NaN   \n",
       "\n",
       "   大额存单时点余额  A理财产品时点余额  代销资管时点余额  代销基金时点余额  定期月日均  大额存单月日均  A理财产品月日均  代销资管月日均  \\\n",
       "0       NaN        NaN       NaN       NaN    NaN      NaN       NaN      NaN   \n",
       "1       NaN        NaN       NaN       NaN    NaN      NaN       NaN      NaN   \n",
       "\n",
       "   代销基金月日均  定期年日均  大额存单年日均  A理财产品年日均  代销资管年日均  代销基金年日均       数据日期  \n",
       "0      NaN    NaN      NaN       NaN      NaN      NaN 2021-08-30  \n",
       "1      NaN    NaN      NaN       NaN      NaN      NaN 2021-07-30  "
      ]
     },
     "execution_count": 230,
     "metadata": {},
     "output_type": "execute_result"
    }
   ],
   "source": [
    "f_data.head(2)"
   ]
  },
  {
   "cell_type": "code",
   "execution_count": 231,
   "id": "5be858fd-a0a8-497f-a80d-4048235b9f5f",
   "metadata": {},
   "outputs": [],
   "source": [
    "f_data_7 = f_data[f_data['数据日期'] < '2021-07-01']\n",
    "f_data_7.sort_values(by='数据日期', inplace=True)\n",
    "\n",
    "f_data_8 = f_data[f_data['数据日期'] < '2021-08-01']\n",
    "f_data_8 = f_data_8[f_data_8['数据日期'] >= '2021-07-01']\n",
    "f_data_8.sort_values(by='数据日期', inplace=True)\n",
    "\n",
    "f_data_9 = f_data[f_data['数据日期']<'2021-09-01']\n",
    "f_data_9 = f_data_9[f_data_9['数据日期'] >= '2021-08-01']\n",
    "f_data_9.sort_values(by='数据日期', inplace=True)\n",
    "\n",
    "f_data_10 = f_data[f_data['数据日期'] >= '2021-09-01']\n",
    "f_data_10.sort_values(by='数据日期', inplace=True)"
   ]
  },
  {
   "cell_type": "code",
   "execution_count": 232,
   "id": "f4d5f8ea-c2de-4771-ac20-2611fe72695d",
   "metadata": {},
   "outputs": [],
   "source": [
    "f_data_7.drop_duplicates('core_cust_id', 'last', inplace=True)\n",
    "f_data_8.drop_duplicates('core_cust_id', 'last', inplace=True)\n",
    "f_data_9.drop_duplicates('core_cust_id', 'last', inplace=True)\n",
    "f_data_10.drop_duplicates('core_cust_id', 'last', inplace=True)"
   ]
  },
  {
   "cell_type": "code",
   "execution_count": 233,
   "id": "6939b06b-9978-406a-a7e5-c4b2eae231d5",
   "metadata": {},
   "outputs": [],
   "source": [
    "f_data_7['trade_date'] = '2021-07-01'\n",
    "f_data_8['trade_date'] = '2021-08-01'\n",
    "f_data_9['trade_date'] = '2021-09-01'\n",
    "f_data_10['trade_date'] = '2021-10-01'"
   ]
  },
  {
   "cell_type": "code",
   "execution_count": 234,
   "id": "2f1f7aff-3761-493a-81b2-9544f31d41bc",
   "metadata": {},
   "outputs": [],
   "source": [
    "asset_df = pd.concat([f_data_7, f_data_8, f_data_9, f_data_10])\n",
    "asset_df.reset_index(inplace=True)"
   ]
  },
  {
   "cell_type": "code",
   "execution_count": 235,
   "id": "3c8ad653-d92a-4a34-a4db-a1df0299edb6",
   "metadata": {},
   "outputs": [],
   "source": [
    "asset_df['trade_date'] = pd.to_datetime(asset_df['trade_date'], errors='coerce')"
   ]
  },
  {
   "cell_type": "code",
   "execution_count": 236,
   "id": "494a6190-5964-4a4d-b7c6-10c1d55cceb9",
   "metadata": {},
   "outputs": [
    {
     "name": "stdout",
     "output_type": "stream",
     "text": [
      "<class 'pandas.core.frame.DataFrame'>\n",
      "RangeIndex: 1038596 entries, 0 to 1038595\n",
      "Data columns (total 25 columns):\n",
      " #   Column        Non-Null Count    Dtype         \n",
      "---  ------        --------------    -----         \n",
      " 0   index         1038596 non-null  int64         \n",
      " 1   core_cust_id  1038596 non-null  object        \n",
      " 2   客户编号创建日期      1038596 non-null  datetime64[ns]\n",
      " 3   定期季日均         97285 non-null    float32       \n",
      " 4   大额存单季日均       102669 non-null   float32       \n",
      " 5   A理财产品季日均      53939 non-null    float32       \n",
      " 6   代销资管季日均       25147 non-null    float32       \n",
      " 7   代销基金季日均       24650 non-null    float32       \n",
      " 8   定期时点余额        97285 non-null    float32       \n",
      " 9   大额存单时点余额      102669 non-null   float32       \n",
      " 10  A理财产品时点余额     53939 non-null    float32       \n",
      " 11  代销资管时点余额      25147 non-null    float32       \n",
      " 12  代销基金时点余额      24650 non-null    float32       \n",
      " 13  定期月日均         97285 non-null    float32       \n",
      " 14  大额存单月日均       102669 non-null   float32       \n",
      " 15  A理财产品月日均      53939 non-null    float32       \n",
      " 16  代销资管月日均       25147 non-null    float32       \n",
      " 17  代销基金月日均       24650 non-null    float32       \n",
      " 18  定期年日均         97285 non-null    float32       \n",
      " 19  大额存单年日均       102669 non-null   float32       \n",
      " 20  A理财产品年日均      53939 non-null    float32       \n",
      " 21  代销资管年日均       25147 non-null    float32       \n",
      " 22  代销基金年日均       24650 non-null    float32       \n",
      " 23  数据日期          1038596 non-null  datetime64[ns]\n",
      " 24  trade_date    1038596 non-null  datetime64[ns]\n",
      "dtypes: datetime64[ns](3), float32(20), int64(1), object(1)\n",
      "memory usage: 118.9+ MB\n"
     ]
    }
   ],
   "source": [
    "asset_df.info()"
   ]
  },
  {
   "cell_type": "code",
   "execution_count": 237,
   "id": "b65eb315-d134-4e72-bbb5-495cb3d2b31a",
   "metadata": {},
   "outputs": [],
   "source": [
    "df_tdef = pd.merge(df_ttde, asset_df, on=['core_cust_id', 'trade_date'], how='left')"
   ]
  },
  {
   "cell_type": "code",
   "execution_count": 238,
   "id": "27b1aeb9-0466-4172-9a43-07e3e41c3e11",
   "metadata": {},
   "outputs": [
    {
     "data": {
      "text/plain": [
       "(2953495, 36)"
      ]
     },
     "execution_count": 238,
     "metadata": {},
     "output_type": "execute_result"
    }
   ],
   "source": [
    "df_tdef.shape"
   ]
  },
  {
   "cell_type": "markdown",
   "id": "8debd467-90ec-4759-bf24-af87cbebf423",
   "metadata": {},
   "source": [
    "合并R：APP点击行为表"
   ]
  },
  {
   "cell_type": "code",
   "execution_count": 239,
   "id": "a10440a3-1512-46ec-a8f6-21af33094acf",
   "metadata": {},
   "outputs": [
    {
     "data": {
      "text/html": [
       "<div>\n",
       "<style scoped>\n",
       "    .dataframe tbody tr th:only-of-type {\n",
       "        vertical-align: middle;\n",
       "    }\n",
       "\n",
       "    .dataframe tbody tr th {\n",
       "        vertical-align: top;\n",
       "    }\n",
       "\n",
       "    .dataframe thead th {\n",
       "        text-align: right;\n",
       "    }\n",
       "</style>\n",
       "<table border=\"1\" class=\"dataframe\">\n",
       "  <thead>\n",
       "    <tr style=\"text-align: right;\">\n",
       "      <th></th>\n",
       "      <th>id编码</th>\n",
       "      <th>core_cust_id</th>\n",
       "      <th>点击事件类型</th>\n",
       "      <th>prod_code</th>\n",
       "      <th>点击时间</th>\n",
       "    </tr>\n",
       "  </thead>\n",
       "  <tbody>\n",
       "    <tr>\n",
       "      <th>0</th>\n",
       "      <td>20210825_11277467902</td>\n",
       "      <td>a15a1d681a</td>\n",
       "      <td>2</td>\n",
       "      <td>91318017</td>\n",
       "      <td>2021-08-25 14:18:10</td>\n",
       "    </tr>\n",
       "    <tr>\n",
       "      <th>1</th>\n",
       "      <td>20210824_11229966502</td>\n",
       "      <td>a15a1d681a</td>\n",
       "      <td>1</td>\n",
       "      <td>GRHLA20211386</td>\n",
       "      <td>2021-08-24 14:55:49</td>\n",
       "    </tr>\n",
       "  </tbody>\n",
       "</table>\n",
       "</div>"
      ],
      "text/plain": [
       "                   id编码 core_cust_id  点击事件类型      prod_code  \\\n",
       "0  20210825_11277467902   a15a1d681a       2       91318017   \n",
       "1  20210824_11229966502   a15a1d681a       1  GRHLA20211386   \n",
       "\n",
       "                  点击时间  \n",
       "0  2021-08-25 14:18:10  \n",
       "1  2021-08-24 14:55:49  "
      ]
     },
     "execution_count": 239,
     "metadata": {},
     "output_type": "execute_result"
    }
   ],
   "source": [
    "r_data.head(2)"
   ]
  },
  {
   "cell_type": "code",
   "execution_count": 241,
   "id": "59fcc412-7d7f-41d4-bfde-5b8930758067",
   "metadata": {},
   "outputs": [],
   "source": [
    "r_pivot_stat = pd.pivot_table(r_data, index='core_cust_id', columns=['点击事件类型'], values=['id编码'], aggfunc='count').fillna(0)\n",
    "r_pivot_stat = r_pivot_stat.reset_index()\n",
    "r_pivot_stat.columns = ['core_cust_id', 'uid_cnt_in_r3_equal_1', 'uid_cnt_in_r3_equal_2']\n",
    "df_tdef = df_tdef.merge(r_pivot_stat, on='core_cust_id', how='left')\n",
    "\n",
    "r_stat = r_data.groupby(['core_cust_id']).agg({\n",
    "                                         'prod_code':['nunique'],\n",
    "                                         '点击时间':['count']}\n",
    "                                         ).reset_index()\n",
    "r_stat.columns = ['core_cust_id','prod_code_nunique_grp_uid_in_app_action','r5_nunique_grp_uid_in_app_action']\n",
    "df_defr = df_tdef.merge(r_stat, on='core_cust_id', how='left')"
   ]
  },
  {
   "cell_type": "code",
   "execution_count": 242,
   "id": "7e7d4eb9-0aac-4b3f-b173-9198acc83e51",
   "metadata": {},
   "outputs": [],
   "source": [
    "#无ABCD交易流水记录\n",
    "df_no = df_defr.merge(prod_data, on='prod_code', how='left') "
   ]
  },
  {
   "cell_type": "code",
   "execution_count": 243,
   "id": "05147dd5-f79f-4818-860f-046b4df266a2",
   "metadata": {},
   "outputs": [
    {
     "data": {
      "text/plain": [
       "(2953495, 66)"
      ]
     },
     "execution_count": 243,
     "metadata": {},
     "output_type": "execute_result"
    }
   ],
   "source": [
    "df_no.shape"
   ]
  },
  {
   "cell_type": "code",
   "execution_count": 244,
   "id": "d54072e7-9500-492d-8979-bfb14090280e",
   "metadata": {},
   "outputs": [],
   "source": [
    "df_no[:50000].to_pickle('df_no.pkl')"
   ]
  },
  {
   "cell_type": "code",
   "execution_count": 246,
   "id": "8d59bfaf-afcc-4e36-b35f-6809b995781d",
   "metadata": {},
   "outputs": [],
   "source": [
    "df_no.to_pickle('df_no.pkl')"
   ]
  },
  {
   "cell_type": "code",
   "execution_count": 247,
   "id": "b55b2d3a-b533-4fd5-8f41-c017d2ff924f",
   "metadata": {},
   "outputs": [],
   "source": [
    "df_no.to_csv('df_no.csv', index=False)"
   ]
  },
  {
   "cell_type": "code",
   "execution_count": null,
   "id": "4da86c7c-6df4-4b88-943b-64c57ab67da6",
   "metadata": {},
   "outputs": [],
   "source": []
  },
  {
   "cell_type": "code",
   "execution_count": null,
   "id": "cea306eb-5d14-4597-8d4a-fc8b5cfadb1d",
   "metadata": {},
   "outputs": [],
   "source": []
  },
  {
   "cell_type": "code",
   "execution_count": null,
   "id": "777fce15-792c-4c35-ab73-7053272fc6e4",
   "metadata": {},
   "outputs": [],
   "source": []
  },
  {
   "cell_type": "code",
   "execution_count": null,
   "id": "443f02a7-67d8-4dbb-bbe5-8737530bff8a",
   "metadata": {},
   "outputs": [],
   "source": []
  }
 ],
 "metadata": {
  "kernelspec": {
   "display_name": "Python 3",
   "language": "python",
   "name": "python3"
  },
  "language_info": {
   "codemirror_mode": {
    "name": "ipython",
    "version": 3
   },
   "file_extension": ".py",
   "mimetype": "text/x-python",
   "name": "python",
   "nbconvert_exporter": "python",
   "pygments_lexer": "ipython3",
   "version": "3.8.8"
  }
 },
 "nbformat": 4,
 "nbformat_minor": 5
}
